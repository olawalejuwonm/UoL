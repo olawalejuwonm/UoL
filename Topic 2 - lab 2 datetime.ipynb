{
 "cells": [
  {
   "cell_type": "markdown",
   "metadata": {},
   "source": [
    "# Working with date and time data\n",
    "In this notebook you will find a few examples of how to manipulate date and time data using Python's standard [`datetime`](https://docs.python.org/3.6/library/datetime.html) and [`pytz`](https://pypi.python.org/pypi/pytz) libraries. We will pretty much be dealing with libraries through the entirety of the course. They make our lives easier and give us access to lots of powerful features."
   ]
  },
  {
   "cell_type": "code",
   "execution_count": 2,
   "metadata": {},
   "outputs": [],
   "source": [
    "# import datetime module. If this does not work make sure it is installed via Pip!\n",
    "from datetime import datetime"
   ]
  },
  {
   "cell_type": "markdown",
   "metadata": {},
   "source": [
    "Let's suppose you have a time represented in UTC format, but you'd like to convert that back into a string. You can do that with the `fromtimestamp` method of the datetime class. This will return a datetime object with the following properties: year, month, day, hours, minutes, seconds, microsecond, tzinfo"
   ]
  },
  {
   "cell_type": "code",
   "execution_count": 3,
   "metadata": {},
   "outputs": [
    {
     "name": "stdout",
     "output_type": "stream",
     "text": [
      "2017-10-06 00:58:46\n"
     ]
    }
   ],
   "source": [
    "utc = 1507247926\n",
    "utc_dt = datetime.fromtimestamp(utc)\n",
    "print(utc_dt)"
   ]
  },
  {
   "cell_type": "markdown",
   "metadata": {},
   "source": [
    "Here Jupyter has interfered a bit, because if you were doing this from Python shell, you'd actually get something that looked like this:\n",
    "\n",
    "        datetime.datetime(2017, 10, 6, 0, 58, 46)\n",
    "\n",
    "That's because `utc_dt` is a datetime object, not a nicely formatted string. To turn it into a string in a format of our choice, we could use the standardised set of **time format tokens** with the `strftime` method."
   ]
  },
  {
   "cell_type": "code",
   "execution_count": 4,
   "metadata": {},
   "outputs": [
    {
     "name": "stdout",
     "output_type": "stream",
     "text": [
      "2017-10-06 00:58:46 \n"
     ]
    }
   ],
   "source": [
    "print(utc_dt.strftime('%Y-%m-%d %H:%M:%S %Z'))"
   ]
  },
  {
   "cell_type": "code",
   "execution_count": 5,
   "metadata": {},
   "outputs": [
    {
     "name": "stdout",
     "output_type": "stream",
     "text": [
      "Friday  6 October 2017\n"
     ]
    }
   ],
   "source": [
    "# output just the date part in another format\n",
    "print(utc_dt.strftime('%A %e %B %Y'))"
   ]
  },
  {
   "cell_type": "code",
   "execution_count": 6,
   "metadata": {},
   "outputs": [
    {
     "name": "stdout",
     "output_type": "stream",
     "text": [
      "12:58 AM\n"
     ]
    }
   ],
   "source": [
    "# output just the time part\n",
    "print(utc_dt.strftime('%I:%M %p'))"
   ]
  },
  {
   "cell_type": "markdown",
   "metadata": {},
   "source": [
    "Now, there is a slight problem here...depending where you are and what time of year you are doing this exercise! The result we've been given does not take into account the British Summer Time (BST) offset. One solution to this problem is to utilise the pytz module.\n",
    "\n",
    "pytz brings the [Olson tz database](https://en.wikipedia.org/wiki/Tz_database) into Python. This library allows\n",
    "accurate and cross platform timezone calculations, and solves the issue of ambiguous times at the end\n",
    "of daylight saving time."
   ]
  },
  {
   "cell_type": "code",
   "execution_count": 7,
   "metadata": {},
   "outputs": [
    {
     "name": "stdout",
     "output_type": "stream",
     "text": [
      "None\n"
     ]
    }
   ],
   "source": [
    "# notice that, at this point, the tzinfo property of the datetime object is not set (it is `naive')\n",
    "print(utc_dt.tzinfo)"
   ]
  },
  {
   "cell_type": "code",
   "execution_count": 8,
   "metadata": {},
   "outputs": [
    {
     "data": {
      "text/plain": [
       "datetime.datetime(2017, 10, 6, 1, 58, 46, tzinfo=<DstTzInfo 'Europe/London' BST+1:00:00 DST>)"
      ]
     },
     "execution_count": 8,
     "metadata": {},
     "output_type": "execute_result"
    }
   ],
   "source": [
    "# import sys\n",
    "# !{sys.executable} -m pip install pytz\n",
    "import pytz\n",
    "local_tz = pytz.timezone(\"Europe/London\")\n",
    "utc_dt.replace(tzinfo=pytz.utc).astimezone(local_tz)"
   ]
  },
  {
   "cell_type": "markdown",
   "metadata": {},
   "source": [
    "We now have a datetime object where the tzinfo property has been given a timezone object of type UTC as its value. This means it is now \\`timezone aware', as opposed to being \\`naive'. The timezone has then been converted to a local timezone by the `astimezone` method.\n",
    "\n",
    "The last thing we might want to do is turn that into a nice string..."
   ]
  },
  {
   "cell_type": "code",
   "execution_count": 9,
   "metadata": {},
   "outputs": [
    {
     "name": "stdout",
     "output_type": "stream",
     "text": [
      "Friday  6 October 2017 01:58 AM\n"
     ]
    }
   ],
   "source": [
    "print(utc_dt.replace(tzinfo=pytz.utc).astimezone(local_tz).strftime('%A %e %B %Y %I:%M %p'))"
   ]
  },
  {
   "cell_type": "markdown",
   "metadata": {},
   "source": [
    "## Next steps...\n",
    "If you are going to be working with date and time data in any serious way, an external library that is often preferred over datetime and pytz is [arrow](http://arrow.readthedocs.io/en/latest/). As an extension (if you have time) you might want to have a play around with this library and share some of your exploration on the discussion forums."
   ]
  },
  {
   "cell_type": "code",
   "execution_count": 11,
   "metadata": {},
   "outputs": [
    {
     "name": "stdout",
     "output_type": "stream",
     "text": [
      "Requirement already satisfied: arrow in c:\\users\\user\\anaconda3\\lib\\site-packages (1.2.2)\n",
      "Requirement already satisfied: python-dateutil>=2.7.0 in c:\\users\\user\\anaconda3\\lib\\site-packages (from arrow) (2.8.2)\n",
      "Requirement already satisfied: six>=1.5 in c:\\users\\user\\anaconda3\\lib\\site-packages (from python-dateutil>=2.7.0->arrow) (1.16.0)\n"
     ]
    }
   ],
   "source": [
    "import sys\n",
    "!{sys.executable} -m pip install arrow\n",
    "# !pip install arrow"
   ]
  },
  {
   "cell_type": "code",
   "execution_count": 12,
   "metadata": {},
   "outputs": [
    {
     "data": {
      "text/plain": [
       "<Arrow [2013-05-11T21:23:58.970460+07:00]>"
      ]
     },
     "execution_count": 12,
     "metadata": {},
     "output_type": "execute_result"
    }
   ],
   "source": [
    "import arrow\n",
    "arrow.get('2013-05-11T21:23:58.970460+07:00')"
   ]
  },
  {
   "cell_type": "code",
   "execution_count": null,
   "metadata": {},
   "outputs": [],
   "source": []
  }
 ],
 "metadata": {
  "kernelspec": {
   "display_name": "Python 3.9.13 ('base')",
   "language": "python",
   "name": "python3"
  },
  "language_info": {
   "codemirror_mode": {
    "name": "ipython",
    "version": 3
   },
   "file_extension": ".py",
   "mimetype": "text/x-python",
   "name": "python",
   "nbconvert_exporter": "python",
   "pygments_lexer": "ipython3",
   "version": "3.9.13"
  },
  "vscode": {
   "interpreter": {
    "hash": "263930470851f494f0ed2879c35b57985588df20f9e529b86e97dd5eb9ddc466"
   }
  }
 },
 "nbformat": 4,
 "nbformat_minor": 1
}
