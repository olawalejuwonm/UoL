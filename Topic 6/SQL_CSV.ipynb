{
 "cells": [
  {
   "cell_type": "code",
   "execution_count": null,
   "metadata": {},
   "outputs": [],
   "source": [
    "%load_ext sql\n",
    "%sql sqlite:///data/oulad.db3"
   ]
  },
  {
   "cell_type": "markdown",
   "metadata": {},
   "source": [
    "## Now it's time to start working with tables and CSV files in unison. There are a few steps to this process, so go slowly and try to understand what each code block is doing.\n",
    "We are going to drop any existing tables. We could institute this logic also in our create table. You might sometimes see this as\n",
    "`CREATE TABLE IF NOT EXISTS`\n",
    "For this exercise we will be efficient and clean up after ourselves!\n"
   ]
  },
  {
   "cell_type": "code",
   "execution_count": null,
   "metadata": {},
   "outputs": [],
   "source": [
    "%%sql\n",
    "DROP TABLE assessments"
   ]
  },
  {
   "cell_type": "markdown",
   "metadata": {},
   "source": [
    "## We first need to create our structure for the table. \n",
    "You can look at the CSV file (or just the headings) to get a sense of the data. These data types will be given to you for this first exercise, but you will have to create the structures for the other tables yourself."
   ]
  },
  {
   "cell_type": "code",
   "execution_count": null,
   "metadata": {},
   "outputs": [],
   "source": [
    "%%sql sqlite://\n",
    "    CREATE TABLE assessments(\n",
    "    code_module TEXT,\n",
    "    code_presentation TEXT,\n",
    "    id_assessment INTEGER,\n",
    "    assessment_type TEXT,\n",
    "    date INT,\n",
    "    weight INT\n",
    ");"
   ]
  },
  {
   "cell_type": "code",
   "execution_count": null,
   "metadata": {},
   "outputs": [],
   "source": [
    "# let's empty our tables first, incase we already have values there.\n",
    "%sql DELETE FROM assessments;"
   ]
  },
  {
   "cell_type": "markdown",
   "metadata": {},
   "source": [
    "## Now the next cell might look a little intimidating, but don't panic just yet!\n",
    "\n",
    "We are using a couple of external libraries to help us. OS to handle the path and file that we are interacting with and CSV to deal with the structure of our comma separated values.\n",
    "\n",
    "Our aim here is to iterate through these values in order to populate the table structure that we just created with data.\n",
    "\n",
    "Our for loop performs some checks so as not to produce invalid data types or 'null' data.\n",
    "\n",
    "I have also left a bit of an inefficient solution to the problem with 6 fields defined as variables. Can you optimise this bit of code? Hint: it's more iteration!\n",
    "\n",
    "Finally, this code block inserts the corresponding values from our assessments.csv into our assessments table. We have gone from CSV to Python, to SQL. Our final step is to close our CSV reader!"
   ]
  },
  {
   "cell_type": "code",
   "execution_count": null,
   "metadata": {},
   "outputs": [],
   "source": [
    "import os\n",
    "import csv \n",
    "\n",
    "fin    = open(os.path.join(\"data\",\"assessments.csv\"), \"rt\") # you might need to change rt/rd to match representations\n",
    "csv_in = csv.reader(fin)\n",
    "next(csv_in);\n",
    "for line  in csv_in:\n",
    "    # Empty, non-string values in the CSV should be changed to the SQL Keyword DEFAULT\n",
    "    if line[2] == \"\": line[2] = \"DEFAULT\"\n",
    "    if line[4] == \"\": line[4] = \"DEFAULT\"\n",
    "    if line[5] == \"\": line[5] = \"DEFAULT\"\n",
    "    # We will do this verbose so that you can see how each variable is passed. You will want to optimise this, however.\n",
    "    field1 = line[0]\n",
    "    field2 = line[1]\n",
    "    field3 = line[2]\n",
    "    field4 = line[3]\n",
    "    field5 = line[4]\n",
    "    field6 = line[5]\n",
    "    %sql INSERT INTO assessments (code_module, code_presentation, id_assessment, assessment_type, date, weight) VALUES (:field1, :field2, :field3, :field4, :field5, :field6);\n",
    "fin.close()"
   ]
  },
  {
   "cell_type": "markdown",
   "metadata": {},
   "source": [
    "## Let's do a final check\n",
    "We will query the table to ensure that we have some data. Check this against your CSV file and see if it matches. Are the data types valid for this representation?"
   ]
  },
  {
   "cell_type": "code",
   "execution_count": null,
   "metadata": {},
   "outputs": [],
   "source": [
    "\n",
    "sqlres = %sql SELECT * from assessments;\n",
    "sqlres\n"
   ]
  },
  {
   "cell_type": "markdown",
   "metadata": {},
   "source": [
    "## We have reached the end of the demonstration section. Now it's your turn!\n",
    "See if you can create the structure for the other tables and populate the tables with the values from the CSV files using Python. Be warned, not all data types are obvious! We have some boolean types, some date representations and other challenging data types to map.\n",
    "\n",
    "If you find this easy then feel free to go ahead and try to take the exercise further. For example you could:\n",
    "- Produce summary statistics for the columns using COUNT, AVG, SUM etc.\n",
    "- Create some small visualisations of the data. We cover plotting later on in the course, so this might be a nice precursor to exploring tools like Matplotlib.\n",
    "- If you really want to explore more deeply you might want to look at some advanced SQL functions, for instance by  combining multiple queries using JOINS or UNIONS."
   ]
  },
  {
   "cell_type": "code",
   "execution_count": null,
   "metadata": {},
   "outputs": [],
   "source": [
    "# Let's get coding!\n",
    "fin    = open(os.path.join(\"data\",\"courses.csv\"), \"rt\")\n",
    "csv_in = csv.reader(fin)"
   ]
  },
  {
   "cell_type": "code",
   "execution_count": null,
   "metadata": {},
   "outputs": [],
   "source": [
    "fin    = open(os.path.join(\"data\",\"studentAssessment.csv\"), \"rt\")\n",
    "csv_in = csv.reader(fin)"
   ]
  },
  {
   "cell_type": "code",
   "execution_count": null,
   "metadata": {},
   "outputs": [],
   "source": [
    "fin    = open(os.path.join(\"data\",\"studentInfo.csv\"), \"rt\")\n",
    "csv_in = csv.reader(fin)"
   ]
  },
  {
   "cell_type": "code",
   "execution_count": null,
   "metadata": {},
   "outputs": [],
   "source": [
    "fin    = open(os.path.join(\"data\",\"studentRegistration.csv\"), \"rt\")\n",
    "csv_in = csv.reader(fin)"
   ]
  },
  {
   "cell_type": "code",
   "execution_count": null,
   "metadata": {},
   "outputs": [],
   "source": [
    "fin    = open(os.path.join(\"data\",\"vle.csv\"), \"rt\")\n",
    "csv_in = csv.reader(fin)"
   ]
  }
 ],
 "metadata": {
  "kernelspec": {
   "display_name": "Python 3",
   "language": "python",
   "name": "python3"
  },
  "language_info": {
   "codemirror_mode": {
    "name": "ipython",
    "version": 3
   },
   "file_extension": ".py",
   "mimetype": "text/x-python",
   "name": "python",
   "nbconvert_exporter": "python",
   "pygments_lexer": "ipython3",
   "version": "3.7.6"
  }
 },
 "nbformat": 4,
 "nbformat_minor": 4
}
