{
 "cells": [
  {
   "cell_type": "markdown",
   "metadata": {},
   "source": [
    "# Numpy: Structured Data Types\n"
   ]
  },
  {
   "cell_type": "code",
   "execution_count": 1,
   "metadata": {},
   "outputs": [],
   "source": [
    "import numpy as np"
   ]
  },
  {
   "cell_type": "markdown",
   "metadata": {},
   "source": [
    "## Simple Structures"
   ]
  },
  {
   "cell_type": "markdown",
   "metadata": {},
   "source": [
    "We can create a \"record\" data type in numpy.  This one is a record of an int, float and 10 character unicode string:"
   ]
  },
  {
   "cell_type": "code",
   "execution_count": 2,
   "metadata": {},
   "outputs": [
    {
     "data": {
      "text/plain": [
       "dtype([('f0', '<U10'), ('f1', '<i4'), ('f2', '<f8')])"
      ]
     },
     "execution_count": 2,
     "metadata": {},
     "output_type": "execute_result"
    }
   ],
   "source": [
    "dt1 = np.dtype(\"U10,i4,f8\")\n",
    "dt1"
   ]
  },
  {
   "cell_type": "markdown",
   "metadata": {},
   "source": [
    "We can give names to each \"column\" in the record:"
   ]
  },
  {
   "cell_type": "code",
   "execution_count": 3,
   "metadata": {},
   "outputs": [
    {
     "data": {
      "text/plain": [
       "dtype([('name', '<U10'), ('age', '<i4'), ('score', '<f8')])"
      ]
     },
     "execution_count": 3,
     "metadata": {},
     "output_type": "execute_result"
    }
   ],
   "source": [
    "dt2 = np.dtype([(\"name\",\"U10\"),(\"age\",\"i4\"),(\"score\",\"f8\")])\n",
    "dt2"
   ]
  },
  {
   "cell_type": "markdown",
   "metadata": {},
   "source": [
    "We can then create 4 empty \"rows\" using the above data type:"
   ]
  },
  {
   "cell_type": "code",
   "execution_count": 5,
   "metadata": {},
   "outputs": [
    {
     "data": {
      "text/plain": [
       "array([('', 0, 0.), ('', 0, 0.), ('', 0, 0.)],\n",
       "      dtype=[('name', '<U10'), ('age', '<i4'), ('score', '<f8')])"
      ]
     },
     "execution_count": 5,
     "metadata": {},
     "output_type": "execute_result"
    }
   ],
   "source": [
    "x = np.zeros(3,dtype=dt2)\n",
    "x"
   ]
  },
  {
   "cell_type": "markdown",
   "metadata": {},
   "source": [
    "We can then populate each row with data:"
   ]
  },
  {
   "cell_type": "code",
   "execution_count": 6,
   "metadata": {},
   "outputs": [
    {
     "data": {
      "text/plain": [
       "array([('Albert', 37, 5.6), ('Victoria', 42, 6.9), ('Elizabeth', 12, 8.1)],\n",
       "      dtype=[('name', '<U10'), ('age', '<i4'), ('score', '<f8')])"
      ]
     },
     "execution_count": 6,
     "metadata": {},
     "output_type": "execute_result"
    }
   ],
   "source": [
    "# Row 1\n",
    "x['name'][0] = \"Albert\"\n",
    "x['age'][0] = 37\n",
    "x['score'][0] = 5.6\n",
    "\n",
    "# Row 2\n",
    "x['name'][1] = \"Victoria\"\n",
    "x['age'][1] = 42\n",
    "x['score'][1] = 6.9\n",
    "\n",
    "# Row 3\n",
    "x['name'][2] = \"Elizabeth\"\n",
    "x['age'][2] = 12\n",
    "x['score'][2] = 8.1\n",
    "x\n"
   ]
  },
  {
   "cell_type": "markdown",
   "metadata": {},
   "source": [
    "## Nested structures"
   ]
  },
  {
   "cell_type": "markdown",
   "metadata": {},
   "source": [
    "We can even create data types with nested structures:"
   ]
  },
  {
   "cell_type": "code",
   "execution_count": 7,
   "metadata": {},
   "outputs": [
    {
     "data": {
      "text/plain": [
       "array([((4, 50), 45.), ((4, 32), 28.)],\n",
       "      dtype=[('time', [('min', '<i4'), ('sec', '<i4')]), ('temp', '<f8')])"
      ]
     },
     "execution_count": 7,
     "metadata": {},
     "output_type": "execute_result"
    }
   ],
   "source": [
    "dtTimeTemp = np.dtype([('time', [('min', int), ('sec', int)]), ('temp', float)])\n",
    "tt = np.zeros(2, dtype=dtTimeTemp)\n",
    "tt['time']['min'][0] = 4\n",
    "tt['time']['sec'][0] = 50\n",
    "tt['temp'][0] = 45\n",
    "tt['time']['min'][1] = 4\n",
    "tt['time']['sec'][1] = 32\n",
    "tt['temp'][1] = 28\n",
    "tt"
   ]
  }
 ],
 "metadata": {
  "kernelspec": {
   "display_name": "Python 3",
   "language": "python",
   "name": "python3"
  },
  "language_info": {
   "codemirror_mode": {
    "name": "ipython",
    "version": 3
   },
   "file_extension": ".py",
   "mimetype": "text/x-python",
   "name": "python",
   "nbconvert_exporter": "python",
   "pygments_lexer": "ipython3",
   "version": "3.7.3"
  }
 },
 "nbformat": 4,
 "nbformat_minor": 4
}
