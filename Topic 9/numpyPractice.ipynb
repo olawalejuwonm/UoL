{
 "cells": [
  {
   "cell_type": "markdown",
   "metadata": {},
   "source": [
    "## Arrays and NumPy Arrays\n",
    "\n",
    "This lab will constitute practice with Python lists and NumPy arrays. If you've been struggling with Python data structures, this will be a good chance to refine your understanding. None of the tasks here will take more than a couple of lines of code (Python or NumPy tasks), so keep that in mind if you find yourself writing a lot of Python to solve a problem. Lots of code to do something simple is bad practice!\n",
    "\n",
    "The accompanying `numpy_arrays_practice` notebook has some examples of NumPy Arrays and related operations. You will probably need to refer to [Python List](https://docs.python.org/3/tutorial/datastructures.html) and [NumPy Array](https://numpy.org/doc/stable/reference/generated/numpy.array.html) documentation online. \n",
    "\n",
    "Do your best. We have provided solutions for you but try to have a go before looking at the answers."
   ]
  },
  {
   "cell_type": "code",
   "execution_count": 1,
   "metadata": {},
   "outputs": [],
   "source": [
    "# Need to import numpy for this lab\n",
    "import numpy as np"
   ]
  },
  {
   "cell_type": "code",
   "execution_count": 2,
   "metadata": {},
   "outputs": [
    {
     "name": "stdout",
     "output_type": "stream",
     "text": [
      "9\n",
      "9\n"
     ]
    }
   ],
   "source": [
    "## Sample tasks with data and solutions.\n",
    "P = [1,2,3,6,3,1,4,7,9,4,5,9]\n",
    "N = np.array(P)\n",
    "\n",
    "## Task 0a: print the maximum value of Python list P without using NumPy:\n",
    "print(max(P)) # max() is a Python function that operates on lists\n",
    "\n",
    "## Task 0b: print the maximum value of NumPy array N using NumPy functions:\n",
    "print(N.max()) # N.max() is a function of NumPy Arrays. Note the syntax and that it doesn't take any arguments\n",
    "# Output should be the same. Check below..."
   ]
  },
  {
   "cell_type": "code",
   "execution_count": 3,
   "metadata": {},
   "outputs": [
    {
     "name": "stdout",
     "output_type": "stream",
     "text": [
      "[1, 2, 3]\n",
      "[1 2 3]\n"
     ]
    }
   ],
   "source": [
    "## Note that Python prints Python lists slightly differently than NumPy Arrays\n",
    "## Don't worry about this...\n",
    "\n",
    "print([1,2,3])\n",
    "print(np.array([1,2,3]))"
   ]
  },
  {
   "cell_type": "markdown",
   "metadata": {},
   "source": [
    "## Let's code!\n",
    "\n",
    "From this cell onward, you need to complete the tasks specified in each cell. Please keep your solutions to a single cell -- you do not need define new functions."
   ]
  },
  {
   "cell_type": "code",
   "execution_count": 4,
   "metadata": {},
   "outputs": [
    {
     "name": "stdout",
     "output_type": "stream",
     "text": [
      "4.5\n",
      "4.5\n"
     ]
    }
   ],
   "source": [
    "P = [1,2,3,6,3,1,4,7,9,4,5,9]\n",
    "N = np.array(P)\n",
    "## Task 1a: Print the average (arithmetic mean) of Python list P without using NumPy:\n",
    "print(sum(P)/len(P))\n",
    "\n",
    "\n",
    "## Task 1b: Print the average (arithmetic mean) of NumPy array N without using NumPy:\n",
    "print(N.mean()) # N.mean() is a function of NumPy Arrays. Note the syntax and that it doesn't take any arguments\n"
   ]
  },
  {
   "cell_type": "markdown",
   "metadata": {},
   "source": [
    "<details>\n",
    "  <summary>Click to see answers</summary>\n",
    "    #1a<br/>\n",
    "    print(sum(P)/len(P))<br/>\n",
    "    #1b<br/>\n",
    "    print(sum(N)/len(N))<br/>\n",
    "</details>"
   ]
  },
  {
   "cell_type": "code",
   "execution_count": 5,
   "metadata": {},
   "outputs": [
    {
     "name": "stdout",
     "output_type": "stream",
     "text": [
      "[1, 2, 3, 6, 3, 1, 4, 7, 9, 4, 5, 9, -1, -2, -3, -6, -3, -1, -4, -7, -9, -4, -5, -9]\n",
      "[ 1  2  3  6  3  1  4  7  9  4  5  9 -1 -2 -3 -6 -3 -1 -4 -7 -9 -4 -5 -9]\n"
     ]
    }
   ],
   "source": [
    "P1 = [1,2,3,6,3,1,4,7,9,4,5,9]\n",
    "N1 = np.array(P1)\n",
    "\n",
    "P2 = [-1,-2,-3,-6,-3,-1,-4,-7,-9,-4,-5,-9]\n",
    "N2 = np.array(P2)\n",
    "## Task 2a: Concatenate and print Python list P1 with P2 without using NumPy:\n",
    "print(P1+P2)\n",
    "\n",
    "\n",
    "## Task 2b: Concatenate and print NumPy array N1 with N2 using NumPy:\n",
    "print(np.concatenate((N1,N2))) # np.concatenate() is a function of NumPy Arrays. Note the syntax and that it takes two arguments\n"
   ]
  },
  {
   "cell_type": "markdown",
   "metadata": {},
   "source": [
    "<details>\n",
    "  <summary>Click to see answers</summary>\n",
    "    Task 2a print(P1 + P2)<br/>\n",
    "    Task 2b print(np.concatenate([N1, N2]))<br/>\n",
    "</details>"
   ]
  },
  {
   "cell_type": "code",
   "execution_count": 8,
   "metadata": {},
   "outputs": [
    {
     "name": "stdout",
     "output_type": "stream",
     "text": [
      "[0, 0, 0, 0, 0, 0, 0, 0, 0, 0, 0, 0]\n",
      "[0 0 0 0 0 0 0 0 0 0 0 0]\n"
     ]
    }
   ],
   "source": [
    "P1 = [1,2,3,6,3,1,4,7,9,4,5,9]\n",
    "N1 = np.array(P1)\n",
    "\n",
    "P2 = [-1,-2,-3,-6,-3,-1,-4,-7,-9,-4,-5,-9]\n",
    "N2 = np.array(P2)\n",
    "\n",
    "## Task 3a: Add every value of Python list P1 to the corresponding value in P2 and print the result.\n",
    "# Hint, your output should be 0\n",
    "print([P1[i]+P2[i] for i in range(len(P1))])\n",
    "\n",
    "# Bonus task: can you do it without overwriting P1 or P2? Without a loop and an intermediate variable?\n",
    "\n",
    "## Task 3b: Add every value of NumPy array N1 to the corresponding value in N2 and print the result:\n",
    "print(N1+N2) # N1+N2 is a function of NumPy Arrays. Note the syntax and that it doesn't take any arguments\n",
    "\n",
    "# Open question: What should this task do if the lengths of the arrays are not equal? Why?\n",
    "\n"
   ]
  },
  {
   "cell_type": "markdown",
   "metadata": {},
   "source": [
    "<details>\n",
    "  <summary>Click to see answers</summary>\n",
    "3a) <br />\n",
    "    print([P1[idx] + P2[idx] for idx in range(len(P1))]) <br />\n",
    "\n",
    "Bonus task) <br />\n",
    "    Another way could be: print(list(map(sum, zip(P1, P2)))) <br />\n",
    "\n",
    "3b) <br />\n",
    "    print(N1 + N2) <br />\n",
    "\n",
    "#Open question answer:\n",
    "Be careful with unequal arrays. We do not necessarily know the mapping between objects if they are not equal. We   do not want our code making decisions about logic without first understanding the underlying data structure!\n",
    "\n",
    "</details>"
   ]
  },
  {
   "cell_type": "code",
   "execution_count": 10,
   "metadata": {},
   "outputs": [
    {
     "name": "stdout",
     "output_type": "stream",
     "text": [
      "[4, 7, 9, 4, 5, 9, 1, 2, 3, 6, 3, 1]\n",
      "[4 7 9 4 5 9 1 2 3 6 3 1]\n"
     ]
    }
   ],
   "source": [
    "P = [1,2,3,6,3,1,4,7,9,4,5,9]\n",
    "N = np.array(P)\n",
    "\n",
    "## Task 4a: Print the result of swapping the first and second halves of Python list P.\n",
    "## If the length of P is odd, the middle element should not be moved\n",
    "## Example: [1,2,3,4] -> [3,4,1,2]; [1,2,3,4,5] -> [3,4,5,1,2]\n",
    "print(P[len(P)//2:]+P[:len(P)//2])\n",
    "\n",
    "\n",
    "## Task 4b: Swap the first and second halves of NumPy array N. If the length of P is even, the middle \n",
    "## If the length of N is odd, the middle element should not be moved\n",
    "print(np.concatenate((N[len(N)//2:],N[:len(N)//2]))) # np.concatenate() is a function of NumPy Arrays. Note the syntax and that it takes two arguments\n",
    "\n",
    "## Note that NumPy doesn't simplify everything! :)"
   ]
  },
  {
   "cell_type": "markdown",
   "metadata": {},
   "source": [
    "<details>\n",
    "  <summary>Click to see answers</summary>\n",
    "4a) <br /> half_size = round(len(P) / 2) <br />\n",
    "print(P[-half_size:] + P[half_size:-half_size] + P[:half_size])<br />\n",
    "4b) <br /> print(np.concatenate([N[-half_size:], N[half_size:-half_size], N[:half_size]]))<br />\n",
    "    \n",
    "</details>"
   ]
  },
  {
   "cell_type": "code",
   "execution_count": 13,
   "metadata": {},
   "outputs": [
    {
     "name": "stdout",
     "output_type": "stream",
     "text": [
      "2.661453237111885\n",
      "2.7797972457128464\n",
      "2.661453237111885\n"
     ]
    }
   ],
   "source": [
    "# If you're not sure of the definition of Standard Deviation, do some googlin'\n",
    "P = [1,2,3,6,3,1,4,7,9,4,5,9]\n",
    "N = np.array(P)\n",
    "\n",
    "## Task 5a: Compute and print the standard deviation of Python list P without using NumPy:\n",
    "# Note that you may need new variables to hold intermediate values\n",
    "# Hint: remember that the square root of x is equivalent x to the power of .5\n",
    "print((sum([(i-sum(P)/len(P))**2 for i in P])/len(P))**.5)\n",
    "\n",
    "\n",
    "# Using Python standard library \"statistics\"\n",
    "import statistics\n",
    "print(statistics.stdev(P))\n",
    "\n",
    "\n",
    "## Task 5b: Compute and print the standard deviation of NumPy array N using NumPy:\n",
    "print(np.std(N)) # np.std() is a function of NumPy Arrays. Note the syntax and that it doesn't take any arguments\n"
   ]
  },
  {
   "cell_type": "markdown",
   "metadata": {},
   "source": [
    "<details>\n",
    "  <summary>Click to see answers</summary>\n",
    "5a) <br /> import math<br />\n",
    "mean_P = sum(P) / len(P)\n",
    "print(math.sqrt(sum([math.pow(num - mean_P, 2) for num in P]) / (len(P)-1)))<br />\n",
    "Using Python standard library \"statistics\"<br />\n",
    "import statistics<br />\n",
    "print(statistics.stdev(P))<br />\n",
    "\n",
    "5b) <br /> print(np.std(N, ddof=1))\n",
    "</details>"
   ]
  },
  {
   "cell_type": "code",
   "execution_count": null,
   "metadata": {},
   "outputs": [],
   "source": []
  }
 ],
 "metadata": {
  "kernelspec": {
   "display_name": "base",
   "language": "python",
   "name": "python3"
  },
  "language_info": {
   "codemirror_mode": {
    "name": "ipython",
    "version": 3
   },
   "file_extension": ".py",
   "mimetype": "text/x-python",
   "name": "python",
   "nbconvert_exporter": "python",
   "pygments_lexer": "ipython3",
   "version": "3.9.13"
  },
  "vscode": {
   "interpreter": {
    "hash": "263930470851f494f0ed2879c35b57985588df20f9e529b86e97dd5eb9ddc466"
   }
  }
 },
 "nbformat": 4,
 "nbformat_minor": 2
}
