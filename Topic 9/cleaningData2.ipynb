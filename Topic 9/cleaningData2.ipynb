{
 "cells": [
  {
   "cell_type": "markdown",
   "metadata": {},
   "source": [
    "## Part 1: Restructuring Data\n",
    "\n",
    "In the first part of this programming exercise, your goal is to recover the original format of the Pima Indian Diabetes dataset. Here, you are given the same data, but in a much less manageable form. You should use the Numpy, Scipy and / or Pandas packages to implement a modular (ie. function-based) pipeline for restructuring the data. The final result should be identical to the downloadable data.\n",
    "\n",
    "You may have to look back at the data in pima-indians-diabetes.csv to figure out the format of the messy version here.\n",
    "\n",
    "Avoid using outside tools like a text editor or a spreadsheet program. Instead, all your transformations should be done programmatically. You might even want to build some defensive coding strategies in if you are feeling really ambitious!"
   ]
  },
  {
   "cell_type": "code",
   "execution_count": 5,
   "metadata": {},
   "outputs": [
    {
     "name": "stdout",
     "output_type": "stream",
     "text": [
      "                           Non-diabetic\n",
      "0                  times_pregnant6.0000\n",
      "1  plasma_glucose_concentration148.0000\n",
      "2       diastolic_blood_pressure72.0000\n",
      "3              triceps_thickness35.0000\n",
      "4            2_hour_serum_insulin0.0000\n",
      "                           Non-diabetic\n",
      "0                  times_pregnant6.0000\n",
      "1  plasma_glucose_concentration148.0000\n",
      "2       diastolic_blood_pressure72.0000\n",
      "3              triceps_thickness35.0000\n",
      "4            2_hour_serum_insulin0.0000\n"
     ]
    }
   ],
   "source": [
    "import pandas as pd\n",
    "\n",
    "# You should read in this data and restructure it to make it identical to the\n",
    "# pima-indians-diabetes.csv introduced in the previous topic.\n",
    "messy_data = \"messy-pima-indians-diabetes.csv\"\n",
    "\n",
    "# Read in the data\n",
    "df = pd.read_csv(messy_data)\n",
    "\n",
    "# Print the first 5 rows of the data\n",
    "print(df.head())\n",
    "\n",
    "# Print the last 5 rows of the data\n",
    "# print(df.tail())\n",
    "\n",
    "# Seperate each row to 2 rows\n"
   ]
  },
  {
   "cell_type": "code",
   "execution_count": null,
   "metadata": {},
   "outputs": [],
   "source": []
  }
 ],
 "metadata": {
  "kernelspec": {
   "display_name": "base",
   "language": "python",
   "name": "python3"
  },
  "language_info": {
   "codemirror_mode": {
    "name": "ipython",
    "version": 3
   },
   "file_extension": ".py",
   "mimetype": "text/x-python",
   "name": "python",
   "nbconvert_exporter": "python",
   "pygments_lexer": "ipython3",
   "version": "3.9.13 (main, Aug 25 2022, 23:51:50) [MSC v.1916 64 bit (AMD64)]"
  },
  "vscode": {
   "interpreter": {
    "hash": "263930470851f494f0ed2879c35b57985588df20f9e529b86e97dd5eb9ddc466"
   }
  }
 },
 "nbformat": 4,
 "nbformat_minor": 2
}
