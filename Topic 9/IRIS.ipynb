{
 "cells": [
  {
   "cell_type": "code",
   "execution_count": null,
   "metadata": {},
   "outputs": [],
   "source": [
    "# You will need to install the `matplotlib` python package\n",
    "import matplotlib.pyplot as plt\n",
    "from   matplotlib        import rc\n",
    "import pandas            as pd\n",
    "from   mpl_toolkits.mplot3d import Axes3D\n",
    "\n",
    "%matplotlib inline\n",
    "\n",
    "plt.style.use(\"ggplot\") # This defines an aesthetic style"
   ]
  },
  {
   "cell_type": "code",
   "execution_count": null,
   "metadata": {},
   "outputs": [],
   "source": [
    "# This is a common dataset about Iris flowers\n",
    "remote_data = 'IRIS.csv'\n",
    "df  = pd.read_csv(remote_data, header=0, index_col=None)\n",
    "odf = df.copy()\n",
    "df"
   ]
  },
  {
   "cell_type": "code",
   "execution_count": null,
   "metadata": {},
   "outputs": [],
   "source": [
    "# Add a column to the dataframe about that is an integer-represented version of the \n",
    "# `species column. For example where species == 'setosa', the new column should be 0\n",
    "# and where species == 'virginica' the new colum should would be 1\n"
   ]
  },
  {
   "cell_type": "code",
   "execution_count": null,
   "metadata": {},
   "outputs": [],
   "source": [
    "# Create a scatter plot with Sepal Length, Sepal Width on the spatial dimensions\n",
    "#  and colored points for the species.\n",
    "# You may want to create a integer-type column for species\n",
    "\n",
    "# If you use the integer species column (which has values 0 - 2) you can index this\n",
    "# array of color names:\n",
    "mycolors = ['red','blue','green']\n"
   ]
  },
  {
   "cell_type": "code",
   "execution_count": null,
   "metadata": {},
   "outputs": [],
   "source": [
    "# But there are a lot more than two dimensions (+ species) in the data\n",
    "# Let's try a 3D plot with matplotlib.\n",
    "# See https://matplotlib.org/mpl_toolkits/mplot3d/tutorial.html\n",
    "# Create a 3D scatter plot of the sepal width , sepal length and petal length\n",
    "# You can pass a color vector like you (hopefully) did with 2D scatter()\n",
    "\n",
    "\n",
    "\n",
    "\n",
    "# You also may want to render the same plot from different angles."
   ]
  },
  {
   "cell_type": "code",
   "execution_count": null,
   "metadata": {},
   "outputs": [],
   "source": [
    "# Use the Seaborn package (https://seaborn.pydata.org/) `pip install seaborn`\n",
    "#  to visualize joint distributions between sepal and petal properties\n",
    "# Specifically, use the jointplot() function to visualize petal properties\n",
    "# Note that this function may take a few seconds to run.\n",
    "import seaborn as sns\n",
    "\n",
    "\n",
    "# Question: adding the argument kind='reg' adds information to the plot. \n",
    "#           looking at the documentation, what is this information?"
   ]
  },
  {
   "cell_type": "code",
   "execution_count": null,
   "metadata": {},
   "outputs": [],
   "source": [
    "# Use seaborn's pairplot() function to plot All The Dimensions at once.\n",
    "# You may want to use the original dataframe (without the integer species column)\n",
    "# without the added columns\n",
    "\n",
    "\n",
    "\n",
    "# Try adding kind='reg',diag_kind='kde' to pairplot()\n",
    "# Which representation do you like better? why?"
   ]
  },
  {
   "cell_type": "code",
   "execution_count": null,
   "metadata": {},
   "outputs": [],
   "source": []
  }
 ],
 "metadata": {
  "kernelspec": {
   "display_name": "Python 3",
   "language": "python",
   "name": "python3"
  },
  "language_info": {
   "codemirror_mode": {
    "name": "ipython",
    "version": 3
   },
   "file_extension": ".py",
   "mimetype": "text/x-python",
   "name": "python",
   "nbconvert_exporter": "python",
   "pygments_lexer": "ipython3",
   "version": "3.8.2"
  }
 },
 "nbformat": 4,
 "nbformat_minor": 2
}