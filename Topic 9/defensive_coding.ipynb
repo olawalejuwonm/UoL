{
 "cells": [
  {
   "cell_type": "markdown",
   "metadata": {},
   "source": [
    "## Part 1: Checking inputs\n",
    "\n",
    "In this part of the exercise, there are many possible correct answers -- don't be afraid to try multiple solutions to the same problem.\n",
    "\n",
    "You may want to use Python's str.isnumeric() function: "
   ]
  },
  {
   "cell_type": "code",
   "execution_count": 2,
   "metadata": {},
   "outputs": [],
   "source": [
    "# Here, your task is to write a divide() function (or different \n",
    "# versions so that it meets the implied requirements of the \n",
    "# given series of calls in the next cell\n",
    "def divide(a, b):\n",
    "    return a/b"
   ]
  },
  {
   "cell_type": "code",
   "execution_count": 7,
   "metadata": {},
   "outputs": [
    {
     "ename": "TypeError",
     "evalue": "divide() missing 1 required positional argument: 'b'",
     "output_type": "error",
     "traceback": [
      "\u001b[1;31m---------------------------------------------------------------------------\u001b[0m",
      "\u001b[1;31mTypeError\u001b[0m                                 Traceback (most recent call last)",
      "\u001b[1;32m~\\AppData\\Local\\Temp\\ipykernel_2764\\1795448723.py\u001b[0m in \u001b[0;36m<module>\u001b[1;34m\u001b[0m\n\u001b[0;32m      4\u001b[0m \u001b[0mdivide\u001b[0m\u001b[1;33m(\u001b[0m\u001b[1;36m3\u001b[0m\u001b[1;33m,\u001b[0m\u001b[1;36m2\u001b[0m\u001b[1;33m)\u001b[0m      \u001b[1;31m# -> 1.5\u001b[0m\u001b[1;33m\u001b[0m\u001b[1;33m\u001b[0m\u001b[0m\n\u001b[0;32m      5\u001b[0m \u001b[0mdivide\u001b[0m\u001b[1;33m(\u001b[0m\u001b[1;36m4\u001b[0m\u001b[1;33m,\u001b[0m\u001b[1;36m2\u001b[0m\u001b[1;33m)\u001b[0m      \u001b[1;31m# -> 2.0\u001b[0m\u001b[1;33m\u001b[0m\u001b[1;33m\u001b[0m\u001b[0m\n\u001b[1;32m----> 6\u001b[1;33m \u001b[0mdivide\u001b[0m\u001b[1;33m(\u001b[0m\u001b[1;36m4\u001b[0m\u001b[1;33m)\u001b[0m        \u001b[1;31m# -> 2.0\u001b[0m\u001b[1;33m\u001b[0m\u001b[1;33m\u001b[0m\u001b[0m\n\u001b[0m\u001b[0;32m      7\u001b[0m \u001b[0mdivide\u001b[0m\u001b[1;33m(\u001b[0m\u001b[1;36m6\u001b[0m\u001b[1;33m)\u001b[0m        \u001b[1;31m# -> 3.0\u001b[0m\u001b[1;33m\u001b[0m\u001b[1;33m\u001b[0m\u001b[0m\n\u001b[0;32m      8\u001b[0m \u001b[0mdivide\u001b[0m\u001b[1;33m(\u001b[0m\u001b[1;34m\"4\"\u001b[0m\u001b[1;33m,\u001b[0m\u001b[1;34m\"2\"\u001b[0m\u001b[1;33m)\u001b[0m  \u001b[1;31m# -> 2.0\u001b[0m\u001b[1;33m\u001b[0m\u001b[1;33m\u001b[0m\u001b[0m\n",
      "\u001b[1;31mTypeError\u001b[0m: divide() missing 1 required positional argument: 'b'"
     ]
    }
   ],
   "source": [
    "# Without changing these calls, make sure your divide() function \n",
    "# above works correctly and prints out values for each of these.\n",
    "divide(4,1)      # -> 4.0\n",
    "divide(3,2)      # -> 1.5\n",
    "divide(4,2)      # -> 2.0\n",
    "divide(4)        # -> 2.0\n",
    "divide(6)        # -> 3.0\n",
    "divide(\"4\",\"2\")  # -> 2.0\n",
    "divide(\"4\")      # -> 2.0\n",
    "divide(4.0, 2.0) # -> 2.0\n"
   ]
  },
  {
   "cell_type": "code",
   "execution_count": 1,
   "metadata": {},
   "outputs": [],
   "source": [
    "# We may also want to check values, not just types when defining a function\n",
    "# Let's work with the modulo function. Any positive number modulo a negative number\n",
    "# is defined to be 0. Write a function, pos_modulo(a,b) which returns a % b, but\n",
    "# which enforces the constraint that a > 0, otherwise it return None. Also, when\n",
    "# b = 0, return None. Last, instead of computing the modulo of a when b < 0, simply\n",
    "# return 0 when b < 0. Make sure your function satisfies the implied constraints \n",
    "# given in calls to the function in the following cell.\n",
    "#\n",
    "# Performance Trick: try to design your if-elif-else statement in order of most to least\n",
    "# likely branches\n",
    "def pos_modulo(a,b):\n",
    "    if a > 0 and b > 0:\n",
    "        return a % b\n",
    "    elif a > 0 and b == 0:\n",
    "        return None\n",
    "    elif a > 0 and b < 0:\n",
    "        return 0\n",
    "    else:\n",
    "        return None\n"
   ]
  },
  {
   "cell_type": "code",
   "execution_count": 5,
   "metadata": {},
   "outputs": [],
   "source": [
    "pos_modulo(3,2)   # -> 1\n",
    "pos_modulo(3,1)   # -> 0\n",
    "pos_modulo(3,3)   # -> 0\n",
    "pos_modulo(3,0)   # -> None (b = 0)\n",
    "pos_modulo(3,-1)  # -> 0\n",
    "pos_modulo(3,-2)  # -> 0\n",
    "pos_modulo(-3,-2) # -> None (a < 0)"
   ]
  },
  {
   "cell_type": "markdown",
   "metadata": {},
   "source": [
    "## Part 2: Exception Handling\n",
    "\n",
    "The Python documentation on Errors and Exceptions might be helpful for this exercise: https://docs.python.org/3/tutorial/errors.html"
   ]
  },
  {
   "cell_type": "code",
   "execution_count": 6,
   "metadata": {},
   "outputs": [],
   "source": [
    "# Now let's revisit our divide function. Python's built in division will raise an \n",
    "# exception if you try to divide by 0. Write a \"wrapper\" function for division that,\n",
    "# will return None instead of raising an exception for dividing by zero.\n",
    "#\n",
    "# After you've finished that, add exception handling (not input checking) to test\n",
    "# whether the passed parameters are valid floats. If they aren't, try to convert them.\n",
    "# But if this conversion fails, print a warning and return None.\n",
    "def divide(a, b):\n",
    "    if b == 0:\n",
    "        return None\n",
    "    else:\n",
    "        try:\n",
    "            return float(a)/float(b)\n",
    "        except:\n",
    "            print(\"Warning: invalid input\")\n",
    "            return None\n",
    "        \n"
   ]
  },
  {
   "cell_type": "code",
   "execution_count": null,
   "metadata": {},
   "outputs": [],
   "source": [
    "# Now, let's re-write the divide function above to use assert() to check\n",
    "# the inputs. In this case, your function simply halt execution if the\n",
    "# input constraints are not met.\n",
    "#\n",
    "# Hint: assert() can accept a multi-part conditional, like an if statement.\n",
    "\n",
    "def divide(a, b):\n",
    "    assert(type(a) == float or type(a) == int and type(b) == float or type(b) == int)\n",
    "    assert(b != 0)\n",
    "    return a/b"
   ]
  }
 ],
 "metadata": {
  "kernelspec": {
   "display_name": "base",
   "language": "python",
   "name": "python3"
  },
  "language_info": {
   "codemirror_mode": {
    "name": "ipython",
    "version": 3
   },
   "file_extension": ".py",
   "mimetype": "text/x-python",
   "name": "python",
   "nbconvert_exporter": "python",
   "pygments_lexer": "ipython3",
   "version": "3.9.13 (main, Aug 25 2022, 23:51:50) [MSC v.1916 64 bit (AMD64)]"
  },
  "vscode": {
   "interpreter": {
    "hash": "263930470851f494f0ed2879c35b57985588df20f9e529b86e97dd5eb9ddc466"
   }
  }
 },
 "nbformat": 4,
 "nbformat_minor": 2
}
