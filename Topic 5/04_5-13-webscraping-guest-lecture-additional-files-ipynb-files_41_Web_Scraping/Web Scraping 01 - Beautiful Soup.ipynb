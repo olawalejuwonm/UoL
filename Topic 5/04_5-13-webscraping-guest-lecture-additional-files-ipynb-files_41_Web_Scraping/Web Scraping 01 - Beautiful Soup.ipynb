{
 "cells": [
  {
   "cell_type": "markdown",
   "metadata": {},
   "source": [
    "# Web Scraping with Beautiful Soup\n",
    "Sometimes you come across some useful data but it's not in a convenient format such as Excel or csv, but is embedded in a web page.  You could copy and paste it from the web page into Excel, but there are a couple of big issues with this approach:\n",
    "\n",
    "1. You might need to spend a lot of time tidying up the data\n",
    "2. If the data on the web page changes you have to go through the whole manual process again.\n",
    "\n",
    "An alternative is to take a programming approach and use a techinique called **screen scraping**.  In this worksheet we will use a library called Beautiful Soup to scrape some data from websites."
   ]
  },
  {
   "cell_type": "markdown",
   "metadata": {},
   "source": [
    "## Beautiful Soup\n",
    "Let's just have a quick play with the Beautiful Soup library to see what it does.  We will use the list of countries from Wikipedia:\n",
    "\n",
    "https://en.wikipedia.org/wiki/List_of_national_capitals\n",
    "\n"
   ]
  },
  {
   "cell_type": "code",
   "execution_count": 8,
   "metadata": {},
   "outputs": [],
   "source": [
    "from bs4 import *\n",
    "import urllib3\n",
    "\n",
    "# This is the web page we will pull data from\n",
    "url = \"https://en.wikipedia.org/wiki/List_of_national_capitals\"\n",
    "\n",
    "# Pull the date from the web page\n",
    "http = urllib3.PoolManager()\n",
    "response = http.request('GET', url)\n",
    "\n",
    "# Create a Beautiful Soup object, passing in the page data\n",
    "soup = BeautifulSoup(response.data, \"lxml\")"
   ]
  },
  {
   "cell_type": "markdown",
   "metadata": {},
   "source": [
    "Let's inspect the first part of the Beautiful Soup object to see what it contains:"
   ]
  },
  {
   "cell_type": "code",
   "execution_count": 9,
   "metadata": {},
   "outputs": [
    {
     "data": {
      "text/plain": [
       "'<!DOCTYPE html>\\n<html class=\"client-nojs\" dir=\"ltr\" lang=\"en\">\\n<head>\\n<meta charset=\"utf-8\"/>\\n<title>List of national capitals - Wikipedia</title>\\n<script>document.documentElement.className=\"client-js\";RLCONF={\"wgBreakFrames\":!1,\"wgSeparatorTransformTable\":[\"\",\"\"],\"wgDigitTransformTable\":[\"\",\"\"],\"wgDefaultDateFormat\":\"dmy\",\"wgMonthNames\":[\"\",\"January\",\"February\",\"March\",\"April\",\"May\",\"June\",\"July\",\"August\",\"September\",\"October\",\"November\",\"December\"],\"wgRequestId\":\"23b7951d-10c3-4d58-932d-a58bf0fa7996\",\"wgCSPNonce\":!1,\"wgCanonicalNamespace\":\"\",\"wgCanonicalSpecialPageName\":!1,\"wgNamespaceNumber\":0,\"wgPageName\":\"List_of_national_capitals\",\"wgTitle\":\"List of national capitals\",\"wgCurRevisionId\":1027939042,\"wgRevisionId\":1027939042,\"wgArticleId\":33728,\"wgIsArticle\":!0,\"wgIsRedirect\":!1,\"wgAction\":\"view\",\"wgUserName\":null,\"wgUserGroups\":[\"*\"],\"wgCategories\":[\"Articles with short description\",\"Short description is different from Wikidata\",\"Articles containing Spanish-language text\",\"Lists of countries\",\"Lists of capitals\"],\"wgPageContentLanguage\":\"en\",\"wgPageContentModel\":\"wikitext\",\"wgRelevantPageName\":\\n\"List_of_national_capitals\",\"wgRelevantArticleId\":33728,\"wgIsProbablyEditable\":!0,\"wgRelevantPageIsProbablyEditable\":!0,\"wgRestrictionEdit\":[],\"wgRestrictionMove\":[],\"wgFlaggedRevsParams\":{\"tags\":{\"status\":{\"levels\":-1}}},\"wgMediaViewerOnClick\":!0,\"wgMediaViewerEnabledByDefault\":!0,\"wgPopupsFlags\":10,\"wgVisualEditor\":{\"pageLanguageCode\":\"en\",\"pageLanguageDir\":\"ltr\",\"pageVariantFallbacks\":\"en\"},\"wgMFDisplayWikibaseDescriptions\":{\"search\":!0,\"nearby\":!0,\"watchlist\":!0,\"tagline\":!1},\"wgWMESchemaEditAttemptStepOversample\":!1,\"wgULSCurrentAutonym\":\"English\",\"wgNoticeProject\":\"wikipedia\",\"wgCentralAuthMobileDomain\":!1,\"wgEditSubmitButtonLabelPublish\":!0,\"wgULSPosition\":\"interlanguage\",\"wgGENewcomerTasksGuidanceEnabled\":!0,\"wgGEAskQuestionEnabled\":!1,\"wgGELinkRecommendationsFrontendEnabled\":!1,\"wgWikibaseItemId\":\"Q35094\"};RLSTATE={\"ext.globalCssJs.user.styles\":\"ready\",\"site.styles\":\"ready\",\"noscript\":\"ready\",\"user.styles\":\"ready\",\"ext.globalCssJs.user\":\"ready\"\\n,\"user\":\"ready\",\"user.options\":\"loading\",\"ext.cite.styles\":\"ready\",\"skins.vector.styles.legacy\":\"ready\",\"jquery.tablesorter.styles\":\"ready\",\"ext.visualEditor.desktopArticleTarget.noscript\":\"ready\",\"ext.uls.interlanguage\":\"ready\",\"ext.wikimediaBadges\":\"ready\",\"wikibase.client.init\":\"ready\"};RLPAGEMODULES=[\"ext.cite.ux-enhancements\",\"site\",\"mediawiki.page.ready\",\"jquery.tablesorter\",\"skins.vector.legacy.js\",\"ext.gadget.ReferenceTooltips\",\"ext.gadget.charinsert\",\"ext.gadget.extra-toolbar-buttons\",\"ext.gadget.refToolbar\",\"ext.gadget.switcher\",\"ext.centralauth.centralautologin\",\"mmv.head\",\"mmv.bootstrap.autostart\",\"ext.popups\",\"ext.visualEditor.desktopArticleTarget.init\",\"ext.visualEditor.targetLoader\",\"ext.eventLogging\",\"ext.wikimediaEvents\",\"ext.navigationTiming\",\"ext.uls.compactlinks\",\"ext.uls.interface\",\"ext.cx.eventlogging.campaigns\",\"ext.centralNotice.geoIP\",\"ext.centralNotice.startUp\",\"ext.growthExperiments.SuggestedEditSession\"];</script>\\n<script>(RLQ=window.RLQ||[]).push(function(){mw.loader.implement(\"user.options@1hzgi\",function($,jQuery,require,module){/*@nomin*/mw.user.tokens.set({\"patrolToken\":\"+\\\\\\\\\",\"watchToken\":\"+\\\\\\\\\",\"csrfToken\":\"+\\\\\\\\\"});\\n});});</script>\\n<link href=\"/w/load.php?lang=en&amp;modules=ext.cite.styles%7Cext.uls.interlanguage%7Cext.visualEditor.desktopArticleTarget.noscript%7Cext.wikimediaBadges%7Cjquery.tablesorter.styles%7Cskins.vector.styles.legacy%7Cwikibase.client.init&amp;only=styles&amp;skin=vector\" rel=\"stylesheet\"/>\\n<script async=\"\" src=\"/w/load.php?lang=en&amp;modules=startup&amp;only=scripts&amp;raw=1&amp;skin=vector\"></script>\\n<meta content=\"\" name=\"ResourceLoaderDynamicStyles\"/>\\n<link href=\"/w/load.php?lang=en&amp;modules=site.styles&amp;only=styles&amp;skin=vector\" rel=\"stylesheet\"/>\\n<meta content=\"MediaWiki 1.37.0-wmf.9\" name=\"generator\"/>\\n<meta content=\"origin\" name=\"referrer\"/>\\n<meta content=\"origin-when-crossorigin\" name=\"referrer\"/>\\n<meta content=\"origin-when-cross-origin\" name=\"referrer\"/>\\n<meta content=\"List of national capitals - Wikipedia\" property=\"og:title\"/>\\n<meta content=\"website\" property=\"og:type\"/>\\n<link href=\"//upload.wikimedia.org\" rel=\"preconnect\"/>\\n<link href=\"//en.m.wikipedia.org/wiki/List_of_national_capitals\" media=\"only screen and (max-width: 720px)\" rel=\"alternate\"/>\\n<link href=\"/w/index.php?title=List_of_national_capitals&amp;action=edit\" rel=\"alternate\" title=\"Edit this page\" type=\"application/x-wiki\"/>\\n<link href=\"/w/index.php?title=List_of_national_capitals&amp;action=edit\" rel=\"edit\" title=\"Edit this page\"/>\\n<link href=\"/static/apple-touch/wikipedia.png\" rel=\"apple-touch-icon\"/>\\n<link href=\"/static/favicon/wikipedia.ico\" rel=\"shortcut icon\"/>\\n<link href=\"/w/opensearch_desc.php\" rel=\"search\" title=\"Wikipedia (en)\" type=\"application/opensearchdescription+xml\"/>\\n<link href=\"//en.wikipedia.org/w/api.php?action=rsd\" rel=\"EditURI\" type=\"application/rsd+xml\"/>\\n<link href=\"//creativecommons.org/licenses/by-sa'"
      ]
     },
     "execution_count": 9,
     "metadata": {},
     "output_type": "execute_result"
    }
   ],
   "source": [
    "str(soup)[:5000]"
   ]
  },
  {
   "cell_type": "markdown",
   "metadata": {},
   "source": [
    "So that looks like the HTML content of the web page!\n",
    "\n",
    "We can start to extract elements from the page.  First the title:"
   ]
  },
  {
   "cell_type": "code",
   "execution_count": 10,
   "metadata": {},
   "outputs": [
    {
     "data": {
      "text/plain": [
       "<title>List of national capitals - Wikipedia</title>"
      ]
     },
     "execution_count": 10,
     "metadata": {},
     "output_type": "execute_result"
    }
   ],
   "source": [
    "# HTML document title\n",
    "soup.title"
   ]
  },
  {
   "cell_type": "markdown",
   "metadata": {},
   "source": [
    "Then we can find the first tag of a particular type:"
   ]
  },
  {
   "cell_type": "code",
   "execution_count": 11,
   "metadata": {},
   "outputs": [
    {
     "data": {
      "text/plain": [
       "<a id=\"top\"></a>"
      ]
     },
     "execution_count": 11,
     "metadata": {},
     "output_type": "execute_result"
    }
   ],
   "source": [
    "# First link tag:\n",
    "soup.find('a')"
   ]
  },
  {
   "cell_type": "markdown",
   "metadata": {},
   "source": [
    "We can find all elements of a particular type.  Let's select the first 20:"
   ]
  },
  {
   "cell_type": "code",
   "execution_count": 12,
   "metadata": {},
   "outputs": [
    {
     "data": {
      "text/plain": [
       "[<a id=\"top\"></a>,\n",
       " <a class=\"mw-jump-link\" href=\"#mw-head\">Jump to navigation</a>,\n",
       " <a class=\"mw-jump-link\" href=\"#searchInput\">Jump to search</a>,\n",
       " <a href=\"/wiki/Lists_of_capitals\" title=\"Lists of capitals\">Lists of capitals</a>,\n",
       " <a class=\"mw-selflink selflink\">in alphabetical order</a>,\n",
       " <a href=\"/wiki/List_of_national_capitals_by_latitude\" title=\"List of national capitals by latitude\">by latitude</a>,\n",
       " <a href=\"/wiki/List_of_national_capitals_by_population\" title=\"List of national capitals by population\">by population</a>,\n",
       " <a href=\"/wiki/List_of_former_national_capitals\" title=\"List of former national capitals\">Former</a>,\n",
       " <a href=\"/wiki/List_of_purpose-built_national_capitals\" title=\"List of purpose-built national capitals\">Purpose-built</a>,\n",
       " <a href=\"/wiki/List_of_national_capitals_situated_on_an_international_border\" title=\"List of national capitals situated on an international border\">On an international border</a>,\n",
       " <a href=\"/wiki/List_of_countries_whose_capital_is_not_their_largest_city\" title=\"List of countries whose capital is not their largest city\">Countries whose capital is not their largest city</a>,\n",
       " <a href=\"/wiki/List_of_countries_with_multiple_capitals\" title=\"List of countries with multiple capitals\">Countries with multiple capitals</a>,\n",
       " <a class=\"mw-redirect\" href=\"/wiki/Timeline_of_country_and_capital_changes\" title=\"Timeline of country and capital changes\">Timeline of country and capital changes</a>,\n",
       " <a href=\"/wiki/List_of_capitals_outside_the_territories_they_serve\" title=\"List of capitals outside the territories they serve\">Capitals outside the territories they serve</a>,\n",
       " <a href=\"/wiki/List_of_purpose-built_capitals_of_country_subdivisions\" title=\"List of purpose-built capitals of country subdivisions\">Purpose-built</a>,\n",
       " <a href=\"/wiki/Template:Lists_of_capitals\" title=\"Template:Lists of capitals\"><abbr title=\"View this template\">v</abbr></a>,\n",
       " <a href=\"/wiki/Template_talk:Lists_of_capitals\" title=\"Template talk:Lists of capitals\"><abbr title=\"Discuss this template\">t</abbr></a>,\n",
       " <a class=\"external text\" href=\"https://en.wikipedia.org/w/index.php?title=Template:Lists_of_capitals&amp;action=edit\"><abbr title=\"Edit this template\">e</abbr></a>,\n",
       " <a href=\"/wiki/Capital_city\" title=\"Capital city\">capitals</a>,\n",
       " <a class=\"mw-redirect\" href=\"/wiki/Territory_(administrative_division)\" title=\"Territory (administrative division)\">territories</a>]"
      ]
     },
     "execution_count": 12,
     "metadata": {},
     "output_type": "execute_result"
    }
   ],
   "source": [
    "# All link tags:\n",
    "soup.find_all('a')[:20]"
   ]
  },
  {
   "cell_type": "markdown",
   "metadata": {},
   "source": [
    "We can extract attributes within a set of tags:"
   ]
  },
  {
   "cell_type": "code",
   "execution_count": 13,
   "metadata": {},
   "outputs": [
    {
     "name": "stdout",
     "output_type": "stream",
     "text": [
      "None\n",
      "#mw-head\n",
      "#searchInput\n",
      "/wiki/Lists_of_capitals\n",
      "None\n",
      "/wiki/List_of_national_capitals_by_latitude\n",
      "/wiki/List_of_national_capitals_by_population\n",
      "/wiki/List_of_former_national_capitals\n",
      "/wiki/List_of_purpose-built_national_capitals\n",
      "/wiki/List_of_national_capitals_situated_on_an_international_border\n",
      "/wiki/List_of_countries_whose_capital_is_not_their_largest_city\n",
      "/wiki/List_of_countries_with_multiple_capitals\n",
      "/wiki/Timeline_of_country_and_capital_changes\n",
      "/wiki/List_of_capitals_outside_the_territories_they_serve\n",
      "/wiki/List_of_purpose-built_capitals_of_country_subdivisions\n",
      "/wiki/Template:Lists_of_capitals\n",
      "/wiki/Template_talk:Lists_of_capitals\n",
      "https://en.wikipedia.org/w/index.php?title=Template:Lists_of_capitals&action=edit\n",
      "/wiki/Capital_city\n",
      "/wiki/Territory_(administrative_division)\n"
     ]
    }
   ],
   "source": [
    "# All links within link tags:\n",
    "for link in soup.find_all('a')[:20]:\n",
    "    print(link.get('href'))"
   ]
  },
  {
   "cell_type": "markdown",
   "metadata": {},
   "source": [
    "We can get the text content of the web page:"
   ]
  },
  {
   "cell_type": "code",
   "execution_count": 14,
   "metadata": {},
   "outputs": [
    {
     "data": {
      "text/plain": [
       "'\\n\\n\\nList of national capitals - Wikipedia\\ndocument.documentElement.className=\"client-js\";RLCONF={\"wgBreakFrames\":!1,\"wgSeparatorTransformTable\":[\"\",\"\"],\"wgDigitTransformTable\":[\"\",\"\"],\"wgDefaultDateFormat\":\"dmy\",\"wgMonthNames\":[\"\",\"January\",\"February\",\"March\",\"April\",\"May\",\"June\",\"July\",\"August\",\"September\",\"October\",\"November\",\"December\"],\"wgRequestId\":\"23b7951d-10c3-4d58-932d-a58bf0fa7996\",\"wgCSPNonce\":!1,\"wgCanonicalNamespace\":\"\",\"wgCanonicalSpecialPageName\":!1,\"wgNamespaceNumber\":0,\"wgPageName\":\"List_of_national_capitals\",\"wgTitle\":\"List of national capitals\",\"wgCurRevisionId\":1027939042,\"wgRevisionId\":1027939042,\"wgArticleId\":33728,\"wgIsArticle\":!0,\"wgIsRedirect\":!1,\"wgAction\":\"view\",\"wgUserName\":null,\"wgUserGroups\":[\"*\"],\"wgCategories\":[\"Articles with short description\",\"Short description is different from Wikidata\",\"Articles containing Spanish-language text\",\"Lists of countries\",\"Lists of capitals\"],\"wgPageContentLanguage\":\"en\",\"wgPageContentModel\":\"wikitext\",\"wgRelevantPageName\":\\n\"List_of_national_capitals\",\"wgRelevantArticleId\":33728,\"wgIsProbablyEditable\":!0,\"wgRelevantPageIsProbablyEditable\":!0,\"wgRestrictionEdit\":[],\"wgRestrictionMove\":[],\"wgFlaggedRevsParams\":{\"tags\":{\"status\":{\"levels\":-1}}},\"wgMediaViewerOnClick\":!0,\"wgMediaViewerEnabledByDefault\":!0,\"wgPopupsFlags\":10,\"wgVisualEditor\":{\"pageLanguageCode\":\"en\",\"pageLanguageDir\":\"ltr\",\"pageVariantFallbacks\":\"en\"},\"wgMFDisplayWikibaseDescriptions\":{\"search\":!0,\"nearby\":!0,\"watchlist\":!0,\"tagline\":!1},\"wgWMESchemaEditAttemptStepOversample\":!1,\"wgULSCurrentAutonym\":\"English\",\"wgNoticeProject\":\"wikipedia\",\"wgCentralAuthMobileDomain\":!1,\"wgEditSubmitButtonLabelPublish\":!0,\"wgULSPosition\":\"interlanguage\",\"wgGENewcomerTasksGuidanceEnabled\":!0,\"wgGEAskQuestionEnabled\":!1,\"wgGELinkRecommendationsFrontendEnabled\":!1,\"wgWikibaseItemId\":\"Q35094\"};RLSTATE={\"ext.globalCssJs.user.styles\":\"ready\",\"site.styles\":\"ready\",\"noscript\":\"ready\",\"user.styles\":\"ready\",\"ext.globalCssJs.user\":\"ready\"\\n,\"user\":\"ready\",\"user.options\":\"loading\",\"ext.cite.styles\":\"ready\",\"skins.vector.styles.legacy\":\"ready\",\"jquery.tablesorter.styles\":\"ready\",\"ext.visualEditor.desktopArticleTarget.noscript\":\"ready\",\"ext.uls.interlanguage\":\"ready\",\"ext.wikimediaBadges\":\"ready\",\"wikibase.client.init\":\"ready\"};RLPAGEMODULES=[\"ext.cite.ux-enhancements\",\"site\",\"mediawiki.page.ready\",\"jquery.tablesorter\",\"skins.vector.legacy.js\",\"ext.gadget.ReferenceTooltips\",\"ext.gadget.charinsert\",\"ext.gadget.extra-toolbar-buttons\",\"ext.gadget.refToolbar\",\"ext.gadget.switcher\",\"ext.centralauth.centralautologin\",\"mmv.head\",\"mmv.bootstrap.autostart\",\"ext.popups\",\"ext.visualEditor.desktopArticleTarget.init\",\"ext.visualEditor.targetLoader\",\"ext.eventLogging\",\"ext.wikimediaEvents\",\"ext.navigationTiming\",\"ext.uls.compactlinks\",\"ext.uls.interface\",\"ext.cx.eventlogging.campaigns\",\"ext.centralNotice.geoIP\",\"ext.centralNotice.startUp\",\"ext.growthExperiments.SuggestedEditSession\"];\\n(RLQ=window.RLQ||[]).push(function(){mw.loader.implement(\"user.options@1hzgi\",function($,jQuery,require,module){/*@nomin*/mw.user.tokens.set({\"patrolToken\":\"+\\\\\\\\\",\"watchToken\":\"+\\\\\\\\\",\"csrfToken\":\"+\\\\\\\\\"});\\n});});\\n\\n\\n\\n\\n\\n\\n\\n\\n\\n\\n\\n\\n\\n\\n\\n\\n\\n\\n\\n\\n\\n\\n\\n\\n\\n\\n\\n\\n\\n\\nList of national capitals\\n\\nFrom Wikipedia, the free encyclopedia\\n\\n\\n\\nJump to navigation\\nJump to search\\nWikipedia list article\\n.mw-parser-output .sidebar{width:22em;float:right;clear:right;margin:0.5em 0 1em 1em;background:#f8f9fa;border:1px solid #aaa;padding:0.2em;border-spacing:0.4em 0;text-align:center;line-height:1.4em;font-size:88%;display:table}body.skin-minerva .mw-parser-output .sidebar{display:table!important;float:right!important;margin:0.5em 0 1em 1em!important}.mw-parser-output .sidebar a{white-space:nowrap}.mw-parser-output .sidebar-wraplinks a{white-space:normal}.mw-parser-output .sidebar-subgroup{width:100%;margin:0;border-spacing:0}.mw-parser-output .sidebar-left{float:left;clear:left;margin:0.5em 1em 1em 0}.mw-parser-output .sidebar-none{float:none;clear:both;margin:0.5em 1em 1em 0}.mw-parser-output .sidebar-outer-title{padding-bottom:0.2em;font-size:125%;line-height:1.2em;font-weight:bold}.mw-parser-output .sidebar-top-image{padding:0.4em 0}.mw-parser-output .sidebar-top-caption,.mw-parser-output .sidebar-pretitle-with-top-image,.mw-parser-output .sidebar-caption{padding-top:0.2em;line-height:1.2em}.mw-parser-output .sidebar-pretitle{padding-top:0.4em;line-height:1.2em}.mw-parser-output .sidebar-title,.mw-parser-output .sidebar-title-with-pretitle{padding:0.2em 0.4em;font-size:145%;line-height:1.2em}.mw-parser-output .sidebar-title-with-pretitle{padding-top:0}.mw-parser-output .sidebar-image{padding:0.2em 0 0.4em}.mw-parser-output .sidebar-heading{padding:0.1em}.mw-parser-output .sidebar-content{padding:0 0.1em 0.4em}.mw-parser-output .sidebar-content-with-subgroup{padding:0.1em 0 0.2em}.mw-parser-output .sidebar-above,.mw-parser-output .sidebar-below{padding:0.3em 0.4em;font-weight:bold}.mw-parser-output .sidebar-collapse .sidebar-above,.mw-parser-output .sidebar-collapse .sidebar-below{border-top:1px solid #aaa;border-bottom:1px solid #aaa}.mw-parser-output .sidebar-navbar{text-align:right;font-size:115%}.mw-parser-output .sidebar-collapse .sidebar-navbar{padding-top:0.6em}.mw-parser-output .sidebar-list-title{text-align:left;font-weight:bold;line-height:1.6em;font-size:105%}.mw-parser-output .sidebar-list-title-c{text-align:center;margin:0 3.3em}@media(max-width:720px){body.mediawiki .mw-parser-output .sidebar{width:100%!important;clear:both;float:none!important;margin-left:0!important;margin-right:0!important}}Lists of capitals\\nOf countries\\nin alphabetical order\\nby latitude\\nby population\\nFormer\\nPurpose-built\\nOn an international border\\nCountries whose capital is not their largest city\\nCountries with multiple capitals\\nTimeline of country and capital changes\\n\\nOf country subdivisions\\nCapitals outside the territories they serve\\nPurpose-built\\n.mw-parser-output .navbar{display:inline;font-size:88%;font-weight:normal}.mw-parser-output .navbar-collapse{float:left;text-align:left}.mw-parser-output .navbar-boxtext{word-spacing:0}.mw-parser-output .navbar ul{display:inline-block;white-space:nowrap;line-height:inherit}.mw-parser-output .navbar-brackets::before{margin-right:-0.125em;content:\"[ \"}.mw-parser-output .navbar-brackets::after{margin-left:-0.125em;content:\" ]\"}.mw-parser-output .navbar li{word-spacing:-0.125em}.mw-parser-output .navbar-mini abbr{font-variant:small-caps;border-bottom:none;text-decoration:none;cursor:inherit}.mw-parser-output .navbar-ct-full{font-size:114%;margin:0 7em}.mw-parser-output .navbar-ct-mini{font-size:114%;margin:0 4em}.mw-parser-output .infobox .navbar{font-size:100%}.mw-parser-output .navbox .navbar{display:block;font-size:100%}.mw-parser-output .navbox-title .navbar{float:left;text-align:left;margin-right:0.5em}vte\\nThis is a list of national capitals, including capitals of territories and dependencies, non-sovereign states including associated states and entities whose sovereignty is disputed.  \\nThe capitals included on this list are those associated with states or territories listed by the international standard ISO 3166-1, or that are included in the list of states with limited recognition.\\nSovereign states and observer states within the United Nations are shown in bold text.\\n\\n\\n\\nCity/Town\\n\\nCountry/Territory\\n\\nNotes\\n\\n\\nAbidjan (former capital; still has many government offices)\\n\\xa0Ivory Coast\\n\\n\\n\\nYamoussoukro (official)\\n\\n\\n\\nAbu Dhabi\\n\\xa0United Arab Emirates\\n\\n\\n\\nAbuja\\n\\xa0Nigeria\\nLagos was the capital from 1914 to 1991.\\n\\n\\nAccra\\n\\xa0Ghana\\n\\n\\n\\nAdamstown\\n\\xa0Pitcairn Islands\\nBritish Overseas Territory.\\n\\n\\nAddis Ababa\\n\\xa0Ethiopia\\n\\n\\n\\nAden (de facto, temporary)\\n\\xa0Yemen\\nSana\\'a has been occupied by Houthis rebels since February 2015. Aden, the former capital of South Yemen, is Yemen\\'s acting capital. See also: Yemeni Civil War (2015–present).\\n\\n\\nSana\\'a (de jure)\\n\\n\\nAlgiers\\n\\xa0Algeria\\n\\n\\n\\nAlofi\\n\\xa0Niue\\nSelf-governing in free association with New Zealand.\\n\\n\\nAmman\\n\\xa0Jordan\\n\\n\\n\\nAmsterdam (official)\\n\\xa0Netherlands\\nThe Dutch constitution refers to Amsterdam as the \"capital\". Also of the public bodies of: \\xa0Bonaire, \\xa0Saba and \\xa0Sint Eustatius.\\n\\n\\nThe Hague (de facto)\\nThe Dutch government is located in The Hague, which also hosts the monarch, government ministries, judiciary and diplomatic missions.\\n\\n\\nAndorra la Vella\\n\\xa0Andorra\\n\\n\\n\\nAnkara\\n\\xa0Turkey\\n\\n\\n\\nAntananarivo\\n\\xa0Madagascar\\n\\n\\n\\nApia\\n\\xa0Samoa\\n\\n\\n\\nAshgabat\\n\\xa0Turkmenistan\\n\\n\\n\\nAsmara\\n\\xa0Eritrea\\n\\n\\n\\nAsunción\\n\\xa0Paraguay\\n\\n\\n\\nAthens\\n\\xa0Greece\\n\\n\\n\\nAvarua\\n\\xa0Cook Islands\\nSelf-governing in free association with New Zealand.\\n\\n\\nBaghdad\\n\\xa0Iraq\\n\\n\\n\\nBaku\\n\\xa0Azerbaijan\\n\\n\\n\\nBamako\\n\\xa0Mali\\n\\n\\n\\nBandar Seri Begawan\\n\\xa0Brunei\\n\\n\\n\\nBangkok\\n\\xa0Thailand\\n\\n\\n\\nBangui\\n\\xa0Central African Republic\\n\\n\\n\\nBanjul\\n\\xa0The Gambia\\n\\n\\n\\nBasseterre\\n\\xa0Saint Kitts and Nevis\\n\\n\\n\\nBeijing\\n\\xa0China\\nSee also: Historical capitals of China.\\n\\n\\nBeirut\\n\\xa0Lebanon\\n\\n\\n\\nBelgrade\\n\\xa0Serbia\\n\\n\\n\\nBelmopan\\n\\xa0Belize\\n\\n\\n\\nBerlin\\n\\xa0Germany\\n\\n\\n\\nBern (de facto)\\n\\xa0Switzerland\\nSwitzerland has no de jure capital.\\n\\n\\nBishkek\\n\\xa0Kyrgyzstan\\n\\n\\n\\nBissau\\n\\xa0Guinea-Bissau\\n\\n\\n\\nBloemfontein (judicial)\\n\\xa0South Africa\\n\\n\\n\\nCape Town (legislative)\\n\\n\\n\\nPretoria (executive)\\n\\n\\n\\nBogotá\\n\\xa0Colombia\\n\\n\\n\\nBrades (de facto)\\n\\xa0Montserrat\\nBritish Overseas Territory. Plymouth was abandoned after the eruption of the Soufriere Hills volcano in 1997. Government offices since then have been moved to Brades, which is in the northwestern part of Montserrat.\\n\\n\\nPlymouth (official)\\n\\n\\nBrasília\\n\\xa0Brazil\\n\\n\\n\\nBratislava\\n\\xa0Slovakia\\n\\n\\n\\nBrazzaville\\n\\xa0Congo\\n\\n\\n\\nBridgetown\\n\\xa0Barbados\\n\\n\\n\\nBrussels\\n\\xa0Belgium\\nAlso the de facto capital of the \\xa0European Union.\\n\\n\\nBucharest\\n\\xa0Romania\\n\\n\\n\\nBudapest\\n\\xa0Hungary\\n\\n\\n\\nBuenos Aires\\n\\xa0Argentina\\n\\n\\n\\nCairo\\n\\xa0Egypt\\nA new capital is being built at the New Administrative Capital. It will reportedly be named Wedian.\\n\\n\\nCanberra\\n\\xa0Australia\\nPlanned city built to overcome the rivalry between Melbourne and Sydney, which were both put forward as potential capitals for the nation in the Australasia Federation Conventions of the 1890s. Section 125 of the Constitution gives basic details about the location of the capital, size of the encompassing territory and so forth, while the Seat of Government Act 1908 specified its precise location.\\n\\n\\nCaracas\\n\\xa0Venezuela\\n\\n\\n\\nCastries\\n\\xa0Saint Lucia\\n\\n\\n\\nCetinje (Old Royal Capital, present seat of the President)\\n\\xa0Montenegro\\n\\n\\n\\nPodgorica (official)\\n\\n\\n\\nCharlotte Amalie\\n\\xa0United States Virgin Islands\\nTerritory of the United States.\\n\\n\\nChișinău\\n\\xa0Moldova\\n\\n\\n\\nCockburn Town\\n\\xa0Turks and Caicos Islands\\nBritish Overseas Territory.\\n\\n\\nColombo (executive, judicial)\\n\\xa0Sri Lanka\\nUntil the 1980s, the capital was Colombo, where many important governmental institutions still remain and which is still designated as the commercial capital of Sri Lanka.\\n\\n\\nSri Jayawardenepura Kotte (official)\\nAlso known as \"Kotte\".\\n\\n\\nConakry\\n\\xa0Guinea\\n\\n\\n\\nCopenhagen\\n\\xa0Denmark\\n\\n\\n\\nCotonou (de facto)\\n\\xa0Benin\\n\\n\\n\\nPorto-Novo (official)\\n\\n\\n\\nDakar\\n\\xa0Senegal\\n\\n\\n\\nDamascus\\n\\xa0Syria\\n\\n\\n\\nDar es Salaam (de facto, judicial)\\n\\xa0Tanzania\\nDar es Salaam, the former capital and largest city continues to serve as the de facto seat of government hosting the presidency, government ministries, judiciary and diplomatic missions.\\n\\n\\nDodoma (official, legislative)\\n\\n\\n\\nDhaka\\n\\xa0Bangladesh\\n\\n\\n\\nDili\\n\\xa0East Timor\\n\\n\\n\\nDjibouti\\n\\xa0Djibouti\\n\\n\\n\\nDoha\\n\\xa0Qatar\\n\\n\\n\\nDouglas\\n\\xa0Isle of Man\\nBritish Crown Dependency.\\n\\n\\nDublin\\n\\xa0Ireland\\n\\n\\n\\nDushanbe\\n\\xa0Tajikistan\\n\\n\\n\\nEl Aaiún (declared)\\n\\xa0Western Sahara\\xa0[c]\\nThe Sahrawi Republic, recognised by 82 states, claims the mostly Moroccan controlled Western Sahara. Moroccan controlled territory includes El Aaiún, and Morocco claims all Sahrawi controlled territory. Tifariti is now the temporary capital (instead of Bir Lehlou earlier) of the SADR. Some government and military structures reside in exile in Tindouf, Algeria.[1] See Politics of the Sahrawi Arab Democratic Republic.\\n\\n\\nTifariti (de facto)\\n\\n\\nFlying Fish Cove\\n\\xa0Christmas Island\\nExternal territory of Australia.\\n\\n\\nFreetown\\n\\xa0Sierra Leone\\n\\n\\n\\nFunafuti\\n\\xa0Tuvalu\\n\\n\\n\\nGaborone\\n\\xa0Botswana\\n\\n\\n\\nGeorge Town\\n\\xa0Cayman Islands\\nBritish Overseas Territory.\\n\\n\\nGeorgetown\\n\\xa0Ascension Island\\nPart of the British Overseas Territory of Saint Helena, Ascension and Tristan da Cunha.\\n\\n\\nGeorgetown\\n\\xa0Guyana\\n\\n\\n\\nGibraltar\\n\\xa0Gibraltar\\nBritish Overseas Territory.\\n\\n\\nGitega (official)\\n\\xa0Burundi\\nBujumbura was the capital from 1962 to 2018.\\n\\n\\nBujumbura (de facto)\\n\\n\\n\\nGuatemala City\\n\\xa0Guatemala\\n\\n\\n\\nGustavia\\n\\xa0Saint Barthélemy\\nOverseas collectivity of France.\\n\\n\\nHagåtña\\n\\xa0Guam\\nTerritory of the United States.\\n\\n\\nHamilton\\n\\xa0Bermuda\\nBritish Overseas Territory.\\n\\n\\nHanoi\\n\\xa0Vietnam\\n\\n\\n\\nHarare\\n\\xa0Zimbabwe\\n\\n\\n\\nHargeisa\\n\\xa0Somaliland\\nUnrecognized and self-declared state, de jure part of Somalia.\\n\\n\\nHavana\\n\\xa0Cuba\\n\\n\\n\\nHelsinki\\n\\xa0Finland\\n\\n\\n\\nHoniara\\n\\xa0Solomon Islands\\n\\n\\n\\nIslamabad\\n\\xa0Pakistan\\nKarachi was selected as the first capital of Pakistan and served as such until the capital was shifted to Rawalpindi in 1958. Rawalpindi served as an interim capital for almost a decade until the construction in Islamabad was complete.\\n\\n\\nJakarta\\n\\xa0Indonesia\\nA new purpose-built city in Kalimantan is planned to replace Jakarta as the national capital from the mid 2020s.[2]\\n\\n\\nJamestown\\n\\xa0Saint Helena\\nPart of the British Overseas Territory of Saint Helena, Ascension and Tristan da Cunha.\\n\\n\\nJerusalem (disputed)\\n\\xa0Israel (de facto)\\nThe Jerusalem Law states that \"Jerusalem, complete and united, is the capital of Israel\" and the city serves as the seat of the Israeli government and its institutions. United Nations Security Council Resolution 478 declared the Jerusalem Law \"null and void\" and called on member states to withdraw their diplomatic missions from Jerusalem. Most countries currently maintain their embassies in and around Tel Aviv. The United States recognized Jerusalem as the capital and moved its embassy there in May 2018. [3] Many countries officially adhere to the proposal that Jerusalem have international status, as called for in the 1947 Partition Plan.[4] The State of Palestine, a de jure state, claims East Jerusalem as its capital. See Status of Jerusalem and Positions on Jerusalem.\\n\\n\\n\\xa0Palestine (claimed)\\n\\n\\nRamallah (de facto)\\n\\n\\n\\nJuba\\n\\xa0South Sudan\\n\\n\\n\\nKabul\\n\\xa0Afghanistan\\n\\n\\n\\nKampala\\n\\xa0Uganda\\n\\n\\n\\nKathmandu\\n\\xa0Nepal\\n\\n\\n\\nKhartoum\\n\\xa0Sudan\\n\\n\\n\\nKigali\\n\\xa0Rwanda\\n\\n\\n\\nKing Edward Point\\n\\xa0South Georgia and the South Sandwich Islands\\nBritish Overseas Territory.\\n\\n\\nKingston\\n\\xa0Jamaica\\n\\n\\n\\nKingston\\n\\xa0Norfolk Island\\nExternal territory of Australia.\\n\\n\\nKingstown\\n\\xa0Saint Vincent and the Grenadines\\n\\n\\n\\nKinshasa\\n\\xa0Democratic Republic of the Congo\\n\\n\\n\\nKuala Lumpur (official, legislative and royal)\\n\\xa0Malaysia\\n\\n\\n\\nPutrajaya (administrative and judicial)\\n\\n\\n\\nKuwait City\\n\\xa0Kuwait\\n\\n\\n\\nKyiv\\n\\xa0Ukraine\\n\\n\\n\\nLa Paz (administrative)\\n\\xa0Bolivia\\nLa Paz is the highest administrative capital (3,650 m) in the world, higher than Quito.[5]\\n\\n\\nSucre (constitutional)\\n\\n\\n\\nLibreville\\n\\xa0Gabon\\n\\n\\n\\nLilongwe\\n\\xa0Malawi\\n\\n\\n\\nLima\\n\\xa0Peru\\nCusco is declared as the \"Historical Capital\" (Spanish: Capital Historica), a merely symbolic statement, by Article 49 of the Peruvian Constitution.\\n\\n\\nLisbon\\n\\xa0Portugal\\n\\n\\n\\nLjubljana\\n\\xa0Slovenia\\n\\n\\n\\nLobamba (royal and legislative)\\n\\xa0Eswatini\\n\\n\\n\\nMbabane (administrative)\\n\\n\\n\\nLomé\\n\\xa0Togo\\n\\n\\n\\nLondon\\n\\xa0United Kingdom\\nPrior to the Acts of Union in 1707, London was the capital of England only; Edinburgh was the capital of the Kingdom of Scotland.\\n\\n\\nLuanda\\n\\xa0Angola\\n\\n\\n\\nLusaka\\n\\xa0Zambia\\n\\n\\n\\nLuxembourg\\n\\xa0Luxembourg\\n\\n\\n\\nMadrid\\n\\xa0Spain\\n\\n\\n\\nMajuro\\n\\xa0Marshall Islands\\nSelf-governing in free association with the United States.\\n\\n\\nMalabo\\n\\xa0Equatorial Guinea\\nCiudad de la Paz is currently under construction and will become the new capital when complete.[6]\\n\\n\\nMalé\\n\\xa0Maldives\\n\\n\\n\\nManagua\\n\\xa0Nicaragua\\n\\n\\n\\nManama\\n\\xa0Bahrain\\n\\n\\n\\nManila\\n\\xa0Philippines\\n\\n\\n\\nMaputo\\n\\xa0Mozambique\\n\\n\\n\\nMariehamn\\n\\xa0Åland Islands\\nAutonomous province of Finland.\\n\\n\\nMarigot\\n\\xa0Saint Martin\\nOverseas collectivity of France.\\n\\n\\nMaseru\\n\\xa0Lesotho\\n\\n\\n\\nMata Utu\\n\\xa0Wallis and Futuna\\nOverseas collectivity of France.\\n\\n\\nMexico City\\n\\xa0Mexico\\n\\n\\n\\nMinsk\\n\\xa0Belarus\\n\\n\\n\\nMogadishu\\n\\xa0Somalia\\n\\n\\n\\nMonaco\\n\\xa0Monaco\\nCity-state. The Principality of Monaco does not have an official capital designated in its constitution, however, the Commune of Monaco, the country\\'s only commune, is coterminous with the nation, making it the de facto capital.[7][8]\\n\\n\\nMonrovia\\n\\xa0Liberia\\n\\n\\n\\nMontevideo\\n\\xa0Uruguay\\n\\n\\n\\nMoroni\\n\\xa0Comoros\\n\\n\\n\\nMoscow\\n\\xa0Russia\\n\\n\\n\\nMuscat\\n\\xa0Oman\\n\\n\\n\\nNairobi\\n\\xa0Kenya\\n\\n\\n\\nNassau\\n\\xa0Bahamas\\n\\n\\n\\nNaypyidaw\\n\\xa0Myanmar\\n\\n\\n\\nN\\'Djamena\\n\\xa0Chad\\n\\n\\n\\nNew Delhi\\n\\xa0India\\nKolkata was the capital of India until 1911 during the British Raj.\\n\\n\\nNgerulmud\\n\\xa0Palau\\nSelf-governing in free association with the United States. Koror was the capital of Palau until 2006.\\n\\n\\nNiamey\\n\\xa0Niger\\n\\n\\n\\nNicosia\\n\\xa0Cyprus\\n\\n\\n\\nNouakchott\\n\\xa0Mauritania\\n\\n\\n\\nNouméa\\n New Caledonia\\nOverseas territory of France.\\n\\n\\nNukuʻalofa\\n\\xa0Tonga\\n\\n\\n\\nNur-Sultan\\n\\xa0Kazakhstan\\nFormerly known as Astana; the name was changed on 20 March 2019.\\n\\n\\nNuuk\\n\\xa0Greenland\\nSelf-governing country within the Kingdom of Denmark.\\n\\n\\nOranjestad\\n\\xa0Aruba\\nSelf-governing country within the Kingdom of the Netherlands.\\n\\n\\nOslo\\n\\xa0Norway\\n\\n\\n\\nOttawa\\n\\xa0Canada\\n\\n\\n\\nOuagadougou\\n\\xa0Burkina Faso\\n\\n\\n\\nPago Pago\\n\\xa0American Samoa\\nTerritory of the United States.\\n\\n\\nPalikir\\n\\xa0Micronesia\\nSelf-governing in free association with the United States.\\n\\n\\nPanama City\\n\\xa0Panama\\n\\n\\n\\nPapeete\\n\\xa0French Polynesia\\nOverseas collectivity of France.\\n\\n\\nParamaribo\\n\\xa0Suriname\\n\\n\\n\\nParis\\n\\xa0France\\n\\n\\n\\nPhilipsburg\\n\\xa0Sint Maarten\\nSelf-governing country within the Kingdom of the Netherlands.\\n\\n\\nPhnom Penh\\n\\xa0Cambodia\\n\\n\\n\\nPort Louis\\n\\xa0Mauritius\\n\\n\\n\\nPort Moresby\\n\\xa0Papua New Guinea\\n\\n\\n\\nPort Vila\\n\\xa0Vanuatu\\n\\n\\n\\nPort-au-Prince\\n\\xa0Haiti\\n\\n\\n\\nPort of Spain\\n\\xa0Trinidad and Tobago\\n\\n\\n\\nPrague\\n\\xa0Czech Republic\\n\\n\\n\\nPraia\\n\\xa0Cape Verde\\n\\n\\n\\nPristina\\n\\xa0Kosovo[g]\\nDe facto independent state that is recognised by 113 UN member states and by Taiwan. Claimed in whole by the Republic of Serbia as part of its Autonomous Province of Kosovo and Metohija. Republic of Kosovo has de facto control over most of the territory, with limited control in North Kosovo.\\n\\n\\nPyongyang\\n\\xa0North Korea\\n\\n\\n\\nQuito\\n\\xa0Ecuador\\nHighest official capital (2,850 m).[5]\\n\\n\\nRabat\\n\\xa0Morocco\\n\\n\\n\\nReykjavík\\n\\xa0Iceland\\n\\n\\n\\nRiga\\n\\xa0Latvia\\n\\n\\n\\nRiyadh\\n\\xa0Saudi Arabia\\n\\n\\n\\nRoad Town\\n\\xa0British Virgin Islands\\nBritish Overseas Territory.\\n\\n\\nRome\\n\\xa0Italy\\n\\n\\n\\nRoseau\\n\\xa0Dominica\\n\\n\\n\\nSaipan\\n\\xa0Northern Mariana Islands\\nTerritory of the United States.\\n\\n\\nSan José\\n\\xa0Costa Rica\\n\\n\\n\\nSan Juan\\n\\xa0Puerto Rico\\nTerritory of the United States.\\n\\n\\nSan Marino\\n\\xa0San Marino\\n\\n\\n\\nSan Salvador\\n\\xa0El Salvador\\n\\n\\n\\nSantiago (official)\\n\\xa0Chile\\n\\n\\n\\nValparaíso (legislative)\\nThe National Congress of Chile is located in Valparaíso.\\n\\n\\nSanto Domingo\\n\\xa0Dominican Republic\\n\\n\\n\\nSão Tomé\\n\\xa0São Tomé and Príncipe\\n\\n\\n\\nSarajevo\\n\\xa0Bosnia and Herzegovina\\n\\n\\n\\nSeoul\\n\\xa0South Korea\\n\\n\\n\\nSingapore\\n\\xa0Singapore\\nCity-state.\\n\\n\\nSkopje\\n\\xa0North Macedonia\\n\\n\\n\\nSofia\\n\\xa0Bulgaria\\n\\n\\n\\nSouth Tarawa\\n\\xa0Kiribati\\n\\n\\n\\nSt. George\\'s\\n\\xa0Grenada\\n\\n\\n\\nSt. Helier\\n\\xa0Jersey\\nBritish Crown Dependency.\\n\\n\\nSt. John\\'s\\n\\xa0Antigua and Barbuda\\n\\n\\n\\nSt. Peter Port\\n\\xa0Guernsey\\nBritish Crown Dependency.\\n\\n\\nSt. Pierre\\n\\xa0Saint Pierre and Miquelon\\nOverseas collectivity of France.\\n\\n\\nStanley\\n\\xa0Falkland Islands\\nBritish Overseas Territory.\\n\\n\\nStepanakert\\n\\xa0Artsakh\\nThe self-declared country remains diplomatically unrecognised by UN-member states, including Armenia. Transnistria, South Ossetia, and Abkhazia all recognise the state. Claimed in whole by Azerbaijan.\\n\\n\\nStockholm\\n\\xa0Sweden\\n\\n\\n\\nSukhumi\\n\\xa0Abkhazia\\nDe facto independent state recognised by Russia, Nauru, Nicaragua, Venezuela, South Ossetia and Transnistria. Claimed in whole by Republic of Georgia as the Autonomous Republic of Abkhazia.\\n\\n\\nSuva\\n\\xa0Fiji\\n\\n\\n\\nTaipei (de facto)\\n\\xa0Taiwan\\nOfficially the Republic of China (ROC), it has been competing for recognition with the People\\'s Republic of China (PRC) as the sole Chinese government since 1949. Taiwan controls the island of Taiwan and its associated islands, Quemoy, Matsu, the Pratas, and part of the Spratly Islands.[Note 1] The territory of Taiwan is claimed in whole by the People\\'s Republic of China.[Note 2] The Republic of China participates in the World Health Organization and a number of non-UN international organizations such as the World Trade Organization, International Olympic Committee and others under a variety of pseudonyms, most commonly Chinese Taipei.\\n\\n\\nTallinn\\n\\xa0Estonia\\n\\n\\n\\nTashkent\\n\\xa0Uzbekistan\\n\\n\\n\\nTbilisi\\n\\xa0Georgia\\n\\n\\n\\nTegucigalpa\\n\\xa0Honduras\\n\\n\\n\\nTehran\\n\\xa0Iran\\n\\n\\n\\nThimphu\\n\\xa0Bhutan\\n\\n\\n\\nTirana\\n\\xa0Albania\\n\\n\\n\\nTiraspol\\n\\xa0Transnistria\\nDe facto independent state, not recognized by any UN-member, but by Abkhazia and South Ossetia. Claimed in whole by the Republic of Moldova as the Territorial Unit of Transnistria.\\n\\n\\nTokyo\\n\\xa0Japan\\n\\n\\n\\nTórshavn\\n\\xa0Faroe Islands\\nSelf-governing country within the Kingdom of Denmark.\\n\\n\\nTripoli\\n\\xa0Libya\\n\\n\\n\\nTskhinvali\\n\\xa0South Ossetia\\nDe facto independent state recognised by Russia, Nicaragua, Nauru, Venezuela, Abkhazia and Transnistria. Claimed in whole by the Republic of Georgia as the Provisional Administrative Entity of South Ossetia.\\n\\n\\nTunis\\n\\xa0Tunisia\\n\\n\\n\\nUlaanbaatar\\n\\xa0Mongolia\\n\\n\\n\\nVaduz\\n\\xa0Liechtenstein\\n\\n\\n\\nValletta\\n\\xa0Malta\\n\\n\\n\\nThe Valley\\n\\xa0Anguilla\\nBritish Overseas Territory.\\n\\n\\nVatican City\\n\\xa0Vatican City\\nCity-state.\\n\\n\\nVictoria\\n\\xa0Seychelles\\n\\n\\n\\nVienna\\n\\xa0Austria\\n\\n\\n\\nVientiane\\n\\xa0Laos\\n\\n\\n\\nVilnius\\n\\xa0Lithuania\\n\\n\\n\\nWarsaw\\n\\xa0Poland\\n\\n\\n\\nWashington, D.C.\\n\\xa0United States\\n\\n\\n\\nWellington\\n\\xa0New Zealand\\nSee also: Capital of New Zealand.\\n\\n\\nWest Island\\n\\xa0Cocos (Keeling) Islands\\nExternal territory of Australia.\\n\\n\\nWillemstad\\n\\xa0Curaçao\\nSelf-governing country within the Kingdom of the Netherlands.\\n\\n\\nWindhoek\\n\\xa0Namibia\\n\\n\\n\\nYaoundé\\n\\xa0Cameroon\\n\\n\\n\\nYaren (de facto)\\n\\xa0Nauru\\nCountry does not have an official capital; however, the government offices are in Yaren.\\n\\n\\nYerevan\\n\\xa0Armenia\\n\\n\\n\\nZagreb\\n\\xa0Croatia\\n\\n\\nNotes[edit]\\n.mw-parser-output .reflist{font-size:90%;margin-bottom:0.5em;list-style-type:decimal}.mw-parser-output .reflist .references{font-size:100%;margin-bottom:0;list-style-type:inherit}.mw-parser-output .reflist-columns-2{column-width:30em}.mw-parser-output .reflist-columns-3{column-width:25em}.mw-parser-output .reflist-columns{margin-top:0.3em}.mw-parser-output .reflist-columns ol{margin-top:0}.mw-parser-output .reflist-columns li{page-break-inside:avoid;break-inside:avoid-column}.mw-parser-output .reflist-upper-alpha{list-style-type:upper-alpha}.mw-parser-output .reflist-upper-roman{list-style-type:upper-roman}.mw-parser-output .reflist-lower-alpha{list-style-type:lower-alpha}.mw-parser-output .reflist-lower-greek{list-style-type:lower-greek}.mw-parser-output .reflist-lower-roman{list-style-type:lower-roman}\\n\\n^ The sovereignty over the Spratly Islands is disputed by the PRC, the ROC, Vietnam, the Philippines (part), Malaysia (part), and Brunei (part). Except Brunei, each of these countries occupies part of the islands (see List of territorial disputes).\\n\\n^ In 1949, the Republic of China government led by the Kuomintang (KMT) lost the Chinese Civil War to the Communist Party of China (CPC) and set up a provisional capital in Taipei. The CPC established the People\\'s Republic. As such, the political status of the ROC and the legal status of Taiwan (alongside the territories under ROC jurisdiction) are in dispute. In 1971, the United Nations gave the China seat to the PRC instead of the ROC: most states recognize the PRC to be the sole legitimate representative of all China, and the UN classifies Taiwan as \"Taiwan, Province of China\". The ROC has de facto relations with most sovereign states. A significant political movement within Taiwan advocates Taiwan independence.\\n\\n\\nReferences[edit]\\n\\n\\n^ .mw-parser-output cite.citation{font-style:inherit}.mw-parser-output .citation q{quotes:\"\\\\\"\"\"\\\\\"\"\"\\'\"\"\\'\"}.mw-parser-output .id-lock-free a,.mw-parser-output .citation .cs1-lock-free a{background:linear-gradient(transparent,transparent),url(\"//upload.wikimedia.org/wikipedia/commons/6/65/Lock-green.svg\")right 0.1em center/9px no-repeat}.mw-parser-output .id-lock-limited a,.mw-parser-output .id-lock-registration a,.mw-parser-output .citation .cs1-lock-limited a,.mw-parser-output .citation .cs1-lock-registration a{background:linear-gradient(transparent,transparent),url(\"//upload.wikimedia.org/wikipedia/commons/d/d6/Lock-gray-alt-2.svg\")right 0.1em center/9px no-repeat}.mw-parser-output .id-lock-subscription a,.mw-parser-output .citation .cs1-lock-subscription a{background:linear-gradient(transparent,transparent),url(\"//upload.wikimedia.org/wikipedia/commons/a/aa/Lock-red-alt-2.svg\")right 0.1em center/9px no-repeat}.mw-parser-output .cs1-subscription,.mw-parser-output .cs1-registration{color:#555}.mw-parser-output .cs1-subscription span,.mw-parser-output .cs1-registration span{border-bottom:1px dotted;cursor:help}.mw-parser-output .cs1-ws-icon a{background:linear-gradient(transparent,transparent),url(\"//upload.wikimedia.org/wikipedia/commons/4/4c/Wikisource-logo.svg\")right 0.1em center/12px no-repeat}.mw-parser-output code.cs1-code{color:inherit;background:inherit;border:none;padding:inherit}.mw-parser-output .cs1-hidden-error{display:none;font-size:100%}.mw-parser-output .cs1-visible-error{font-size:100%}.mw-parser-output .cs1-maint{display:none;color:#33aa33;margin-left:0.3em}.mw-parser-output .cs1-format{font-size:95%}.mw-parser-output .cs1-kern-left,.mw-parser-output .cs1-kern-wl-left{padding-left:0.2em}.mw-parser-output .cs1-kern-right,.mw-parser-output .cs1-kern-wl-right{padding-right:0.2em}.mw-parser-output .citation .mw-selflink{font-weight:inherit}\"CIA - The World Factbook -- Western Sahara\". web.archive.org. June 12, 2007.\\n\\n^ \"Indonesia announces site of capital city to replace sinking Jakarta\". The Guardian. 26 August 2019.\\n\\n^ See the CIA Factbook and Map of Israel\\n\\n^ Sharkansky, Ira (1996). Governing Jerusalem: Again on the world\\'s agenda. Wayne State University Press. p.\\xa023. ISBN\\xa00-8143-2592-0.\\n\\n^ a b Jacobs, Frank (19 June 2012). \"Amazonia or Bust!\". New York Times. Retrieved 28 June 2012.\\n\\n^ Fortin, Jacey (19 December 2012). \"Poverty-Stricken Equatorial Guinea Builds Expensive Capital City In The Middle Of Nowhere\".\\n\\n^ \"Constitution of the Principality\". Gouvernement Princier Principauté de Monaco. Principauté de Monaco. 17 December 1962. Retrieved 28 February 2020.\\n\\n^ \"Monaco\". Britannica. Retrieved 28 February 2020.\\n\\n\\n\\n\\n\\n\\nRetrieved from \"https://en.wikipedia.org/w/index.php?title=List_of_national_capitals&oldid=1027939042\"\\nCategories: Lists of countriesLists of capitalsHidden categories: Articles with short descriptionShort description is different from WikidataArticles containing Spanish-language text\\n\\n\\n\\n\\n\\n\\nNavigation menu\\n\\n\\n\\nPersonal tools\\n\\n\\nNot logged inTalkContributionsCreate accountLog in\\n\\n\\n\\n\\n\\nNamespaces\\n\\n\\nArticleTalk\\n\\n\\n\\n\\n\\nVariants\\n\\n\\n\\n\\n\\n\\n\\n\\n\\nViews\\n\\n\\nReadEditView history\\n\\n\\n\\n\\n\\nMore\\n\\n\\n\\n\\n\\n\\n\\nSearch\\n\\n\\n\\n\\n\\n\\n\\n\\n\\n\\n\\n\\n\\n\\n\\n\\n\\n\\nNavigation\\n\\n\\nMain pageContentsCurrent eventsRandom articleAbout WikipediaContact usDonate\\n\\n\\n\\n\\nContribute\\n\\n\\nHelpLearn to editCommunity portalRecent changesUpload file\\n\\n\\n\\n\\nTools\\n\\n\\nWhat links hereRelated changesUpload fileSpecial pagesPermanent linkPage informationCite this pageWikidata item\\n\\n\\n\\n\\nPrint/export\\n\\n\\nDownload as PDFPrintable version\\n\\n\\n\\n\\nLanguages\\n\\n\\nAfrikaansአማርኛАҧсшәаالعربيةAragonésArpetanAzərbaycancaBamanankanবাংলাBân-lâm-gúБеларускаяБългарскиBoarischBosanskiБуряадCatalàЧӑвашлаČeštinaCymraegDanskDeutschEestiΕλληνικάEspañolEsperantoفارسیFrançaisFryskGaelgGàidhligGalego한국어Հայերենहिन्दीHrvatskiIdoItalianoעבריתಕನ್ನಡKapampanganქართულიҚазақшаKreyòl ayisyenКыргызчаLatgaļuLatinaLatviešuLëtzebuergeschLietuviųMagyarМакедонскиMalagasyMaltiमराठीმარგალურიمازِرونیBahasa MelayuМонголNederlandsनेपाल भाषा日本語NordfriiskNorsk bokmålNouormandOccitanOʻzbekcha/ўзбекчаਪੰਜਾਬੀپنجابیپښتوPlattdüütschPolskiPortuguêsRomânăRomani čhibRuna SimiРусскийᱥᱟᱱᱛᱟᱲᱤSeelterskShqipSimple EnglishSlovenčinaSlovenščinaکوردیСрпски / srpskiSuomiSvenskaTagalogதமிழ்Татарча/tatarçaతెలుగుТоҷикӣTürkçeУкраїнськаاردوTiếng ViệtVõro文言Winaray吴语ייִדיש粵語中文\\nEdit links\\n\\n\\n\\n\\n\\n\\n This page was last edited on 10 June 2021, at 21:58\\xa0(UTC).\\nText is available under the Creative Commons Attribution-ShareAlike License;\\nadditional terms may apply.  By using this site, you agree to the Terms of Use and Privacy Policy. Wikipedia® is a registered trademark of the Wikimedia Foundation, Inc., a non-profit organization.\\n\\n\\nPrivacy policy\\nAbout Wikipedia\\nDisclaimers\\nContact Wikipedia\\nMobile view\\nDevelopers\\nStatistics\\nCookie statement\\n\\n\\n\\n\\n\\n\\n(RLQ=window.RLQ||[]).push(function(){mw.config.set({\"wgPageParseReport\":{\"limitreport\":{\"cputime\":\"2.153\",\"walltime\":\"3.083\",\"ppvisitednodes\":{\"value\":18364,\"limit\":1000000},\"postexpandincludesize\":{\"value\":178237,\"limit\":2097152},\"templateargumentsize\":{\"value\":24491,\"limit\":2097152},\"expansiondepth\":{\"value\":13,\"limit\":40},\"expensivefunctioncount\":{\"value\":239,\"limit\":500},\"unstrip-depth\":{\"value\":1,\"limit\":20},\"unstrip-size\":{\"value\":29111,\"limit\":5000000},\"entityaccesscount\":{\"value\":0,\"limit\":400},\"timingprofile\":[\"100.00% 2195.631      1 -total\",\" 68.66% 1507.506    239 Template:Flaglist\",\" 20.76%  455.722    239 Template:Flaglist/core\",\"  9.95%  218.532      2 Template:Reflist\",\"  7.06%  154.980      4 Template:Cite_web\",\"  6.60%  144.946      1 Template:Lang-es\",\"  4.69%  102.874      1 Template:Lists_of_capitals\",\"  4.47%   98.236      1 Template:Sidebar\",\"  3.71%   81.391      1 Template:Short_description\",\"  2.13%   46.802      1 Template:Pagetype\"]},\"scribunto\":{\"limitreport-timeusage\":{\"value\":\"0.579\",\"limit\":\"10.000\"},\"limitreport-memusage\":{\"value\":21198649,\"limit\":52428800}},\"cachereport\":{\"origin\":\"mw1270\",\"timestamp\":\"20210619061853\",\"ttl\":1814400,\"transientcontent\":false}}});});\\n{\"@context\":\"https:\\\\/\\\\/schema.org\",\"@type\":\"Article\",\"name\":\"List of national capitals\",\"url\":\"https:\\\\/\\\\/en.wikipedia.org\\\\/wiki\\\\/List_of_national_capitals\",\"sameAs\":\"http:\\\\/\\\\/www.wikidata.org\\\\/entity\\\\/Q35094\",\"mainEntity\":\"http:\\\\/\\\\/www.wikidata.org\\\\/entity\\\\/Q35094\",\"author\":{\"@type\":\"Organization\",\"name\":\"Contributors to Wikimedia projects\"},\"publisher\":{\"@type\":\"Organization\",\"name\":\"Wikimedia Foundation, Inc.\",\"logo\":{\"@type\":\"ImageObject\",\"url\":\"https:\\\\/\\\\/www.wikimedia.org\\\\/static\\\\/images\\\\/wmf-hor-googpub.png\"}},\"datePublished\":\"2001-11-12T20:03:05Z\",\"dateModified\":\"2021-06-10T21:58:02Z\",\"headline\":\"Wikimedia list article\"}\\n(RLQ=window.RLQ||[]).push(function(){mw.config.set({\"wgBackendResponseTime\":204,\"wgHostname\":\"mw1384\"});});\\n'"
      ]
     },
     "execution_count": 14,
     "metadata": {},
     "output_type": "execute_result"
    }
   ],
   "source": [
    "# All page text\n",
    "soup.get_text()"
   ]
  },
  {
   "cell_type": "code",
   "execution_count": null,
   "metadata": {
    "collapsed": true,
    "jupyter": {
     "outputs_hidden": true
    }
   },
   "outputs": [],
   "source": []
  },
  {
   "cell_type": "code",
   "execution_count": null,
   "metadata": {},
   "outputs": [],
   "source": []
  }
 ],
 "metadata": {
  "kernelspec": {
   "display_name": "Python 3",
   "language": "python",
   "name": "python3"
  },
  "language_info": {
   "codemirror_mode": {
    "name": "ipython",
    "version": 3
   },
   "file_extension": ".py",
   "mimetype": "text/x-python",
   "name": "python",
   "nbconvert_exporter": "python",
   "pygments_lexer": "ipython3",
   "version": "3.7.3"
  }
 },
 "nbformat": 4,
 "nbformat_minor": 4
}
