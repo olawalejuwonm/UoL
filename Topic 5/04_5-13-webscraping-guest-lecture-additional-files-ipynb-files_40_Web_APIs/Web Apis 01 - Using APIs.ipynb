{
 "cells": [
  {
   "cell_type": "markdown",
   "metadata": {},
   "source": [
    "# Using APIs\n",
    "Application Programming Interfaces (APIs) are used to provide functionality external to your program.  Essentially, someone else has done some hard work creating code that delivers that functionality.  And they have made that functionality available to you, the programmer!\n",
    "\n",
    "One thing you do have to bear in mind when using APIs is that *the API can change or be removed completely*, causing your code to break!  Some organisations are better than others at keeping their APIs available and consistent.\n",
    "\n",
    "Also, if you build an application with an API check whether the *availability guarantee is suitable for your needs*.  For example, some APIs provide no guarantee that the API will be available at any point in time.  So they may take the API down without notice.\n",
    "\n",
    "##  Web APIs\n",
    "**Web APIs** are a specific type of API that you can access over the internet.  The **service** is made available and you can connect to it through an **endpoint**.  You can then make **HTTP requests** to the service to get the information you want.\n",
    "\n",
    "There are lots of web APIs out there, for all sorts of services.  We will review just a few that can provide some useful data.  A good place to find APIs is throu the Programmable Web site:\n",
    "\n",
    "https://www.programmableweb.com/\n"
   ]
  }
 ],
 "metadata": {
  "kernelspec": {
   "display_name": "Python 3.10.9 64-bit (microsoft store)",
   "language": "python",
   "name": "python3"
  },
  "language_info": {
   "codemirror_mode": {
    "name": "ipython",
    "version": 3
   },
   "file_extension": ".py",
   "mimetype": "text/x-python",
   "name": "python",
   "nbconvert_exporter": "python",
   "pygments_lexer": "ipython3",
   "version": "3.10.9"
  },
  "vscode": {
   "interpreter": {
    "hash": "9fcc6fa51be0ad111bbc12f6c1c3e54930c34b0f1ae03fb7b761eacf59634953"
   }
  }
 },
 "nbformat": 4,
 "nbformat_minor": 4
}
