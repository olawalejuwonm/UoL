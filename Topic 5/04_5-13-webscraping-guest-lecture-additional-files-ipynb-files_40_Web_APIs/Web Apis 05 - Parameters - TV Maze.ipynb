{
 "cells": [
  {
   "cell_type": "markdown",
   "metadata": {},
   "source": [
    "# Parameterised APIs\n",
    "Many (if not most) APIs will allow parameters to select the specific data we want.  The parameters are specified in the URL of the web request.\n",
    "\n",
    "We will use the example of the TV Maze website.  Here is the web request to get back a list of Rick and Morty episodes:\n",
    "\n",
    "    http://api.tvmaze.com/singlesearch/shows?q=rick-&-morty&embed=episodes\n",
    "\n",
    "Notice that we have a base URL:\n",
    "\n",
    "    http://api.tvmaze.com/singlesearch/shows\n",
    "\n",
    "A question mark, to signify that paramers will follow:\n",
    "\n",
    "    ?\n",
    "\n",
    "A parameter called q with a value \"rick-&-morty\":\n",
    "\n",
    "    q=rick-&-morty\n",
    "\n",
    "A & to signify the next parameter:\n",
    "\n",
    "    &\n",
    "\n",
    "Another parameter called embed with a value \"episodes\":\n",
    "\n",
    "    embed=episodes\n",
    "\n",
    "We can change the q parameter to change the show we want to query:\n",
    "\n",
    "    http://api.tvmaze.com/singlesearch/shows?q=black-mirror&embed=episodes\n",
    "\n",
    "\n",
    "We can use the urllib python module to help build the URL."
   ]
  },
  {
   "cell_type": "code",
   "execution_count": 13,
   "metadata": {},
   "outputs": [],
   "source": [
    "# Import the libraries\n",
    "import requests\n",
    "import urllib\n",
    "import json\n",
    "import pandas as pd"
   ]
  },
  {
   "cell_type": "code",
   "execution_count": 31,
   "metadata": {},
   "outputs": [],
   "source": [
    "# Function to put together the API query\n",
    "def getRequestUrl():\n",
    "    url = \"http://api.tvmaze.com/singlesearch/shows?\"\n",
    "    params = {\"q\":          \"rick-&-morty\",\n",
    "              \"embed\":      \"episodes\"}\n",
    "    request = url + urllib.parse.unquote(urllib.parse.urlencode(params))\n",
    "    return request"
   ]
  },
  {
   "cell_type": "code",
   "execution_count": 32,
   "metadata": {},
   "outputs": [],
   "source": [
    "# Function to call the API with the given query URL\n",
    "def getApiData(requestUrl):\n",
    "    # Call the api\n",
    "    response = requests.get(requestUrl)\n",
    "    \n",
    "    # Extract the text from the response\n",
    "    data = json.loads(response.text)\n",
    "    \n",
    "    # Get the actual data (as specfied in the TV Maze api)\n",
    "    results = data[\"_embedded\"][\"episodes\"]\n",
    "    \n",
    "    # Get other information (as specfied in the TV Maze api)\n",
    "    showtype = data[\"type\"]\n",
    "    genres = data[\"genres\"]\n",
    "    \n",
    "    print(\"Response: show type {}, genres {}\".format(showtype, genres))\n",
    "    \n",
    "    return results\n"
   ]
  },
  {
   "cell_type": "code",
   "execution_count": 33,
   "metadata": {},
   "outputs": [],
   "source": [
    "requestUrl = getRequestUrl()"
   ]
  },
  {
   "cell_type": "code",
   "execution_count": 34,
   "metadata": {},
   "outputs": [
    {
     "data": {
      "text/plain": [
       "'http://api.tvmaze.com/singlesearch/shows?q=rick-&-morty&embed=episodes'"
      ]
     },
     "execution_count": 34,
     "metadata": {},
     "output_type": "execute_result"
    }
   ],
   "source": [
    "requestUrl"
   ]
  },
  {
   "cell_type": "code",
   "execution_count": 35,
   "metadata": {},
   "outputs": [
    {
     "name": "stdout",
     "output_type": "stream",
     "text": [
      "Response: show type Scripted, genres ['Comedy']\n"
     ]
    },
    {
     "data": {
      "text/html": [
       "<div>\n",
       "<style scoped>\n",
       "    .dataframe tbody tr th:only-of-type {\n",
       "        vertical-align: middle;\n",
       "    }\n",
       "\n",
       "    .dataframe tbody tr th {\n",
       "        vertical-align: top;\n",
       "    }\n",
       "\n",
       "    .dataframe thead th {\n",
       "        text-align: right;\n",
       "    }\n",
       "</style>\n",
       "<table border=\"1\" class=\"dataframe\">\n",
       "  <thead>\n",
       "    <tr style=\"text-align: right;\">\n",
       "      <th></th>\n",
       "      <th>id</th>\n",
       "      <th>url</th>\n",
       "      <th>name</th>\n",
       "      <th>season</th>\n",
       "      <th>number</th>\n",
       "      <th>type</th>\n",
       "      <th>airdate</th>\n",
       "      <th>airtime</th>\n",
       "      <th>airstamp</th>\n",
       "      <th>runtime</th>\n",
       "      <th>image</th>\n",
       "      <th>summary</th>\n",
       "      <th>_links</th>\n",
       "    </tr>\n",
       "  </thead>\n",
       "  <tbody>\n",
       "    <tr>\n",
       "      <th>0</th>\n",
       "      <td>1260239</td>\n",
       "      <td>https://www.tvmaze.com/episodes/1260239/typica...</td>\n",
       "      <td>Headshot - Uncensored</td>\n",
       "      <td>1</td>\n",
       "      <td>1</td>\n",
       "      <td>regular</td>\n",
       "      <td>2016-11-14</td>\n",
       "      <td></td>\n",
       "      <td>2016-11-14T17:00:00+00:00</td>\n",
       "      <td>43</td>\n",
       "      <td>{'medium': 'https://static.tvmaze.com/uploads/...</td>\n",
       "      <td>&lt;p&gt;Aspiring actor Gary finally moves to Los An...</td>\n",
       "      <td>{'self': {'href': 'https://api.tvmaze.com/epis...</td>\n",
       "    </tr>\n",
       "    <tr>\n",
       "      <th>1</th>\n",
       "      <td>1260240</td>\n",
       "      <td>https://www.tvmaze.com/episodes/1260240/typica...</td>\n",
       "      <td>Up in the Club - Uncensored</td>\n",
       "      <td>1</td>\n",
       "      <td>2</td>\n",
       "      <td>regular</td>\n",
       "      <td>2016-11-14</td>\n",
       "      <td></td>\n",
       "      <td>2016-11-14T17:00:00+00:00</td>\n",
       "      <td>43</td>\n",
       "      <td>{'medium': 'https://static.tvmaze.com/uploads/...</td>\n",
       "      <td>&lt;p&gt;Rick and Gary turn a wild night on the town...</td>\n",
       "      <td>{'self': {'href': 'https://api.tvmaze.com/epis...</td>\n",
       "    </tr>\n",
       "    <tr>\n",
       "      <th>2</th>\n",
       "      <td>1260241</td>\n",
       "      <td>https://www.tvmaze.com/episodes/1260241/typica...</td>\n",
       "      <td>The Antisocial Network - Uncensored</td>\n",
       "      <td>1</td>\n",
       "      <td>3</td>\n",
       "      <td>regular</td>\n",
       "      <td>2016-11-14</td>\n",
       "      <td></td>\n",
       "      <td>2016-11-14T17:00:00+00:00</td>\n",
       "      <td>43</td>\n",
       "      <td>{'medium': 'https://static.tvmaze.com/uploads/...</td>\n",
       "      <td>&lt;p&gt;Gary agrees to let Rick take over his Insta...</td>\n",
       "      <td>{'self': {'href': 'https://api.tvmaze.com/epis...</td>\n",
       "    </tr>\n",
       "    <tr>\n",
       "      <th>3</th>\n",
       "      <td>1260242</td>\n",
       "      <td>https://www.tvmaze.com/episodes/1260242/typica...</td>\n",
       "      <td>Sit Down Stand Up - Uncensored</td>\n",
       "      <td>1</td>\n",
       "      <td>4</td>\n",
       "      <td>regular</td>\n",
       "      <td>2016-11-14</td>\n",
       "      <td></td>\n",
       "      <td>2016-11-14T17:00:00+00:00</td>\n",
       "      <td>43</td>\n",
       "      <td>{'medium': 'https://static.tvmaze.com/uploads/...</td>\n",
       "      <td>&lt;p&gt;Gary tries his hand at stand-up comedy in o...</td>\n",
       "      <td>{'self': {'href': 'https://api.tvmaze.com/epis...</td>\n",
       "    </tr>\n",
       "    <tr>\n",
       "      <th>4</th>\n",
       "      <td>1260243</td>\n",
       "      <td>https://www.tvmaze.com/episodes/1260243/typica...</td>\n",
       "      <td>Schmooze You Lose - Uncensored</td>\n",
       "      <td>1</td>\n",
       "      <td>5</td>\n",
       "      <td>regular</td>\n",
       "      <td>2016-11-14</td>\n",
       "      <td></td>\n",
       "      <td>2016-11-14T17:00:00+00:00</td>\n",
       "      <td>43</td>\n",
       "      <td>{'medium': 'https://static.tvmaze.com/uploads/...</td>\n",
       "      <td>&lt;p&gt;Things take an ugly turn when Gary and Rick...</td>\n",
       "      <td>{'self': {'href': 'https://api.tvmaze.com/epis...</td>\n",
       "    </tr>\n",
       "  </tbody>\n",
       "</table>\n",
       "</div>"
      ],
      "text/plain": [
       "        id                                                url  \\\n",
       "0  1260239  https://www.tvmaze.com/episodes/1260239/typica...   \n",
       "1  1260240  https://www.tvmaze.com/episodes/1260240/typica...   \n",
       "2  1260241  https://www.tvmaze.com/episodes/1260241/typica...   \n",
       "3  1260242  https://www.tvmaze.com/episodes/1260242/typica...   \n",
       "4  1260243  https://www.tvmaze.com/episodes/1260243/typica...   \n",
       "\n",
       "                                  name  season  number     type     airdate  \\\n",
       "0                Headshot - Uncensored       1       1  regular  2016-11-14   \n",
       "1          Up in the Club - Uncensored       1       2  regular  2016-11-14   \n",
       "2  The Antisocial Network - Uncensored       1       3  regular  2016-11-14   \n",
       "3       Sit Down Stand Up - Uncensored       1       4  regular  2016-11-14   \n",
       "4       Schmooze You Lose - Uncensored       1       5  regular  2016-11-14   \n",
       "\n",
       "  airtime                   airstamp  runtime  \\\n",
       "0          2016-11-14T17:00:00+00:00       43   \n",
       "1          2016-11-14T17:00:00+00:00       43   \n",
       "2          2016-11-14T17:00:00+00:00       43   \n",
       "3          2016-11-14T17:00:00+00:00       43   \n",
       "4          2016-11-14T17:00:00+00:00       43   \n",
       "\n",
       "                                               image  \\\n",
       "0  {'medium': 'https://static.tvmaze.com/uploads/...   \n",
       "1  {'medium': 'https://static.tvmaze.com/uploads/...   \n",
       "2  {'medium': 'https://static.tvmaze.com/uploads/...   \n",
       "3  {'medium': 'https://static.tvmaze.com/uploads/...   \n",
       "4  {'medium': 'https://static.tvmaze.com/uploads/...   \n",
       "\n",
       "                                             summary  \\\n",
       "0  <p>Aspiring actor Gary finally moves to Los An...   \n",
       "1  <p>Rick and Gary turn a wild night on the town...   \n",
       "2  <p>Gary agrees to let Rick take over his Insta...   \n",
       "3  <p>Gary tries his hand at stand-up comedy in o...   \n",
       "4  <p>Things take an ugly turn when Gary and Rick...   \n",
       "\n",
       "                                              _links  \n",
       "0  {'self': {'href': 'https://api.tvmaze.com/epis...  \n",
       "1  {'self': {'href': 'https://api.tvmaze.com/epis...  \n",
       "2  {'self': {'href': 'https://api.tvmaze.com/epis...  \n",
       "3  {'self': {'href': 'https://api.tvmaze.com/epis...  \n",
       "4  {'self': {'href': 'https://api.tvmaze.com/epis...  "
      ]
     },
     "execution_count": 35,
     "metadata": {},
     "output_type": "execute_result"
    }
   ],
   "source": [
    "# Code to get the data\n",
    "\n",
    "requestUrl = getRequestUrl()\n",
    "results = getApiData(requestUrl)\n",
    "\n",
    "df = pd.DataFrame(results)\n",
    "df.head()"
   ]
  },
  {
   "cell_type": "code",
   "execution_count": null,
   "metadata": {},
   "outputs": [],
   "source": []
  },
  {
   "cell_type": "code",
   "execution_count": null,
   "metadata": {},
   "outputs": [],
   "source": []
  }
 ],
 "metadata": {
  "kernelspec": {
   "display_name": "Python 3.10.9 64-bit (microsoft store)",
   "language": "python",
   "name": "python3"
  },
  "language_info": {
   "codemirror_mode": {
    "name": "ipython",
    "version": 3
   },
   "file_extension": ".py",
   "mimetype": "text/x-python",
   "name": "python",
   "nbconvert_exporter": "python",
   "pygments_lexer": "ipython3",
   "version": "3.10.9"
  },
  "vscode": {
   "interpreter": {
    "hash": "9fcc6fa51be0ad111bbc12f6c1c3e54930c34b0f1ae03fb7b761eacf59634953"
   }
  }
 },
 "nbformat": 4,
 "nbformat_minor": 4
}
