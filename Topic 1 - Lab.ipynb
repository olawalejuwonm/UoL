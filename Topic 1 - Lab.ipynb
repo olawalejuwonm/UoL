{
 "cells": [
  {
   "cell_type": "code",
   "execution_count": 2,
   "metadata": {},
   "outputs": [
    {
     "data": {
      "text/plain": [
       "4"
      ]
     },
     "execution_count": 2,
     "metadata": {},
     "output_type": "execute_result"
    }
   ],
   "source": [
    "#Write a piece of code that can compute the highest of two values\n",
    "def max_of_two( x, y ):\n",
    "    if x > y:\n",
    "        return x\n",
    "    return y\n",
    "max_of_two( 3, 4 )"
   ]
  },
  {
   "cell_type": "markdown",
   "metadata": {},
   "source": [
    "First you should try to import a module in Python. \n",
    "https://docs.python.org/3/tutorial/modules.html\n",
    "Make sure you run your code cell once you have written the code. Generally it is good practice to import all modules before you start coding so that you don't run into dependency problems. Don't forget to install your dependencies \n",
    "via pip!"
   ]
  },
  {
   "cell_type": "code",
   "execution_count": null,
   "metadata": {},
   "outputs": [],
   "source": [
    "# you can remove the '#' here to uncomment the code and run a code cell with your import statements.\n",
    "# Can you import the pandas module?"
   ]
  },
  {
   "cell_type": "code",
   "execution_count": null,
   "metadata": {},
   "outputs": [],
   "source": [
    "# We do not have to jump out to a terminal instance to do this. A little shortcut is as follows.\n",
    "import sys\n",
    "!{sys.executable} -m pip install numpy"
   ]
  },
  {
   "cell_type": "markdown",
   "metadata": {},
   "source": [
    "Your next job is to try to write a program! Here's the brief.\n",
    "\n",
    "Write a program that calculates the size of the world's population at the start of 2022.\n",
    "\n",
    "The population at the start of 2018 was 7.6 billion. The growth rate at the time was 1.09% per year.  \n",
    "\n",
    "Assume a fixed population growth rate over the time period.\n",
    "Put the starting population and growth rate into variables.\n",
    "Carry out some mathematical operations to compute the population at the start of 2022.\n",
    "Print out the result.\n",
    "Challenge exercise: can you convert your code into a function that takes as its inputs the population growth rate, the population in 2018 and the year we would like to know the population in. e.g.:\n",
    "\n",
    "def get_population(growth_rate, pop_in_2018, target_year)\n",
    "\n",
    "It should return the population in target_year."
   ]
  },
  {
   "cell_type": "markdown",
   "metadata": {},
   "source": [
    "Which variable type would be good to store a numeric value in Python? One of the basic numeric types should be \n",
    "fine for this exercise. \n",
    "\n",
    "Numeric Types — int, float, complex\n",
    "https://docs.python.org/3/library/stdtypes.html"
   ]
  },
  {
   "cell_type": "code",
   "execution_count": 1,
   "metadata": {},
   "outputs": [
    {
     "name": "stdout",
     "output_type": "stream",
     "text": [
      "7766582955.999999\n"
     ]
    }
   ],
   "source": [
    "# Hint: Complex might be too complex. Can we have a fraction of a person?\n",
    "# We need to have separate variables for both population and growth rate. These will (probably) be different types.\n",
    "# The population at the start of 2018 was 7.6 billion. The growth rate at the time was 1.09% per year.  \n",
    "def get_population(growth_rate, population, target_year):\n",
    "    #difference between target year and 2018\n",
    "    difference_in_years = target_year - 2018\n",
    "    #calculate the population in the target year\n",
    "    population_in_target_year = population * (1 + growth_rate)**difference_in_years\n",
    "    #return the population in the target year\n",
    "    return population_in_target_year\n",
    "\n",
    "print(get_population(0.0109, 7.6e9, 2020))"
   ]
  },
  {
   "cell_type": "code",
   "execution_count": null,
   "metadata": {},
   "outputs": [],
   "source": [
    "# To do some prediction we need to combine these things. We need to subtract the starting year from the current year\n",
    "# and then increase the population according to rate\n",
    "\n",
    "# If you are a bit stuck you can look at Python operators to see some examples\n",
    "# https://www.w3schools.com/python/python_operators.asp\n"
   ]
  },
  {
   "cell_type": "markdown",
   "metadata": {},
   "source": [
    "Now that we have our prediction it's time to do the clever bit. We might want to reuse this prediction under different circumstances. Your job is to find a way to make a reusable object in Python that is capable of taking any input for the parameters defined. The documentation on this is fairly dense\n",
    "\n",
    "https://docs.python.org/3/tutorial/controlflow.html\n",
    "\n",
    "So you might want to use a simpler guide e.g.\n",
    "https://www.w3schools.com/python/python_functions.asp"
   ]
  },
  {
   "cell_type": "code",
   "execution_count": null,
   "metadata": {},
   "outputs": [],
   "source": [
    "# My predictive function goes here\n",
    "\n",
    "# Advanced exercise: if you are already a Python pro and fancy a challenge, perhaps you could use a predictive\n",
    "# model to compute this? A linear regression model might be a good place to start. Perhaps you could share your \n",
    "# model with us on the forums and give us a sense of how accurate it was?"
   ]
  }
 ],
 "metadata": {
  "kernelspec": {
   "display_name": "Python 3.10.4 64-bit",
   "language": "python",
   "name": "python3"
  },
  "language_info": {
   "codemirror_mode": {
    "name": "ipython",
    "version": 3
   },
   "file_extension": ".py",
   "mimetype": "text/x-python",
   "name": "python",
   "nbconvert_exporter": "python",
   "pygments_lexer": "ipython3",
   "version": "3.10.4"
  },
  "vscode": {
   "interpreter": {
    "hash": "7f2633a0dd9fad194999ffc17b7b93627efd4bccf6144e14bc5fef7dfd0c6355"
   }
  }
 },
 "nbformat": 4,
 "nbformat_minor": 4
}
