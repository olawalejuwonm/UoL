{
 "cells": [
  {
   "attachments": {},
   "cell_type": "markdown",
   "metadata": {},
   "source": [
    "# Exploratory Anaylysis of Google Play Store Applications"
   ]
  },
  {
   "attachments": {},
   "cell_type": "markdown",
   "metadata": {},
   "source": [
    "## Contents\n",
    "1. [Introduction](#1)\n",
    "2. [Data Overview](#htwo)\n",
    "3. [Data Cleaning](#3)\n",
    "4. [Exploratory Data Analysis](#4)\n",
    "5. [Predictive Modelling](#5)\n",
    "6. [Conclusion](#6)\n",
    "7. [References](#7)"
   ]
  },
  {
   "attachments": {},
   "cell_type": "markdown",
   "metadata": {},
   "source": [
    "<h2 id=\"1\"> 1. Introduction </h2> \n",
    "\n",
    "### 1.1 Background\n",
    "There are quite a number of numerous applications on mobile phone store apps such as apple store, amazon store, google play store etc. These applications have a wide range of characteristics viz classification of apps and games, some paid and most free, all in different categories (Family, Education, Communication etc.)\n",
    "As a mobile application developer, I am motivated to explore know how these characteristics/the features of applications listed relates together for a successful deployment of the application in the market.\n",
    "\n",
    "### 1.2 Aims\n",
    "With the diverse nature of these applications, the reserach <b>aims</b> at exploring:\n",
    "\n",
    "1. What are the characteristics of the most & least popular applications and most & least rated applications?\n",
    "2. How does the size of an application affect its user adoption (installation)?\n",
    "3. How's no. of installs related to the price of an application?\n",
    "4. How's no. of installs affected by it's rating?\n",
    "5. To determine the most popular categories of apps in the Google Play Store.\n",
    "6. To identify trends in the types of apps that are being developed and released on the Android market (popularity).\n",
    "7. To study the pricing strategies of apps in the Google Play Store and how they affect app success.\n",
    "8. To identify opportunities for new app development based on gaps in the current app market.\n",
    "\n",
    "### 1.3 Objectives\n",
    "At the end of this exploratory analysis, the objective is to:\n",
    "\n",
    "1. Identifying the most popular app categories\n",
    "2. Identify the key features that drive app downloads and user engagement\n",
    "3. Inform the development of new apps or the optimization of existing ones to better meet the needs and preferences of Android users\n",
    "4. Provide insights that will help developers to understand what type of apps are likely to attract more users on Google Play.\n",
    "5. Be able to draw useful facts and inisight from the data.\n",
    "\n",
    "\n",
    "### 1.4 Data Source & Pipeline\n",
    "The data set used for this analysis is taken from kaggle which can be found <a href=\"https://www.kaggle.com/lava18/google-play-store-apps\">here</a>. It was initially scraped from the Google Play Store according to the author:\n",
    "\n",
    "<blockquote cite=\"https://www.kaggle.com/lava18/google-play-store-apps\">\n",
    "While there are a large number of public datasets that provide data from the Apple App Store (such as those found on Kaggle and other similar websites), there are not nearly as many public datasets that provide data from the Google Play Store. After doing some additional research, It was discovered that the page for the iTunes App Store used a beautifully indexed appendix-like structure, which makes it possible for simple and easy web scraping. (Lavanya Gupta, 2018)\n",
    "</blockquote> \n",
    "\n",
    " The dataset contains 10841 apps for analysis with the following 13 features: App, Category, Rating, Reviews, Size, Installs, Type, Price, Content Rating, Genres, Last Updated, Current Ver, Android Ver.\n",
    "\n",
    "TODO: Include i scraped the latest data\n",
    "This dataset (in csv) was choosen because it contains the basic properties,characteristics and details needed to describe an application. The dataset contains 10841 rows and 13 columns.\n",
    "The rows are the applications and the column are the feature of the application for analysis with the following 13 features: App, Category, Rating, Reviews, Size, Installs, Type, Price, Content Rating, Genres, Last Updated, Current Ver, Android Ver.\n",
    "\n",
    "Nevertheless, this dataset does not include recently released applications and the data was scraped in August 2018. This is because the data was scraped from the Google Play Store and the Google Play Store does not provide an API to download the data directly.\n",
    "The data was scraped on August 2018. The dataset was licensed to be used open and free under the Creative Commons CC0 1.0 Universal (CC0 1.0) Public Domain Dedication.\n",
    "\n",
    "Facts and findings from this analysis is credited to Lavanya Gupta and Google Play Store because the app information would not have been available without the efforts of these two entities.\n",
    "\n",
    "All outcome are only meant for understanding the android application market and not for any other purpose\n",
    "and the accuracy of any findings can't exceed the accuracy of the data used for the analysis.\n",
    "\n",
    "The dataset is loaded into the notebook from the base directory of the project and resulting dataset after cleaning is saved in the same base directory of the project. It's distributed amidst the available application category.\n",
    "\n",
    "The data was firstly cleaned by removing the duplicates and null values. The data was then analysed using the pandas library in python. The data was then visualized using the matplotlib and seaborn libraries in python.\n",
    "After then, deduction were made from the analysis and visualizations.\n",
    "At the end of the analysis, the following conclusions were made based on the aims and objectives of this research.\n"
   ]
  },
  {
   "attachments": {},
   "cell_type": "markdown",
   "metadata": {},
   "source": [
    "\n",
    "## findings\n",
    "<pre>\n",
    "App people install vs app people rate\n",
    "All free app should have price as 0\n",
    "Talk about plots and graphs\n",
    "Perform statistical analysis and data exploration\n",
    "Reusable code spine\n",
    "Conclusion\n",
    "\n",
    "</pre>"
   ]
  },
  {
   "cell_type": "markdown",
   "metadata": {},
   "source": [
    "Impoting Libraries"
   ]
  },
  {
   "cell_type": "code",
   "execution_count": null,
   "metadata": {},
   "outputs": [],
   "source": [
    "# import libraries\n",
    "import seaborn as sns\n",
    "import statistics as stat\n",
    "import numpy as np\n",
    "import pandas as pd\n",
    "import matplotlib.pyplot as plt\n",
    "import warnings\n",
    "import re\n",
    "warnings.filterwarnings('ignore') # to ignore warnings in the notebook that are not important\n"
   ]
  },
  {
   "attachments": {},
   "cell_type": "markdown",
   "metadata": {},
   "source": [
    "<h2 id=\"2\"> Data Overview </h2>"
   ]
  },
  {
   "cell_type": "code",
   "execution_count": null,
   "metadata": {},
   "outputs": [],
   "source": [
    "data = pd.read_csv('googleplaystore.csv')  # read the data\n",
    "data.sample(10)  # this will show 10 random rows from the data\n"
   ]
  },
  {
   "cell_type": "code",
   "execution_count": null,
   "metadata": {},
   "outputs": [],
   "source": [
    "data.shape  # to see the shape of the data i.e. no. of rows and columns\n"
   ]
  },
  {
   "cell_type": "code",
   "execution_count": null,
   "metadata": {},
   "outputs": [],
   "source": [
    "data.info()  # see the information of the data and the data types of the columns\n"
   ]
  },
  {
   "cell_type": "code",
   "execution_count": null,
   "metadata": {},
   "outputs": [],
   "source": [
    "# see the description of the data, the include='O' is used to see the description of the object type columns\n",
    "data.describe(include='O')\n"
   ]
  },
  {
   "cell_type": "code",
   "execution_count": null,
   "metadata": {},
   "outputs": [],
   "source": [
    "data.describe()  # to see the description of other data types not object type (Rating)\n"
   ]
  },
  {
   "cell_type": "code",
   "execution_count": null,
   "metadata": {},
   "outputs": [],
   "source": [
    "# This list total number of applications in each category\n",
    "data['Category'].value_counts()"
   ]
  },
  {
   "attachments": {},
   "cell_type": "markdown",
   "metadata": {},
   "source": [
    "### Observations after overview"
   ]
  },
  {
   "attachments": {},
   "cell_type": "markdown",
   "metadata": {},
   "source": [
    "The datatype of all the features (including price and reviews) are objects except for rating which is float. This is because the price and reviews features contain commas and dollar signs. Removing the commas and dollar signs will be appropriate so as to convert the datatype of the features.\n",
    "Some features with missing values are rating, reviews, size, current ver and android ver, with ratings being the highest.\n",
    "There are 10841 rows (Apps) with 13 columns (features)\n",
    "The name of the apps are expected to be unique but there are $10841 - 9659 = 1182$ \n",
    "apps. All App is expected to be unique throughout, but no, it isn't. 9659 out of 10841 are unique. Others have exactly the same name. Is it possible to have two apps with exactly the same name? I don't think so, but it seems play store uses only app id to identify apps and likewise there is a possibility of having duplicate app info recorded in the data.\n",
    "I also observed many irregular data entries, Some current version have non float data type as integers.\n",
    "Based on the dataset most category of application falls into the family category, most of the application are installed 1,000,000+ times, most of the application are of free type i.e most of the application are price 0, most of the application are content rating everyone, most of the application are genres family, most of the application are last updated 2018-08-03, most of the application are current ver 1.0 and most of the application are android ver 4.1 and up.\n",
    "\n",
    "This observation from the data overview has really helped me to understand the data better and also to know what to expect from the data and it has quickly answered some analytic questions. It has also helped me to know what to do next in the data cleaning process.\n"
   ]
  },
  {
   "attachments": {},
   "cell_type": "markdown",
   "metadata": {},
   "source": [
    "<h2 id=\"3\"> Data Cleaning </h2>\n",
    "\n",
    "To easily know data that should be dropped or replaced, visualization will be needed to see the distribution of the data.\n",
    "\n",
    "The code fragments below are reusable and useful for the purpose of visualization and cleaning of the data."
   ]
  },
  {
   "cell_type": "code",
   "execution_count": null,
   "metadata": {},
   "outputs": [],
   "source": [
    "# this plot will show the distribution of the rating\n",
    "def plot_dist(data, col):\n",
    "    fig, ax = plt.subplots(figsize=(8, 6))  # to set the size of the plot\n",
    "    sns.heatmap(data.isnull(), cbar=False, ax=ax)  # to plot the heatmap\n",
    "    ax.set_yticks([])  # to remove the yticks\n",
    "    ax.tick_params(bottom='')  # to remove the bottom ticks\n",
    "\n",
    "\n",
    "def remove_spines_on_plot(ax, spines):  # to remove the spines on the plot\n",
    "    for spine in spines:\n",
    "        ax.spines[spine].set_visible(False)\n",
    "\n",
    "\n",
    "def fill_with_mode(cols):\n",
    "    for col in cols:  # loop through the columns\n",
    "        mode = stat.mode(data[col])  # get the mode of the column\n",
    "        data[col].fillna(mode)  # fill the null values with the mode\n",
    "    return data\n",
    "\n",
    "\n",
    "def fill_with_mean(cols):\n",
    "    for col in cols:  # loop through the columns\n",
    "        # get the mean of the column excluding the null values\n",
    "        mean = data[col].mean(skipna=True)\n",
    "        # print(mean)\n",
    "        # fill the null values with the mean\n",
    "        data[col] = data[col].fillna(mean)\n",
    "    return data\n"
   ]
  },
  {
   "attachments": {},
   "cell_type": "markdown",
   "metadata": {},
   "source": [
    "### Handling Mising values"
   ]
  },
  {
   "cell_type": "code",
   "execution_count": null,
   "metadata": {},
   "outputs": [],
   "source": [
    "plot_dist(data, 'Rating')"
   ]
  },
  {
   "cell_type": "code",
   "execution_count": null,
   "metadata": {},
   "outputs": [],
   "source": [
    "data.isnull().sum()  # to see the null values in the data"
   ]
  },
  {
   "attachments": {},
   "cell_type": "markdown",
   "metadata": {},
   "source": [
    "All object dtypes with missing values will be <b>replaced</b> with the most occuring entry in their column (mode),\n",
    "because there is high probability that those values are the most occuring values in their column.\n",
    "Rating, a float dtype will be <b>replaced</b> with the mean of Rating column for the gerne each missing value belong to. The mean is used because it is less sensitive to outliers than other measures of central tendency such as the median.\n",
    "\n",
    "Replacing this missing values will make the data more coherent and consistent. It will also make the data more reliable and accurate.\n"
   ]
  },
  {
   "cell_type": "code",
   "execution_count": null,
   "metadata": {},
   "outputs": [],
   "source": [
    "# list of the columns with object data type and having missing values\n",
    "missing_obj_dype_cols = [\n",
    "    'Type', 'Content Rating', 'Current Ver', 'Android Ver'\n",
    "]\n",
    "\n",
    "# call the function to fill the missing values\n",
    "fill_with_mode(missing_obj_dype_cols)\n",
    "# check the null values\n"
   ]
  },
  {
   "cell_type": "code",
   "execution_count": null,
   "metadata": {},
   "outputs": [],
   "source": [
    "# get the round of average rating per genre\n",
    "avg_per_gerne = round(data.groupby('Genres').mean(), 1)\n",
    "# get the dictionary of the average rating per genre for filling the missing values\n",
    "fill_to = avg_per_gerne.to_dict()['Rating']\n",
    "# this will set the index of the data to the genre so that we can fill the missing values with the average rating per genre\n",
    "data.Rating.index = data.Genres.values\n",
    "# fill the missing values with the average rating per genre\n",
    "data['Rating'] = pd.Series(data['Rating'].fillna(fill_to).values)\n"
   ]
  },
  {
   "cell_type": "code",
   "execution_count": null,
   "metadata": {},
   "outputs": [],
   "source": [
    "data.isnull().sum()"
   ]
  },
  {
   "attachments": {},
   "cell_type": "markdown",
   "metadata": {},
   "source": [
    "What's with these redundant five nans (missing values)?!\n",
    "Let's have a look .\n"
   ]
  },
  {
   "cell_type": "code",
   "execution_count": null,
   "metadata": {},
   "outputs": [],
   "source": [
    "redundant = data[data.Rating.isnull()] # shows all the rows with null values in the rating column \n",
    "redundant"
   ]
  },
  {
   "cell_type": "markdown",
   "metadata": {},
   "source": [
    "Their genres belong to either 'Art & Design;Action & Adventure', 'Trivia;Education', 'Books & Reference;Creativity' or 'Role\n",
    "Playing;Education'.\n",
    "> Let's check for the values these keys belong to in the 'fill_to' dictionary.\n"
   ]
  },
  {
   "cell_type": "code",
   "execution_count": null,
   "metadata": {},
   "outputs": [],
   "source": [
    "fill_to.values() # show the values of the dictionary\n"
   ]
  },
  {
   "cell_type": "code",
   "execution_count": null,
   "metadata": {},
   "outputs": [],
   "source": [
    "fill_to['Trivia;Education'] # get the value of the key 'Trivia;Education'"
   ]
  },
  {
   "attachments": {},
   "cell_type": "markdown",
   "metadata": {},
   "source": [
    "The average value of these Genres was nan all along. <br>\n",
    "These missing values were replaced with a missing value! Hence, the missing value turned redundant. <br>\n",
    "There's nothing left to do than to drop these, or fill them with the overall mean.\n"
   ]
  },
  {
   "cell_type": "code",
   "execution_count": null,
   "metadata": {},
   "outputs": [],
   "source": [
    "# fill the missing values with the mean of the rating column\n",
    "fill_with_mean(['Rating'])\n",
    "# data['Rating'] = data['Rating'].fillna(data['Rating'].mean())\n"
   ]
  },
  {
   "cell_type": "code",
   "execution_count": null,
   "metadata": {},
   "outputs": [],
   "source": [
    "plot_dist(data,'Rating') # plot the heatmap to see the missing values"
   ]
  },
  {
   "cell_type": "code",
   "execution_count": null,
   "metadata": {},
   "outputs": [],
   "source": [
    "data.isnull().sum() # check the null values, we can see that there are no null values in the rating column"
   ]
  },
  {
   "attachments": {},
   "cell_type": "markdown",
   "metadata": {},
   "source": [
    "<pre>I noticed that some of the rating are out of bound. Google play rating is usually on a scale of 1 to 5.\n",
    "See below.\n",
    "</pre>\n"
   ]
  },
  {
   "cell_type": "code",
   "execution_count": null,
   "metadata": {},
   "outputs": [],
   "source": [
    "# get maximum value of the rating column\n",
    "data['Rating'].max()\n"
   ]
  },
  {
   "cell_type": "code",
   "execution_count": null,
   "metadata": {},
   "outputs": [],
   "source": [
    "# get minimum value of the rating column\n",
    "data['Rating'].min()"
   ]
  },
  {
   "attachments": {},
   "cell_type": "markdown",
   "metadata": {},
   "source": [
    "The maximum looks odd. Let's have a look at the distribution of the ratings."
   ]
  },
  {
   "cell_type": "code",
   "execution_count": null,
   "metadata": {},
   "outputs": [],
   "source": [
    "# Distribution of the rating column\n",
    "sns.distplot(data['Rating'], bins=10, kde=False)\n"
   ]
  },
  {
   "attachments": {},
   "cell_type": "markdown",
   "metadata": {},
   "source": [
    "With the distribution of the ratings, it is clear that the maximum rating is 5.0. The maximum rating of 19.0 is an outlier. It will be replaced with the mean of the ratings for the genre it belongs to."
   ]
  },
  {
   "cell_type": "code",
   "execution_count": null,
   "metadata": {},
   "outputs": [],
   "source": [
    "# Replace the values of the rating column with the mean of the rating column\n",
    "data['Rating'] = data['Rating'].replace(19.0, data['Rating'].mean())\n",
    "data['Rating'].max()  # check the maximum value of the rating column"
   ]
  },
  {
   "attachments": {},
   "cell_type": "markdown",
   "metadata": {},
   "source": [
    "### Cleaning Inconsistent Data Entries.\n",
    "The dtypes of come columns would also be changed here.\n"
   ]
  },
  {
   "cell_type": "code",
   "execution_count": null,
   "metadata": {},
   "outputs": [],
   "source": [
    "data.sample(10)  # view 10 random rows from the data\n"
   ]
  },
  {
   "attachments": {},
   "cell_type": "markdown",
   "metadata": {},
   "source": [
    "#### Reviewing each column for any irregularities\n",
    "App : Seems normal. Anyone could name their app anything.\n",
    "Category : I'd love to remove these 'harmless' underscores. Besides, there could be meaningless or repeated categories. We'd check\n",
    "for this too.\n",
    "Rating : Perfectly filled!\n",
    "Reviews : Hmmm, I'm unsure it's perfect. We'd try converting them to integers to be sure. Having a ValueError means the column needs cleaning.\n",
    "Size : Nicely filled. I should still check to be sure.\n",
    "Installs : Normal. I should still check to be sure.\n",
    "Type : Normal too. I should still check to be sure.\n",
    "Price : I will remove the dollar sign, change its dtype to float and rename it.\n",
    "Content Rating : I found something strange here. See below:\n"
   ]
  },
  {
   "cell_type": "code",
   "execution_count": null,
   "metadata": {},
   "outputs": [],
   "source": [
    "data.iloc[141:142] # view the row with index 141"
   ]
  },
  {
   "attachments": {},
   "cell_type": "markdown",
   "metadata": {},
   "source": [
    "'Everyone 10+' <br>\n",
    "Downloading the game is restricted to those 10 or above. Why then, should Everyone be included? For all occurences similar to this, we'd remove Everyone from there. We'd also check other values to be sure. <br>\n",
    "Genre : Seems normal. I will still check to be sure. <br>\n",
    "Last Updated : This would be converted to datetime. <br>\n",
    "Current Ver : Looks nice. We'd still check to be sure. <br>\n",
    "Android Ver : Very perfect, but we'd still check to be sure. <br>\n"
   ]
  },
  {
   "cell_type": "code",
   "execution_count": null,
   "metadata": {},
   "outputs": [],
   "source": [
    "data['Category']= data['Category'].str.replace('_','  ') # replace the _ with space"
   ]
  },
  {
   "cell_type": "code",
   "execution_count": null,
   "metadata": {},
   "outputs": [],
   "source": [
    "data['Category'].unique() # get the unique values of the category column"
   ]
  },
  {
   "cell_type": "markdown",
   "metadata": {},
   "source": [
    "The last element in the output above seems off. <br>\n",
    "Let's peep at the whole data of rows with their category being '1.9'."
   ]
  },
  {
   "cell_type": "code",
   "execution_count": null,
   "metadata": {},
   "outputs": [],
   "source": [
    "data[data['Category']=='1.9'] # get the row with category 1.9"
   ]
  },
  {
   "attachments": {},
   "cell_type": "markdown",
   "metadata": {},
   "source": [
    "I observed that: <br>\n",
    "__1. Its category is numerical.__ <br>\n",
    "__2. Its rating is above 5.__ <br>\n",
    "__3. Last Updated is a datetype, but its has a perplexing entry itself.__ <br>\n",
    "__4. Its gerne is 'February 11, 2018' - an odd value.__ <br>\n",
    "__5. Its type is odd as well.__ <br>\n",
    "__6. While most of the entries in Reviews are integers, this one chose to be 3.0M.__\n",
    "\n"
   ]
  },
  {
   "attachments": {},
   "cell_type": "markdown",
   "metadata": {},
   "source": [
    "As a result of the irregularities, the row will be dropped. <br>"
   ]
  },
  {
   "cell_type": "code",
   "execution_count": null,
   "metadata": {},
   "outputs": [],
   "source": [
    "data = data.drop(10472) # drop the row with index 10472"
   ]
  },
  {
   "cell_type": "code",
   "execution_count": null,
   "metadata": {},
   "outputs": [],
   "source": [
    "#Reviews\n",
    "\n",
    "data['Reviews'] = data['Reviews'].astype('int') # convert the reviews column to int type"
   ]
  },
  {
   "cell_type": "code",
   "execution_count": null,
   "metadata": {},
   "outputs": [],
   "source": [
    "#Size\n",
    "\n",
    "data['Size'].unique() # get the unique values of the size column"
   ]
  },
  {
   "cell_type": "markdown",
   "metadata": {},
   "source": [
    "As expected, everything seems alright.\n"
   ]
  },
  {
   "cell_type": "code",
   "execution_count": null,
   "metadata": {},
   "outputs": [],
   "source": [
    "#Installs\n",
    "\n",
    "data['Installs'].unique()   # get the unique values of the installs column"
   ]
  },
  {
   "cell_type": "markdown",
   "metadata": {},
   "source": [
    "As expected, everything seems alright."
   ]
  },
  {
   "cell_type": "code",
   "execution_count": null,
   "metadata": {},
   "outputs": [],
   "source": [
    "# Type\n",
    "data['Type'].unique()  # get the unique values of the type column\n"
   ]
  },
  {
   "cell_type": "markdown",
   "metadata": {},
   "source": [
    "Nice."
   ]
  },
  {
   "cell_type": "code",
   "execution_count": null,
   "metadata": {},
   "outputs": [],
   "source": [
    "# Price\n",
    "# this will remove the $ sign from the price column\n",
    "data['Price'] = data['Price'].str.replace('$', '')\n",
    "# this will convert the price column to float type\n",
    "data['Price'] = data['Price'].astype('float')\n"
   ]
  },
  {
   "cell_type": "markdown",
   "metadata": {},
   "source": [
    "Nice"
   ]
  },
  {
   "cell_type": "code",
   "execution_count": null,
   "metadata": {},
   "outputs": [],
   "source": [
    "# get the unique values of the content rating column\n",
    "data['Content Rating'].unique()\n"
   ]
  },
  {
   "attachments": {},
   "cell_type": "markdown",
   "metadata": {},
   "source": [
    "Everyones 10+ are absurd for content rating."
   ]
  },
  {
   "cell_type": "code",
   "execution_count": null,
   "metadata": {},
   "outputs": [],
   "source": [
    "# Content Rating\n",
    "# this will get the rows with the absurd content rating i.e. Everyone with a space\n",
    "absurd = data[data['Content Rating'].str.contains('Everyone ')]\n",
    "absurd\n"
   ]
  },
  {
   "cell_type": "code",
   "execution_count": null,
   "metadata": {},
   "outputs": [],
   "source": [
    "absurd['Content Rating'].unique() # get the unique values of the absurd content rating"
   ]
  },
  {
   "attachments": {},
   "cell_type": "markdown",
   "metadata": {},
   "source": [
    "With this observation <br>\n",
    "More than 400 rows are 'absurd'"
   ]
  },
  {
   "cell_type": "code",
   "execution_count": null,
   "metadata": {},
   "outputs": [],
   "source": [
    "data['Content Rating'] = data['Content Rating'].str.replace(\n",
    "    'Everyone 10', '10')  # replace the absurd content rating with 10\n",
    "\n",
    "# get the value counts of the content rating column\n",
    "data['Content Rating'].value_counts()\n"
   ]
  },
  {
   "attachments": {},
   "cell_type": "markdown",
   "metadata": {},
   "source": [
    "'Unrated' should also fall under 'Everyone'. <br>\n"
   ]
  },
  {
   "cell_type": "code",
   "execution_count": null,
   "metadata": {},
   "outputs": [],
   "source": [
    "data['Content Rating'] = data['Content Rating'].str.replace(\n",
    "    'Unrated', 'Everyone')  # replace the absurd content rating with Everyone\n",
    "\n",
    "# get the value counts of the content rating column\n",
    "data['Content Rating'].value_counts()\n"
   ]
  },
  {
   "cell_type": "code",
   "execution_count": null,
   "metadata": {},
   "outputs": [],
   "source": [
    "# Genres\n",
    "data['Genres'].unique() # get the unique values of the genres column"
   ]
  },
  {
   "attachments": {},
   "cell_type": "markdown",
   "metadata": {},
   "source": [
    "It Seems so dirty. <br>\n"
   ]
  },
  {
   "cell_type": "code",
   "execution_count": null,
   "metadata": {},
   "outputs": [],
   "source": [
    "data['Content Rating'] = data['Content Rating'].str.replace(\n",
    "    'Unrated', 'Everyone')  # this will replace the unrated with everyone\n",
    "# get the value counts of the content rating column\n",
    "data['Content Rating'].value_counts()\n"
   ]
  },
  {
   "cell_type": "code",
   "execution_count": null,
   "metadata": {},
   "outputs": [],
   "source": [
    "data['Genres'].value_counts()[:20] # this will show the top 20 genres"
   ]
  },
  {
   "cell_type": "markdown",
   "metadata": {},
   "source": [
    "Of 117 unique values, the first 20 seem ideal"
   ]
  },
  {
   "cell_type": "code",
   "execution_count": null,
   "metadata": {},
   "outputs": [],
   "source": [
    "data['Genres'].value_counts()[20:40]  # this will show the next 20 genres\n"
   ]
  },
  {
   "cell_type": "code",
   "execution_count": null,
   "metadata": {},
   "outputs": [],
   "source": [
    "data['Genres'].value_counts()[40:60] # this will show the next 20 genres"
   ]
  },
  {
   "cell_type": "markdown",
   "metadata": {},
   "source": [
    "Up till music, everything seems perfect. 'Puzzle;Brain Games' should not be a separate gerne, but should be merged with 'Puzzle'. The same goes for the rest, downwards."
   ]
  },
  {
   "cell_type": "code",
   "execution_count": null,
   "metadata": {},
   "outputs": [],
   "source": [
    "data['Genres'].value_counts()[60:] # this will show the rest of the genres"
   ]
  },
  {
   "cell_type": "code",
   "execution_count": null,
   "metadata": {},
   "outputs": [],
   "source": [
    "# this will remove the sub genres using regular expression\n",
    "data['Genres'] = data['Genres'].str.replace(r';[a-z &]*', '', flags=re.I)\n"
   ]
  },
  {
   "cell_type": "code",
   "execution_count": null,
   "metadata": {},
   "outputs": [],
   "source": [
    "data['Genres'].value_counts() # shoe the value counts of the genres column"
   ]
  },
  {
   "cell_type": "markdown",
   "metadata": {},
   "source": [
    "Educational should be merged with Education  <br>\n",
    "Music & Audio should be merged with Music.\n"
   ]
  },
  {
   "cell_type": "code",
   "execution_count": null,
   "metadata": {},
   "outputs": [],
   "source": [
    "data['Genres'] = data['Genres'].str.replace('Educational', 'Education').str.replace(\n",
    "    'Music & Audio', 'Music')  # replace the genres with the same meaning\n",
    "\n",
    "data['Genres'].unique() # get the unique values of the genres column\n"
   ]
  },
  {
   "attachments": {},
   "cell_type": "markdown",
   "metadata": {},
   "source": [
    "This is nice and clean. <br>"
   ]
  },
  {
   "cell_type": "code",
   "execution_count": null,
   "metadata": {},
   "outputs": [],
   "source": [
    "# Last Updated\n",
    "\n",
    "# this will convert the last updated column to datetime type\n",
    "data['Last Updated'] = pd.to_datetime(data['Last Updated'])\n"
   ]
  },
  {
   "attachments": {},
   "cell_type": "markdown",
   "metadata": {},
   "source": [
    "There is an inconsistent data entry here. I will deal with that after this.\n"
   ]
  },
  {
   "cell_type": "code",
   "execution_count": null,
   "metadata": {},
   "outputs": [],
   "source": [
    "# Current Ver\n",
    "\n",
    "# this will show the unique values of the android version column\n",
    "data['Android Ver'].unique()\n"
   ]
  },
  {
   "cell_type": "code",
   "execution_count": null,
   "metadata": {},
   "outputs": [],
   "source": [
    "# this will remove the W from the android version column\n",
    "data['Android Ver'] = data['Android Ver'].str.replace('W', '')\n"
   ]
  },
  {
   "cell_type": "code",
   "execution_count": null,
   "metadata": {},
   "outputs": [],
   "source": [
    "# get the unique values of the android version column\n",
    "data['Android Ver'].unique()\n"
   ]
  },
  {
   "attachments": {},
   "cell_type": "markdown",
   "metadata": {},
   "source": [
    "__Review Aftermath__"
   ]
  },
  {
   "attachments": {},
   "cell_type": "markdown",
   "metadata": {},
   "source": [
    "Removing outliers, if any    <br>\n",
    "Outliers can only be seen in number."
   ]
  },
  {
   "cell_type": "code",
   "execution_count": null,
   "metadata": {},
   "outputs": [],
   "source": [
    "# loop through the int and float columns\n",
    "for i in data.select_dtypes(['int', 'float']):\n",
    "    sns.violinplot(y=data[i], color='brown')  # plot the violin plot\n",
    "    plt.grid()  # show the grid\n",
    "    plt.show()  # show the plot\n"
   ]
  },
  {
   "cell_type": "markdown",
   "metadata": {},
   "source": [
    "They all seems to be without 'outliers' since they are all within resonable ranges.\n"
   ]
  },
  {
   "attachments": {},
   "cell_type": "markdown",
   "metadata": {},
   "source": [
    "\n",
    "App is expected to be unique throughout, but it isn't. I deal with that here."
   ]
  },
  {
   "cell_type": "code",
   "execution_count": null,
   "metadata": {},
   "outputs": [],
   "source": [
    "# Before dropping\n",
    "Apps = data['App'].value_counts()  # get the value counts of the app column\n",
    "Apps[Apps > 1]  # show the apps that have more than one entry\n"
   ]
  },
  {
   "attachments": {},
   "cell_type": "markdown",
   "metadata": {},
   "source": [
    "There are almost 800 apps repeated.  <br>\n",
    "Let's check a few of them.\n"
   ]
  },
  {
   "cell_type": "code",
   "execution_count": null,
   "metadata": {},
   "outputs": [],
   "source": [
    "data[data['App'] == 'ROBLOX'] # show the rows with the app ROBLOX"
   ]
  },
  {
   "cell_type": "markdown",
   "metadata": {},
   "source": [
    "This is definitely a duplicate!"
   ]
  },
  {
   "cell_type": "code",
   "execution_count": null,
   "metadata": {},
   "outputs": [],
   "source": [
    "data[data.App == 'ESPN']  # show the rows with the app ESPN\n"
   ]
  },
  {
   "cell_type": "code",
   "execution_count": null,
   "metadata": {},
   "outputs": [],
   "source": [
    "# show the rows with the app Clover Dating App\n",
    "data[data.App == 'Clover Dating App']\n"
   ]
  },
  {
   "attachments": {},
   "cell_type": "markdown",
   "metadata": {},
   "source": [
    "<pre>It would not be too much if an assumption to say that there are many apps were duplicated \n",
    "when gathering the data. This will be problematic and it'll make the analysis inaccurate.\n",
    "I'd, therefore, be dropping duplicates.</pre>\n"
   ]
  },
  {
   "cell_type": "code",
   "execution_count": null,
   "metadata": {},
   "outputs": [],
   "source": [
    "# Before dropping\n",
    "data.shape # get the shape of the data\n"
   ]
  },
  {
   "cell_type": "code",
   "execution_count": null,
   "metadata": {},
   "outputs": [],
   "source": [
    "duplicate = data[data.App.duplicated()]  # get the duplicate rows\n",
    "duplicate\n"
   ]
  },
  {
   "cell_type": "code",
   "execution_count": null,
   "metadata": {},
   "outputs": [],
   "source": [
    "data = data.drop(duplicate.index) # drop the duplicate rows"
   ]
  },
  {
   "cell_type": "code",
   "execution_count": null,
   "metadata": {},
   "outputs": [],
   "source": [
    "# After dropping\n",
    "data.shape  # get the shape of the data\n"
   ]
  },
  {
   "cell_type": "code",
   "execution_count": null,
   "metadata": {},
   "outputs": [],
   "source": [
    "# After dropping\n",
    "Apps = data['App'].value_counts()  # get the value counts of the app column\n",
    "Apps[Apps > 1]  # show the apps that have more than one entry\n"
   ]
  },
  {
   "cell_type": "markdown",
   "metadata": {},
   "source": [
    "__Data Cleaned.__  <br>\n",
    "I'd go ahead and save the cleaned version of it.\n"
   ]
  },
  {
   "cell_type": "code",
   "execution_count": null,
   "metadata": {},
   "outputs": [],
   "source": [
    "# save the cleaned data to a csv file\n",
    "data.to_csv('Cleaned Google Playstore App Dataset.csv')\n"
   ]
  },
  {
   "attachments": {},
   "cell_type": "markdown",
   "metadata": {},
   "source": [
    "<h2 id=\"4\"> Exploratory Data Analysis. </h2>\n"
   ]
  },
  {
   "cell_type": "markdown",
   "metadata": {},
   "source": [
    "Google Play Store has a whole lot of category. I'm curious to know which category most of the apps there fall to.\n"
   ]
  },
  {
   "cell_type": "code",
   "execution_count": null,
   "metadata": {},
   "outputs": [],
   "source": [
    "# sets the size of the plot as 12 by 15\n",
    "fig, ax = plt.subplots(figsize=(12, 15))\n",
    "plot = sns.countplot(y=data['Category'], ax=ax,\n",
    "                     color='grey')  # plots the countplot\n",
    "for i in plot.patches:  # this will loop through the patches\n",
    "    # this will annotate the countplot and add the count on the plot\n",
    "    plot.annotate(i.get_width(), (i.get_width()+30, i.get_y()+0.6))\n",
    "    # this will highlight the maximum value\n",
    "    if i.get_width() == data['Category'].value_counts().max():\n",
    "        i.set_color('brown')\n",
    "    # this will highlight the minimum value\n",
    "    if i.get_width() == data['Category'].value_counts().min():\n",
    "        i.set_color('brown')\n",
    "remove_spines_on_plot(ax, ['left', 'right', 'top'])  # this will remove the spines on the plot\n",
    "# this will remove the ticks on the plot\n",
    "ax.tick_params(bottom=False, left=\"\", labelsize='large')\n",
    "plt.title('A Barplot Showing the Number of Apps Made in Each Category.\\n\\n',\n",
    "          fontsize=20, color='grey')  # this will set the title of the plot\n"
   ]
  },
  {
   "cell_type": "markdown",
   "metadata": {},
   "source": [
    "Family! <br>\n",
    "Most of the Google Play Store Apps are of the Family category, while the least is Comics."
   ]
  },
  {
   "cell_type": "markdown",
   "metadata": {},
   "source": [
    "Of the Family Category, which genre (sub-category) is the most famous?"
   ]
  },
  {
   "cell_type": "code",
   "execution_count": null,
   "metadata": {},
   "outputs": [],
   "source": [
    "# sets the size of the plot as 12 by 15\n",
    "fig, ax = plt.subplots(figsize=(12, 15))\n",
    "# this will get the genres of the family category\n",
    "Family_genre = data['Genres'][data['Category'] == 'FAMILY']\n",
    "plott = Family_genre.value_counts()[:10].plot.bar(  # plots the barplot\n",
    "    color=['brown', 'brown', 'grey', 'grey', 'grey', 'grey', 'grey', 'grey', 'grey', 'grey'])\n",
    "\n",
    "for i in plott.patches:  # this will loop through the patches\n",
    "    # this will annotate the barplot and add the count on the plot\n",
    "    plott.annotate(i.get_height(), (i.get_x()+0.1, i.get_height()+4))\n",
    "# this will remove the spines on the plot\n",
    "remove_spines_on_plot(ax, ['left', 'top', 'right'])\n",
    "# this will remove the ticks on the plot\n",
    "ax.tick_params(bottom=False, left=False, labelsize='large')\n"
   ]
  },
  {
   "attachments": {},
   "cell_type": "markdown",
   "metadata": {},
   "source": [
    "\"Around the world in 2018, a larger fraction of developers are developing apps in the Family Category to majorly educate or <br>\n",
    "entertain them.\" - The data just revealed this! "
   ]
  },
  {
   "cell_type": "markdown",
   "metadata": {},
   "source": [
    "Do they sell most of their apps or place them for free?"
   ]
  },
  {
   "cell_type": "code",
   "execution_count": null,
   "metadata": {},
   "outputs": [],
   "source": [
    "fig, ax = plt.subplots(figsize=(10, 7))  # sets the size of the plot as 10 by 7\n",
    "# this will get the type of the family category\n",
    "Family_Type = data['Type'][data['Category'] == 'FAMILY']\n",
    "plottt = Family_Type.value_counts().plot.bar(color='brown', width=.18)\n",
    "for i in plottt.patches:\n",
    "    # this will annotate the plot and add the percentage on the plot\n",
    "    plottt.annotate('{}%'.format(\n",
    "        round(i.get_height()/len(Family_Type)*100)), (i.get_x()+0.03, i.get_height()+3))\n",
    "remove_spines_on_plot(ax, ['top', 'right'])  # this will remove the spines on the plot\n",
    "plt.ylabel('Counts\\n\\n')\n",
    "plt.yticks([0, 400, 800, 1200, 1600])\n",
    "ax.tick_params(bottom=False, left=False, labelsize='larger')\n",
    "plt.title('A Barplot Showing the Proportion of the Type of Apps Made in the FAMILY Category.\\n\\n',\n",
    "          fontsize=20, color='grey')\n"
   ]
  },
  {
   "cell_type": "markdown",
   "metadata": {},
   "source": [
    "A whole lot of the apps made under this 'popular' category are free! Infact, most apps from our data are free to download.\n"
   ]
  },
  {
   "cell_type": "markdown",
   "metadata": {},
   "source": [
    "Do they get a high rating for their apps, compared to other categories?"
   ]
  },
  {
   "cell_type": "code",
   "execution_count": null,
   "metadata": {},
   "outputs": [],
   "source": [
    "Family_Rating = data['Rating'].groupby(\n",
    "    data['Category']).mean().sort_values(ascending=False)  # get the mean rating of each category\n",
    "Family_Rating\n"
   ]
  },
  {
   "cell_type": "code",
   "execution_count": null,
   "metadata": {},
   "outputs": [],
   "source": [
    "fig, ax = plt.subplots(figsize=(12, 7))  # sets the size of the plot as 12 by 7\n",
    "# this plots the lineplot and sets the color to grey for the first 16 values\n",
    "ax.plot(Family_Rating[:16], color='grey',)\n",
    "# this plots the lineplot and sets the color to brown for the last 3 values\n",
    "ax.plot(Family_Rating[15:18], color='brown', alpha=1, marker=2, ls=':')\n",
    "# this plots the lineplot and sets the color to grey for the last 3 values\n",
    "ax.plot(Family_Rating[17:], color='grey')\n",
    "# this plots the barplot and sets the color to grey\n",
    "plot = Family_Rating.plot.bar(color='grey')\n",
    "for i in plot.patches:\n",
    "    if i.get_height() == Family_Rating[16]:\n",
    "        i.set_color('brown')\n",
    "\n",
    "for i in ['top', 'right', 'left', 'bottom']:\n",
    "    ax.spines[i].set_visible(False)\n",
    "ax.tick_params(left=False, labelsize='large')\n",
    "plt.xticks(['EVENTS', 'FAMILY', 'DATING'], rotation=0)\n",
    "plt.xlabel('\\n\\nCategory')\n",
    "plt.ylabel('Ratings\\n\\n')\n",
    "plt.title('A Barplot Showing the Average Rating Rank of Each Category.\\n\\n',\n",
    "          fontsize=20, color='grey')\n",
    "plt.yticks([4.1, 4.3, 4.5])\n"
   ]
  },
  {
   "cell_type": "markdown",
   "metadata": {},
   "source": [
    "Though the FAMILY Category has the highest number of apps, it has no important Rating rank among other categories. <br>\n",
    "EVENTS and DATING have the highest and lowest ranks, respectively.\n"
   ]
  },
  {
   "cell_type": "markdown",
   "metadata": {},
   "source": [
    "__Still on the FAMILY Category:__ <br>\n",
    "What is the minimum number of Installs they get? What's the maximum? What's the avarage, with respect to the other categories?"
   ]
  },
  {
   "cell_type": "code",
   "execution_count": null,
   "metadata": {},
   "outputs": [],
   "source": [
    "# this will get the minimum number of installs in each category\n",
    "data['Installs'].groupby(data['Category']).min().sort_values(ascending=False)\n"
   ]
  },
  {
   "attachments": {},
   "cell_type": "markdown",
   "metadata": {},
   "source": [
    "The FAMILY Category ranks the lowest in both Series. Its maximum Installs value is so low!\n"
   ]
  },
  {
   "attachments": {},
   "cell_type": "markdown",
   "metadata": {},
   "source": [
    "Which apps in the Google Play Store are famous? Apps with the highest installs would reveal this. \n"
   ]
  },
  {
   "cell_type": "markdown",
   "metadata": {},
   "source": [
    "Under which category do most of them fall?\n"
   ]
  },
  {
   "cell_type": "code",
   "execution_count": null,
   "metadata": {},
   "outputs": [],
   "source": [
    "# get the apps with the maximum number of installs\n",
    "famous_apps = data[data.Installs == data.Installs.max()]\n",
    "famous_apps\n"
   ]
  },
  {
   "cell_type": "markdown",
   "metadata": {},
   "source": [
    "__As expected, they are all free to download, and most of them do not limit any age group from downloading them.__"
   ]
  },
  {
   "cell_type": "code",
   "execution_count": null,
   "metadata": {},
   "outputs": [],
   "source": [
    "fig, ax = plt.subplots(figsize=(10, 8))  # sets the size of the plot as 10 by 8\n",
    "plot = sns.countplot(famous_apps['Category'],\n",
    "                     color='grey')  # plots the countplot\n",
    "for i in plot.patches:  # this will loop through the patches\n",
    "    i.set_width(0.4)  # this will set the width of the patches\n",
    "    # this will highlight the maximum value\n",
    "    if i.get_height() == famous_apps['Category'].value_counts().max():\n",
    "        # this will set the color of the maximum value to brown\n",
    "        i.set_color('brown')\n",
    "# this will remove the spines on the plot\n",
    "remove_spines_on_plot(ax, ['left', 'top', 'right'])\n",
    "# this will remove the ticks on the plot\n",
    "ax.tick_params(bottom=False, left=False)\n",
    "plt.xticks(rotation=40)  # this will rotate the xticks by 40 degrees\n",
    "plt.ylabel('')  # this will remove the ylabel\n",
    "plt.title('A Barplot Showing the Number of Apps With Over 500 Million Installs Per Category.\\n\\n',\n",
    "          fontsize=15, color='grey', loc='left')  # this will set the title of the plot\n"
   ]
  },
  {
   "cell_type": "markdown",
   "metadata": {},
   "source": [
    "A whole lot of people have downloaded more apps in the COMMUNICATION and TOOLS Categories, than any other Category. <br>\n",
    "W'd look deeper into the apps under these 'famous' Categories. "
   ]
  },
  {
   "cell_type": "code",
   "execution_count": null,
   "metadata": {},
   "outputs": [],
   "source": [
    "\n",
    "famous_apps[(famous_apps['Category'] == 'COMMUNICATION') |\n",
    "            (famous_apps['Category'] == 'TOOLS')]['App'].values\n",
    "# this will get the apps with the maximum number of installs in the communication category\n"
   ]
  },
  {
   "cell_type": "markdown",
   "metadata": {},
   "source": [
    "__These are popular apps indeed.__"
   ]
  },
  {
   "cell_type": "markdown",
   "metadata": {},
   "source": [
    "Which app(s) in the Google Play Store are the least famous?"
   ]
  },
  {
   "cell_type": "code",
   "execution_count": null,
   "metadata": {},
   "outputs": [],
   "source": [
    "# get the apps with the minimum number of installs\n",
    "infamous_apps = data[data.Installs == data.Installs.min()]\n",
    "infamous_apps\n"
   ]
  },
  {
   "cell_type": "markdown",
   "metadata": {},
   "source": [
    "Though it is free to download, it still has no downloads.\n"
   ]
  },
  {
   "cell_type": "markdown",
   "metadata": {},
   "source": [
    "__About how many years does this data span about? When is the latest date?__"
   ]
  },
  {
   "cell_type": "code",
   "execution_count": null,
   "metadata": {},
   "outputs": [],
   "source": [
    "# get the minimum and maximum date\n",
    "data['Last Updated'].min(), data['Last Updated'].max()\n"
   ]
  },
  {
   "cell_type": "markdown",
   "metadata": {},
   "source": [
    "__Last Updated spans for about eight years, from the 21st of May 2010, to the 8th of August, 2018.__\n"
   ]
  },
  {
   "cell_type": "markdown",
   "metadata": {},
   "source": [
    "__No app was updated beyond this range.__  <br>\n",
    "The highest number of updates took place in what year?"
   ]
  },
  {
   "cell_type": "code",
   "execution_count": null,
   "metadata": {},
   "outputs": [],
   "source": [
    "# sets the size of the plot as 15 by 10\n",
    "fig, ax = plt.subplots(figsize=(15, 10))\n",
    "# this plots the kdeplot and sets the color to brown\n",
    "data['Last Updated'].dt.year.plot(kind='kde', color='brown')\n",
    "remove_spines_on_plot(ax, ['left', 'top', 'right'])  # this will remove the spines on the plot\n",
    "# this will remove the ticks on the plot\n",
    "ax.tick_params(bottom=False, left=False, labelleft='')\n",
    "plt.ylabel('')  # this will remove the ylabel\n",
    "plt.xlabel('\\n\\nYears')  # this will set the xlabel\n",
    "plt.grid(axis='x')  # this will add a grid to the plot\n",
    "plt.title('Distribution of Apps Over Last Updated Years.\\n\\n\\n',\n",
    "          loc='left', color='grey', fontsize=17)  # this will set the title of the plot\n"
   ]
  },
  {
   "attachments": {},
   "cell_type": "markdown",
   "metadata": {},
   "source": [
    "Which month does updates occur more frequently? Least freqently?\n",
    "The answer to the latter question would be deduced from years having complete months (Years excluding 2010 and 2018).\n"
   ]
  },
  {
   "attachments": {},
   "cell_type": "markdown",
   "metadata": {},
   "source": [
    "If my app has a high number of reviews, will it be highly rated?\n"
   ]
  },
  {
   "cell_type": "code",
   "execution_count": null,
   "metadata": {},
   "outputs": [],
   "source": [
    "fig, ax = plt.subplots(figsize=(15, 7)) # sets the size of the plot as 15 by 7\n",
    "plot = sns.lineplot(x=data['Rating'], y=data['Reviews'], color='brown', ax=ax) # plots the lineplot\n",
    "remove_spines_on_plot(ax, ['top', 'right']) # this will remove the spines on the plot\n",
    "ax.tick_params(bottom=False, left=False, labelsize='large') # this will remove the ticks on the plot\n",
    "plt.title('Total Reviews Made For Each App Vs. App Ratings.\\n\\n',\n",
    "          loc='left', color='grey', fontsize=17)\n"
   ]
  },
  {
   "cell_type": "code",
   "execution_count": null,
   "metadata": {},
   "outputs": [],
   "source": [
    "# this will get the index of the apps with ratings greater than 5\n",
    "np.where(data['Rating'] > 5.0)\n"
   ]
  },
  {
   "attachments": {},
   "cell_type": "markdown",
   "metadata": {},
   "source": [
    "Yes, a highly rated app has a lot of people passing down their reviews.\n",
    "The higher the Rating , the higher the Reviews .\n",
    "Between free and paid apps, which one of them has a higher chance of being highly rated?\n"
   ]
  },
  {
   "attachments": {},
   "cell_type": "markdown",
   "metadata": {},
   "source": [
    "Between free and paid apps, which one of them has a higher chance of being highly rated?\n"
   ]
  },
  {
   "cell_type": "code",
   "execution_count": null,
   "metadata": {},
   "outputs": [],
   "source": [
    "fig, ax = plt.subplots(figsize=(15, 7))  # sets the size of the plot as 15 by 7\n",
    "sns.stripplot(y='Rating', x='Type', color='brown',\n",
    "              marker='.', data=data)  # plots the stripplot\n",
    "remove_spines_on_plot(ax, ['right', 'top', 'bottom'])  \n",
    "# this will remove the ticks on the plot\n",
    "ax.tick_params(bottom=False, left=False, labelsize='large')\n",
    "plt.xlabel('')  # this will remove the xlabel\n",
    "plt.title('A Stripplot Showing How Ratings Vary With App Type\\n\\n',\n",
    "          loc='left', color='grey', fontsize=20) # this will set the title of the plot\n"
   ]
  },
  {
   "attachments": {},
   "cell_type": "markdown",
   "metadata": {},
   "source": [
    "Content Rating - What is the proportion of each group?"
   ]
  },
  {
   "cell_type": "code",
   "execution_count": null,
   "metadata": {},
   "outputs": [],
   "source": [
    "fig, ax = plt.subplots(figsize=(10, 7))  # sets the size of the plot as 10 by 7\n",
    "plot = sns.countplot(y=data['Content Rating'],\n",
    "                     color='brown')  # plots the countplot\n",
    "for i in plot.patches:  # this will loop through the patches\n",
    "    # this will get the percentage of each category\n",
    "    text = i.get_width()*100/data.shape[0]\n",
    "    # this will annotate the plot\n",
    "    plot.annotate('{:.2f}%'.format(text), (i.get_width()+70, i.get_y()+0.4))\n",
    "remove_spines_on_plot(ax, ['right', 'top', 'bottom'])\n",
    "ax.tick_params(bottom=False, left=False, labelsize='large',\n",
    "               labelbottom='')  # this will remove the ticks on the plot\n",
    "plt.xlabel('')  # this will remove the xlabel\n",
    "plt.title('A Barplot Showing the Count of the Various Content Rating Groups.\\n\\n',\n",
    "          loc='left', color='grey', fontsize=17)  # this will set the title of the plot\n"
   ]
  },
  {
   "attachments": {},
   "cell_type": "markdown",
   "metadata": {},
   "source": [
    "Most apps have no age group restriction. Anyone can download them.\n",
    "However, a few apps are solely for adults. A closer peep, please."
   ]
  },
  {
   "cell_type": "code",
   "execution_count": null,
   "metadata": {},
   "outputs": [],
   "source": [
    "# this will get the apps with the adult content rating\n",
    "data[data['Content Rating'] == 'Adults only 18+']\n"
   ]
  },
  {
   "attachments": {},
   "cell_type": "markdown",
   "metadata": {},
   "source": [
    "These apps have an average high rating, are free to download, and are of two Genres - Comics and Sports.\n"
   ]
  },
  {
   "attachments": {},
   "cell_type": "markdown",
   "metadata": {},
   "source": [
    "For apps with the following:\n",
    "1. maximum rating\n",
    "2. minimum rating <br>\n",
    "Most of them fall under which Category ? <br>\n",
    "Most of them are of which Type ?"
   ]
  },
  {
   "cell_type": "code",
   "execution_count": null,
   "metadata": {},
   "outputs": [],
   "source": [
    "# this will get the apps with the minimum rating\n",
    "minimum = data[data.Rating == data.Rating.min()]\n",
    "# this will get the apps with the maximum rating\n",
    "maximum = data[data.Rating == data.Rating.max()]\n"
   ]
  },
  {
   "cell_type": "code",
   "execution_count": null,
   "metadata": {},
   "outputs": [],
   "source": [
    "# this will get the number of apps with the maximum rating per category\n",
    "maximum.Category.value_counts()\n"
   ]
  },
  {
   "cell_type": "code",
   "execution_count": null,
   "metadata": {},
   "outputs": [],
   "source": [
    "# this will get the number of apps with the minimum rating per category\n",
    "minimum.Category.value_counts()\n"
   ]
  },
  {
   "attachments": {},
   "cell_type": "markdown",
   "metadata": {},
   "source": [
    "<b>The highest rated apps, as well as the least rated apps are found mainly in the FAMILY Category and are definitely free to\n",
    "download.</b>\n"
   ]
  },
  {
   "attachments": {},
   "cell_type": "markdown",
   "metadata": {},
   "source": [
    "Considering Size\n"
   ]
  },
  {
   "cell_type": "code",
   "execution_count": null,
   "metadata": {},
   "outputs": [],
   "source": [
    "data.Size.value_counts().head()  # this will get the top 5 sizes of apps\n"
   ]
  },
  {
   "attachments": {},
   "cell_type": "markdown",
   "metadata": {},
   "source": [
    "Most of the sizes recorded are not definite. Hence, we cannot really work with this column as we ought to.\n",
    "I'd create a temporal custom dataframe with rows having \"Varies with device\" as Size filtered out"
   ]
  },
  {
   "cell_type": "code",
   "execution_count": null,
   "metadata": {},
   "outputs": [],
   "source": [
    "# this will get the apps with a fixed size\n",
    "dataframe = data[data.Size != 'Varies with device']\n",
    "dataframe.Size.value_counts().head()  # this will get the top 5 sizes of apps\n"
   ]
  },
  {
   "attachments": {},
   "cell_type": "markdown",
   "metadata": {},
   "source": [
    "<pre>This can now be work with.\n",
    "The target is to make Size column an integer type. \n",
    "This column should have megabyte as its unit.\n",
    "First, 'M' (symbolizing megabyte) will be removed.\n",
    "Second, those ending with 'k' (symbolizing kilobyte) will have their integer part divided by 1024 (1024Kb makes 1Mb)\n",
    "Third, 'k' will be removed.\n",
    "Lastly, the column would be converted to a float type and renamed.\n",
    "Doing all these will make the column have only megabyte as its unit, so that correct analysis can be done.\n",
    "</pre>"
   ]
  },
  {
   "cell_type": "code",
   "execution_count": null,
   "metadata": {},
   "outputs": [],
   "source": [
    "# the lamda function converts the size of the app to megabytes\n",
    "dataframe.Size = dataframe.Size.str.replace('M', '').apply(lambda x: float(x[:-1])/1024 if x[-1] == 'k' else x).astype(\n",
    "    'float')  # this replaces the M with nothing and converts the size to megabytes\n",
    "# add a new column to the dataframe called Size in Mb\n",
    "dataframe['Size In Mb'] = dataframe.Size\n"
   ]
  },
  {
   "cell_type": "code",
   "execution_count": null,
   "metadata": {},
   "outputs": [],
   "source": [
    "# this will get the summary statistics of the size of the apps\n",
    "dataframe['Size In Mb'].describe()\n"
   ]
  },
  {
   "attachments": {},
   "cell_type": "markdown",
   "metadata": {},
   "source": [
    "Based on the dataset, the average size an app from Play Store has is about 20 Mb.\n"
   ]
  },
  {
   "attachments": {},
   "cell_type": "markdown",
   "metadata": {},
   "source": [
    "Does the Category an app belong to affect how sized the app is? Which category has the least app size? Which one has the highest?"
   ]
  },
  {
   "cell_type": "code",
   "execution_count": null,
   "metadata": {},
   "outputs": [],
   "source": [
    "# this sets the size of the plot as 10 by 12\n",
    "fig, ax = plt.subplots(figsize=(10, 12))\n",
    "sns.pointplot('Size In Mb', 'Category', data=dataframe, hue='Type', color='brown',\n",
    "              ci=None, markers=[8, '.'], ax=ax)  # this plots the pointplot\n",
    "# this adds the legend to the plot\n",
    "plt.legend(ncol=2, frameon=False, fontsize='x-large')\n",
    "remove_spines_on_plot(ax, ['right', 'top'])  # this will remove the spines on the plot\n",
    "# this removes the ticks on the plot\n",
    "ax.tick_params(bottom=False, left=False, labelsize='large')\n",
    "plt.xlabel('Size in Mb', color='grey', fontsize=17)  # this sets the xlabel\n",
    "plt.ylabel('Category', color='grey', fontsize=17)  # this sets the ylabel\n",
    "plt.xticks(np.arange(0, 56, 5))  # this sets the xticks\n",
    "plt.grid(color='purple', ls=':', alpha=.4)  # this adds a grid to the plot\n",
    "plt.title('How App Sizes Vary In Each Category and Each Type.\\n\\n',\n",
    "          loc='left', color='grey', fontsize=17)  # this sets the title of the plot\n"
   ]
  },
  {
   "attachments": {},
   "cell_type": "markdown",
   "metadata": {},
   "source": [
    "<pre>For Paid apps (brown colored line), two spikes are seen in the ENTERTAINMENT and TRADE AND LOCAL Categories with\n",
    "average sizes of about 53 Mb and 42 Mb respectively.\n",
    "Free apps' (most apps fall under this type, denoted by the black colored line), however has a lower spike and this is found in the\n",
    "GAME Category. It has an average size of about 43 Mb.\n",
    "Paid apps are usually larger in size. </pre>\n"
   ]
  },
  {
   "attachments": {},
   "cell_type": "markdown",
   "metadata": {},
   "source": [
    "<h2 id=\"5\"> Predictive Modelling </h2>\n"
   ]
  },
  {
   "attachments": {},
   "cell_type": "markdown",
   "metadata": {},
   "source": [
    "To choose a suitable model to train our data with, checking out for the correlation between these features is essential.\n"
   ]
  },
  {
   "cell_type": "code",
   "execution_count": null,
   "metadata": {},
   "outputs": [],
   "source": [
    "dataframe.corr()  # this will get the correlation between the numerical columns\n"
   ]
  },
  {
   "cell_type": "code",
   "execution_count": null,
   "metadata": {},
   "outputs": [],
   "source": [
    "# Importing libraries from scikit learn.\n",
    "from sklearn.tree import DecisionTreeClassifier, DecisionTreeRegressor\n",
    "from sklearn.preprocessing import LabelEncoder\n",
    "from sklearn.model_selection import train_test_split\n",
    "from sklearn.metrics import r2_score, accuracy_score\n"
   ]
  },
  {
   "cell_type": "code",
   "execution_count": null,
   "metadata": {},
   "outputs": [],
   "source": [
    "# this will drop the columns that are not needed\n",
    "X = dataframe.drop(['App', 'Last Updated', 'Current Ver'], axis=1)\n",
    "y = dataframe['Installs']  # this will set the target variable\n"
   ]
  },
  {
   "cell_type": "code",
   "execution_count": null,
   "metadata": {},
   "outputs": [],
   "source": [
    "Encoder = LabelEncoder()  # this will instantiate the label encoder\n",
    "for i in X.select_dtypes('O'):  # this will loop through the categorical columns\n",
    "    # this will encode the categorical columns\n",
    "    X[i] = Encoder.fit_transform(X[i])\n"
   ]
  },
  {
   "cell_type": "code",
   "execution_count": null,
   "metadata": {},
   "outputs": [],
   "source": [
    "# this will split the data into train and test sets\n",
    "X_train, X_test, y_train, y_test = train_test_split(\n",
    "    X, y, stratify=y, random_state=0)\n"
   ]
  },
  {
   "cell_type": "code",
   "execution_count": null,
   "metadata": {},
   "outputs": [],
   "source": [
    "# this will instantiate the decision tree classifier\n",
    "model = DecisionTreeClassifier()\n",
    "model.fit(X_train, y_train)  # this will fit the model to the training data\n"
   ]
  },
  {
   "cell_type": "code",
   "execution_count": null,
   "metadata": {},
   "outputs": [],
   "source": [
    "y_pred = model.predict(X_test)  # this will make predictions on the test data\n"
   ]
  },
  {
   "cell_type": "code",
   "execution_count": null,
   "metadata": {},
   "outputs": [],
   "source": [
    "accuracy_score(y_test, y_pred)  # this will get the accuracy score\n"
   ]
  },
  {
   "cell_type": "code",
   "execution_count": null,
   "metadata": {},
   "outputs": [],
   "source": [
    "# this will drop the columns that are not needed\n",
    "X = dataframe.drop(['App', 'Last Updated', 'Current Ver'], axis=1)\n",
    "y = dataframe['Rating']  # this will set the target variable\n"
   ]
  },
  {
   "cell_type": "code",
   "execution_count": null,
   "metadata": {},
   "outputs": [],
   "source": [
    "Encoder = LabelEncoder()  # this will instantiate the label encoder\n",
    "for i in X.select_dtypes('O'):  # this will loop through the categorical columns\n",
    "    # this will encode the categorical columns\n",
    "    X[i] = Encoder.fit_transform(X[i])\n"
   ]
  },
  {
   "cell_type": "code",
   "execution_count": null,
   "metadata": {},
   "outputs": [],
   "source": [
    "# this will split the data into train and test sets\n",
    "X_train, X_test, y_train, y_test = train_test_split(X, y, random_state=2)\n"
   ]
  },
  {
   "cell_type": "code",
   "execution_count": null,
   "metadata": {},
   "outputs": [],
   "source": [
    "# this will instantiate the decision tree regressor\n",
    "model = DecisionTreeRegressor(random_state=2)\n",
    "model.fit(X_train, y_train)  # this will fit the model to the training data\n"
   ]
  },
  {
   "cell_type": "code",
   "execution_count": null,
   "metadata": {},
   "outputs": [],
   "source": [
    "y_pred = model.predict(X_test)  # this will make predictions on the test data\n"
   ]
  },
  {
   "cell_type": "code",
   "execution_count": null,
   "metadata": {},
   "outputs": [],
   "source": [
    "r2_score(y_test, y_pred)  # this will get the r2 score\n"
   ]
  },
  {
   "attachments": {},
   "cell_type": "markdown",
   "metadata": {},
   "source": [
    "Great! It was 1.0. exactly. <br>"
   ]
  },
  {
   "attachments": {},
   "cell_type": "markdown",
   "metadata": {},
   "source": [
    "<h2 id=\"6\"> Conclusion </h2>"
   ]
  },
  {
   "attachments": {},
   "cell_type": "markdown",
   "metadata": {},
   "source": [
    "Based on the exploratory data analysis, I can conclude that:\n",
    "1. Most of the Google Play Store Apps are of the Family category, while the least is Comics.\n",
    "2. In 2018, a larger fraction of developers are developing apps in the Family Category to majorly educate or \n",
    "entertain them.\"\n",
    "3. A whole lot of the apps made under this 'popular' category are free! Infact, most apps from our data are free to download. These are popular apps indeed.\n",
    "4. A highly rated app has a lot of people passing down their reviews.\n",
    "5. The higher the Rating , the higher the Reviews .\n",
    "6. Most apps have no age group restriction. Anyone can download them.\n",
    "7. The highest rated apps, as well as the least rated apps are found mainly in the FAMILY Category and are definitely free to\n",
    "download.\n",
    "8. Paid apps are usually larger in size.\n"
   ]
  },
  {
   "attachments": {},
   "cell_type": "markdown",
   "metadata": {},
   "source": [
    "<h2 id=\"7\"> References </h2>"
   ]
  }
 ],
 "metadata": {
  "kernelspec": {
   "display_name": "Python 3.9.13 ('base')",
   "language": "python",
   "name": "python3"
  },
  "language_info": {
   "codemirror_mode": {
    "name": "ipython",
    "version": 3
   },
   "file_extension": ".py",
   "mimetype": "text/x-python",
   "name": "python",
   "nbconvert_exporter": "python",
   "pygments_lexer": "ipython3",
   "version": "3.9.13"
  },
  "vscode": {
   "interpreter": {
    "hash": "263930470851f494f0ed2879c35b57985588df20f9e529b86e97dd5eb9ddc466"
   }
  }
 },
 "nbformat": 4,
 "nbformat_minor": 4
}
