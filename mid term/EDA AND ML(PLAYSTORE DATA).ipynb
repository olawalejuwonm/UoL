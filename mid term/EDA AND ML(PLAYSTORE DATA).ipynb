{
 "cells": [
  {
   "attachments": {},
   "cell_type": "markdown",
   "metadata": {},
   "source": [
    "<h1>Anaylysis of Applications available in the Google Play Store for conducting research on the Android market</h1>"
   ]
  },
  {
   "attachments": {},
   "cell_type": "markdown",
   "metadata": {},
   "source": [
    "# Contents\n"
   ]
  },
  {
   "attachments": {},
   "cell_type": "markdown",
   "metadata": {},
   "source": [
    "<h2>1. Intorduction</h2>"
   ]
  },
  {
   "attachments": {},
   "cell_type": "markdown",
   "metadata": {},
   "source": [
    "There are quite a number of numerous applications on mobile phone store apps such as apple store, amazon store, google play store etc. These applications have a wide range of characteristics viz classification of apps and games, some paid and most free,\n",
    "some are for entertainment, some for education, some for business, some for health, some for social media, some for news, some for sports, some for travel, some for lifestyle, some for finance, some for photography, some for productivity, some for shopping, some for utilities, some for weather, some for books and reference, some for dating, some for maps and navigation, some for food and drink, some for auto and vehicles, some for events, some for art and design, some for beauty, some for comics, some for communication, some for education, some for entertainment, some for finance, some for food and drink, some for health and fitness, some for house and home, some for libraries and demo, some for lifestyle, some for media and video, some for medical, some for music and audio, some for news and magazines, some for parentin, some for personalization, some for photography, some for productivity, some for shopping, some for social, some for sports, some for tools, some for travel and local, some for weather, some for libraries and demo, some for lifestyle, some for media and video, some for medical, some for music and audio, some for news and magazines, some for parentin, some for personalization, some for photography, some for productivity, some for shopping, some for social, some for sports, some for tools, some for travel and local, some for weather, some for libraries and demo, some for lifestyle, some for media and video, some for medical, some for music and audio, some for news and magazines, some for parenting, some for personalization, some for photography, some for productivity, some for shopping, some for social, some for sports, some for tools, some for travel and local, some for weather, some for libraries and demo, some for lifestyle, some for media and video, some for medical, some for music and audio, some for news and magazines, some for parentin, some for personalization, some for photography, some for productivity, some for shopping, some for social, some for sports, some for tools, some for travel and local, some for weather, some for libraries and demo, some for lifestyle, some for media and video, some for medical, some for music and audio, some for news and magazines, some for parentin, some for personalization, some for photography, some for productivity, some for shopping.\n",
    "With the diverse nature of these applications, the reserach aims at exploring:\n",
    "\n",
    "1. What makes an application popular?\n",
    "2. What are the characteristics of the most popular applications?\n",
    "3. What are the characteristics of the least popular applications?\n",
    "4. What are the characteristics of the most rated applications?\n",
    "5. What are the characteristics of the least rated applications?\n",
    "6. What are the characteristics of the most reviewed applications?\n",
    "7. What are the characteristics of the least reviewed applications?\n",
    "8. What are the characteristics of the most installed applications?\n",
    "9. What are the characteristics of the least installed applications?\n",
    "10. How does the size of an application affect its user adoption (installation)?\n",
    "11. How does the price of an application affect its user adoption (installation)?\n",
    "12. How's no. of installs related to the price of an application?\n",
    "13. How's no. of installs affected by it's rating?\n",
    "14. To determine the most popular categories of apps in the Google Play Store.\n",
    "15. To identify trends in the types of apps that are being developed and released on the Android market.\n",
    "16. To investigate the success of apps in terms of downloads and user ratings.\n",
    "17. To compare the performance of apps developed by different companies or individual developers.\n",
    "18. To study the pricing strategies of apps in the Google Play Store and how they affect app success.\n",
    "19. To examine the impact of app updates on user engagement and retention.\n",
    "20. To analyze the use of in-app purchases and advertising within apps.\n",
    "21. To research the language and geographical distribution of apps in the Google Play Store.\n",
    "22. To investigate the presence and effectiveness of app optimization techniques such as keyword optimization and app localization.\n",
    "23. To identify opportunities for new app development based on gaps in the current app market.\n",
    "\n",
    "The objectives are to:\n",
    "\n",
    "1. Identifying the most popular app categories\n",
    "2. Identify the key features that drive app downloads and user engagement\n",
    "3. Inform the development of new apps or the optimization of existing ones to better meet the needs and preferences of Android users\n",
    "\n",
    "price, rating, reviews, size, installs, type, content rating, genres, category etc.\n",
    "\n",
    "The data set used for this analysis is taken from kaggle which can be found <a href=\"https://www.kaggle.com/lava18/google-play-store-apps\">here</a>. It was initially scraped from the Google Play Store according to the author:\n",
    "\n",
    "<blockquote cite=\"https://www.kaggle.com/lava18/google-play-store-apps\">\n",
    "While there are a large number of public datasets that provide data from the Apple App Store (such as those found on Kaggle and other similar websites), there are not nearly as many public datasets that provide data from the Google Play Store. After doing some additional research, It was discovered that the page for the iTunes App Store used a beautifully indexed appendix-like structure, which makes it possible for simple and easy web scraping. (Lavanya Gupta, 2018)\n",
    "</blockquote> \n",
    " The dataset contains 10841 apps for analysis with the following 13 features: App, Category, Rating, Reviews, Size, Installs, Type, Price, Content Rating, Genres, Last Updated, Current Ver, Android Ver.\n",
    "\n",
    " TODO: Include i scraped the latest data\n",
    " This dataset (in csv) was choosen because it contains the basic properties,characteristics and details needed to describe an application. The dataset contains 10841 rows and 13 columns. The rows are the applications and the column are the feature of the application for analysis with the following 13 features: App, Category, Rating, Reviews, Size, Installs, Type, Price, Content Rating, Genres, Last Updated, Current Ver, Android Ver.\n",
    "Nevertheless, this dataset does not include recently released applications and the data was scraped in August 2018. This is because the data was scraped from the Google Play Store and the Google Play Store does not provide an API to download the data directly. The data was scraped using the BeautifulSoup library in Python. The data was scraped from the following URL: https://play.google.com/store/apps?hl=en. The data was scraped on August  2018.\n",
    "\n",
    "\n"
   ]
  },
  {
   "attachments": {},
   "cell_type": "markdown",
   "metadata": {},
   "source": [
    "As a mobile application developer, I am motivated to explore know how these characteristics/the features of application listed above relates together for a successful deployment of the application\n",
    "\n",
    "\n"
   ]
  },
  {
   "attachments": {},
   "cell_type": "markdown",
   "metadata": {},
   "source": [
    "# Data Cleaning"
   ]
  },
  {
   "cell_type": "markdown",
   "metadata": {},
   "source": [
    "Impoting Libraries"
   ]
  },
  {
   "cell_type": "code",
   "execution_count": 1,
   "metadata": {},
   "outputs": [],
   "source": [
    "import numpy as np\n",
    "import pandas as pd\n",
    "import matplotlib.pyplot as plt\n",
    "import warnings,re\n",
    "warnings.filterwarnings('ignore')\n",
    "import statistics as stat\n",
    "import seaborn as sns"
   ]
  },
  {
   "cell_type": "markdown",
   "metadata": {},
   "source": [
    "# Data Overview"
   ]
  },
  {
   "cell_type": "code",
   "execution_count": 2,
   "metadata": {},
   "outputs": [
    {
     "data": {
      "text/html": [
       "<div>\n",
       "<style scoped>\n",
       "    .dataframe tbody tr th:only-of-type {\n",
       "        vertical-align: middle;\n",
       "    }\n",
       "\n",
       "    .dataframe tbody tr th {\n",
       "        vertical-align: top;\n",
       "    }\n",
       "\n",
       "    .dataframe thead th {\n",
       "        text-align: right;\n",
       "    }\n",
       "</style>\n",
       "<table border=\"1\" class=\"dataframe\">\n",
       "  <thead>\n",
       "    <tr style=\"text-align: right;\">\n",
       "      <th></th>\n",
       "      <th>App</th>\n",
       "      <th>Category</th>\n",
       "      <th>Rating</th>\n",
       "      <th>Reviews</th>\n",
       "      <th>Size</th>\n",
       "      <th>Installs</th>\n",
       "      <th>Type</th>\n",
       "      <th>Price</th>\n",
       "      <th>Content Rating</th>\n",
       "      <th>Genres</th>\n",
       "      <th>Last Updated</th>\n",
       "      <th>Current Ver</th>\n",
       "      <th>Android Ver</th>\n",
       "    </tr>\n",
       "  </thead>\n",
       "  <tbody>\n",
       "    <tr>\n",
       "      <th>9108</th>\n",
       "      <td>JNews DZ - Algerian Newspapers</td>\n",
       "      <td>NEWS_AND_MAGAZINES</td>\n",
       "      <td>4.0</td>\n",
       "      <td>146</td>\n",
       "      <td>3.0M</td>\n",
       "      <td>10,000+</td>\n",
       "      <td>Free</td>\n",
       "      <td>0</td>\n",
       "      <td>Everyone</td>\n",
       "      <td>News &amp; Magazines</td>\n",
       "      <td>July 16, 2016</td>\n",
       "      <td>2.4</td>\n",
       "      <td>2.3 and up</td>\n",
       "    </tr>\n",
       "    <tr>\n",
       "      <th>8648</th>\n",
       "      <td>Do it (Tomorrow)</td>\n",
       "      <td>PRODUCTIVITY</td>\n",
       "      <td>4.3</td>\n",
       "      <td>26452</td>\n",
       "      <td>4.0M</td>\n",
       "      <td>1,000,000+</td>\n",
       "      <td>Free</td>\n",
       "      <td>0</td>\n",
       "      <td>Everyone</td>\n",
       "      <td>Productivity</td>\n",
       "      <td>November 3, 2014</td>\n",
       "      <td>2.3.5</td>\n",
       "      <td>2.1 and up</td>\n",
       "    </tr>\n",
       "    <tr>\n",
       "      <th>9222</th>\n",
       "      <td>英漢字典 EC Dictionary</td>\n",
       "      <td>FAMILY</td>\n",
       "      <td>4.3</td>\n",
       "      <td>55408</td>\n",
       "      <td>Varies with device</td>\n",
       "      <td>1,000,000+</td>\n",
       "      <td>Free</td>\n",
       "      <td>0</td>\n",
       "      <td>Everyone</td>\n",
       "      <td>Education</td>\n",
       "      <td>January 8, 2018</td>\n",
       "      <td>Varies with device</td>\n",
       "      <td>Varies with device</td>\n",
       "    </tr>\n",
       "    <tr>\n",
       "      <th>5622</th>\n",
       "      <td>World at War: WW2 Strategy MMO</td>\n",
       "      <td>FAMILY</td>\n",
       "      <td>4.3</td>\n",
       "      <td>107765</td>\n",
       "      <td>78M</td>\n",
       "      <td>5,000,000+</td>\n",
       "      <td>Free</td>\n",
       "      <td>0</td>\n",
       "      <td>Everyone 10+</td>\n",
       "      <td>Strategy</td>\n",
       "      <td>May 25, 2018</td>\n",
       "      <td>3.1.9</td>\n",
       "      <td>4.1 and up</td>\n",
       "    </tr>\n",
       "    <tr>\n",
       "      <th>465</th>\n",
       "      <td>imo free video calls and chat</td>\n",
       "      <td>COMMUNICATION</td>\n",
       "      <td>4.3</td>\n",
       "      <td>4785988</td>\n",
       "      <td>11M</td>\n",
       "      <td>500,000,000+</td>\n",
       "      <td>Free</td>\n",
       "      <td>0</td>\n",
       "      <td>Everyone</td>\n",
       "      <td>Communication</td>\n",
       "      <td>June 8, 2018</td>\n",
       "      <td>9.8.000000010501</td>\n",
       "      <td>4.0 and up</td>\n",
       "    </tr>\n",
       "    <tr>\n",
       "      <th>9533</th>\n",
       "      <td>Exiled Kingdoms RPG</td>\n",
       "      <td>FAMILY</td>\n",
       "      <td>4.6</td>\n",
       "      <td>49210</td>\n",
       "      <td>99M</td>\n",
       "      <td>1,000,000+</td>\n",
       "      <td>Free</td>\n",
       "      <td>0</td>\n",
       "      <td>Everyone 10+</td>\n",
       "      <td>Role Playing</td>\n",
       "      <td>July 5, 2018</td>\n",
       "      <td>1.2.1107</td>\n",
       "      <td>4.1 and up</td>\n",
       "    </tr>\n",
       "    <tr>\n",
       "      <th>6144</th>\n",
       "      <td>BG+Phone Backup</td>\n",
       "      <td>PRODUCTIVITY</td>\n",
       "      <td>4.8</td>\n",
       "      <td>16</td>\n",
       "      <td>2.6M</td>\n",
       "      <td>1,000+</td>\n",
       "      <td>Free</td>\n",
       "      <td>0</td>\n",
       "      <td>Everyone</td>\n",
       "      <td>Productivity</td>\n",
       "      <td>February 17, 2017</td>\n",
       "      <td>1.0.3</td>\n",
       "      <td>2.3 and up</td>\n",
       "    </tr>\n",
       "    <tr>\n",
       "      <th>5063</th>\n",
       "      <td>Blur Image - DSLR focus effect</td>\n",
       "      <td>PHOTOGRAPHY</td>\n",
       "      <td>3.9</td>\n",
       "      <td>38055</td>\n",
       "      <td>4.1M</td>\n",
       "      <td>5,000,000+</td>\n",
       "      <td>Free</td>\n",
       "      <td>0</td>\n",
       "      <td>Everyone</td>\n",
       "      <td>Photography</td>\n",
       "      <td>June 16, 2017</td>\n",
       "      <td>1.17</td>\n",
       "      <td>4.0 and up</td>\n",
       "    </tr>\n",
       "    <tr>\n",
       "      <th>452</th>\n",
       "      <td>Yahoo Mail – Stay Organized</td>\n",
       "      <td>COMMUNICATION</td>\n",
       "      <td>4.3</td>\n",
       "      <td>4188142</td>\n",
       "      <td>16M</td>\n",
       "      <td>100,000,000+</td>\n",
       "      <td>Free</td>\n",
       "      <td>0</td>\n",
       "      <td>Everyone</td>\n",
       "      <td>Communication</td>\n",
       "      <td>July 18, 2018</td>\n",
       "      <td>5.29.3</td>\n",
       "      <td>4.4 and up</td>\n",
       "    </tr>\n",
       "    <tr>\n",
       "      <th>5406</th>\n",
       "      <td>A. O. Smith</td>\n",
       "      <td>TOOLS</td>\n",
       "      <td>4.2</td>\n",
       "      <td>32</td>\n",
       "      <td>33M</td>\n",
       "      <td>10,000+</td>\n",
       "      <td>Free</td>\n",
       "      <td>0</td>\n",
       "      <td>Everyone</td>\n",
       "      <td>Tools</td>\n",
       "      <td>May 21, 2018</td>\n",
       "      <td>3.0.22</td>\n",
       "      <td>4.0 and up</td>\n",
       "    </tr>\n",
       "  </tbody>\n",
       "</table>\n",
       "</div>"
      ],
      "text/plain": [
       "                                 App            Category  Rating  Reviews  \\\n",
       "9108  JNews DZ - Algerian Newspapers  NEWS_AND_MAGAZINES     4.0      146   \n",
       "8648                Do it (Tomorrow)        PRODUCTIVITY     4.3    26452   \n",
       "9222              英漢字典 EC Dictionary              FAMILY     4.3    55408   \n",
       "5622  World at War: WW2 Strategy MMO              FAMILY     4.3   107765   \n",
       "465    imo free video calls and chat       COMMUNICATION     4.3  4785988   \n",
       "9533             Exiled Kingdoms RPG              FAMILY     4.6    49210   \n",
       "6144                 BG+Phone Backup        PRODUCTIVITY     4.8       16   \n",
       "5063  Blur Image - DSLR focus effect         PHOTOGRAPHY     3.9    38055   \n",
       "452      Yahoo Mail – Stay Organized       COMMUNICATION     4.3  4188142   \n",
       "5406                     A. O. Smith               TOOLS     4.2       32   \n",
       "\n",
       "                    Size      Installs  Type Price Content Rating  \\\n",
       "9108                3.0M       10,000+  Free     0       Everyone   \n",
       "8648                4.0M    1,000,000+  Free     0       Everyone   \n",
       "9222  Varies with device    1,000,000+  Free     0       Everyone   \n",
       "5622                 78M    5,000,000+  Free     0   Everyone 10+   \n",
       "465                  11M  500,000,000+  Free     0       Everyone   \n",
       "9533                 99M    1,000,000+  Free     0   Everyone 10+   \n",
       "6144                2.6M        1,000+  Free     0       Everyone   \n",
       "5063                4.1M    5,000,000+  Free     0       Everyone   \n",
       "452                  16M  100,000,000+  Free     0       Everyone   \n",
       "5406                 33M       10,000+  Free     0       Everyone   \n",
       "\n",
       "                Genres       Last Updated         Current Ver  \\\n",
       "9108  News & Magazines      July 16, 2016                 2.4   \n",
       "8648      Productivity   November 3, 2014               2.3.5   \n",
       "9222         Education    January 8, 2018  Varies with device   \n",
       "5622          Strategy       May 25, 2018               3.1.9   \n",
       "465      Communication       June 8, 2018    9.8.000000010501   \n",
       "9533      Role Playing       July 5, 2018            1.2.1107   \n",
       "6144      Productivity  February 17, 2017               1.0.3   \n",
       "5063       Photography      June 16, 2017                1.17   \n",
       "452      Communication      July 18, 2018              5.29.3   \n",
       "5406             Tools       May 21, 2018              3.0.22   \n",
       "\n",
       "             Android Ver  \n",
       "9108          2.3 and up  \n",
       "8648          2.1 and up  \n",
       "9222  Varies with device  \n",
       "5622          4.1 and up  \n",
       "465           4.0 and up  \n",
       "9533          4.1 and up  \n",
       "6144          2.3 and up  \n",
       "5063          4.0 and up  \n",
       "452           4.4 and up  \n",
       "5406          4.0 and up  "
      ]
     },
     "execution_count": 2,
     "metadata": {},
     "output_type": "execute_result"
    }
   ],
   "source": [
    "data =pd.read_csv('googleplaystore.csv')\n",
    "data.sample(10)"
   ]
  },
  {
   "cell_type": "code",
   "execution_count": 3,
   "metadata": {},
   "outputs": [
    {
     "data": {
      "text/plain": [
       "(10841, 13)"
      ]
     },
     "execution_count": 3,
     "metadata": {},
     "output_type": "execute_result"
    }
   ],
   "source": [
    "data.shape"
   ]
  },
  {
   "cell_type": "code",
   "execution_count": 4,
   "metadata": {},
   "outputs": [
    {
     "name": "stdout",
     "output_type": "stream",
     "text": [
      "<class 'pandas.core.frame.DataFrame'>\n",
      "RangeIndex: 10841 entries, 0 to 10840\n",
      "Data columns (total 13 columns):\n",
      " #   Column          Non-Null Count  Dtype  \n",
      "---  ------          --------------  -----  \n",
      " 0   App             10841 non-null  object \n",
      " 1   Category        10841 non-null  object \n",
      " 2   Rating          9367 non-null   float64\n",
      " 3   Reviews         10841 non-null  object \n",
      " 4   Size            10841 non-null  object \n",
      " 5   Installs        10841 non-null  object \n",
      " 6   Type            10840 non-null  object \n",
      " 7   Price           10841 non-null  object \n",
      " 8   Content Rating  10840 non-null  object \n",
      " 9   Genres          10841 non-null  object \n",
      " 10  Last Updated    10841 non-null  object \n",
      " 11  Current Ver     10833 non-null  object \n",
      " 12  Android Ver     10838 non-null  object \n",
      "dtypes: float64(1), object(12)\n",
      "memory usage: 1.1+ MB\n"
     ]
    }
   ],
   "source": [
    "data.info()"
   ]
  },
  {
   "cell_type": "code",
   "execution_count": 5,
   "metadata": {},
   "outputs": [
    {
     "data": {
      "text/html": [
       "<div>\n",
       "<style scoped>\n",
       "    .dataframe tbody tr th:only-of-type {\n",
       "        vertical-align: middle;\n",
       "    }\n",
       "\n",
       "    .dataframe tbody tr th {\n",
       "        vertical-align: top;\n",
       "    }\n",
       "\n",
       "    .dataframe thead th {\n",
       "        text-align: right;\n",
       "    }\n",
       "</style>\n",
       "<table border=\"1\" class=\"dataframe\">\n",
       "  <thead>\n",
       "    <tr style=\"text-align: right;\">\n",
       "      <th></th>\n",
       "      <th>App</th>\n",
       "      <th>Category</th>\n",
       "      <th>Reviews</th>\n",
       "      <th>Size</th>\n",
       "      <th>Installs</th>\n",
       "      <th>Type</th>\n",
       "      <th>Price</th>\n",
       "      <th>Content Rating</th>\n",
       "      <th>Genres</th>\n",
       "      <th>Last Updated</th>\n",
       "      <th>Current Ver</th>\n",
       "      <th>Android Ver</th>\n",
       "    </tr>\n",
       "  </thead>\n",
       "  <tbody>\n",
       "    <tr>\n",
       "      <th>count</th>\n",
       "      <td>10841</td>\n",
       "      <td>10841</td>\n",
       "      <td>10841</td>\n",
       "      <td>10841</td>\n",
       "      <td>10841</td>\n",
       "      <td>10840</td>\n",
       "      <td>10841</td>\n",
       "      <td>10840</td>\n",
       "      <td>10841</td>\n",
       "      <td>10841</td>\n",
       "      <td>10833</td>\n",
       "      <td>10838</td>\n",
       "    </tr>\n",
       "    <tr>\n",
       "      <th>unique</th>\n",
       "      <td>9660</td>\n",
       "      <td>34</td>\n",
       "      <td>6002</td>\n",
       "      <td>462</td>\n",
       "      <td>22</td>\n",
       "      <td>3</td>\n",
       "      <td>93</td>\n",
       "      <td>6</td>\n",
       "      <td>120</td>\n",
       "      <td>1378</td>\n",
       "      <td>2832</td>\n",
       "      <td>33</td>\n",
       "    </tr>\n",
       "    <tr>\n",
       "      <th>top</th>\n",
       "      <td>ROBLOX</td>\n",
       "      <td>FAMILY</td>\n",
       "      <td>0</td>\n",
       "      <td>Varies with device</td>\n",
       "      <td>1,000,000+</td>\n",
       "      <td>Free</td>\n",
       "      <td>0</td>\n",
       "      <td>Everyone</td>\n",
       "      <td>Tools</td>\n",
       "      <td>August 3, 2018</td>\n",
       "      <td>Varies with device</td>\n",
       "      <td>4.1 and up</td>\n",
       "    </tr>\n",
       "    <tr>\n",
       "      <th>freq</th>\n",
       "      <td>9</td>\n",
       "      <td>1972</td>\n",
       "      <td>596</td>\n",
       "      <td>1695</td>\n",
       "      <td>1579</td>\n",
       "      <td>10039</td>\n",
       "      <td>10040</td>\n",
       "      <td>8714</td>\n",
       "      <td>842</td>\n",
       "      <td>326</td>\n",
       "      <td>1459</td>\n",
       "      <td>2451</td>\n",
       "    </tr>\n",
       "  </tbody>\n",
       "</table>\n",
       "</div>"
      ],
      "text/plain": [
       "           App Category Reviews                Size    Installs   Type  Price  \\\n",
       "count    10841    10841   10841               10841       10841  10840  10841   \n",
       "unique    9660       34    6002                 462          22      3     93   \n",
       "top     ROBLOX   FAMILY       0  Varies with device  1,000,000+   Free      0   \n",
       "freq         9     1972     596                1695        1579  10039  10040   \n",
       "\n",
       "       Content Rating Genres    Last Updated         Current Ver Android Ver  \n",
       "count           10840  10841           10841               10833       10838  \n",
       "unique              6    120            1378                2832          33  \n",
       "top          Everyone  Tools  August 3, 2018  Varies with device  4.1 and up  \n",
       "freq             8714    842             326                1459        2451  "
      ]
     },
     "execution_count": 5,
     "metadata": {},
     "output_type": "execute_result"
    }
   ],
   "source": [
    "data.describe(include='O')"
   ]
  },
  {
   "cell_type": "markdown",
   "metadata": {},
   "source": [
    "# Deduntions"
   ]
  },
  {
   "cell_type": "markdown",
   "metadata": {},
   "source": [
    "Twelve features have their dtypes to be object, including Price and Reviews 😞, while Rating is float."
   ]
  },
  {
   "cell_type": "markdown",
   "metadata": {},
   "source": [
    "There is a number of features with missing values. However, Rating (float dtype) has the highest."
   ]
  },
  {
   "cell_type": "markdown",
   "metadata": {},
   "source": [
    "10841 rows are present with 13 columns.\n"
   ]
  },
  {
   "cell_type": "markdown",
   "metadata": {},
   "source": [
    "App is expected to be unique throughout, but no, it isn't. 9660 out of 10841 are unique. Others have exactly the same\n",
    "name. Is it possible to have two apps with exactly the same name? No. Thus, there is a possibility of having duplicate app\n",
    "info recorded in the data"
   ]
  },
  {
   "cell_type": "markdown",
   "metadata": {},
   "source": [
    "There area a lot of irregular data entries - a whole lot! Imagine Current Ver having 'p5.7.1' as an entry 😒. All these\n",
    "would be cleaned later"
   ]
  },
  {
   "cell_type": "markdown",
   "metadata": {},
   "source": [
    "Most apps on Play Store (limited to our dataset) belong to the Family Category.\n"
   ]
  },
  {
   "cell_type": "markdown",
   "metadata": {},
   "source": [
    "Most apps on Play Store (limited to our dataset) are free to download - they are not paid for."
   ]
  },
  {
   "cell_type": "markdown",
   "metadata": {},
   "source": [
    "# Handling Mising values"
   ]
  },
  {
   "cell_type": "code",
   "execution_count": 6,
   "metadata": {},
   "outputs": [
    {
     "data": {
      "image/png": "[encoded data removed]",
      "text/plain": [
       "<Figure size 800x600 with 1 Axes>"
      ]
     },
     "metadata": {},
     "output_type": "display_data"
    }
   ],
   "source": [
    "fig,ax = plt.subplots(figsize=(8,6))\n",
    "sns.heatmap(data.isnull(),cbar= False,ax=ax)\n",
    "ax.set_yticks([])\n",
    "ax.tick_params(bottom='')"
   ]
  },
  {
   "cell_type": "code",
   "execution_count": 7,
   "metadata": {},
   "outputs": [
    {
     "data": {
      "text/plain": [
       "App                  0\n",
       "Category             0\n",
       "Rating            1474\n",
       "Reviews              0\n",
       "Size                 0\n",
       "Installs             0\n",
       "Type                 1\n",
       "Price                0\n",
       "Content Rating       1\n",
       "Genres               0\n",
       "Last Updated         0\n",
       "Current Ver          8\n",
       "Android Ver          3\n",
       "dtype: int64"
      ]
     },
     "execution_count": 7,
     "metadata": {},
     "output_type": "execute_result"
    }
   ],
   "source": [
    "data.isnull().sum()"
   ]
  },
  {
   "cell_type": "markdown",
   "metadata": {},
   "source": [
    "All object dtypes with missing values will be filled with the most occuring entry in their column (mode).\n"
   ]
  },
  {
   "cell_type": "markdown",
   "metadata": {},
   "source": [
    "Rating , a float dtype will be filled with the mean of Rating column for the gerne each missing value belong to.\n"
   ]
  },
  {
   "cell_type": "code",
   "execution_count": 8,
   "metadata": {},
   "outputs": [],
   "source": [
    "missing_obj_dype_cols = ['Type','Content Rating','Current Ver','Android Ver']\n",
    "\n",
    "for i in missing_obj_dype_cols:\n",
    "    mode = stat.mode(data[i])\n",
    "    data[i] = data[i].fillna(mode)"
   ]
  },
  {
   "cell_type": "code",
   "execution_count": 9,
   "metadata": {},
   "outputs": [],
   "source": [
    "avg_per_gerne = round(data.groupby('Genres').mean(), 1)\n",
    "fill_to = avg_per_gerne.to_dict()['Rating']\n",
    "data.Rating.index = data.Genres.values\n",
    "data['Rating'] = pd.Series(data['Rating'].fillna(fill_to).values)"
   ]
  },
  {
   "cell_type": "code",
   "execution_count": 10,
   "metadata": {},
   "outputs": [
    {
     "data": {
      "text/plain": [
       "App               0\n",
       "Category          0\n",
       "Rating            5\n",
       "Reviews           0\n",
       "Size              0\n",
       "Installs          0\n",
       "Type              0\n",
       "Price             0\n",
       "Content Rating    0\n",
       "Genres            0\n",
       "Last Updated      0\n",
       "Current Ver       0\n",
       "Android Ver       0\n",
       "dtype: int64"
      ]
     },
     "execution_count": 10,
     "metadata": {},
     "output_type": "execute_result"
    }
   ],
   "source": [
    "data.isnull().sum()"
   ]
  },
  {
   "cell_type": "markdown",
   "metadata": {},
   "source": [
    "What's with these redundant five nans 😓?!\n",
    "Let's have a look .\n"
   ]
  },
  {
   "cell_type": "code",
   "execution_count": 11,
   "metadata": {},
   "outputs": [
    {
     "data": {
      "text/html": [
       "<div>\n",
       "<style scoped>\n",
       "    .dataframe tbody tr th:only-of-type {\n",
       "        vertical-align: middle;\n",
       "    }\n",
       "\n",
       "    .dataframe tbody tr th {\n",
       "        vertical-align: top;\n",
       "    }\n",
       "\n",
       "    .dataframe thead th {\n",
       "        text-align: right;\n",
       "    }\n",
       "</style>\n",
       "<table border=\"1\" class=\"dataframe\">\n",
       "  <thead>\n",
       "    <tr style=\"text-align: right;\">\n",
       "      <th></th>\n",
       "      <th>App</th>\n",
       "      <th>Category</th>\n",
       "      <th>Rating</th>\n",
       "      <th>Reviews</th>\n",
       "      <th>Size</th>\n",
       "      <th>Installs</th>\n",
       "      <th>Type</th>\n",
       "      <th>Price</th>\n",
       "      <th>Content Rating</th>\n",
       "      <th>Genres</th>\n",
       "      <th>Last Updated</th>\n",
       "      <th>Current Ver</th>\n",
       "      <th>Android Ver</th>\n",
       "    </tr>\n",
       "  </thead>\n",
       "  <tbody>\n",
       "    <tr>\n",
       "      <th>23</th>\n",
       "      <td>Mcqueen Coloring pages</td>\n",
       "      <td>ART_AND_DESIGN</td>\n",
       "      <td>NaN</td>\n",
       "      <td>61</td>\n",
       "      <td>7.0M</td>\n",
       "      <td>100,000+</td>\n",
       "      <td>Free</td>\n",
       "      <td>0</td>\n",
       "      <td>Everyone</td>\n",
       "      <td>Art &amp; Design;Action &amp; Adventure</td>\n",
       "      <td>March 7, 2018</td>\n",
       "      <td>1.0.0</td>\n",
       "      <td>4.1 and up</td>\n",
       "    </tr>\n",
       "    <tr>\n",
       "      <th>2111</th>\n",
       "      <td>Mcqueen Coloring pages</td>\n",
       "      <td>FAMILY</td>\n",
       "      <td>NaN</td>\n",
       "      <td>65</td>\n",
       "      <td>7.0M</td>\n",
       "      <td>100,000+</td>\n",
       "      <td>Free</td>\n",
       "      <td>0</td>\n",
       "      <td>Everyone</td>\n",
       "      <td>Art &amp; Design;Action &amp; Adventure</td>\n",
       "      <td>March 7, 2018</td>\n",
       "      <td>1.0.0</td>\n",
       "      <td>4.1 and up</td>\n",
       "    </tr>\n",
       "    <tr>\n",
       "      <th>6829</th>\n",
       "      <td>Bu Hangi Firma?</td>\n",
       "      <td>FAMILY</td>\n",
       "      <td>NaN</td>\n",
       "      <td>8</td>\n",
       "      <td>26M</td>\n",
       "      <td>100+</td>\n",
       "      <td>Free</td>\n",
       "      <td>0</td>\n",
       "      <td>Everyone</td>\n",
       "      <td>Trivia;Education</td>\n",
       "      <td>December 10, 2017</td>\n",
       "      <td>3.3.6z</td>\n",
       "      <td>4.0.3 and up</td>\n",
       "    </tr>\n",
       "    <tr>\n",
       "      <th>7629</th>\n",
       "      <td>Wuwu &amp; Co.</td>\n",
       "      <td>FAMILY</td>\n",
       "      <td>NaN</td>\n",
       "      <td>9</td>\n",
       "      <td>77M</td>\n",
       "      <td>100+</td>\n",
       "      <td>Paid</td>\n",
       "      <td>$2.99</td>\n",
       "      <td>Everyone</td>\n",
       "      <td>Books &amp; Reference;Creativity</td>\n",
       "      <td>March 22, 2017</td>\n",
       "      <td>2.49</td>\n",
       "      <td>4.1 and up</td>\n",
       "    </tr>\n",
       "    <tr>\n",
       "      <th>9672</th>\n",
       "      <td>Masha and the Bear - Hair Salon and MakeUp Games</td>\n",
       "      <td>FAMILY</td>\n",
       "      <td>NaN</td>\n",
       "      <td>1</td>\n",
       "      <td>83M</td>\n",
       "      <td>100+</td>\n",
       "      <td>Paid</td>\n",
       "      <td>$2.49</td>\n",
       "      <td>Everyone</td>\n",
       "      <td>Role Playing;Education</td>\n",
       "      <td>March 5, 2018</td>\n",
       "      <td>1.0.1</td>\n",
       "      <td>4.1 and up</td>\n",
       "    </tr>\n",
       "  </tbody>\n",
       "</table>\n",
       "</div>"
      ],
      "text/plain": [
       "                                                   App        Category  \\\n",
       "23                              Mcqueen Coloring pages  ART_AND_DESIGN   \n",
       "2111                            Mcqueen Coloring pages          FAMILY   \n",
       "6829                                   Bu Hangi Firma?          FAMILY   \n",
       "7629                                        Wuwu & Co.          FAMILY   \n",
       "9672  Masha and the Bear - Hair Salon and MakeUp Games          FAMILY   \n",
       "\n",
       "      Rating Reviews  Size  Installs  Type  Price Content Rating  \\\n",
       "23       NaN      61  7.0M  100,000+  Free      0       Everyone   \n",
       "2111     NaN      65  7.0M  100,000+  Free      0       Everyone   \n",
       "6829     NaN       8   26M      100+  Free      0       Everyone   \n",
       "7629     NaN       9   77M      100+  Paid  $2.99       Everyone   \n",
       "9672     NaN       1   83M      100+  Paid  $2.49       Everyone   \n",
       "\n",
       "                               Genres       Last Updated Current Ver  \\\n",
       "23    Art & Design;Action & Adventure      March 7, 2018       1.0.0   \n",
       "2111  Art & Design;Action & Adventure      March 7, 2018       1.0.0   \n",
       "6829                 Trivia;Education  December 10, 2017      3.3.6z   \n",
       "7629     Books & Reference;Creativity     March 22, 2017        2.49   \n",
       "9672           Role Playing;Education      March 5, 2018       1.0.1   \n",
       "\n",
       "       Android Ver  \n",
       "23      4.1 and up  \n",
       "2111    4.1 and up  \n",
       "6829  4.0.3 and up  \n",
       "7629    4.1 and up  \n",
       "9672    4.1 and up  "
      ]
     },
     "execution_count": 11,
     "metadata": {},
     "output_type": "execute_result"
    }
   ],
   "source": [
    "redundant = data[data.Rating.isnull()]\n",
    "redundant"
   ]
  },
  {
   "cell_type": "markdown",
   "metadata": {},
   "source": [
    "Their genres belong to either 'Art & Design;Action & Adventure', 'Trivia;Education', 'Books & Reference;Creativity' or 'Role\n",
    "Playing;Education'.\n",
    "> Let's check for the values these keys belong to in the 'fill_to' dictionary.\n"
   ]
  },
  {
   "cell_type": "code",
   "execution_count": 12,
   "metadata": {},
   "outputs": [
    {
     "data": {
      "text/plain": [
       "dict_values([4.3, 4.3, 4.2, 4.4, 4.6, 4.1, 4.3, 4.3, 4.5, 4.4, nan, 4.4, 3.9, 4.2, 4.3, 4.3, 4.0, 4.3, 4.8, 4.3, nan, 4.2, 4.1, 4.1, 4.3, 4.4, 4.3, 4.2, 4.3, 4.5, 4.3, 4.3, 4.1, 4.2, 4.1, 4.8, 4.2, 4.2, 4.0, 4.3, 4.3, 4.4, 4.3, 4.4, 4.2, 4.4, 3.9, 4.2, 4.2, 4.0, 4.2, 4.2, 4.1, 4.2, 4.3, 4.5, 4.4, 4.2, 4.0, 4.4, 19.0, 4.1, 4.2, 4.3, 3.9, 4.7, 4.2, 4.2, 4.1, 4.3, 4.0, 4.1, 4.2, 4.2, 4.3, 4.5, 4.1, 4.3, 3.8, 3.9, 4.3, 4.3, 4.2, 4.2, 4.4, 4.3, 4.4, 4.4, 4.6, 4.2, 4.3, 4.5, 4.3, 4.3, 4.3, nan, 4.0, 4.3, 4.2, 4.4, 4.4, 4.4, 4.3, 4.2, 4.4, 4.2, 4.6, 4.4, 4.5, 4.0, 4.5, 4.1, 4.1, 4.0, nan, 4.1, 4.1, 4.0, 4.2, 4.4])"
      ]
     },
     "execution_count": 12,
     "metadata": {},
     "output_type": "execute_result"
    }
   ],
   "source": [
    "fill_to.values()"
   ]
  },
  {
   "cell_type": "code",
   "execution_count": 13,
   "metadata": {},
   "outputs": [
    {
     "data": {
      "text/plain": [
       "nan"
      ]
     },
     "execution_count": 13,
     "metadata": {},
     "output_type": "execute_result"
    }
   ],
   "source": [
    "fill_to['Trivia;Education']"
   ]
  },
  {
   "cell_type": "markdown",
   "metadata": {},
   "source": [
    "Smiles.The average value of these Genres was nan all along. <br>\n",
    "These missing values were replaced with a missing value! Hence, the missing value turned redundant. <br>\n",
    "There's nothing left to do than to drop these, or fill them with the overall mean 😏.\n"
   ]
  },
  {
   "cell_type": "code",
   "execution_count": 14,
   "metadata": {},
   "outputs": [],
   "source": [
    "data['Rating'] = data['Rating'].fillna(data['Rating'].mean())"
   ]
  },
  {
   "cell_type": "code",
   "execution_count": 15,
   "metadata": {},
   "outputs": [
    {
     "data": {
      "image/png": "[encoded data removed]",
      "text/plain": [
       "<Figure size 800x600 with 1 Axes>"
      ]
     },
     "metadata": {},
     "output_type": "display_data"
    }
   ],
   "source": [
    "fig,ax = plt.subplots(figsize=(8,6))\n",
    "sns.heatmap(data.isnull(),cbar=False, ax=ax)\n",
    "ax.set_yticks([])\n",
    "ax.tick_params(bottom='')"
   ]
  },
  {
   "cell_type": "code",
   "execution_count": 16,
   "metadata": {},
   "outputs": [
    {
     "data": {
      "text/plain": [
       "App               0\n",
       "Category          0\n",
       "Rating            0\n",
       "Reviews           0\n",
       "Size              0\n",
       "Installs          0\n",
       "Type              0\n",
       "Price             0\n",
       "Content Rating    0\n",
       "Genres            0\n",
       "Last Updated      0\n",
       "Current Ver       0\n",
       "Android Ver       0\n",
       "dtype: int64"
      ]
     },
     "execution_count": 16,
     "metadata": {},
     "output_type": "execute_result"
    }
   ],
   "source": [
    "data.isnull().sum()"
   ]
  },
  {
   "cell_type": "markdown",
   "metadata": {},
   "source": [
    "# Cleaning Inconsistent Data Entries.\n"
   ]
  },
  {
   "cell_type": "markdown",
   "metadata": {},
   "source": [
    "The dtypes of come columns would also be changed here.\n"
   ]
  },
  {
   "cell_type": "code",
   "execution_count": 17,
   "metadata": {},
   "outputs": [
    {
     "data": {
      "text/html": [
       "<div>\n",
       "<style scoped>\n",
       "    .dataframe tbody tr th:only-of-type {\n",
       "        vertical-align: middle;\n",
       "    }\n",
       "\n",
       "    .dataframe tbody tr th {\n",
       "        vertical-align: top;\n",
       "    }\n",
       "\n",
       "    .dataframe thead th {\n",
       "        text-align: right;\n",
       "    }\n",
       "</style>\n",
       "<table border=\"1\" class=\"dataframe\">\n",
       "  <thead>\n",
       "    <tr style=\"text-align: right;\">\n",
       "      <th></th>\n",
       "      <th>App</th>\n",
       "      <th>Category</th>\n",
       "      <th>Rating</th>\n",
       "      <th>Reviews</th>\n",
       "      <th>Size</th>\n",
       "      <th>Installs</th>\n",
       "      <th>Type</th>\n",
       "      <th>Price</th>\n",
       "      <th>Content Rating</th>\n",
       "      <th>Genres</th>\n",
       "      <th>Last Updated</th>\n",
       "      <th>Current Ver</th>\n",
       "      <th>Android Ver</th>\n",
       "    </tr>\n",
       "  </thead>\n",
       "  <tbody>\n",
       "    <tr>\n",
       "      <th>6434</th>\n",
       "      <td>Skywatch BL</td>\n",
       "      <td>WEATHER</td>\n",
       "      <td>4.2</td>\n",
       "      <td>15</td>\n",
       "      <td>10M</td>\n",
       "      <td>1,000+</td>\n",
       "      <td>Free</td>\n",
       "      <td>0</td>\n",
       "      <td>Everyone</td>\n",
       "      <td>Weather</td>\n",
       "      <td>February 20, 2017</td>\n",
       "      <td>1.1.6</td>\n",
       "      <td>4.4 and up</td>\n",
       "    </tr>\n",
       "    <tr>\n",
       "      <th>6650</th>\n",
       "      <td>Bar-B-Q Recipes</td>\n",
       "      <td>FOOD_AND_DRINK</td>\n",
       "      <td>4.8</td>\n",
       "      <td>18</td>\n",
       "      <td>3.5M</td>\n",
       "      <td>5,000+</td>\n",
       "      <td>Free</td>\n",
       "      <td>0</td>\n",
       "      <td>Everyone</td>\n",
       "      <td>Food &amp; Drink</td>\n",
       "      <td>August 15, 2016</td>\n",
       "      <td>1.0</td>\n",
       "      <td>4.0 and up</td>\n",
       "    </tr>\n",
       "    <tr>\n",
       "      <th>4243</th>\n",
       "      <td>NinJump</td>\n",
       "      <td>GAME</td>\n",
       "      <td>4.3</td>\n",
       "      <td>421000</td>\n",
       "      <td>36M</td>\n",
       "      <td>10,000,000+</td>\n",
       "      <td>Free</td>\n",
       "      <td>0</td>\n",
       "      <td>Everyone</td>\n",
       "      <td>Arcade</td>\n",
       "      <td>June 13, 2018</td>\n",
       "      <td>3.1.1</td>\n",
       "      <td>4.1 and up</td>\n",
       "    </tr>\n",
       "    <tr>\n",
       "      <th>5783</th>\n",
       "      <td>Dynamics AX</td>\n",
       "      <td>BUSINESS</td>\n",
       "      <td>3.7</td>\n",
       "      <td>244</td>\n",
       "      <td>976k</td>\n",
       "      <td>10,000+</td>\n",
       "      <td>Free</td>\n",
       "      <td>0</td>\n",
       "      <td>Everyone</td>\n",
       "      <td>Business</td>\n",
       "      <td>October 26, 2015</td>\n",
       "      <td>3.3</td>\n",
       "      <td>2.3.3 and up</td>\n",
       "    </tr>\n",
       "    <tr>\n",
       "      <th>8917</th>\n",
       "      <td>Sword of Chaos - Lame du Chaos</td>\n",
       "      <td>GAME</td>\n",
       "      <td>4.5</td>\n",
       "      <td>23599</td>\n",
       "      <td>96M</td>\n",
       "      <td>100,000+</td>\n",
       "      <td>Free</td>\n",
       "      <td>0</td>\n",
       "      <td>Teen</td>\n",
       "      <td>Action</td>\n",
       "      <td>June 1, 2018</td>\n",
       "      <td>11.0.2</td>\n",
       "      <td>4.0 and up</td>\n",
       "    </tr>\n",
       "    <tr>\n",
       "      <th>3487</th>\n",
       "      <td>Microsoft Translator</td>\n",
       "      <td>PRODUCTIVITY</td>\n",
       "      <td>4.6</td>\n",
       "      <td>209696</td>\n",
       "      <td>49M</td>\n",
       "      <td>5,000,000+</td>\n",
       "      <td>Free</td>\n",
       "      <td>0</td>\n",
       "      <td>Everyone</td>\n",
       "      <td>Productivity</td>\n",
       "      <td>June 18, 2018</td>\n",
       "      <td>3.2.258b ae1da5165</td>\n",
       "      <td>4.3 and up</td>\n",
       "    </tr>\n",
       "    <tr>\n",
       "      <th>8842</th>\n",
       "      <td>DS - xR</td>\n",
       "      <td>BUSINESS</td>\n",
       "      <td>4.1</td>\n",
       "      <td>2</td>\n",
       "      <td>1.4M</td>\n",
       "      <td>10+</td>\n",
       "      <td>Free</td>\n",
       "      <td>0</td>\n",
       "      <td>Everyone</td>\n",
       "      <td>Business</td>\n",
       "      <td>November 21, 2017</td>\n",
       "      <td>1.0</td>\n",
       "      <td>4.4 and up</td>\n",
       "    </tr>\n",
       "    <tr>\n",
       "      <th>3888</th>\n",
       "      <td>My Talking Tom</td>\n",
       "      <td>FAMILY</td>\n",
       "      <td>4.5</td>\n",
       "      <td>14885236</td>\n",
       "      <td>Varies with device</td>\n",
       "      <td>500,000,000+</td>\n",
       "      <td>Free</td>\n",
       "      <td>0</td>\n",
       "      <td>Everyone</td>\n",
       "      <td>Casual</td>\n",
       "      <td>July 19, 2018</td>\n",
       "      <td>4.8.0.132</td>\n",
       "      <td>4.1 and up</td>\n",
       "    </tr>\n",
       "    <tr>\n",
       "      <th>222</th>\n",
       "      <td>Quick PDF Scanner + OCR FREE</td>\n",
       "      <td>BUSINESS</td>\n",
       "      <td>4.2</td>\n",
       "      <td>80805</td>\n",
       "      <td>Varies with device</td>\n",
       "      <td>5,000,000+</td>\n",
       "      <td>Free</td>\n",
       "      <td>0</td>\n",
       "      <td>Everyone</td>\n",
       "      <td>Business</td>\n",
       "      <td>February 26, 2018</td>\n",
       "      <td>Varies with device</td>\n",
       "      <td>4.0.3 and up</td>\n",
       "    </tr>\n",
       "    <tr>\n",
       "      <th>3101</th>\n",
       "      <td>Real Basketball</td>\n",
       "      <td>SPORTS</td>\n",
       "      <td>4.5</td>\n",
       "      <td>1605267</td>\n",
       "      <td>Varies with device</td>\n",
       "      <td>10,000,000+</td>\n",
       "      <td>Free</td>\n",
       "      <td>0</td>\n",
       "      <td>Everyone</td>\n",
       "      <td>Sports</td>\n",
       "      <td>December 5, 2016</td>\n",
       "      <td>Varies with device</td>\n",
       "      <td>Varies with device</td>\n",
       "    </tr>\n",
       "  </tbody>\n",
       "</table>\n",
       "</div>"
      ],
      "text/plain": [
       "                                 App        Category  Rating   Reviews  \\\n",
       "6434                     Skywatch BL         WEATHER     4.2        15   \n",
       "6650                 Bar-B-Q Recipes  FOOD_AND_DRINK     4.8        18   \n",
       "4243                         NinJump            GAME     4.3    421000   \n",
       "5783                     Dynamics AX        BUSINESS     3.7       244   \n",
       "8917  Sword of Chaos - Lame du Chaos            GAME     4.5     23599   \n",
       "3487            Microsoft Translator    PRODUCTIVITY     4.6    209696   \n",
       "8842                         DS - xR        BUSINESS     4.1         2   \n",
       "3888                  My Talking Tom          FAMILY     4.5  14885236   \n",
       "222     Quick PDF Scanner + OCR FREE        BUSINESS     4.2     80805   \n",
       "3101                 Real Basketball          SPORTS     4.5   1605267   \n",
       "\n",
       "                    Size      Installs  Type Price Content Rating  \\\n",
       "6434                 10M        1,000+  Free     0       Everyone   \n",
       "6650                3.5M        5,000+  Free     0       Everyone   \n",
       "4243                 36M   10,000,000+  Free     0       Everyone   \n",
       "5783                976k       10,000+  Free     0       Everyone   \n",
       "8917                 96M      100,000+  Free     0           Teen   \n",
       "3487                 49M    5,000,000+  Free     0       Everyone   \n",
       "8842                1.4M           10+  Free     0       Everyone   \n",
       "3888  Varies with device  500,000,000+  Free     0       Everyone   \n",
       "222   Varies with device    5,000,000+  Free     0       Everyone   \n",
       "3101  Varies with device   10,000,000+  Free     0       Everyone   \n",
       "\n",
       "            Genres       Last Updated         Current Ver         Android Ver  \n",
       "6434       Weather  February 20, 2017               1.1.6          4.4 and up  \n",
       "6650  Food & Drink    August 15, 2016                 1.0          4.0 and up  \n",
       "4243        Arcade      June 13, 2018               3.1.1          4.1 and up  \n",
       "5783      Business   October 26, 2015                 3.3        2.3.3 and up  \n",
       "8917        Action       June 1, 2018              11.0.2          4.0 and up  \n",
       "3487  Productivity      June 18, 2018  3.2.258b ae1da5165          4.3 and up  \n",
       "8842      Business  November 21, 2017                 1.0          4.4 and up  \n",
       "3888        Casual      July 19, 2018           4.8.0.132          4.1 and up  \n",
       "222       Business  February 26, 2018  Varies with device        4.0.3 and up  \n",
       "3101        Sports   December 5, 2016  Varies with device  Varies with device  "
      ]
     },
     "execution_count": 17,
     "metadata": {},
     "output_type": "execute_result"
    }
   ],
   "source": [
    "data.sample(10)"
   ]
  },
  {
   "cell_type": "markdown",
   "metadata": {},
   "source": [
    "App : Seems normal. Anyone could name their app anything."
   ]
  },
  {
   "cell_type": "markdown",
   "metadata": {},
   "source": [
    "Category : I'd love to remove these 'harmless' underscores. Besides, there could be meaningless or repeated categories. We'd check\n",
    "for this too."
   ]
  },
  {
   "cell_type": "markdown",
   "metadata": {},
   "source": [
    "Rating : Perfectly filled 😍!"
   ]
  },
  {
   "cell_type": "markdown",
   "metadata": {},
   "source": [
    "Reviews : Hmmm, I'm unsure it's perfect. We'd try converting them to integers to be sure. Having a ValueError means the column needs\n",
    "cleaning."
   ]
  },
  {
   "cell_type": "markdown",
   "metadata": {},
   "source": [
    "Size : Nicely filled 😊. We'd still check to be sure.\n"
   ]
  },
  {
   "cell_type": "markdown",
   "metadata": {},
   "source": [
    "Installs : Normal. We'd still check to be sure.\n"
   ]
  },
  {
   "cell_type": "markdown",
   "metadata": {},
   "source": [
    "Type : Normal too. We'd still check to be sure.\n"
   ]
  },
  {
   "cell_type": "markdown",
   "metadata": {},
   "source": [
    "Price : We'd remove the dollar sign, change its dtype to float and rename it.\n"
   ]
  },
  {
   "cell_type": "markdown",
   "metadata": {},
   "source": [
    "Content Rating : I found something strange here. See below:"
   ]
  },
  {
   "cell_type": "code",
   "execution_count": 18,
   "metadata": {},
   "outputs": [
    {
     "data": {
      "text/html": [
       "<div>\n",
       "<style scoped>\n",
       "    .dataframe tbody tr th:only-of-type {\n",
       "        vertical-align: middle;\n",
       "    }\n",
       "\n",
       "    .dataframe tbody tr th {\n",
       "        vertical-align: top;\n",
       "    }\n",
       "\n",
       "    .dataframe thead th {\n",
       "        text-align: right;\n",
       "    }\n",
       "</style>\n",
       "<table border=\"1\" class=\"dataframe\">\n",
       "  <thead>\n",
       "    <tr style=\"text-align: right;\">\n",
       "      <th></th>\n",
       "      <th>App</th>\n",
       "      <th>Category</th>\n",
       "      <th>Rating</th>\n",
       "      <th>Reviews</th>\n",
       "      <th>Size</th>\n",
       "      <th>Installs</th>\n",
       "      <th>Type</th>\n",
       "      <th>Price</th>\n",
       "      <th>Content Rating</th>\n",
       "      <th>Genres</th>\n",
       "      <th>Last Updated</th>\n",
       "      <th>Current Ver</th>\n",
       "      <th>Android Ver</th>\n",
       "    </tr>\n",
       "  </thead>\n",
       "  <tbody>\n",
       "    <tr>\n",
       "      <th>141</th>\n",
       "      <td>Download free book with green book</td>\n",
       "      <td>BOOKS_AND_REFERENCE</td>\n",
       "      <td>4.6</td>\n",
       "      <td>4478</td>\n",
       "      <td>9.5M</td>\n",
       "      <td>100,000+</td>\n",
       "      <td>Free</td>\n",
       "      <td>0</td>\n",
       "      <td>Everyone 10+</td>\n",
       "      <td>Books &amp; Reference</td>\n",
       "      <td>July 31, 2017</td>\n",
       "      <td>1.1</td>\n",
       "      <td>4.0 and up</td>\n",
       "    </tr>\n",
       "  </tbody>\n",
       "</table>\n",
       "</div>"
      ],
      "text/plain": [
       "                                    App             Category  Rating Reviews  \\\n",
       "141  Download free book with green book  BOOKS_AND_REFERENCE     4.6    4478   \n",
       "\n",
       "     Size  Installs  Type Price Content Rating             Genres  \\\n",
       "141  9.5M  100,000+  Free     0   Everyone 10+  Books & Reference   \n",
       "\n",
       "      Last Updated Current Ver Android Ver  \n",
       "141  July 31, 2017         1.1  4.0 and up  "
      ]
     },
     "execution_count": 18,
     "metadata": {},
     "output_type": "execute_result"
    }
   ],
   "source": [
    "data.iloc[141:142]"
   ]
  },
  {
   "cell_type": "markdown",
   "metadata": {},
   "source": [
    "'Everyone 10+'"
   ]
  },
  {
   "cell_type": "markdown",
   "metadata": {},
   "source": [
    "Downloading the game is restricted to those 10 or above. Why then, should Everyone be included? For all occurences similar to this, we'd\n",
    "remove Everyone from there. We'd also check other values to be sure.\n"
   ]
  },
  {
   "cell_type": "markdown",
   "metadata": {},
   "source": [
    "Genre : Seems normal. We'd check to be sure.\n"
   ]
  },
  {
   "cell_type": "markdown",
   "metadata": {},
   "source": [
    "Last Updated : This would be converted to datetime.\n"
   ]
  },
  {
   "cell_type": "markdown",
   "metadata": {},
   "source": [
    "Current Ver : Looks nice. We'd still check to be sure.\n"
   ]
  },
  {
   "cell_type": "markdown",
   "metadata": {},
   "source": [
    "Android Ver : Very perfect, but we'd still check to be sure 😏.\n"
   ]
  },
  {
   "cell_type": "code",
   "execution_count": 19,
   "metadata": {},
   "outputs": [],
   "source": [
    "data['Category']= data['Category'].str.replace('_','  ')"
   ]
  },
  {
   "cell_type": "code",
   "execution_count": 20,
   "metadata": {},
   "outputs": [
    {
     "data": {
      "text/plain": [
       "array(['ART  AND  DESIGN', 'AUTO  AND  VEHICLES', 'BEAUTY',\n",
       "       'BOOKS  AND  REFERENCE', 'BUSINESS', 'COMICS', 'COMMUNICATION',\n",
       "       'DATING', 'EDUCATION', 'ENTERTAINMENT', 'EVENTS', 'FINANCE',\n",
       "       'FOOD  AND  DRINK', 'HEALTH  AND  FITNESS', 'HOUSE  AND  HOME',\n",
       "       'LIBRARIES  AND  DEMO', 'LIFESTYLE', 'GAME', 'FAMILY', 'MEDICAL',\n",
       "       'SOCIAL', 'SHOPPING', 'PHOTOGRAPHY', 'SPORTS',\n",
       "       'TRAVEL  AND  LOCAL', 'TOOLS', 'PERSONALIZATION', 'PRODUCTIVITY',\n",
       "       'PARENTING', 'WEATHER', 'VIDEO  PLAYERS', 'NEWS  AND  MAGAZINES',\n",
       "       'MAPS  AND  NAVIGATION', '1.9'], dtype=object)"
      ]
     },
     "execution_count": 20,
     "metadata": {},
     "output_type": "execute_result"
    }
   ],
   "source": [
    "data['Category'].unique()"
   ]
  },
  {
   "cell_type": "markdown",
   "metadata": {},
   "source": [
    "The last element in the output above seems off. <br>\n",
    "Let's peep at the whole data of rows with their category being '1.9'."
   ]
  },
  {
   "cell_type": "code",
   "execution_count": 21,
   "metadata": {},
   "outputs": [
    {
     "data": {
      "text/html": [
       "<div>\n",
       "<style scoped>\n",
       "    .dataframe tbody tr th:only-of-type {\n",
       "        vertical-align: middle;\n",
       "    }\n",
       "\n",
       "    .dataframe tbody tr th {\n",
       "        vertical-align: top;\n",
       "    }\n",
       "\n",
       "    .dataframe thead th {\n",
       "        text-align: right;\n",
       "    }\n",
       "</style>\n",
       "<table border=\"1\" class=\"dataframe\">\n",
       "  <thead>\n",
       "    <tr style=\"text-align: right;\">\n",
       "      <th></th>\n",
       "      <th>App</th>\n",
       "      <th>Category</th>\n",
       "      <th>Rating</th>\n",
       "      <th>Reviews</th>\n",
       "      <th>Size</th>\n",
       "      <th>Installs</th>\n",
       "      <th>Type</th>\n",
       "      <th>Price</th>\n",
       "      <th>Content Rating</th>\n",
       "      <th>Genres</th>\n",
       "      <th>Last Updated</th>\n",
       "      <th>Current Ver</th>\n",
       "      <th>Android Ver</th>\n",
       "    </tr>\n",
       "  </thead>\n",
       "  <tbody>\n",
       "    <tr>\n",
       "      <th>10472</th>\n",
       "      <td>Life Made WI-Fi Touchscreen Photo Frame</td>\n",
       "      <td>1.9</td>\n",
       "      <td>19.0</td>\n",
       "      <td>3.0M</td>\n",
       "      <td>1,000+</td>\n",
       "      <td>Free</td>\n",
       "      <td>0</td>\n",
       "      <td>Everyone</td>\n",
       "      <td>Everyone</td>\n",
       "      <td>February 11, 2018</td>\n",
       "      <td>1.0.19</td>\n",
       "      <td>4.0 and up</td>\n",
       "      <td>4.1 and up</td>\n",
       "    </tr>\n",
       "  </tbody>\n",
       "</table>\n",
       "</div>"
      ],
      "text/plain": [
       "                                           App Category  Rating Reviews  \\\n",
       "10472  Life Made WI-Fi Touchscreen Photo Frame      1.9    19.0    3.0M   \n",
       "\n",
       "         Size Installs Type     Price Content Rating             Genres  \\\n",
       "10472  1,000+     Free    0  Everyone       Everyone  February 11, 2018   \n",
       "\n",
       "      Last Updated Current Ver Android Ver  \n",
       "10472       1.0.19  4.0 and up  4.1 and up  "
      ]
     },
     "execution_count": 21,
     "metadata": {},
     "output_type": "execute_result"
    }
   ],
   "source": [
    "data[data['Category']=='1.9']"
   ]
  },
  {
   "cell_type": "markdown",
   "metadata": {},
   "source": [
    "__Wow!__ <br>\n",
    "__1. Its categoty is numerical.__ <br>\n",
    "__2. Its rating is above 5.__ <br>\n",
    "__3. Last Updated is a datetype, but its has a perplexing entry itself.__ <br>\n",
    "__4. Its gerne is 'February 11, 2018' - an odd value.__ <br>\n",
    "__5. Its type is odd as well.__ <br>\n",
    "__6. While most of the entries in Reviews are integers, this one chose to be 3.0M.__\n",
    "\n"
   ]
  },
  {
   "cell_type": "markdown",
   "metadata": {},
   "source": [
    "**I better drop this entire row, or what do you think 😏?**"
   ]
  },
  {
   "cell_type": "code",
   "execution_count": 22,
   "metadata": {},
   "outputs": [],
   "source": [
    "data = data.drop(10472)"
   ]
  },
  {
   "cell_type": "code",
   "execution_count": 23,
   "metadata": {},
   "outputs": [],
   "source": [
    "#Reviews\n",
    "\n",
    "data['Reviews'] = data['Reviews'].astype('int')"
   ]
  },
  {
   "cell_type": "code",
   "execution_count": 24,
   "metadata": {},
   "outputs": [
    {
     "data": {
      "text/plain": [
       "array(['19M', '14M', '8.7M', '25M', '2.8M', '5.6M', '29M', '33M', '3.1M',\n",
       "       '28M', '12M', '20M', '21M', '37M', '2.7M', '5.5M', '17M', '39M',\n",
       "       '31M', '4.2M', '7.0M', '23M', '6.0M', '6.1M', '4.6M', '9.2M',\n",
       "       '5.2M', '11M', '24M', 'Varies with device', '9.4M', '15M', '10M',\n",
       "       '1.2M', '26M', '8.0M', '7.9M', '56M', '57M', '35M', '54M', '201k',\n",
       "       '3.6M', '5.7M', '8.6M', '2.4M', '27M', '2.5M', '16M', '3.4M',\n",
       "       '8.9M', '3.9M', '2.9M', '38M', '32M', '5.4M', '18M', '1.1M',\n",
       "       '2.2M', '4.5M', '9.8M', '52M', '9.0M', '6.7M', '30M', '2.6M',\n",
       "       '7.1M', '3.7M', '22M', '7.4M', '6.4M', '3.2M', '8.2M', '9.9M',\n",
       "       '4.9M', '9.5M', '5.0M', '5.9M', '13M', '73M', '6.8M', '3.5M',\n",
       "       '4.0M', '2.3M', '7.2M', '2.1M', '42M', '7.3M', '9.1M', '55M',\n",
       "       '23k', '6.5M', '1.5M', '7.5M', '51M', '41M', '48M', '8.5M', '46M',\n",
       "       '8.3M', '4.3M', '4.7M', '3.3M', '40M', '7.8M', '8.8M', '6.6M',\n",
       "       '5.1M', '61M', '66M', '79k', '8.4M', '118k', '44M', '695k', '1.6M',\n",
       "       '6.2M', '18k', '53M', '1.4M', '3.0M', '5.8M', '3.8M', '9.6M',\n",
       "       '45M', '63M', '49M', '77M', '4.4M', '4.8M', '70M', '6.9M', '9.3M',\n",
       "       '10.0M', '8.1M', '36M', '84M', '97M', '2.0M', '1.9M', '1.8M',\n",
       "       '5.3M', '47M', '556k', '526k', '76M', '7.6M', '59M', '9.7M', '78M',\n",
       "       '72M', '43M', '7.7M', '6.3M', '334k', '34M', '93M', '65M', '79M',\n",
       "       '100M', '58M', '50M', '68M', '64M', '67M', '60M', '94M', '232k',\n",
       "       '99M', '624k', '95M', '8.5k', '41k', '292k', '11k', '80M', '1.7M',\n",
       "       '74M', '62M', '69M', '75M', '98M', '85M', '82M', '96M', '87M',\n",
       "       '71M', '86M', '91M', '81M', '92M', '83M', '88M', '704k', '862k',\n",
       "       '899k', '378k', '266k', '375k', '1.3M', '975k', '980k', '4.1M',\n",
       "       '89M', '696k', '544k', '525k', '920k', '779k', '853k', '720k',\n",
       "       '713k', '772k', '318k', '58k', '241k', '196k', '857k', '51k',\n",
       "       '953k', '865k', '251k', '930k', '540k', '313k', '746k', '203k',\n",
       "       '26k', '314k', '239k', '371k', '220k', '730k', '756k', '91k',\n",
       "       '293k', '17k', '74k', '14k', '317k', '78k', '924k', '902k', '818k',\n",
       "       '81k', '939k', '169k', '45k', '475k', '965k', '90M', '545k', '61k',\n",
       "       '283k', '655k', '714k', '93k', '872k', '121k', '322k', '1.0M',\n",
       "       '976k', '172k', '238k', '549k', '206k', '954k', '444k', '717k',\n",
       "       '210k', '609k', '308k', '705k', '306k', '904k', '473k', '175k',\n",
       "       '350k', '383k', '454k', '421k', '70k', '812k', '442k', '842k',\n",
       "       '417k', '412k', '459k', '478k', '335k', '782k', '721k', '430k',\n",
       "       '429k', '192k', '200k', '460k', '728k', '496k', '816k', '414k',\n",
       "       '506k', '887k', '613k', '243k', '569k', '778k', '683k', '592k',\n",
       "       '319k', '186k', '840k', '647k', '191k', '373k', '437k', '598k',\n",
       "       '716k', '585k', '982k', '222k', '219k', '55k', '948k', '323k',\n",
       "       '691k', '511k', '951k', '963k', '25k', '554k', '351k', '27k',\n",
       "       '82k', '208k', '913k', '514k', '551k', '29k', '103k', '898k',\n",
       "       '743k', '116k', '153k', '209k', '353k', '499k', '173k', '597k',\n",
       "       '809k', '122k', '411k', '400k', '801k', '787k', '237k', '50k',\n",
       "       '643k', '986k', '97k', '516k', '837k', '780k', '961k', '269k',\n",
       "       '20k', '498k', '600k', '749k', '642k', '881k', '72k', '656k',\n",
       "       '601k', '221k', '228k', '108k', '940k', '176k', '33k', '663k',\n",
       "       '34k', '942k', '259k', '164k', '458k', '245k', '629k', '28k',\n",
       "       '288k', '775k', '785k', '636k', '916k', '994k', '309k', '485k',\n",
       "       '914k', '903k', '608k', '500k', '54k', '562k', '847k', '957k',\n",
       "       '688k', '811k', '270k', '48k', '329k', '523k', '921k', '874k',\n",
       "       '981k', '784k', '280k', '24k', '518k', '754k', '892k', '154k',\n",
       "       '860k', '364k', '387k', '626k', '161k', '879k', '39k', '970k',\n",
       "       '170k', '141k', '160k', '144k', '143k', '190k', '376k', '193k',\n",
       "       '246k', '73k', '658k', '992k', '253k', '420k', '404k', '470k',\n",
       "       '226k', '240k', '89k', '234k', '257k', '861k', '467k', '157k',\n",
       "       '44k', '676k', '67k', '552k', '885k', '1020k', '582k', '619k'],\n",
       "      dtype=object)"
      ]
     },
     "execution_count": 24,
     "metadata": {},
     "output_type": "execute_result"
    }
   ],
   "source": [
    "#Size\n",
    "\n",
    "data['Size'].unique()"
   ]
  },
  {
   "cell_type": "markdown",
   "metadata": {},
   "source": [
    "As expected, everything seems alright.\n"
   ]
  },
  {
   "cell_type": "code",
   "execution_count": 25,
   "metadata": {},
   "outputs": [
    {
     "data": {
      "text/plain": [
       "array(['10,000+', '500,000+', '5,000,000+', '50,000,000+', '100,000+',\n",
       "       '50,000+', '1,000,000+', '10,000,000+', '5,000+', '100,000,000+',\n",
       "       '1,000,000,000+', '1,000+', '500,000,000+', '50+', '100+', '500+',\n",
       "       '10+', '1+', '5+', '0+', '0'], dtype=object)"
      ]
     },
     "execution_count": 25,
     "metadata": {},
     "output_type": "execute_result"
    }
   ],
   "source": [
    "#Installs\n",
    "\n",
    "data['Installs'].unique()"
   ]
  },
  {
   "cell_type": "markdown",
   "metadata": {},
   "source": [
    "As expected, everything seems alright."
   ]
  },
  {
   "cell_type": "code",
   "execution_count": 26,
   "metadata": {},
   "outputs": [
    {
     "data": {
      "text/plain": [
       "array(['Free', 'Paid'], dtype=object)"
      ]
     },
     "execution_count": 26,
     "metadata": {},
     "output_type": "execute_result"
    }
   ],
   "source": [
    "# Type\n",
    "data['Type'].unique()"
   ]
  },
  {
   "cell_type": "markdown",
   "metadata": {},
   "source": [
    "Nice."
   ]
  },
  {
   "cell_type": "code",
   "execution_count": 27,
   "metadata": {},
   "outputs": [],
   "source": [
    "#Price\n",
    "data['Price'] = data['Price'].str.replace('$', '')\n",
    "data['Price'] = data['Price'].astype('float')"
   ]
  },
  {
   "cell_type": "markdown",
   "metadata": {},
   "source": [
    "Nice"
   ]
  },
  {
   "cell_type": "code",
   "execution_count": 28,
   "metadata": {},
   "outputs": [
    {
     "data": {
      "text/html": [
       "<div>\n",
       "<style scoped>\n",
       "    .dataframe tbody tr th:only-of-type {\n",
       "        vertical-align: middle;\n",
       "    }\n",
       "\n",
       "    .dataframe tbody tr th {\n",
       "        vertical-align: top;\n",
       "    }\n",
       "\n",
       "    .dataframe thead th {\n",
       "        text-align: right;\n",
       "    }\n",
       "</style>\n",
       "<table border=\"1\" class=\"dataframe\">\n",
       "  <thead>\n",
       "    <tr style=\"text-align: right;\">\n",
       "      <th></th>\n",
       "      <th>App</th>\n",
       "      <th>Category</th>\n",
       "      <th>Rating</th>\n",
       "      <th>Reviews</th>\n",
       "      <th>Size</th>\n",
       "      <th>Installs</th>\n",
       "      <th>Type</th>\n",
       "      <th>Price</th>\n",
       "      <th>Content Rating</th>\n",
       "      <th>Genres</th>\n",
       "      <th>Last Updated</th>\n",
       "      <th>Current Ver</th>\n",
       "      <th>Android Ver</th>\n",
       "    </tr>\n",
       "  </thead>\n",
       "  <tbody>\n",
       "    <tr>\n",
       "      <th>22</th>\n",
       "      <td>Superheroes Wallpapers | 4K Backgrounds</td>\n",
       "      <td>ART  AND  DESIGN</td>\n",
       "      <td>4.7</td>\n",
       "      <td>7699</td>\n",
       "      <td>4.2M</td>\n",
       "      <td>500,000+</td>\n",
       "      <td>Free</td>\n",
       "      <td>0.0</td>\n",
       "      <td>Everyone 10+</td>\n",
       "      <td>Art &amp; Design</td>\n",
       "      <td>July 12, 2018</td>\n",
       "      <td>2.2.6.2</td>\n",
       "      <td>4.0.3 and up</td>\n",
       "    </tr>\n",
       "    <tr>\n",
       "      <th>77</th>\n",
       "      <td>Police Detector (Speed Camera Radar)</td>\n",
       "      <td>AUTO  AND  VEHICLES</td>\n",
       "      <td>4.3</td>\n",
       "      <td>3574</td>\n",
       "      <td>3.9M</td>\n",
       "      <td>1,000,000+</td>\n",
       "      <td>Free</td>\n",
       "      <td>0.0</td>\n",
       "      <td>Everyone 10+</td>\n",
       "      <td>Auto &amp; Vehicles</td>\n",
       "      <td>July 4, 2018</td>\n",
       "      <td>1.6</td>\n",
       "      <td>4.0 and up</td>\n",
       "    </tr>\n",
       "    <tr>\n",
       "      <th>113</th>\n",
       "      <td>Wrinkles and rejuvenation</td>\n",
       "      <td>BEAUTY</td>\n",
       "      <td>4.3</td>\n",
       "      <td>182</td>\n",
       "      <td>5.7M</td>\n",
       "      <td>100,000+</td>\n",
       "      <td>Free</td>\n",
       "      <td>0.0</td>\n",
       "      <td>Everyone 10+</td>\n",
       "      <td>Beauty</td>\n",
       "      <td>September 20, 2017</td>\n",
       "      <td>8.0</td>\n",
       "      <td>3.0 and up</td>\n",
       "    </tr>\n",
       "    <tr>\n",
       "      <th>130</th>\n",
       "      <td>Recipes and tips for losing weight</td>\n",
       "      <td>BEAUTY</td>\n",
       "      <td>4.3</td>\n",
       "      <td>35</td>\n",
       "      <td>3.1M</td>\n",
       "      <td>10,000+</td>\n",
       "      <td>Free</td>\n",
       "      <td>0.0</td>\n",
       "      <td>Everyone 10+</td>\n",
       "      <td>Beauty</td>\n",
       "      <td>December 11, 2017</td>\n",
       "      <td>2.0</td>\n",
       "      <td>3.0 and up</td>\n",
       "    </tr>\n",
       "    <tr>\n",
       "      <th>141</th>\n",
       "      <td>Download free book with green book</td>\n",
       "      <td>BOOKS  AND  REFERENCE</td>\n",
       "      <td>4.6</td>\n",
       "      <td>4478</td>\n",
       "      <td>9.5M</td>\n",
       "      <td>100,000+</td>\n",
       "      <td>Free</td>\n",
       "      <td>0.0</td>\n",
       "      <td>Everyone 10+</td>\n",
       "      <td>Books &amp; Reference</td>\n",
       "      <td>July 31, 2017</td>\n",
       "      <td>1.1</td>\n",
       "      <td>4.0 and up</td>\n",
       "    </tr>\n",
       "    <tr>\n",
       "      <th>...</th>\n",
       "      <td>...</td>\n",
       "      <td>...</td>\n",
       "      <td>...</td>\n",
       "      <td>...</td>\n",
       "      <td>...</td>\n",
       "      <td>...</td>\n",
       "      <td>...</td>\n",
       "      <td>...</td>\n",
       "      <td>...</td>\n",
       "      <td>...</td>\n",
       "      <td>...</td>\n",
       "      <td>...</td>\n",
       "      <td>...</td>\n",
       "    </tr>\n",
       "    <tr>\n",
       "      <th>10419</th>\n",
       "      <td>Fast Motorcycle Driver 2016</td>\n",
       "      <td>GAME</td>\n",
       "      <td>4.2</td>\n",
       "      <td>28151</td>\n",
       "      <td>49M</td>\n",
       "      <td>1,000,000+</td>\n",
       "      <td>Free</td>\n",
       "      <td>0.0</td>\n",
       "      <td>Everyone 10+</td>\n",
       "      <td>Racing</td>\n",
       "      <td>December 25, 2016</td>\n",
       "      <td>1.2</td>\n",
       "      <td>2.3.3 and up</td>\n",
       "    </tr>\n",
       "    <tr>\n",
       "      <th>10639</th>\n",
       "      <td>Florida Today</td>\n",
       "      <td>NEWS  AND  MAGAZINES</td>\n",
       "      <td>3.3</td>\n",
       "      <td>202</td>\n",
       "      <td>38M</td>\n",
       "      <td>10,000+</td>\n",
       "      <td>Free</td>\n",
       "      <td>0.0</td>\n",
       "      <td>Everyone 10+</td>\n",
       "      <td>News &amp; Magazines</td>\n",
       "      <td>June 20, 2018</td>\n",
       "      <td>5.9.5</td>\n",
       "      <td>5.0 and up</td>\n",
       "    </tr>\n",
       "    <tr>\n",
       "      <th>10779</th>\n",
       "      <td>Fortune Quest: Savior</td>\n",
       "      <td>FAMILY</td>\n",
       "      <td>3.6</td>\n",
       "      <td>135</td>\n",
       "      <td>75M</td>\n",
       "      <td>10,000+</td>\n",
       "      <td>Free</td>\n",
       "      <td>0.0</td>\n",
       "      <td>Everyone 10+</td>\n",
       "      <td>Role Playing</td>\n",
       "      <td>June 1, 2018</td>\n",
       "      <td>1.022</td>\n",
       "      <td>4.4 and up</td>\n",
       "    </tr>\n",
       "    <tr>\n",
       "      <th>10784</th>\n",
       "      <td>Big Hunter</td>\n",
       "      <td>GAME</td>\n",
       "      <td>4.3</td>\n",
       "      <td>245455</td>\n",
       "      <td>84M</td>\n",
       "      <td>10,000,000+</td>\n",
       "      <td>Free</td>\n",
       "      <td>0.0</td>\n",
       "      <td>Everyone 10+</td>\n",
       "      <td>Action</td>\n",
       "      <td>May 31, 2018</td>\n",
       "      <td>2.8.6</td>\n",
       "      <td>4.0 and up</td>\n",
       "    </tr>\n",
       "    <tr>\n",
       "      <th>10789</th>\n",
       "      <td>Modern Counter Global Strike 3D V2</td>\n",
       "      <td>GAME</td>\n",
       "      <td>4.0</td>\n",
       "      <td>368</td>\n",
       "      <td>48M</td>\n",
       "      <td>50,000+</td>\n",
       "      <td>Free</td>\n",
       "      <td>0.0</td>\n",
       "      <td>Everyone 10+</td>\n",
       "      <td>Action</td>\n",
       "      <td>March 28, 2018</td>\n",
       "      <td>1.7</td>\n",
       "      <td>4.1 and up</td>\n",
       "    </tr>\n",
       "  </tbody>\n",
       "</table>\n",
       "<p>414 rows × 13 columns</p>\n",
       "</div>"
      ],
      "text/plain": [
       "                                           App               Category  Rating  \\\n",
       "22     Superheroes Wallpapers | 4K Backgrounds       ART  AND  DESIGN     4.7   \n",
       "77        Police Detector (Speed Camera Radar)    AUTO  AND  VEHICLES     4.3   \n",
       "113                  Wrinkles and rejuvenation                 BEAUTY     4.3   \n",
       "130         Recipes and tips for losing weight                 BEAUTY     4.3   \n",
       "141         Download free book with green book  BOOKS  AND  REFERENCE     4.6   \n",
       "...                                        ...                    ...     ...   \n",
       "10419              Fast Motorcycle Driver 2016                   GAME     4.2   \n",
       "10639                            Florida Today   NEWS  AND  MAGAZINES     3.3   \n",
       "10779                    Fortune Quest: Savior                 FAMILY     3.6   \n",
       "10784                               Big Hunter                   GAME     4.3   \n",
       "10789       Modern Counter Global Strike 3D V2                   GAME     4.0   \n",
       "\n",
       "       Reviews  Size     Installs  Type  Price Content Rating  \\\n",
       "22        7699  4.2M     500,000+  Free    0.0   Everyone 10+   \n",
       "77        3574  3.9M   1,000,000+  Free    0.0   Everyone 10+   \n",
       "113        182  5.7M     100,000+  Free    0.0   Everyone 10+   \n",
       "130         35  3.1M      10,000+  Free    0.0   Everyone 10+   \n",
       "141       4478  9.5M     100,000+  Free    0.0   Everyone 10+   \n",
       "...        ...   ...          ...   ...    ...            ...   \n",
       "10419    28151   49M   1,000,000+  Free    0.0   Everyone 10+   \n",
       "10639      202   38M      10,000+  Free    0.0   Everyone 10+   \n",
       "10779      135   75M      10,000+  Free    0.0   Everyone 10+   \n",
       "10784   245455   84M  10,000,000+  Free    0.0   Everyone 10+   \n",
       "10789      368   48M      50,000+  Free    0.0   Everyone 10+   \n",
       "\n",
       "                  Genres        Last Updated Current Ver   Android Ver  \n",
       "22          Art & Design       July 12, 2018     2.2.6.2  4.0.3 and up  \n",
       "77       Auto & Vehicles        July 4, 2018         1.6    4.0 and up  \n",
       "113               Beauty  September 20, 2017         8.0    3.0 and up  \n",
       "130               Beauty   December 11, 2017         2.0    3.0 and up  \n",
       "141    Books & Reference       July 31, 2017         1.1    4.0 and up  \n",
       "...                  ...                 ...         ...           ...  \n",
       "10419             Racing   December 25, 2016         1.2  2.3.3 and up  \n",
       "10639   News & Magazines       June 20, 2018       5.9.5    5.0 and up  \n",
       "10779       Role Playing        June 1, 2018       1.022    4.4 and up  \n",
       "10784             Action        May 31, 2018       2.8.6    4.0 and up  \n",
       "10789             Action      March 28, 2018         1.7    4.1 and up  \n",
       "\n",
       "[414 rows x 13 columns]"
      ]
     },
     "execution_count": 28,
     "metadata": {},
     "output_type": "execute_result"
    }
   ],
   "source": [
    "#Content Rating\n",
    "absurd =data[data['Content Rating'].str.contains('Everyone ')]\n",
    "absurd"
   ]
  },
  {
   "cell_type": "code",
   "execution_count": 29,
   "metadata": {},
   "outputs": [
    {
     "data": {
      "text/plain": [
       "array(['Everyone 10+'], dtype=object)"
      ]
     },
     "execution_count": 29,
     "metadata": {},
     "output_type": "execute_result"
    }
   ],
   "source": [
    "absurd['Content Rating'].unique()"
   ]
  },
  {
   "cell_type": "markdown",
   "metadata": {},
   "source": [
    "WOW! <br>\n",
    "More than 400 rows are 'absurd'"
   ]
  },
  {
   "cell_type": "code",
   "execution_count": 30,
   "metadata": {},
   "outputs": [
    {
     "data": {
      "text/plain": [
       "Everyone           8714\n",
       "Teen               1208\n",
       "Mature 17+          499\n",
       "10+                 414\n",
       "Adults only 18+       3\n",
       "Unrated               2\n",
       "Name: Content Rating, dtype: int64"
      ]
     },
     "execution_count": 30,
     "metadata": {},
     "output_type": "execute_result"
    }
   ],
   "source": [
    "data['Content Rating'] = data['Content Rating'].str.replace('Everyone 10','10')\n",
    "\n",
    "data['Content Rating'].value_counts()"
   ]
  },
  {
   "cell_type": "markdown",
   "metadata": {},
   "source": [
    "Oh, wow, 'Unrated' should also fall under 'Everyone', don't you think?\n"
   ]
  },
  {
   "cell_type": "code",
   "execution_count": 31,
   "metadata": {},
   "outputs": [
    {
     "data": {
      "text/plain": [
       "Everyone           8716\n",
       "Teen               1208\n",
       "Mature 17+          499\n",
       "10+                 414\n",
       "Adults only 18+       3\n",
       "Name: Content Rating, dtype: int64"
      ]
     },
     "execution_count": 31,
     "metadata": {},
     "output_type": "execute_result"
    }
   ],
   "source": [
    "data['Content Rating'] = data['Content Rating'].str.replace('Unrated', 'Everyone')\n",
    "\n",
    "data['Content Rating'].value_counts()"
   ]
  },
  {
   "cell_type": "code",
   "execution_count": 32,
   "metadata": {},
   "outputs": [
    {
     "data": {
      "text/plain": [
       "array(['Art & Design', 'Art & Design;Pretend Play',\n",
       "       'Art & Design;Creativity', 'Art & Design;Action & Adventure',\n",
       "       'Auto & Vehicles', 'Beauty', 'Books & Reference', 'Business',\n",
       "       'Comics', 'Comics;Creativity', 'Communication', 'Dating',\n",
       "       'Education;Education', 'Education', 'Education;Creativity',\n",
       "       'Education;Music & Video', 'Education;Action & Adventure',\n",
       "       'Education;Pretend Play', 'Education;Brain Games', 'Entertainment',\n",
       "       'Entertainment;Music & Video', 'Entertainment;Brain Games',\n",
       "       'Entertainment;Creativity', 'Events', 'Finance', 'Food & Drink',\n",
       "       'Health & Fitness', 'House & Home', 'Libraries & Demo',\n",
       "       'Lifestyle', 'Lifestyle;Pretend Play',\n",
       "       'Adventure;Action & Adventure', 'Arcade', 'Casual', 'Card',\n",
       "       'Casual;Pretend Play', 'Action', 'Strategy', 'Puzzle', 'Sports',\n",
       "       'Music', 'Word', 'Racing', 'Casual;Creativity',\n",
       "       'Casual;Action & Adventure', 'Simulation', 'Adventure', 'Board',\n",
       "       'Trivia', 'Role Playing', 'Simulation;Education',\n",
       "       'Action;Action & Adventure', 'Casual;Brain Games',\n",
       "       'Simulation;Action & Adventure', 'Educational;Creativity',\n",
       "       'Puzzle;Brain Games', 'Educational;Education', 'Card;Brain Games',\n",
       "       'Educational;Brain Games', 'Educational;Pretend Play',\n",
       "       'Entertainment;Education', 'Casual;Education',\n",
       "       'Music;Music & Video', 'Racing;Action & Adventure',\n",
       "       'Arcade;Pretend Play', 'Role Playing;Action & Adventure',\n",
       "       'Simulation;Pretend Play', 'Puzzle;Creativity',\n",
       "       'Sports;Action & Adventure', 'Educational;Action & Adventure',\n",
       "       'Arcade;Action & Adventure', 'Entertainment;Action & Adventure',\n",
       "       'Puzzle;Action & Adventure', 'Strategy;Action & Adventure',\n",
       "       'Music & Audio;Music & Video', 'Health & Fitness;Education',\n",
       "       'Adventure;Education', 'Board;Brain Games',\n",
       "       'Board;Action & Adventure', 'Board;Pretend Play',\n",
       "       'Casual;Music & Video', 'Role Playing;Pretend Play',\n",
       "       'Entertainment;Pretend Play', 'Video Players & Editors;Creativity',\n",
       "       'Card;Action & Adventure', 'Medical', 'Social', 'Shopping',\n",
       "       'Photography', 'Travel & Local',\n",
       "       'Travel & Local;Action & Adventure', 'Tools', 'Tools;Education',\n",
       "       'Personalization', 'Productivity', 'Parenting',\n",
       "       'Parenting;Music & Video', 'Parenting;Education',\n",
       "       'Parenting;Brain Games', 'Weather', 'Video Players & Editors',\n",
       "       'Video Players & Editors;Music & Video', 'News & Magazines',\n",
       "       'Maps & Navigation', 'Health & Fitness;Action & Adventure',\n",
       "       'Educational', 'Casino', 'Adventure;Brain Games',\n",
       "       'Trivia;Education', 'Lifestyle;Education',\n",
       "       'Books & Reference;Creativity', 'Books & Reference;Education',\n",
       "       'Puzzle;Education', 'Role Playing;Education',\n",
       "       'Role Playing;Brain Games', 'Strategy;Education',\n",
       "       'Racing;Pretend Play', 'Communication;Creativity',\n",
       "       'Strategy;Creativity'], dtype=object)"
      ]
     },
     "execution_count": 32,
     "metadata": {},
     "output_type": "execute_result"
    }
   ],
   "source": [
    "# Genres\n",
    "data['Genres'].unique()"
   ]
  },
  {
   "cell_type": "markdown",
   "metadata": {},
   "source": [
    "Seems so dirty 😒. <br>\n",
    "Let's have a closer peep.\n"
   ]
  },
  {
   "cell_type": "code",
   "execution_count": 33,
   "metadata": {},
   "outputs": [
    {
     "data": {
      "text/plain": [
       "Everyone           8716\n",
       "Teen               1208\n",
       "Mature 17+          499\n",
       "10+                 414\n",
       "Adults only 18+       3\n",
       "Name: Content Rating, dtype: int64"
      ]
     },
     "execution_count": 33,
     "metadata": {},
     "output_type": "execute_result"
    }
   ],
   "source": [
    "data['Content Rating'] = data['Content Rating'].str.replace('Unrated', 'Everyone')\n",
    "data['Content Rating'].value_counts()\n"
   ]
  },
  {
   "cell_type": "code",
   "execution_count": 34,
   "metadata": {},
   "outputs": [
    {
     "data": {
      "text/plain": [
       "Tools                842\n",
       "Entertainment        623\n",
       "Education            549\n",
       "Medical              463\n",
       "Business             460\n",
       "Productivity         424\n",
       "Sports               398\n",
       "Personalization      392\n",
       "Communication        387\n",
       "Lifestyle            381\n",
       "Finance              366\n",
       "Action               365\n",
       "Health & Fitness     341\n",
       "Photography          335\n",
       "Social               295\n",
       "News & Magazines     283\n",
       "Shopping             260\n",
       "Travel & Local       257\n",
       "Dating               234\n",
       "Books & Reference    231\n",
       "Name: Genres, dtype: int64"
      ]
     },
     "execution_count": 34,
     "metadata": {},
     "output_type": "execute_result"
    }
   ],
   "source": [
    "data['Genres'].value_counts()[:20]"
   ]
  },
  {
   "cell_type": "markdown",
   "metadata": {},
   "source": [
    "Of 117 unique values, the first 20 seem ideal"
   ]
  },
  {
   "cell_type": "code",
   "execution_count": 35,
   "metadata": {},
   "outputs": [
    {
     "data": {
      "text/plain": [
       "Arcade                     220\n",
       "Simulation                 200\n",
       "Casual                     193\n",
       "Video Players & Editors    173\n",
       "Puzzle                     140\n",
       "Maps & Navigation          137\n",
       "Food & Drink               127\n",
       "Role Playing               109\n",
       "Strategy                   107\n",
       "Racing                      98\n",
       "House & Home                88\n",
       "Libraries & Demo            85\n",
       "Auto & Vehicles             85\n",
       "Weather                     82\n",
       "Adventure                   75\n",
       "Events                      64\n",
       "Comics                      59\n",
       "Art & Design                58\n",
       "Beauty                      53\n",
       "Education;Education         50\n",
       "Name: Genres, dtype: int64"
      ]
     },
     "execution_count": 35,
     "metadata": {},
     "output_type": "execute_result"
    }
   ],
   "source": [
    "data['Genres'].value_counts()[20:40]"
   ]
  },
  {
   "cell_type": "code",
   "execution_count": 36,
   "metadata": {},
   "outputs": [
    {
     "data": {
      "text/plain": [
       "Card                           48\n",
       "Parenting                      46\n",
       "Board                          44\n",
       "Educational;Education          41\n",
       "Casino                         39\n",
       "Trivia                         38\n",
       "Educational                    37\n",
       "Casual;Pretend Play            31\n",
       "Word                           29\n",
       "Entertainment;Music & Video    27\n",
       "Education;Pretend Play         23\n",
       "Music                          22\n",
       "Casual;Action & Adventure      21\n",
       "Racing;Action & Adventure      20\n",
       "Puzzle;Brain Games             19\n",
       "Educational;Pretend Play       19\n",
       "Action;Action & Adventure      17\n",
       "Arcade;Action & Adventure      16\n",
       "Board;Brain Games              15\n",
       "Casual;Brain Games             13\n",
       "Name: Genres, dtype: int64"
      ]
     },
     "execution_count": 36,
     "metadata": {},
     "output_type": "execute_result"
    }
   ],
   "source": [
    "data['Genres'].value_counts()[40:60]"
   ]
  },
  {
   "cell_type": "markdown",
   "metadata": {},
   "source": [
    "Up till music, everything seems perfect. 'Puzzle;Brain Games' should not be a separate gerne, but should be merged with 'Puzzle'. The same goes for the rest, downwards."
   ]
  },
  {
   "cell_type": "code",
   "execution_count": 37,
   "metadata": {},
   "outputs": [
    {
     "data": {
      "text/plain": [
       "Adventure;Action & Adventure             13\n",
       "Simulation;Action & Adventure            11\n",
       "Entertainment;Brain Games                 8\n",
       "Art & Design;Creativity                   7\n",
       "Education;Creativity                      7\n",
       "Casual;Creativity                         7\n",
       "Role Playing;Action & Adventure           7\n",
       "Parenting;Education                       7\n",
       "Educational;Brain Games                   6\n",
       "Education;Action & Adventure              6\n",
       "Parenting;Music & Video                   6\n",
       "Education;Brain Games                     5\n",
       "Educational;Creativity                    5\n",
       "Puzzle;Action & Adventure                 5\n",
       "Role Playing;Pretend Play                 5\n",
       "Education;Music & Video                   5\n",
       "Educational;Action & Adventure            4\n",
       "Simulation;Pretend Play                   4\n",
       "Sports;Action & Adventure                 4\n",
       "Entertainment;Creativity                  3\n",
       "Video Players & Editors;Music & Video     3\n",
       "Simulation;Education                      3\n",
       "Music;Music & Video                       3\n",
       "Casual;Education                          3\n",
       "Board;Action & Adventure                  3\n",
       "Entertainment;Action & Adventure          3\n",
       "Strategy;Action & Adventure               2\n",
       "Books & Reference;Education               2\n",
       "Art & Design;Pretend Play                 2\n",
       "Art & Design;Action & Adventure           2\n",
       "Video Players & Editors;Creativity        2\n",
       "Puzzle;Creativity                         2\n",
       "Entertainment;Pretend Play                2\n",
       "Casual;Music & Video                      2\n",
       "Adventure;Education                       2\n",
       "Card;Action & Adventure                   2\n",
       "Adventure;Brain Games                     1\n",
       "Communication;Creativity                  1\n",
       "Racing;Pretend Play                       1\n",
       "Strategy;Education                        1\n",
       "Role Playing;Brain Games                  1\n",
       "Role Playing;Education                    1\n",
       "Puzzle;Education                          1\n",
       "Books & Reference;Creativity              1\n",
       "Lifestyle;Education                       1\n",
       "Trivia;Education                          1\n",
       "Health & Fitness;Education                1\n",
       "Music & Audio;Music & Video               1\n",
       "Board;Pretend Play                        1\n",
       "Health & Fitness;Action & Adventure       1\n",
       "Comics;Creativity                         1\n",
       "Entertainment;Education                   1\n",
       "Card;Brain Games                          1\n",
       "Arcade;Pretend Play                       1\n",
       "Parenting;Brain Games                     1\n",
       "Travel & Local;Action & Adventure         1\n",
       "Lifestyle;Pretend Play                    1\n",
       "Tools;Education                           1\n",
       "Strategy;Creativity                       1\n",
       "Name: Genres, dtype: int64"
      ]
     },
     "execution_count": 37,
     "metadata": {},
     "output_type": "execute_result"
    }
   ],
   "source": [
    "data['Genres'].value_counts()[60:]"
   ]
  },
  {
   "cell_type": "code",
   "execution_count": 38,
   "metadata": {},
   "outputs": [],
   "source": [
    "data['Genres'] = data['Genres'].str.replace(r';[a-z &]*','',flags=re.I)"
   ]
  },
  {
   "cell_type": "code",
   "execution_count": 39,
   "metadata": {},
   "outputs": [
    {
     "data": {
      "text/plain": [
       "Tools                      843\n",
       "Entertainment              667\n",
       "Education                  645\n",
       "Medical                    463\n",
       "Business                   460\n",
       "Productivity               424\n",
       "Sports                     402\n",
       "Personalization            392\n",
       "Communication              388\n",
       "Lifestyle                  383\n",
       "Action                     382\n",
       "Finance                    366\n",
       "Health & Fitness           343\n",
       "Photography                335\n",
       "Social                     295\n",
       "News & Magazines           283\n",
       "Casual                     270\n",
       "Shopping                   260\n",
       "Travel & Local             258\n",
       "Arcade                     237\n",
       "Books & Reference          234\n",
       "Dating                     234\n",
       "Simulation                 218\n",
       "Video Players & Editors    178\n",
       "Puzzle                     167\n",
       "Maps & Navigation          137\n",
       "Food & Drink               127\n",
       "Role Playing               123\n",
       "Racing                     119\n",
       "Educational                112\n",
       "Strategy                   111\n",
       "Adventure                   91\n",
       "House & Home                88\n",
       "Auto & Vehicles             85\n",
       "Libraries & Demo            85\n",
       "Weather                     82\n",
       "Art & Design                69\n",
       "Events                      64\n",
       "Board                       63\n",
       "Parenting                   60\n",
       "Comics                      60\n",
       "Beauty                      53\n",
       "Card                        51\n",
       "Trivia                      39\n",
       "Casino                      39\n",
       "Word                        29\n",
       "Music                       25\n",
       "Music & Audio                1\n",
       "Name: Genres, dtype: int64"
      ]
     },
     "execution_count": 39,
     "metadata": {},
     "output_type": "execute_result"
    }
   ],
   "source": [
    "data['Genres'].value_counts()"
   ]
  },
  {
   "cell_type": "markdown",
   "metadata": {},
   "source": [
    "Educational should be merged with Education  <br>\n",
    "Music & Audio should be merged with Music.\n"
   ]
  },
  {
   "cell_type": "code",
   "execution_count": 40,
   "metadata": {},
   "outputs": [
    {
     "data": {
      "text/plain": [
       "array(['Art & Design', 'Auto & Vehicles', 'Beauty', 'Books & Reference',\n",
       "       'Business', 'Comics', 'Communication', 'Dating', 'Education',\n",
       "       'Entertainment', 'Events', 'Finance', 'Food & Drink',\n",
       "       'Health & Fitness', 'House & Home', 'Libraries & Demo',\n",
       "       'Lifestyle', 'Adventure', 'Arcade', 'Casual', 'Card', 'Action',\n",
       "       'Strategy', 'Puzzle', 'Sports', 'Music', 'Word', 'Racing',\n",
       "       'Simulation', 'Board', 'Trivia', 'Role Playing',\n",
       "       'Video Players & Editors', 'Medical', 'Social', 'Shopping',\n",
       "       'Photography', 'Travel & Local', 'Tools', 'Personalization',\n",
       "       'Productivity', 'Parenting', 'Weather', 'News & Magazines',\n",
       "       'Maps & Navigation', 'Casino'], dtype=object)"
      ]
     },
     "execution_count": 40,
     "metadata": {},
     "output_type": "execute_result"
    }
   ],
   "source": [
    "data['Genres'] = data['Genres'].str.replace('Educational','Education').str.replace('Music & Audio','Music')\n",
    "\n",
    "data['Genres'].unique()"
   ]
  },
  {
   "cell_type": "markdown",
   "metadata": {},
   "source": [
    "Nice"
   ]
  },
  {
   "cell_type": "code",
   "execution_count": 41,
   "metadata": {},
   "outputs": [],
   "source": [
    "#Last Updated\n",
    "\n",
    "data['Last Updated'] = pd.to_datetime(data['Last Updated'])"
   ]
  },
  {
   "cell_type": "markdown",
   "metadata": {},
   "source": [
    "There is an inconsistent data entry here. We'd deal with that later for some reason.\n"
   ]
  },
  {
   "cell_type": "code",
   "execution_count": 42,
   "metadata": {},
   "outputs": [
    {
     "data": {
      "text/plain": [
       "array(['4.0.3 and up', '4.2 and up', '4.4 and up', '2.3 and up',\n",
       "       '3.0 and up', '4.1 and up', '4.0 and up', '2.3.3 and up',\n",
       "       'Varies with device', '2.2 and up', '5.0 and up', '6.0 and up',\n",
       "       '1.6 and up', '1.5 and up', '2.1 and up', '7.0 and up',\n",
       "       '5.1 and up', '4.3 and up', '4.0.3 - 7.1.1', '2.0 and up',\n",
       "       '3.2 and up', '4.4W and up', '7.1 and up', '7.0 - 7.1.1',\n",
       "       '8.0 and up', '5.0 - 8.0', '3.1 and up', '2.0.1 and up',\n",
       "       '4.1 - 7.1.1', '5.0 - 6.0', '1.0 and up', '2.2 - 7.1.1',\n",
       "       '5.0 - 7.1.1'], dtype=object)"
      ]
     },
     "execution_count": 42,
     "metadata": {},
     "output_type": "execute_result"
    }
   ],
   "source": [
    "#Current Ver\n",
    "\n",
    "data['Android Ver'].unique()"
   ]
  },
  {
   "cell_type": "code",
   "execution_count": 43,
   "metadata": {},
   "outputs": [],
   "source": [
    "data['Android Ver'] =data['Android Ver'].str.replace('W','')"
   ]
  },
  {
   "cell_type": "code",
   "execution_count": 44,
   "metadata": {},
   "outputs": [
    {
     "data": {
      "text/plain": [
       "array(['4.0.3 and up', '4.2 and up', '4.4 and up', '2.3 and up',\n",
       "       '3.0 and up', '4.1 and up', '4.0 and up', '2.3.3 and up',\n",
       "       'Varies with device', '2.2 and up', '5.0 and up', '6.0 and up',\n",
       "       '1.6 and up', '1.5 and up', '2.1 and up', '7.0 and up',\n",
       "       '5.1 and up', '4.3 and up', '4.0.3 - 7.1.1', '2.0 and up',\n",
       "       '3.2 and up', '7.1 and up', '7.0 - 7.1.1', '8.0 and up',\n",
       "       '5.0 - 8.0', '3.1 and up', '2.0.1 and up', '4.1 - 7.1.1',\n",
       "       '5.0 - 6.0', '1.0 and up', '2.2 - 7.1.1', '5.0 - 7.1.1'],\n",
       "      dtype=object)"
      ]
     },
     "execution_count": 44,
     "metadata": {},
     "output_type": "execute_result"
    }
   ],
   "source": [
    "data['Android Ver'].unique()"
   ]
  },
  {
   "cell_type": "markdown",
   "metadata": {},
   "source": [
    "__ALL DONE__"
   ]
  },
  {
   "cell_type": "markdown",
   "metadata": {},
   "source": [
    "Removing outliers, if any    <br>\n",
    "\n",
    "remember that outliers can only be seen in number."
   ]
  },
  {
   "cell_type": "code",
   "execution_count": 45,
   "metadata": {},
   "outputs": [
    {
     "data": {
      "image/png": "[encoded data removed]",
      "text/plain": [
       "<Figure size 640x480 with 1 Axes>"
      ]
     },
     "metadata": {},
     "output_type": "display_data"
    },
    {
     "data": {
      "image/png": "[encoded data removed]",
      "text/plain": [
       "<Figure size 640x480 with 1 Axes>"
      ]
     },
     "metadata": {},
     "output_type": "display_data"
    },
    {
     "data": {
      "image/png": "[encoded data removed]",
      "text/plain": [
       "<Figure size 640x480 with 1 Axes>"
      ]
     },
     "metadata": {},
     "output_type": "display_data"
    }
   ],
   "source": [
    "for i in data.select_dtypes(['int','float']):\n",
    "    sns.violinplot(y= data[i] ,color='brown')\n",
    "    plt.grid()\n",
    "    plt.show()\n",
    "    "
   ]
  },
  {
   "cell_type": "markdown",
   "metadata": {},
   "source": [
    "They all seems to be without 'outliers' since they are all within resonable ranges.\n"
   ]
  },
  {
   "cell_type": "markdown",
   "metadata": {},
   "source": [
    "Further Data Cleaning.   <br>\n",
    "\n",
    "App is expected to be unique throughout, but it isn't. We'd deal with that here."
   ]
  },
  {
   "cell_type": "code",
   "execution_count": 46,
   "metadata": {},
   "outputs": [
    {
     "data": {
      "text/plain": [
       "ROBLOX                                               9\n",
       "CBS Sports App - Scores, News, Stats & Watch Live    8\n",
       "ESPN                                                 7\n",
       "Duolingo: Learn Languages Free                       7\n",
       "Candy Crush Saga                                     7\n",
       "                                                    ..\n",
       "Transenger – Ts Dating and Chat for Free             2\n",
       "Random Video Chat                                    2\n",
       "Clover Dating App                                    2\n",
       "Docs To Go™ Free Office Suite                        2\n",
       "English Dictionary - Offline                         2\n",
       "Name: App, Length: 798, dtype: int64"
      ]
     },
     "execution_count": 46,
     "metadata": {},
     "output_type": "execute_result"
    }
   ],
   "source": [
    "# Before dropping\n",
    "Apps = data['App'].value_counts()\n",
    "Apps[Apps>1]"
   ]
  },
  {
   "cell_type": "markdown",
   "metadata": {},
   "source": [
    "Wow there are almost 800 apps repeated.  <br>\n",
    "Let's check a few of them.\n"
   ]
  },
  {
   "cell_type": "code",
   "execution_count": 47,
   "metadata": {},
   "outputs": [
    {
     "data": {
      "text/html": [
       "<div>\n",
       "<style scoped>\n",
       "    .dataframe tbody tr th:only-of-type {\n",
       "        vertical-align: middle;\n",
       "    }\n",
       "\n",
       "    .dataframe tbody tr th {\n",
       "        vertical-align: top;\n",
       "    }\n",
       "\n",
       "    .dataframe thead th {\n",
       "        text-align: right;\n",
       "    }\n",
       "</style>\n",
       "<table border=\"1\" class=\"dataframe\">\n",
       "  <thead>\n",
       "    <tr style=\"text-align: right;\">\n",
       "      <th></th>\n",
       "      <th>App</th>\n",
       "      <th>Category</th>\n",
       "      <th>Rating</th>\n",
       "      <th>Reviews</th>\n",
       "      <th>Size</th>\n",
       "      <th>Installs</th>\n",
       "      <th>Type</th>\n",
       "      <th>Price</th>\n",
       "      <th>Content Rating</th>\n",
       "      <th>Genres</th>\n",
       "      <th>Last Updated</th>\n",
       "      <th>Current Ver</th>\n",
       "      <th>Android Ver</th>\n",
       "    </tr>\n",
       "  </thead>\n",
       "  <tbody>\n",
       "    <tr>\n",
       "      <th>1653</th>\n",
       "      <td>ROBLOX</td>\n",
       "      <td>GAME</td>\n",
       "      <td>4.5</td>\n",
       "      <td>4447388</td>\n",
       "      <td>67M</td>\n",
       "      <td>100,000,000+</td>\n",
       "      <td>Free</td>\n",
       "      <td>0.0</td>\n",
       "      <td>10+</td>\n",
       "      <td>Adventure</td>\n",
       "      <td>2018-07-31</td>\n",
       "      <td>2.347.225742</td>\n",
       "      <td>4.1 and up</td>\n",
       "    </tr>\n",
       "    <tr>\n",
       "      <th>1701</th>\n",
       "      <td>ROBLOX</td>\n",
       "      <td>GAME</td>\n",
       "      <td>4.5</td>\n",
       "      <td>4447346</td>\n",
       "      <td>67M</td>\n",
       "      <td>100,000,000+</td>\n",
       "      <td>Free</td>\n",
       "      <td>0.0</td>\n",
       "      <td>10+</td>\n",
       "      <td>Adventure</td>\n",
       "      <td>2018-07-31</td>\n",
       "      <td>2.347.225742</td>\n",
       "      <td>4.1 and up</td>\n",
       "    </tr>\n",
       "    <tr>\n",
       "      <th>1748</th>\n",
       "      <td>ROBLOX</td>\n",
       "      <td>GAME</td>\n",
       "      <td>4.5</td>\n",
       "      <td>4448791</td>\n",
       "      <td>67M</td>\n",
       "      <td>100,000,000+</td>\n",
       "      <td>Free</td>\n",
       "      <td>0.0</td>\n",
       "      <td>10+</td>\n",
       "      <td>Adventure</td>\n",
       "      <td>2018-07-31</td>\n",
       "      <td>2.347.225742</td>\n",
       "      <td>4.1 and up</td>\n",
       "    </tr>\n",
       "    <tr>\n",
       "      <th>1841</th>\n",
       "      <td>ROBLOX</td>\n",
       "      <td>GAME</td>\n",
       "      <td>4.5</td>\n",
       "      <td>4449882</td>\n",
       "      <td>67M</td>\n",
       "      <td>100,000,000+</td>\n",
       "      <td>Free</td>\n",
       "      <td>0.0</td>\n",
       "      <td>10+</td>\n",
       "      <td>Adventure</td>\n",
       "      <td>2018-07-31</td>\n",
       "      <td>2.347.225742</td>\n",
       "      <td>4.1 and up</td>\n",
       "    </tr>\n",
       "    <tr>\n",
       "      <th>1870</th>\n",
       "      <td>ROBLOX</td>\n",
       "      <td>GAME</td>\n",
       "      <td>4.5</td>\n",
       "      <td>4449910</td>\n",
       "      <td>67M</td>\n",
       "      <td>100,000,000+</td>\n",
       "      <td>Free</td>\n",
       "      <td>0.0</td>\n",
       "      <td>10+</td>\n",
       "      <td>Adventure</td>\n",
       "      <td>2018-07-31</td>\n",
       "      <td>2.347.225742</td>\n",
       "      <td>4.1 and up</td>\n",
       "    </tr>\n",
       "    <tr>\n",
       "      <th>2016</th>\n",
       "      <td>ROBLOX</td>\n",
       "      <td>FAMILY</td>\n",
       "      <td>4.5</td>\n",
       "      <td>4449910</td>\n",
       "      <td>67M</td>\n",
       "      <td>100,000,000+</td>\n",
       "      <td>Free</td>\n",
       "      <td>0.0</td>\n",
       "      <td>10+</td>\n",
       "      <td>Adventure</td>\n",
       "      <td>2018-07-31</td>\n",
       "      <td>2.347.225742</td>\n",
       "      <td>4.1 and up</td>\n",
       "    </tr>\n",
       "    <tr>\n",
       "      <th>2088</th>\n",
       "      <td>ROBLOX</td>\n",
       "      <td>FAMILY</td>\n",
       "      <td>4.5</td>\n",
       "      <td>4450855</td>\n",
       "      <td>67M</td>\n",
       "      <td>100,000,000+</td>\n",
       "      <td>Free</td>\n",
       "      <td>0.0</td>\n",
       "      <td>10+</td>\n",
       "      <td>Adventure</td>\n",
       "      <td>2018-07-31</td>\n",
       "      <td>2.347.225742</td>\n",
       "      <td>4.1 and up</td>\n",
       "    </tr>\n",
       "    <tr>\n",
       "      <th>2206</th>\n",
       "      <td>ROBLOX</td>\n",
       "      <td>FAMILY</td>\n",
       "      <td>4.5</td>\n",
       "      <td>4450890</td>\n",
       "      <td>67M</td>\n",
       "      <td>100,000,000+</td>\n",
       "      <td>Free</td>\n",
       "      <td>0.0</td>\n",
       "      <td>10+</td>\n",
       "      <td>Adventure</td>\n",
       "      <td>2018-07-31</td>\n",
       "      <td>2.347.225742</td>\n",
       "      <td>4.1 and up</td>\n",
       "    </tr>\n",
       "    <tr>\n",
       "      <th>4527</th>\n",
       "      <td>ROBLOX</td>\n",
       "      <td>FAMILY</td>\n",
       "      <td>4.5</td>\n",
       "      <td>4443407</td>\n",
       "      <td>67M</td>\n",
       "      <td>100,000,000+</td>\n",
       "      <td>Free</td>\n",
       "      <td>0.0</td>\n",
       "      <td>10+</td>\n",
       "      <td>Adventure</td>\n",
       "      <td>2018-07-31</td>\n",
       "      <td>2.347.225742</td>\n",
       "      <td>4.1 and up</td>\n",
       "    </tr>\n",
       "  </tbody>\n",
       "</table>\n",
       "</div>"
      ],
      "text/plain": [
       "         App Category  Rating  Reviews Size      Installs  Type  Price  \\\n",
       "1653  ROBLOX     GAME     4.5  4447388  67M  100,000,000+  Free    0.0   \n",
       "1701  ROBLOX     GAME     4.5  4447346  67M  100,000,000+  Free    0.0   \n",
       "1748  ROBLOX     GAME     4.5  4448791  67M  100,000,000+  Free    0.0   \n",
       "1841  ROBLOX     GAME     4.5  4449882  67M  100,000,000+  Free    0.0   \n",
       "1870  ROBLOX     GAME     4.5  4449910  67M  100,000,000+  Free    0.0   \n",
       "2016  ROBLOX   FAMILY     4.5  4449910  67M  100,000,000+  Free    0.0   \n",
       "2088  ROBLOX   FAMILY     4.5  4450855  67M  100,000,000+  Free    0.0   \n",
       "2206  ROBLOX   FAMILY     4.5  4450890  67M  100,000,000+  Free    0.0   \n",
       "4527  ROBLOX   FAMILY     4.5  4443407  67M  100,000,000+  Free    0.0   \n",
       "\n",
       "     Content Rating     Genres Last Updated   Current Ver Android Ver  \n",
       "1653            10+  Adventure   2018-07-31  2.347.225742  4.1 and up  \n",
       "1701            10+  Adventure   2018-07-31  2.347.225742  4.1 and up  \n",
       "1748            10+  Adventure   2018-07-31  2.347.225742  4.1 and up  \n",
       "1841            10+  Adventure   2018-07-31  2.347.225742  4.1 and up  \n",
       "1870            10+  Adventure   2018-07-31  2.347.225742  4.1 and up  \n",
       "2016            10+  Adventure   2018-07-31  2.347.225742  4.1 and up  \n",
       "2088            10+  Adventure   2018-07-31  2.347.225742  4.1 and up  \n",
       "2206            10+  Adventure   2018-07-31  2.347.225742  4.1 and up  \n",
       "4527            10+  Adventure   2018-07-31  2.347.225742  4.1 and up  "
      ]
     },
     "execution_count": 47,
     "metadata": {},
     "output_type": "execute_result"
    }
   ],
   "source": [
    "data[data['App'] == 'ROBLOX']"
   ]
  },
  {
   "cell_type": "markdown",
   "metadata": {},
   "source": [
    "This is definitely a duplicate!"
   ]
  },
  {
   "cell_type": "code",
   "execution_count": 48,
   "metadata": {},
   "outputs": [
    {
     "data": {
      "text/html": [
       "<div>\n",
       "<style scoped>\n",
       "    .dataframe tbody tr th:only-of-type {\n",
       "        vertical-align: middle;\n",
       "    }\n",
       "\n",
       "    .dataframe tbody tr th {\n",
       "        vertical-align: top;\n",
       "    }\n",
       "\n",
       "    .dataframe thead th {\n",
       "        text-align: right;\n",
       "    }\n",
       "</style>\n",
       "<table border=\"1\" class=\"dataframe\">\n",
       "  <thead>\n",
       "    <tr style=\"text-align: right;\">\n",
       "      <th></th>\n",
       "      <th>App</th>\n",
       "      <th>Category</th>\n",
       "      <th>Rating</th>\n",
       "      <th>Reviews</th>\n",
       "      <th>Size</th>\n",
       "      <th>Installs</th>\n",
       "      <th>Type</th>\n",
       "      <th>Price</th>\n",
       "      <th>Content Rating</th>\n",
       "      <th>Genres</th>\n",
       "      <th>Last Updated</th>\n",
       "      <th>Current Ver</th>\n",
       "      <th>Android Ver</th>\n",
       "    </tr>\n",
       "  </thead>\n",
       "  <tbody>\n",
       "    <tr>\n",
       "      <th>2959</th>\n",
       "      <td>ESPN</td>\n",
       "      <td>SPORTS</td>\n",
       "      <td>4.2</td>\n",
       "      <td>521138</td>\n",
       "      <td>Varies with device</td>\n",
       "      <td>10,000,000+</td>\n",
       "      <td>Free</td>\n",
       "      <td>0.0</td>\n",
       "      <td>10+</td>\n",
       "      <td>Sports</td>\n",
       "      <td>2018-07-19</td>\n",
       "      <td>Varies with device</td>\n",
       "      <td>5.0 and up</td>\n",
       "    </tr>\n",
       "    <tr>\n",
       "      <th>3010</th>\n",
       "      <td>ESPN</td>\n",
       "      <td>SPORTS</td>\n",
       "      <td>4.2</td>\n",
       "      <td>521138</td>\n",
       "      <td>Varies with device</td>\n",
       "      <td>10,000,000+</td>\n",
       "      <td>Free</td>\n",
       "      <td>0.0</td>\n",
       "      <td>10+</td>\n",
       "      <td>Sports</td>\n",
       "      <td>2018-07-19</td>\n",
       "      <td>Varies with device</td>\n",
       "      <td>5.0 and up</td>\n",
       "    </tr>\n",
       "    <tr>\n",
       "      <th>3018</th>\n",
       "      <td>ESPN</td>\n",
       "      <td>SPORTS</td>\n",
       "      <td>4.2</td>\n",
       "      <td>521138</td>\n",
       "      <td>Varies with device</td>\n",
       "      <td>10,000,000+</td>\n",
       "      <td>Free</td>\n",
       "      <td>0.0</td>\n",
       "      <td>10+</td>\n",
       "      <td>Sports</td>\n",
       "      <td>2018-07-19</td>\n",
       "      <td>Varies with device</td>\n",
       "      <td>5.0 and up</td>\n",
       "    </tr>\n",
       "    <tr>\n",
       "      <th>3048</th>\n",
       "      <td>ESPN</td>\n",
       "      <td>SPORTS</td>\n",
       "      <td>4.2</td>\n",
       "      <td>521140</td>\n",
       "      <td>Varies with device</td>\n",
       "      <td>10,000,000+</td>\n",
       "      <td>Free</td>\n",
       "      <td>0.0</td>\n",
       "      <td>10+</td>\n",
       "      <td>Sports</td>\n",
       "      <td>2018-07-19</td>\n",
       "      <td>Varies with device</td>\n",
       "      <td>5.0 and up</td>\n",
       "    </tr>\n",
       "    <tr>\n",
       "      <th>3060</th>\n",
       "      <td>ESPN</td>\n",
       "      <td>SPORTS</td>\n",
       "      <td>4.2</td>\n",
       "      <td>521140</td>\n",
       "      <td>Varies with device</td>\n",
       "      <td>10,000,000+</td>\n",
       "      <td>Free</td>\n",
       "      <td>0.0</td>\n",
       "      <td>10+</td>\n",
       "      <td>Sports</td>\n",
       "      <td>2018-07-19</td>\n",
       "      <td>Varies with device</td>\n",
       "      <td>5.0 and up</td>\n",
       "    </tr>\n",
       "    <tr>\n",
       "      <th>3072</th>\n",
       "      <td>ESPN</td>\n",
       "      <td>SPORTS</td>\n",
       "      <td>4.2</td>\n",
       "      <td>521140</td>\n",
       "      <td>Varies with device</td>\n",
       "      <td>10,000,000+</td>\n",
       "      <td>Free</td>\n",
       "      <td>0.0</td>\n",
       "      <td>10+</td>\n",
       "      <td>Sports</td>\n",
       "      <td>2018-07-19</td>\n",
       "      <td>Varies with device</td>\n",
       "      <td>5.0 and up</td>\n",
       "    </tr>\n",
       "    <tr>\n",
       "      <th>4069</th>\n",
       "      <td>ESPN</td>\n",
       "      <td>SPORTS</td>\n",
       "      <td>4.2</td>\n",
       "      <td>521081</td>\n",
       "      <td>Varies with device</td>\n",
       "      <td>10,000,000+</td>\n",
       "      <td>Free</td>\n",
       "      <td>0.0</td>\n",
       "      <td>10+</td>\n",
       "      <td>Sports</td>\n",
       "      <td>2018-07-19</td>\n",
       "      <td>Varies with device</td>\n",
       "      <td>5.0 and up</td>\n",
       "    </tr>\n",
       "  </tbody>\n",
       "</table>\n",
       "</div>"
      ],
      "text/plain": [
       "       App Category  Rating  Reviews                Size     Installs  Type  \\\n",
       "2959  ESPN   SPORTS     4.2   521138  Varies with device  10,000,000+  Free   \n",
       "3010  ESPN   SPORTS     4.2   521138  Varies with device  10,000,000+  Free   \n",
       "3018  ESPN   SPORTS     4.2   521138  Varies with device  10,000,000+  Free   \n",
       "3048  ESPN   SPORTS     4.2   521140  Varies with device  10,000,000+  Free   \n",
       "3060  ESPN   SPORTS     4.2   521140  Varies with device  10,000,000+  Free   \n",
       "3072  ESPN   SPORTS     4.2   521140  Varies with device  10,000,000+  Free   \n",
       "4069  ESPN   SPORTS     4.2   521081  Varies with device  10,000,000+  Free   \n",
       "\n",
       "      Price Content Rating  Genres Last Updated         Current Ver  \\\n",
       "2959    0.0            10+  Sports   2018-07-19  Varies with device   \n",
       "3010    0.0            10+  Sports   2018-07-19  Varies with device   \n",
       "3018    0.0            10+  Sports   2018-07-19  Varies with device   \n",
       "3048    0.0            10+  Sports   2018-07-19  Varies with device   \n",
       "3060    0.0            10+  Sports   2018-07-19  Varies with device   \n",
       "3072    0.0            10+  Sports   2018-07-19  Varies with device   \n",
       "4069    0.0            10+  Sports   2018-07-19  Varies with device   \n",
       "\n",
       "     Android Ver  \n",
       "2959  5.0 and up  \n",
       "3010  5.0 and up  \n",
       "3018  5.0 and up  \n",
       "3048  5.0 and up  \n",
       "3060  5.0 and up  \n",
       "3072  5.0 and up  \n",
       "4069  5.0 and up  "
      ]
     },
     "execution_count": 48,
     "metadata": {},
     "output_type": "execute_result"
    }
   ],
   "source": [
    "data[data.App=='ESPN']"
   ]
  },
  {
   "cell_type": "code",
   "execution_count": 49,
   "metadata": {},
   "outputs": [
    {
     "data": {
      "text/html": [
       "<div>\n",
       "<style scoped>\n",
       "    .dataframe tbody tr th:only-of-type {\n",
       "        vertical-align: middle;\n",
       "    }\n",
       "\n",
       "    .dataframe tbody tr th {\n",
       "        vertical-align: top;\n",
       "    }\n",
       "\n",
       "    .dataframe thead th {\n",
       "        text-align: right;\n",
       "    }\n",
       "</style>\n",
       "<table border=\"1\" class=\"dataframe\">\n",
       "  <thead>\n",
       "    <tr style=\"text-align: right;\">\n",
       "      <th></th>\n",
       "      <th>App</th>\n",
       "      <th>Category</th>\n",
       "      <th>Rating</th>\n",
       "      <th>Reviews</th>\n",
       "      <th>Size</th>\n",
       "      <th>Installs</th>\n",
       "      <th>Type</th>\n",
       "      <th>Price</th>\n",
       "      <th>Content Rating</th>\n",
       "      <th>Genres</th>\n",
       "      <th>Last Updated</th>\n",
       "      <th>Current Ver</th>\n",
       "      <th>Android Ver</th>\n",
       "    </tr>\n",
       "  </thead>\n",
       "  <tbody>\n",
       "    <tr>\n",
       "      <th>495</th>\n",
       "      <td>Clover Dating App</td>\n",
       "      <td>DATING</td>\n",
       "      <td>4.1</td>\n",
       "      <td>11633</td>\n",
       "      <td>23M</td>\n",
       "      <td>500,000+</td>\n",
       "      <td>Free</td>\n",
       "      <td>0.0</td>\n",
       "      <td>Mature 17+</td>\n",
       "      <td>Dating</td>\n",
       "      <td>2018-07-24</td>\n",
       "      <td>2.5.1</td>\n",
       "      <td>4.1 and up</td>\n",
       "    </tr>\n",
       "    <tr>\n",
       "      <th>550</th>\n",
       "      <td>Clover Dating App</td>\n",
       "      <td>DATING</td>\n",
       "      <td>4.1</td>\n",
       "      <td>11633</td>\n",
       "      <td>23M</td>\n",
       "      <td>500,000+</td>\n",
       "      <td>Free</td>\n",
       "      <td>0.0</td>\n",
       "      <td>Mature 17+</td>\n",
       "      <td>Dating</td>\n",
       "      <td>2018-07-24</td>\n",
       "      <td>2.5.1</td>\n",
       "      <td>4.1 and up</td>\n",
       "    </tr>\n",
       "  </tbody>\n",
       "</table>\n",
       "</div>"
      ],
      "text/plain": [
       "                   App Category  Rating  Reviews Size  Installs  Type  Price  \\\n",
       "495  Clover Dating App   DATING     4.1    11633  23M  500,000+  Free    0.0   \n",
       "550  Clover Dating App   DATING     4.1    11633  23M  500,000+  Free    0.0   \n",
       "\n",
       "    Content Rating  Genres Last Updated Current Ver Android Ver  \n",
       "495     Mature 17+  Dating   2018-07-24       2.5.1  4.1 and up  \n",
       "550     Mature 17+  Dating   2018-07-24       2.5.1  4.1 and up  "
      ]
     },
     "execution_count": 49,
     "metadata": {},
     "output_type": "execute_result"
    }
   ],
   "source": [
    "data[data.App == 'Clover Dating App']"
   ]
  },
  {
   "cell_type": "markdown",
   "metadata": {},
   "source": [
    "It would not be too much if an assumption to say that those 798 apps were duplicated when gathering the data. <br>\n",
    "I'd, therefore, be dropping duplicates.\n"
   ]
  },
  {
   "cell_type": "code",
   "execution_count": 50,
   "metadata": {},
   "outputs": [
    {
     "data": {
      "text/plain": [
       "(10840, 13)"
      ]
     },
     "execution_count": 50,
     "metadata": {},
     "output_type": "execute_result"
    }
   ],
   "source": [
    "# Before dropping\n",
    "data.shape\n"
   ]
  },
  {
   "cell_type": "code",
   "execution_count": 51,
   "metadata": {},
   "outputs": [
    {
     "data": {
      "text/html": [
       "<div>\n",
       "<style scoped>\n",
       "    .dataframe tbody tr th:only-of-type {\n",
       "        vertical-align: middle;\n",
       "    }\n",
       "\n",
       "    .dataframe tbody tr th {\n",
       "        vertical-align: top;\n",
       "    }\n",
       "\n",
       "    .dataframe thead th {\n",
       "        text-align: right;\n",
       "    }\n",
       "</style>\n",
       "<table border=\"1\" class=\"dataframe\">\n",
       "  <thead>\n",
       "    <tr style=\"text-align: right;\">\n",
       "      <th></th>\n",
       "      <th>App</th>\n",
       "      <th>Category</th>\n",
       "      <th>Rating</th>\n",
       "      <th>Reviews</th>\n",
       "      <th>Size</th>\n",
       "      <th>Installs</th>\n",
       "      <th>Type</th>\n",
       "      <th>Price</th>\n",
       "      <th>Content Rating</th>\n",
       "      <th>Genres</th>\n",
       "      <th>Last Updated</th>\n",
       "      <th>Current Ver</th>\n",
       "      <th>Android Ver</th>\n",
       "    </tr>\n",
       "  </thead>\n",
       "  <tbody>\n",
       "    <tr>\n",
       "      <th>229</th>\n",
       "      <td>Quick PDF Scanner + OCR FREE</td>\n",
       "      <td>BUSINESS</td>\n",
       "      <td>4.2</td>\n",
       "      <td>80805</td>\n",
       "      <td>Varies with device</td>\n",
       "      <td>5,000,000+</td>\n",
       "      <td>Free</td>\n",
       "      <td>0.0</td>\n",
       "      <td>Everyone</td>\n",
       "      <td>Business</td>\n",
       "      <td>2018-02-26</td>\n",
       "      <td>Varies with device</td>\n",
       "      <td>4.0.3 and up</td>\n",
       "    </tr>\n",
       "    <tr>\n",
       "      <th>236</th>\n",
       "      <td>Box</td>\n",
       "      <td>BUSINESS</td>\n",
       "      <td>4.2</td>\n",
       "      <td>159872</td>\n",
       "      <td>Varies with device</td>\n",
       "      <td>10,000,000+</td>\n",
       "      <td>Free</td>\n",
       "      <td>0.0</td>\n",
       "      <td>Everyone</td>\n",
       "      <td>Business</td>\n",
       "      <td>2018-07-31</td>\n",
       "      <td>Varies with device</td>\n",
       "      <td>Varies with device</td>\n",
       "    </tr>\n",
       "    <tr>\n",
       "      <th>239</th>\n",
       "      <td>Google My Business</td>\n",
       "      <td>BUSINESS</td>\n",
       "      <td>4.4</td>\n",
       "      <td>70991</td>\n",
       "      <td>Varies with device</td>\n",
       "      <td>5,000,000+</td>\n",
       "      <td>Free</td>\n",
       "      <td>0.0</td>\n",
       "      <td>Everyone</td>\n",
       "      <td>Business</td>\n",
       "      <td>2018-07-24</td>\n",
       "      <td>2.19.0.204537701</td>\n",
       "      <td>4.4 and up</td>\n",
       "    </tr>\n",
       "    <tr>\n",
       "      <th>256</th>\n",
       "      <td>ZOOM Cloud Meetings</td>\n",
       "      <td>BUSINESS</td>\n",
       "      <td>4.4</td>\n",
       "      <td>31614</td>\n",
       "      <td>37M</td>\n",
       "      <td>10,000,000+</td>\n",
       "      <td>Free</td>\n",
       "      <td>0.0</td>\n",
       "      <td>Everyone</td>\n",
       "      <td>Business</td>\n",
       "      <td>2018-07-20</td>\n",
       "      <td>4.1.28165.0716</td>\n",
       "      <td>4.0 and up</td>\n",
       "    </tr>\n",
       "    <tr>\n",
       "      <th>261</th>\n",
       "      <td>join.me - Simple Meetings</td>\n",
       "      <td>BUSINESS</td>\n",
       "      <td>4.0</td>\n",
       "      <td>6989</td>\n",
       "      <td>Varies with device</td>\n",
       "      <td>1,000,000+</td>\n",
       "      <td>Free</td>\n",
       "      <td>0.0</td>\n",
       "      <td>Everyone</td>\n",
       "      <td>Business</td>\n",
       "      <td>2018-07-16</td>\n",
       "      <td>4.3.0.508</td>\n",
       "      <td>4.4 and up</td>\n",
       "    </tr>\n",
       "    <tr>\n",
       "      <th>...</th>\n",
       "      <td>...</td>\n",
       "      <td>...</td>\n",
       "      <td>...</td>\n",
       "      <td>...</td>\n",
       "      <td>...</td>\n",
       "      <td>...</td>\n",
       "      <td>...</td>\n",
       "      <td>...</td>\n",
       "      <td>...</td>\n",
       "      <td>...</td>\n",
       "      <td>...</td>\n",
       "      <td>...</td>\n",
       "      <td>...</td>\n",
       "    </tr>\n",
       "    <tr>\n",
       "      <th>10715</th>\n",
       "      <td>FarmersOnly Dating</td>\n",
       "      <td>DATING</td>\n",
       "      <td>3.0</td>\n",
       "      <td>1145</td>\n",
       "      <td>1.4M</td>\n",
       "      <td>100,000+</td>\n",
       "      <td>Free</td>\n",
       "      <td>0.0</td>\n",
       "      <td>Mature 17+</td>\n",
       "      <td>Dating</td>\n",
       "      <td>2016-02-25</td>\n",
       "      <td>2.2</td>\n",
       "      <td>4.0 and up</td>\n",
       "    </tr>\n",
       "    <tr>\n",
       "      <th>10720</th>\n",
       "      <td>Firefox Focus: The privacy browser</td>\n",
       "      <td>COMMUNICATION</td>\n",
       "      <td>4.4</td>\n",
       "      <td>36981</td>\n",
       "      <td>4.0M</td>\n",
       "      <td>1,000,000+</td>\n",
       "      <td>Free</td>\n",
       "      <td>0.0</td>\n",
       "      <td>Everyone</td>\n",
       "      <td>Communication</td>\n",
       "      <td>2018-07-06</td>\n",
       "      <td>5.2</td>\n",
       "      <td>5.0 and up</td>\n",
       "    </tr>\n",
       "    <tr>\n",
       "      <th>10730</th>\n",
       "      <td>FP Notebook</td>\n",
       "      <td>MEDICAL</td>\n",
       "      <td>4.5</td>\n",
       "      <td>410</td>\n",
       "      <td>60M</td>\n",
       "      <td>50,000+</td>\n",
       "      <td>Free</td>\n",
       "      <td>0.0</td>\n",
       "      <td>Everyone</td>\n",
       "      <td>Medical</td>\n",
       "      <td>2018-03-24</td>\n",
       "      <td>2.1.0.372</td>\n",
       "      <td>4.4 and up</td>\n",
       "    </tr>\n",
       "    <tr>\n",
       "      <th>10753</th>\n",
       "      <td>Slickdeals: Coupons &amp; Shopping</td>\n",
       "      <td>SHOPPING</td>\n",
       "      <td>4.5</td>\n",
       "      <td>33599</td>\n",
       "      <td>12M</td>\n",
       "      <td>1,000,000+</td>\n",
       "      <td>Free</td>\n",
       "      <td>0.0</td>\n",
       "      <td>Everyone</td>\n",
       "      <td>Shopping</td>\n",
       "      <td>2018-07-30</td>\n",
       "      <td>3.9</td>\n",
       "      <td>4.4 and up</td>\n",
       "    </tr>\n",
       "    <tr>\n",
       "      <th>10768</th>\n",
       "      <td>AAFP</td>\n",
       "      <td>MEDICAL</td>\n",
       "      <td>3.8</td>\n",
       "      <td>63</td>\n",
       "      <td>24M</td>\n",
       "      <td>10,000+</td>\n",
       "      <td>Free</td>\n",
       "      <td>0.0</td>\n",
       "      <td>Everyone</td>\n",
       "      <td>Medical</td>\n",
       "      <td>2018-06-22</td>\n",
       "      <td>2.3.1</td>\n",
       "      <td>5.0 and up</td>\n",
       "    </tr>\n",
       "  </tbody>\n",
       "</table>\n",
       "<p>1181 rows × 13 columns</p>\n",
       "</div>"
      ],
      "text/plain": [
       "                                      App       Category  Rating  Reviews  \\\n",
       "229          Quick PDF Scanner + OCR FREE       BUSINESS     4.2    80805   \n",
       "236                                   Box       BUSINESS     4.2   159872   \n",
       "239                    Google My Business       BUSINESS     4.4    70991   \n",
       "256                   ZOOM Cloud Meetings       BUSINESS     4.4    31614   \n",
       "261             join.me - Simple Meetings       BUSINESS     4.0     6989   \n",
       "...                                   ...            ...     ...      ...   \n",
       "10715                  FarmersOnly Dating         DATING     3.0     1145   \n",
       "10720  Firefox Focus: The privacy browser  COMMUNICATION     4.4    36981   \n",
       "10730                         FP Notebook        MEDICAL     4.5      410   \n",
       "10753      Slickdeals: Coupons & Shopping       SHOPPING     4.5    33599   \n",
       "10768                                AAFP        MEDICAL     3.8       63   \n",
       "\n",
       "                     Size     Installs  Type  Price Content Rating  \\\n",
       "229    Varies with device   5,000,000+  Free    0.0       Everyone   \n",
       "236    Varies with device  10,000,000+  Free    0.0       Everyone   \n",
       "239    Varies with device   5,000,000+  Free    0.0       Everyone   \n",
       "256                   37M  10,000,000+  Free    0.0       Everyone   \n",
       "261    Varies with device   1,000,000+  Free    0.0       Everyone   \n",
       "...                   ...          ...   ...    ...            ...   \n",
       "10715                1.4M     100,000+  Free    0.0     Mature 17+   \n",
       "10720                4.0M   1,000,000+  Free    0.0       Everyone   \n",
       "10730                 60M      50,000+  Free    0.0       Everyone   \n",
       "10753                 12M   1,000,000+  Free    0.0       Everyone   \n",
       "10768                 24M      10,000+  Free    0.0       Everyone   \n",
       "\n",
       "              Genres Last Updated         Current Ver         Android Ver  \n",
       "229         Business   2018-02-26  Varies with device        4.0.3 and up  \n",
       "236         Business   2018-07-31  Varies with device  Varies with device  \n",
       "239         Business   2018-07-24    2.19.0.204537701          4.4 and up  \n",
       "256         Business   2018-07-20      4.1.28165.0716          4.0 and up  \n",
       "261         Business   2018-07-16           4.3.0.508          4.4 and up  \n",
       "...              ...          ...                 ...                 ...  \n",
       "10715         Dating   2016-02-25                 2.2          4.0 and up  \n",
       "10720  Communication   2018-07-06                 5.2          5.0 and up  \n",
       "10730        Medical   2018-03-24           2.1.0.372          4.4 and up  \n",
       "10753       Shopping   2018-07-30                 3.9          4.4 and up  \n",
       "10768        Medical   2018-06-22               2.3.1          5.0 and up  \n",
       "\n",
       "[1181 rows x 13 columns]"
      ]
     },
     "execution_count": 51,
     "metadata": {},
     "output_type": "execute_result"
    }
   ],
   "source": [
    "duplicate = data[data.App.duplicated()]\n",
    "duplicate"
   ]
  },
  {
   "cell_type": "code",
   "execution_count": 52,
   "metadata": {},
   "outputs": [],
   "source": [
    "data = data.drop(duplicate.index)"
   ]
  },
  {
   "cell_type": "code",
   "execution_count": 53,
   "metadata": {},
   "outputs": [
    {
     "data": {
      "text/plain": [
       "(9659, 13)"
      ]
     },
     "execution_count": 53,
     "metadata": {},
     "output_type": "execute_result"
    }
   ],
   "source": [
    "# After dropping\n",
    "data.shape"
   ]
  },
  {
   "cell_type": "code",
   "execution_count": 54,
   "metadata": {},
   "outputs": [
    {
     "data": {
      "text/plain": [
       "(9659, 13)"
      ]
     },
     "execution_count": 54,
     "metadata": {},
     "output_type": "execute_result"
    }
   ],
   "source": [
    "# After dropping\n",
    "data.shape"
   ]
  },
  {
   "cell_type": "code",
   "execution_count": 55,
   "metadata": {},
   "outputs": [
    {
     "data": {
      "text/plain": [
       "Series([], Name: App, dtype: int64)"
      ]
     },
     "execution_count": 55,
     "metadata": {},
     "output_type": "execute_result"
    }
   ],
   "source": [
    "# After dropping\n",
    "Apps = data['App'].value_counts()\n",
    "Apps[Apps>1]\n"
   ]
  },
  {
   "cell_type": "markdown",
   "metadata": {},
   "source": [
    "__Data Cleaned.__  <br>\n",
    "I'd go ahead and save the cleaned version of it.\n"
   ]
  },
  {
   "cell_type": "code",
   "execution_count": 56,
   "metadata": {},
   "outputs": [],
   "source": [
    "data.to_csv('CLEANED Playstore App Dataset.csv')"
   ]
  },
  {
   "cell_type": "markdown",
   "metadata": {},
   "source": [
    "# Section 2: Exploratory Data Analysis.\n"
   ]
  },
  {
   "cell_type": "markdown",
   "metadata": {},
   "source": [
    "Google Play Store has a whole lot of category. I'm curious to know which category most of the apps there fall to.\n"
   ]
  },
  {
   "cell_type": "code",
   "execution_count": 57,
   "metadata": {},
   "outputs": [
    {
     "data": {
      "image/png": "[encoded data removed]",
      "text/plain": [
       "<Figure size 1200x1500 with 1 Axes>"
      ]
     },
     "metadata": {},
     "output_type": "display_data"
    }
   ],
   "source": [
    "fig, ax = plt.subplots(figsize=(12,15))\n",
    "plot =sns.countplot(y=data['Category'],ax=ax,color='grey')\n",
    "for i in plot.patches:\n",
    "    plot.annotate(i.get_width(),(i.get_width()+30,i.get_y()+0.6))\n",
    "    if i.get_width()==data['Category'].value_counts().max():\n",
    "     i.set_color('brown')\n",
    "    if i.get_width()==data['Category'].value_counts().min():\n",
    "     i.set_color('brown')\n",
    "for i in ['left','right','top']:\n",
    "    ax.spines[i].set_visible(False)\n",
    "ax.tick_params(bottom=False, left =\"\", labelsize='large')\n",
    "plt.title('A Barplot Showing the Number of Apps Made in Each Category.\\n\\n',fontsize = 20, color = 'grey');"
   ]
  },
  {
   "cell_type": "markdown",
   "metadata": {},
   "source": [
    "Family! <br>\n",
    "Most of the Google Play Store Apps are of the Family category, while the least is Comics."
   ]
  },
  {
   "cell_type": "markdown",
   "metadata": {},
   "source": [
    "Of the Family Category, which genre (sub-category) is the most famous?"
   ]
  },
  {
   "cell_type": "code",
   "execution_count": 58,
   "metadata": {},
   "outputs": [
    {
     "data": {
      "image/png": "[encoded data removed]",
      "text/plain": [
       "<Figure size 1200x1500 with 1 Axes>"
      ]
     },
     "metadata": {},
     "output_type": "display_data"
    }
   ],
   "source": [
    "fig, ax = plt.subplots(figsize=(12,15))\n",
    "Family_genre = data['Genres'][data['Category']=='FAMILY']\n",
    "plott = Family_genre.value_counts()[:10].plot.bar(color=['brown','brown','grey','grey','grey','grey','grey','grey','grey','grey'])\n",
    "\n",
    "for i in plott.patches:\n",
    "    plott.annotate(i.get_height(),(i.get_x()+0.1,i.get_height()+4))\n",
    "for i in ['left','top','right']:\n",
    "    ax.spines[i].set_visible(False)\n",
    "ax.tick_params(bottom=False,left=False,labelsize='large')"
   ]
  },
  {
   "cell_type": "markdown",
   "metadata": {},
   "source": [
    "\"Around the world today, a larger fraction of developers are developing apps in the Family Category to majorly educate or <br>\n",
    "entertain them.\" - Our data just revealed this to us! "
   ]
  },
  {
   "cell_type": "markdown",
   "metadata": {},
   "source": [
    "Do they sell most of their apps or place them for free?"
   ]
  },
  {
   "cell_type": "code",
   "execution_count": 59,
   "metadata": {},
   "outputs": [
    {
     "data": {
      "text/plain": [
       "Text(0.5, 1.0, 'A Barplot Showing the Proportion of the Type of Apps Made in the FAMILY Category.\\n\\n')"
      ]
     },
     "execution_count": 59,
     "metadata": {},
     "output_type": "execute_result"
    },
    {
     "data": {
      "image/png": "[encoded data removed]",
      "text/plain": [
       "<Figure size 1000x700 with 1 Axes>"
      ]
     },
     "metadata": {},
     "output_type": "display_data"
    }
   ],
   "source": [
    "fig,ax = plt.subplots(figsize=(10,7))\n",
    "Family_Type = data['Type'][data['Category']=='FAMILY']\n",
    "plottt = Family_Type.value_counts().plot.bar(color='brown',width= .18)\n",
    "for i in plottt.patches:\n",
    "    plottt.annotate('{}%'.format(round(i.get_height()/len(Family_Type)*100)),(i.get_x()+0.03,i.get_height()+3))\n",
    "for i in ['top','right']:\n",
    "    ax.spines[i].set_visible(False)\n",
    "plt.ylabel('Counts\\n\\n') \n",
    "plt.yticks([0,400,800,1200,1600])\n",
    "ax.tick_params(bottom=False,left=False,labelsize='larger')\n",
    "plt.title('A Barplot Showing the Proportion of the Type of Apps Made in the FAMILY Category.\\n\\n',fontsize=20,color='grey')"
   ]
  },
  {
   "cell_type": "markdown",
   "metadata": {},
   "source": [
    "A whole lot of the apps made under this 'popular' category are free! Infact, most apps from our data are free to download.\n"
   ]
  },
  {
   "cell_type": "markdown",
   "metadata": {},
   "source": [
    "Do they get a high rating for their apps, compared to other categories?"
   ]
  },
  {
   "cell_type": "code",
   "execution_count": 60,
   "metadata": {},
   "outputs": [
    {
     "data": {
      "text/plain": [
       "Category\n",
       "EVENTS                   4.425000\n",
       "EDUCATION                4.363866\n",
       "ART  AND  DESIGN         4.356106\n",
       "BOOKS  AND  REFERENCE    4.334234\n",
       "PERSONALIZATION          4.325532\n",
       "BEAUTY                   4.283019\n",
       "PARENTING                4.273333\n",
       "SOCIAL                   4.255230\n",
       "HEALTH  AND  FITNESS     4.251736\n",
       "GAME                     4.245464\n",
       "WEATHER                  4.239241\n",
       "SHOPPING                 4.237624\n",
       "SPORTS                   4.212923\n",
       "AUTO  AND  VEHICLES      4.191765\n",
       "PRODUCTIVITY             4.186631\n",
       "LIBRARIES  AND  DEMO     4.183333\n",
       "FAMILY                   4.183173\n",
       "COMICS                   4.178571\n",
       "FOOD  AND  DRINK         4.176786\n",
       "MEDICAL                  4.175443\n",
       "PHOTOGRAPHY              4.160142\n",
       "HOUSE  AND  HOME         4.158108\n",
       "COMMUNICATION            4.136190\n",
       "ENTERTAINMENT            4.135294\n",
       "NEWS  AND  MAGAZINES     4.117323\n",
       "FINANCE                  4.113623\n",
       "BUSINESS                 4.099048\n",
       "LIFESTYLE                4.094580\n",
       "TRAVEL  AND  LOCAL       4.073973\n",
       "VIDEO  PLAYERS           4.049693\n",
       "MAPS  AND  NAVIGATION    4.042748\n",
       "TOOLS                    4.034341\n",
       "DATING                   3.976608\n",
       "Name: Rating, dtype: float64"
      ]
     },
     "execution_count": 60,
     "metadata": {},
     "output_type": "execute_result"
    }
   ],
   "source": [
    "Family_Rating = data['Rating'].groupby(data['Category']).mean().sort_values(ascending = False)\n",
    "Family_Rating"
   ]
  },
  {
   "cell_type": "code",
   "execution_count": 61,
   "metadata": {},
   "outputs": [
    {
     "data": {
      "image/png": "[encoded data removed]",
      "text/plain": [
       "<Figure size 1200x700 with 1 Axes>"
      ]
     },
     "metadata": {},
     "output_type": "display_data"
    }
   ],
   "source": [
    "fig, ax = plt.subplots(figsize=(12,7))\n",
    "ax.plot(Family_Rating[:16], color = 'grey',)\n",
    "ax.plot(Family_Rating[15:18], color = 'brown', alpha = 1, marker = 2, ls = ':')\n",
    "ax.plot(Family_Rating[17:], color = 'grey')\n",
    "plot = Family_Rating.plot.bar(color='grey')\n",
    "for i in plot.patches:\n",
    " if i.get_height()==Family_Rating[16]:\n",
    "     i.set_color('brown')\n",
    "\n",
    "for i in ['top','right','left', 'bottom']:\n",
    " ax.spines[i].set_visible(False)\n",
    "ax.tick_params(left = False, labelsize = 'large')\n",
    "plt.xticks(['EVENTS','FAMILY','DATING'], rotation=0)\n",
    "plt.xlabel('\\n\\nCategory')\n",
    "plt.ylabel('Ratings\\n\\n')\n",
    "plt.title('A Barplot Showing the Average Rating Rank of Each Category.\\n\\n',fontsize = 20, color = 'grey')\n",
    "plt.yticks([4.1,4.3,4.5]);\n"
   ]
  },
  {
   "cell_type": "markdown",
   "metadata": {},
   "source": [
    "Though the FAMILY Category has the highest number of apps, it has no important Rating rank among other categories. <br>\n",
    "EVENTS and DATING have the highest and lowest ranks, respectively.\n"
   ]
  },
  {
   "cell_type": "markdown",
   "metadata": {},
   "source": [
    "__Still on the FAMILY Category:__ <br>\n",
    "What is the minimum number of Installs they get? What's the maximum? What's the avarage, with respect to the other categories?"
   ]
  },
  {
   "cell_type": "code",
   "execution_count": 62,
   "metadata": {},
   "outputs": [
    {
     "data": {
      "text/plain": [
       "Category\n",
       "ENTERTAINMENT            1,000,000+\n",
       "WEATHER                      1,000+\n",
       "BEAUTY                       1,000+\n",
       "VIDEO  PLAYERS               1,000+\n",
       "COMICS                       1,000+\n",
       "SHOPPING                     1,000+\n",
       "EDUCATION                    1,000+\n",
       "PHOTOGRAPHY                  1,000+\n",
       "PARENTING                    1,000+\n",
       "MAPS  AND  NAVIGATION        1,000+\n",
       "LIBRARIES  AND  DEMO         1,000+\n",
       "HEALTH  AND  FITNESS             1+\n",
       "TOOLS                            1+\n",
       "SPORTS                           1+\n",
       "AUTO  AND  VEHICLES              1+\n",
       "HOUSE  AND  HOME                 1+\n",
       "GAME                             1+\n",
       "FOOD  AND  DRINK                 1+\n",
       "BOOKS  AND  REFERENCE            1+\n",
       "COMMUNICATION                    1+\n",
       "DATING                           1+\n",
       "EVENTS                           1+\n",
       "PERSONALIZATION                  0+\n",
       "NEWS  AND  MAGAZINES             0+\n",
       "PRODUCTIVITY                     0+\n",
       "MEDICAL                          0+\n",
       "SOCIAL                           0+\n",
       "FINANCE                          0+\n",
       "BUSINESS                         0+\n",
       "TRAVEL  AND  LOCAL               0+\n",
       "LIFESTYLE                        0+\n",
       "ART  AND  DESIGN                 0+\n",
       "FAMILY                            0\n",
       "Name: Installs, dtype: object"
      ]
     },
     "execution_count": 62,
     "metadata": {},
     "output_type": "execute_result"
    }
   ],
   "source": [
    "data['Installs'].groupby(data['Category']).min().sort_values(ascending=False)"
   ]
  },
  {
   "cell_type": "markdown",
   "metadata": {},
   "source": [
    "The FAMILY Category ranks the lowest in both Series. Its maximum Installs value is so low! What's more shocking? There is even an\n",
    "app with zero installs and this is found in the FAMILY Category! I'd like to download that app, though 😂.\n"
   ]
  },
  {
   "cell_type": "code",
   "execution_count": 63,
   "metadata": {},
   "outputs": [
    {
     "data": {
      "text/html": [
       "<div>\n",
       "<style scoped>\n",
       "    .dataframe tbody tr th:only-of-type {\n",
       "        vertical-align: middle;\n",
       "    }\n",
       "\n",
       "    .dataframe tbody tr th {\n",
       "        vertical-align: top;\n",
       "    }\n",
       "\n",
       "    .dataframe thead th {\n",
       "        text-align: right;\n",
       "    }\n",
       "</style>\n",
       "<table border=\"1\" class=\"dataframe\">\n",
       "  <thead>\n",
       "    <tr style=\"text-align: right;\">\n",
       "      <th></th>\n",
       "      <th>App</th>\n",
       "      <th>Category</th>\n",
       "      <th>Rating</th>\n",
       "      <th>Reviews</th>\n",
       "      <th>Size</th>\n",
       "      <th>Installs</th>\n",
       "      <th>Type</th>\n",
       "      <th>Price</th>\n",
       "      <th>Content Rating</th>\n",
       "      <th>Genres</th>\n",
       "      <th>Last Updated</th>\n",
       "      <th>Current Ver</th>\n",
       "      <th>Android Ver</th>\n",
       "    </tr>\n",
       "  </thead>\n",
       "  <tbody>\n",
       "    <tr>\n",
       "      <th>9148</th>\n",
       "      <td>Command &amp; Conquer: Rivals</td>\n",
       "      <td>FAMILY</td>\n",
       "      <td>4.2</td>\n",
       "      <td>0</td>\n",
       "      <td>Varies with device</td>\n",
       "      <td>0</td>\n",
       "      <td>Free</td>\n",
       "      <td>0.0</td>\n",
       "      <td>10+</td>\n",
       "      <td>Strategy</td>\n",
       "      <td>2018-06-28</td>\n",
       "      <td>Varies with device</td>\n",
       "      <td>Varies with device</td>\n",
       "    </tr>\n",
       "  </tbody>\n",
       "</table>\n",
       "</div>"
      ],
      "text/plain": [
       "                            App Category  Rating  Reviews                Size  \\\n",
       "9148  Command & Conquer: Rivals   FAMILY     4.2        0  Varies with device   \n",
       "\n",
       "     Installs  Type  Price Content Rating    Genres Last Updated  \\\n",
       "9148        0  Free    0.0            10+  Strategy   2018-06-28   \n",
       "\n",
       "             Current Ver         Android Ver  \n",
       "9148  Varies with device  Varies with device  "
      ]
     },
     "execution_count": 63,
     "metadata": {},
     "output_type": "execute_result"
    }
   ],
   "source": [
    " data[data['Installs']=='0']"
   ]
  },
  {
   "cell_type": "markdown",
   "metadata": {},
   "source": [
    "Which apps in the Google Play Store are famous? Apps with the highest installs would reveal this to us. \n"
   ]
  },
  {
   "cell_type": "markdown",
   "metadata": {},
   "source": [
    "Under which category do most of them fall?\n"
   ]
  },
  {
   "cell_type": "code",
   "execution_count": 64,
   "metadata": {},
   "outputs": [
    {
     "data": {
      "text/html": [
       "<div>\n",
       "<style scoped>\n",
       "    .dataframe tbody tr th:only-of-type {\n",
       "        vertical-align: middle;\n",
       "    }\n",
       "\n",
       "    .dataframe tbody tr th {\n",
       "        vertical-align: top;\n",
       "    }\n",
       "\n",
       "    .dataframe thead th {\n",
       "        text-align: right;\n",
       "    }\n",
       "</style>\n",
       "<table border=\"1\" class=\"dataframe\">\n",
       "  <thead>\n",
       "    <tr style=\"text-align: right;\">\n",
       "      <th></th>\n",
       "      <th>App</th>\n",
       "      <th>Category</th>\n",
       "      <th>Rating</th>\n",
       "      <th>Reviews</th>\n",
       "      <th>Size</th>\n",
       "      <th>Installs</th>\n",
       "      <th>Type</th>\n",
       "      <th>Price</th>\n",
       "      <th>Content Rating</th>\n",
       "      <th>Genres</th>\n",
       "      <th>Last Updated</th>\n",
       "      <th>Current Ver</th>\n",
       "      <th>Android Ver</th>\n",
       "    </tr>\n",
       "  </thead>\n",
       "  <tbody>\n",
       "    <tr>\n",
       "      <th>342</th>\n",
       "      <td>Viber Messenger</td>\n",
       "      <td>COMMUNICATION</td>\n",
       "      <td>4.3</td>\n",
       "      <td>11334799</td>\n",
       "      <td>Varies with device</td>\n",
       "      <td>500,000,000+</td>\n",
       "      <td>Free</td>\n",
       "      <td>0.0</td>\n",
       "      <td>Everyone</td>\n",
       "      <td>Communication</td>\n",
       "      <td>2018-07-18</td>\n",
       "      <td>Varies with device</td>\n",
       "      <td>Varies with device</td>\n",
       "    </tr>\n",
       "    <tr>\n",
       "      <th>347</th>\n",
       "      <td>imo free video calls and chat</td>\n",
       "      <td>COMMUNICATION</td>\n",
       "      <td>4.3</td>\n",
       "      <td>4785892</td>\n",
       "      <td>11M</td>\n",
       "      <td>500,000,000+</td>\n",
       "      <td>Free</td>\n",
       "      <td>0.0</td>\n",
       "      <td>Everyone</td>\n",
       "      <td>Communication</td>\n",
       "      <td>2018-06-08</td>\n",
       "      <td>9.8.000000010501</td>\n",
       "      <td>4.0 and up</td>\n",
       "    </tr>\n",
       "    <tr>\n",
       "      <th>371</th>\n",
       "      <td>Google Duo - High Quality Video Calls</td>\n",
       "      <td>COMMUNICATION</td>\n",
       "      <td>4.6</td>\n",
       "      <td>2083237</td>\n",
       "      <td>Varies with device</td>\n",
       "      <td>500,000,000+</td>\n",
       "      <td>Free</td>\n",
       "      <td>0.0</td>\n",
       "      <td>Everyone</td>\n",
       "      <td>Communication</td>\n",
       "      <td>2018-07-31</td>\n",
       "      <td>37.1.206017801.DR37_RC14</td>\n",
       "      <td>4.4 and up</td>\n",
       "    </tr>\n",
       "    <tr>\n",
       "      <th>378</th>\n",
       "      <td>UC Browser - Fast Download Private &amp; Secure</td>\n",
       "      <td>COMMUNICATION</td>\n",
       "      <td>4.5</td>\n",
       "      <td>17712922</td>\n",
       "      <td>40M</td>\n",
       "      <td>500,000,000+</td>\n",
       "      <td>Free</td>\n",
       "      <td>0.0</td>\n",
       "      <td>Teen</td>\n",
       "      <td>Communication</td>\n",
       "      <td>2018-08-02</td>\n",
       "      <td>12.8.5.1121</td>\n",
       "      <td>4.0 and up</td>\n",
       "    </tr>\n",
       "    <tr>\n",
       "      <th>403</th>\n",
       "      <td>LINE: Free Calls &amp; Messages</td>\n",
       "      <td>COMMUNICATION</td>\n",
       "      <td>4.2</td>\n",
       "      <td>10790289</td>\n",
       "      <td>Varies with device</td>\n",
       "      <td>500,000,000+</td>\n",
       "      <td>Free</td>\n",
       "      <td>0.0</td>\n",
       "      <td>Everyone</td>\n",
       "      <td>Communication</td>\n",
       "      <td>2018-07-26</td>\n",
       "      <td>Varies with device</td>\n",
       "      <td>Varies with device</td>\n",
       "    </tr>\n",
       "    <tr>\n",
       "      <th>1655</th>\n",
       "      <td>Candy Crush Saga</td>\n",
       "      <td>GAME</td>\n",
       "      <td>4.4</td>\n",
       "      <td>22426677</td>\n",
       "      <td>74M</td>\n",
       "      <td>500,000,000+</td>\n",
       "      <td>Free</td>\n",
       "      <td>0.0</td>\n",
       "      <td>Everyone</td>\n",
       "      <td>Casual</td>\n",
       "      <td>2018-07-05</td>\n",
       "      <td>1.129.0.2</td>\n",
       "      <td>4.1 and up</td>\n",
       "    </tr>\n",
       "    <tr>\n",
       "      <th>1661</th>\n",
       "      <td>Temple Run 2</td>\n",
       "      <td>GAME</td>\n",
       "      <td>4.3</td>\n",
       "      <td>8118609</td>\n",
       "      <td>62M</td>\n",
       "      <td>500,000,000+</td>\n",
       "      <td>Free</td>\n",
       "      <td>0.0</td>\n",
       "      <td>Everyone</td>\n",
       "      <td>Action</td>\n",
       "      <td>2018-07-05</td>\n",
       "      <td>1.49.1</td>\n",
       "      <td>4.0 and up</td>\n",
       "    </tr>\n",
       "    <tr>\n",
       "      <th>1662</th>\n",
       "      <td>Pou</td>\n",
       "      <td>GAME</td>\n",
       "      <td>4.3</td>\n",
       "      <td>10485308</td>\n",
       "      <td>24M</td>\n",
       "      <td>500,000,000+</td>\n",
       "      <td>Free</td>\n",
       "      <td>0.0</td>\n",
       "      <td>Everyone</td>\n",
       "      <td>Casual</td>\n",
       "      <td>2018-05-25</td>\n",
       "      <td>1.4.77</td>\n",
       "      <td>4.0 and up</td>\n",
       "    </tr>\n",
       "    <tr>\n",
       "      <th>1722</th>\n",
       "      <td>My Talking Tom</td>\n",
       "      <td>GAME</td>\n",
       "      <td>4.5</td>\n",
       "      <td>14891223</td>\n",
       "      <td>Varies with device</td>\n",
       "      <td>500,000,000+</td>\n",
       "      <td>Free</td>\n",
       "      <td>0.0</td>\n",
       "      <td>Everyone</td>\n",
       "      <td>Casual</td>\n",
       "      <td>2018-07-19</td>\n",
       "      <td>4.8.0.132</td>\n",
       "      <td>4.1 and up</td>\n",
       "    </tr>\n",
       "    <tr>\n",
       "      <th>2546</th>\n",
       "      <td>Facebook Lite</td>\n",
       "      <td>SOCIAL</td>\n",
       "      <td>4.3</td>\n",
       "      <td>8606259</td>\n",
       "      <td>Varies with device</td>\n",
       "      <td>500,000,000+</td>\n",
       "      <td>Free</td>\n",
       "      <td>0.0</td>\n",
       "      <td>Teen</td>\n",
       "      <td>Social</td>\n",
       "      <td>2018-08-01</td>\n",
       "      <td>Varies with device</td>\n",
       "      <td>Varies with device</td>\n",
       "    </tr>\n",
       "    <tr>\n",
       "      <th>2550</th>\n",
       "      <td>Snapchat</td>\n",
       "      <td>SOCIAL</td>\n",
       "      <td>4.0</td>\n",
       "      <td>17014787</td>\n",
       "      <td>Varies with device</td>\n",
       "      <td>500,000,000+</td>\n",
       "      <td>Free</td>\n",
       "      <td>0.0</td>\n",
       "      <td>Teen</td>\n",
       "      <td>Social</td>\n",
       "      <td>2018-07-30</td>\n",
       "      <td>Varies with device</td>\n",
       "      <td>Varies with device</td>\n",
       "    </tr>\n",
       "    <tr>\n",
       "      <th>3235</th>\n",
       "      <td>Google Translate</td>\n",
       "      <td>TOOLS</td>\n",
       "      <td>4.4</td>\n",
       "      <td>5745093</td>\n",
       "      <td>Varies with device</td>\n",
       "      <td>500,000,000+</td>\n",
       "      <td>Free</td>\n",
       "      <td>0.0</td>\n",
       "      <td>Everyone</td>\n",
       "      <td>Tools</td>\n",
       "      <td>2018-08-04</td>\n",
       "      <td>Varies with device</td>\n",
       "      <td>Varies with device</td>\n",
       "    </tr>\n",
       "    <tr>\n",
       "      <th>3255</th>\n",
       "      <td>SHAREit - Transfer &amp; Share</td>\n",
       "      <td>TOOLS</td>\n",
       "      <td>4.6</td>\n",
       "      <td>7790693</td>\n",
       "      <td>17M</td>\n",
       "      <td>500,000,000+</td>\n",
       "      <td>Free</td>\n",
       "      <td>0.0</td>\n",
       "      <td>Everyone</td>\n",
       "      <td>Tools</td>\n",
       "      <td>2018-07-30</td>\n",
       "      <td>4.5.28_ww</td>\n",
       "      <td>4.1 and up</td>\n",
       "    </tr>\n",
       "    <tr>\n",
       "      <th>3265</th>\n",
       "      <td>Gboard - the Google Keyboard</td>\n",
       "      <td>TOOLS</td>\n",
       "      <td>4.2</td>\n",
       "      <td>1859115</td>\n",
       "      <td>Varies with device</td>\n",
       "      <td>500,000,000+</td>\n",
       "      <td>Free</td>\n",
       "      <td>0.0</td>\n",
       "      <td>Everyone</td>\n",
       "      <td>Tools</td>\n",
       "      <td>2018-07-31</td>\n",
       "      <td>Varies with device</td>\n",
       "      <td>Varies with device</td>\n",
       "    </tr>\n",
       "    <tr>\n",
       "      <th>3450</th>\n",
       "      <td>Microsoft Word</td>\n",
       "      <td>PRODUCTIVITY</td>\n",
       "      <td>4.5</td>\n",
       "      <td>2084126</td>\n",
       "      <td>Varies with device</td>\n",
       "      <td>500,000,000+</td>\n",
       "      <td>Free</td>\n",
       "      <td>0.0</td>\n",
       "      <td>Everyone</td>\n",
       "      <td>Productivity</td>\n",
       "      <td>2018-07-11</td>\n",
       "      <td>16.0.10325.20043</td>\n",
       "      <td>4.4 and up</td>\n",
       "    </tr>\n",
       "    <tr>\n",
       "      <th>3473</th>\n",
       "      <td>Dropbox</td>\n",
       "      <td>PRODUCTIVITY</td>\n",
       "      <td>4.4</td>\n",
       "      <td>1861310</td>\n",
       "      <td>61M</td>\n",
       "      <td>500,000,000+</td>\n",
       "      <td>Free</td>\n",
       "      <td>0.0</td>\n",
       "      <td>Everyone</td>\n",
       "      <td>Productivity</td>\n",
       "      <td>2018-08-01</td>\n",
       "      <td>Varies with device</td>\n",
       "      <td>Varies with device</td>\n",
       "    </tr>\n",
       "    <tr>\n",
       "      <th>3476</th>\n",
       "      <td>Google Calendar</td>\n",
       "      <td>PRODUCTIVITY</td>\n",
       "      <td>4.2</td>\n",
       "      <td>858208</td>\n",
       "      <td>Varies with device</td>\n",
       "      <td>500,000,000+</td>\n",
       "      <td>Free</td>\n",
       "      <td>0.0</td>\n",
       "      <td>Everyone</td>\n",
       "      <td>Productivity</td>\n",
       "      <td>2018-08-06</td>\n",
       "      <td>Varies with device</td>\n",
       "      <td>Varies with device</td>\n",
       "    </tr>\n",
       "    <tr>\n",
       "      <th>3574</th>\n",
       "      <td>Cloud Print</td>\n",
       "      <td>PRODUCTIVITY</td>\n",
       "      <td>4.1</td>\n",
       "      <td>282460</td>\n",
       "      <td>Varies with device</td>\n",
       "      <td>500,000,000+</td>\n",
       "      <td>Free</td>\n",
       "      <td>0.0</td>\n",
       "      <td>Everyone</td>\n",
       "      <td>Productivity</td>\n",
       "      <td>2018-05-23</td>\n",
       "      <td>Varies with device</td>\n",
       "      <td>Varies with device</td>\n",
       "    </tr>\n",
       "    <tr>\n",
       "      <th>3703</th>\n",
       "      <td>MX Player</td>\n",
       "      <td>VIDEO  PLAYERS</td>\n",
       "      <td>4.5</td>\n",
       "      <td>6474426</td>\n",
       "      <td>Varies with device</td>\n",
       "      <td>500,000,000+</td>\n",
       "      <td>Free</td>\n",
       "      <td>0.0</td>\n",
       "      <td>Everyone</td>\n",
       "      <td>Video Players &amp; Editors</td>\n",
       "      <td>2018-08-06</td>\n",
       "      <td>Varies with device</td>\n",
       "      <td>Varies with device</td>\n",
       "    </tr>\n",
       "    <tr>\n",
       "      <th>3739</th>\n",
       "      <td>Twitter</td>\n",
       "      <td>NEWS  AND  MAGAZINES</td>\n",
       "      <td>4.3</td>\n",
       "      <td>11667403</td>\n",
       "      <td>Varies with device</td>\n",
       "      <td>500,000,000+</td>\n",
       "      <td>Free</td>\n",
       "      <td>0.0</td>\n",
       "      <td>Mature 17+</td>\n",
       "      <td>News &amp; Magazines</td>\n",
       "      <td>2018-08-06</td>\n",
       "      <td>Varies with device</td>\n",
       "      <td>Varies with device</td>\n",
       "    </tr>\n",
       "    <tr>\n",
       "      <th>3755</th>\n",
       "      <td>Flipboard: News For Our Time</td>\n",
       "      <td>NEWS  AND  MAGAZINES</td>\n",
       "      <td>4.4</td>\n",
       "      <td>1284017</td>\n",
       "      <td>Varies with device</td>\n",
       "      <td>500,000,000+</td>\n",
       "      <td>Free</td>\n",
       "      <td>0.0</td>\n",
       "      <td>10+</td>\n",
       "      <td>News &amp; Magazines</td>\n",
       "      <td>2018-08-03</td>\n",
       "      <td>Varies with device</td>\n",
       "      <td>Varies with device</td>\n",
       "    </tr>\n",
       "    <tr>\n",
       "      <th>4005</th>\n",
       "      <td>Clean Master- Space Cleaner &amp; Antivirus</td>\n",
       "      <td>TOOLS</td>\n",
       "      <td>4.7</td>\n",
       "      <td>42916526</td>\n",
       "      <td>Varies with device</td>\n",
       "      <td>500,000,000+</td>\n",
       "      <td>Free</td>\n",
       "      <td>0.0</td>\n",
       "      <td>Everyone</td>\n",
       "      <td>Tools</td>\n",
       "      <td>2018-08-03</td>\n",
       "      <td>Varies with device</td>\n",
       "      <td>Varies with device</td>\n",
       "    </tr>\n",
       "    <tr>\n",
       "      <th>5596</th>\n",
       "      <td>Samsung Health</td>\n",
       "      <td>HEALTH  AND  FITNESS</td>\n",
       "      <td>4.3</td>\n",
       "      <td>480208</td>\n",
       "      <td>70M</td>\n",
       "      <td>500,000,000+</td>\n",
       "      <td>Free</td>\n",
       "      <td>0.0</td>\n",
       "      <td>Everyone</td>\n",
       "      <td>Health &amp; Fitness</td>\n",
       "      <td>2018-07-31</td>\n",
       "      <td>5.17.2.009</td>\n",
       "      <td>5.0 and up</td>\n",
       "    </tr>\n",
       "    <tr>\n",
       "      <th>7536</th>\n",
       "      <td>Security Master - Antivirus, VPN, AppLock, Boo...</td>\n",
       "      <td>TOOLS</td>\n",
       "      <td>4.7</td>\n",
       "      <td>24900999</td>\n",
       "      <td>Varies with device</td>\n",
       "      <td>500,000,000+</td>\n",
       "      <td>Free</td>\n",
       "      <td>0.0</td>\n",
       "      <td>Everyone</td>\n",
       "      <td>Tools</td>\n",
       "      <td>2018-08-04</td>\n",
       "      <td>4.6.6</td>\n",
       "      <td>Varies with device</td>\n",
       "    </tr>\n",
       "  </tbody>\n",
       "</table>\n",
       "</div>"
      ],
      "text/plain": [
       "                                                    App              Category  \\\n",
       "342                                     Viber Messenger         COMMUNICATION   \n",
       "347                       imo free video calls and chat         COMMUNICATION   \n",
       "371               Google Duo - High Quality Video Calls         COMMUNICATION   \n",
       "378         UC Browser - Fast Download Private & Secure         COMMUNICATION   \n",
       "403                         LINE: Free Calls & Messages         COMMUNICATION   \n",
       "1655                                   Candy Crush Saga                  GAME   \n",
       "1661                                       Temple Run 2                  GAME   \n",
       "1662                                                Pou                  GAME   \n",
       "1722                                     My Talking Tom                  GAME   \n",
       "2546                                      Facebook Lite                SOCIAL   \n",
       "2550                                           Snapchat                SOCIAL   \n",
       "3235                                   Google Translate                 TOOLS   \n",
       "3255                         SHAREit - Transfer & Share                 TOOLS   \n",
       "3265                       Gboard - the Google Keyboard                 TOOLS   \n",
       "3450                                     Microsoft Word          PRODUCTIVITY   \n",
       "3473                                            Dropbox          PRODUCTIVITY   \n",
       "3476                                    Google Calendar          PRODUCTIVITY   \n",
       "3574                                        Cloud Print          PRODUCTIVITY   \n",
       "3703                                          MX Player        VIDEO  PLAYERS   \n",
       "3739                                            Twitter  NEWS  AND  MAGAZINES   \n",
       "3755                       Flipboard: News For Our Time  NEWS  AND  MAGAZINES   \n",
       "4005            Clean Master- Space Cleaner & Antivirus                 TOOLS   \n",
       "5596                                     Samsung Health  HEALTH  AND  FITNESS   \n",
       "7536  Security Master - Antivirus, VPN, AppLock, Boo...                 TOOLS   \n",
       "\n",
       "      Rating   Reviews                Size      Installs  Type  Price  \\\n",
       "342      4.3  11334799  Varies with device  500,000,000+  Free    0.0   \n",
       "347      4.3   4785892                 11M  500,000,000+  Free    0.0   \n",
       "371      4.6   2083237  Varies with device  500,000,000+  Free    0.0   \n",
       "378      4.5  17712922                 40M  500,000,000+  Free    0.0   \n",
       "403      4.2  10790289  Varies with device  500,000,000+  Free    0.0   \n",
       "1655     4.4  22426677                 74M  500,000,000+  Free    0.0   \n",
       "1661     4.3   8118609                 62M  500,000,000+  Free    0.0   \n",
       "1662     4.3  10485308                 24M  500,000,000+  Free    0.0   \n",
       "1722     4.5  14891223  Varies with device  500,000,000+  Free    0.0   \n",
       "2546     4.3   8606259  Varies with device  500,000,000+  Free    0.0   \n",
       "2550     4.0  17014787  Varies with device  500,000,000+  Free    0.0   \n",
       "3235     4.4   5745093  Varies with device  500,000,000+  Free    0.0   \n",
       "3255     4.6   7790693                 17M  500,000,000+  Free    0.0   \n",
       "3265     4.2   1859115  Varies with device  500,000,000+  Free    0.0   \n",
       "3450     4.5   2084126  Varies with device  500,000,000+  Free    0.0   \n",
       "3473     4.4   1861310                 61M  500,000,000+  Free    0.0   \n",
       "3476     4.2    858208  Varies with device  500,000,000+  Free    0.0   \n",
       "3574     4.1    282460  Varies with device  500,000,000+  Free    0.0   \n",
       "3703     4.5   6474426  Varies with device  500,000,000+  Free    0.0   \n",
       "3739     4.3  11667403  Varies with device  500,000,000+  Free    0.0   \n",
       "3755     4.4   1284017  Varies with device  500,000,000+  Free    0.0   \n",
       "4005     4.7  42916526  Varies with device  500,000,000+  Free    0.0   \n",
       "5596     4.3    480208                 70M  500,000,000+  Free    0.0   \n",
       "7536     4.7  24900999  Varies with device  500,000,000+  Free    0.0   \n",
       "\n",
       "     Content Rating                   Genres Last Updated  \\\n",
       "342        Everyone            Communication   2018-07-18   \n",
       "347        Everyone            Communication   2018-06-08   \n",
       "371        Everyone            Communication   2018-07-31   \n",
       "378            Teen            Communication   2018-08-02   \n",
       "403        Everyone            Communication   2018-07-26   \n",
       "1655       Everyone                   Casual   2018-07-05   \n",
       "1661       Everyone                   Action   2018-07-05   \n",
       "1662       Everyone                   Casual   2018-05-25   \n",
       "1722       Everyone                   Casual   2018-07-19   \n",
       "2546           Teen                   Social   2018-08-01   \n",
       "2550           Teen                   Social   2018-07-30   \n",
       "3235       Everyone                    Tools   2018-08-04   \n",
       "3255       Everyone                    Tools   2018-07-30   \n",
       "3265       Everyone                    Tools   2018-07-31   \n",
       "3450       Everyone             Productivity   2018-07-11   \n",
       "3473       Everyone             Productivity   2018-08-01   \n",
       "3476       Everyone             Productivity   2018-08-06   \n",
       "3574       Everyone             Productivity   2018-05-23   \n",
       "3703       Everyone  Video Players & Editors   2018-08-06   \n",
       "3739     Mature 17+         News & Magazines   2018-08-06   \n",
       "3755            10+         News & Magazines   2018-08-03   \n",
       "4005       Everyone                    Tools   2018-08-03   \n",
       "5596       Everyone         Health & Fitness   2018-07-31   \n",
       "7536       Everyone                    Tools   2018-08-04   \n",
       "\n",
       "                   Current Ver         Android Ver  \n",
       "342         Varies with device  Varies with device  \n",
       "347           9.8.000000010501          4.0 and up  \n",
       "371   37.1.206017801.DR37_RC14          4.4 and up  \n",
       "378                12.8.5.1121          4.0 and up  \n",
       "403         Varies with device  Varies with device  \n",
       "1655                 1.129.0.2          4.1 and up  \n",
       "1661                    1.49.1          4.0 and up  \n",
       "1662                    1.4.77          4.0 and up  \n",
       "1722                 4.8.0.132          4.1 and up  \n",
       "2546        Varies with device  Varies with device  \n",
       "2550        Varies with device  Varies with device  \n",
       "3235        Varies with device  Varies with device  \n",
       "3255                 4.5.28_ww          4.1 and up  \n",
       "3265        Varies with device  Varies with device  \n",
       "3450          16.0.10325.20043          4.4 and up  \n",
       "3473        Varies with device  Varies with device  \n",
       "3476        Varies with device  Varies with device  \n",
       "3574        Varies with device  Varies with device  \n",
       "3703        Varies with device  Varies with device  \n",
       "3739        Varies with device  Varies with device  \n",
       "3755        Varies with device  Varies with device  \n",
       "4005        Varies with device  Varies with device  \n",
       "5596                5.17.2.009          5.0 and up  \n",
       "7536                     4.6.6  Varies with device  "
      ]
     },
     "execution_count": 64,
     "metadata": {},
     "output_type": "execute_result"
    }
   ],
   "source": [
    "famous_apps = data[data.Installs==data.Installs.max()]\n",
    "famous_apps"
   ]
  },
  {
   "cell_type": "markdown",
   "metadata": {},
   "source": [
    "__As expected, they are all free to download, and most of them do not limit any age group from downloading them.__"
   ]
  },
  {
   "cell_type": "code",
   "execution_count": 65,
   "metadata": {},
   "outputs": [
    {
     "data": {
      "image/png": "[encoded data removed]",
      "text/plain": [
       "<Figure size 1000x800 with 1 Axes>"
      ]
     },
     "metadata": {},
     "output_type": "display_data"
    }
   ],
   "source": [
    "fig, ax = plt.subplots(figsize = (10,8))\n",
    "plot = sns.countplot(famous_apps['Category'], color = 'grey')\n",
    "for i in plot.patches:\n",
    " i.set_width(0.4)\n",
    " if i.get_height()==famous_apps['Category'].value_counts().max():\n",
    "     i.set_color('brown')\n",
    "for i in ['left', 'right', 'top']:\n",
    " ax.spines[i].set_visible(False)\n",
    "ax.tick_params(bottom = False, left = False)\n",
    "plt.xticks(rotation = 40)\n",
    "plt.ylabel('')\n",
    "plt.title('A Barplot Showing the Number of Apps With Over 500 Million Installs Per Category.\\n\\n',\n",
    " fontsize = 15, color = 'grey', loc = 'left');"
   ]
  },
  {
   "cell_type": "markdown",
   "metadata": {},
   "source": [
    "A whole lot of people have downloaded more apps in the COMMUNICATION and TOOLS Categories, than any other Category. <br>\n",
    "W'd look deeper into the apps under these 'famous' Categories. "
   ]
  },
  {
   "cell_type": "code",
   "execution_count": 66,
   "metadata": {},
   "outputs": [
    {
     "data": {
      "text/plain": [
       "array(['Viber Messenger', 'imo free video calls and chat',\n",
       "       'Google Duo - High Quality Video Calls',\n",
       "       'UC Browser - Fast Download Private & Secure',\n",
       "       'LINE: Free Calls & Messages', 'Google Translate',\n",
       "       'SHAREit - Transfer & Share', 'Gboard - the Google Keyboard',\n",
       "       'Clean Master- Space Cleaner & Antivirus',\n",
       "       'Security Master - Antivirus, VPN, AppLock, Booster'], dtype=object)"
      ]
     },
     "execution_count": 66,
     "metadata": {},
     "output_type": "execute_result"
    }
   ],
   "source": [
    "famous_apps[(famous_apps['Category']=='COMMUNICATION') | (famous_apps['Category']=='TOOLS')]['App'].values"
   ]
  },
  {
   "cell_type": "markdown",
   "metadata": {},
   "source": [
    "__These are popular apps indeed.__"
   ]
  },
  {
   "cell_type": "markdown",
   "metadata": {},
   "source": [
    "Which app(s) in the Google Play Store are the least famous?"
   ]
  },
  {
   "cell_type": "code",
   "execution_count": 67,
   "metadata": {},
   "outputs": [
    {
     "data": {
      "text/html": [
       "<div>\n",
       "<style scoped>\n",
       "    .dataframe tbody tr th:only-of-type {\n",
       "        vertical-align: middle;\n",
       "    }\n",
       "\n",
       "    .dataframe tbody tr th {\n",
       "        vertical-align: top;\n",
       "    }\n",
       "\n",
       "    .dataframe thead th {\n",
       "        text-align: right;\n",
       "    }\n",
       "</style>\n",
       "<table border=\"1\" class=\"dataframe\">\n",
       "  <thead>\n",
       "    <tr style=\"text-align: right;\">\n",
       "      <th></th>\n",
       "      <th>App</th>\n",
       "      <th>Category</th>\n",
       "      <th>Rating</th>\n",
       "      <th>Reviews</th>\n",
       "      <th>Size</th>\n",
       "      <th>Installs</th>\n",
       "      <th>Type</th>\n",
       "      <th>Price</th>\n",
       "      <th>Content Rating</th>\n",
       "      <th>Genres</th>\n",
       "      <th>Last Updated</th>\n",
       "      <th>Current Ver</th>\n",
       "      <th>Android Ver</th>\n",
       "    </tr>\n",
       "  </thead>\n",
       "  <tbody>\n",
       "    <tr>\n",
       "      <th>9148</th>\n",
       "      <td>Command &amp; Conquer: Rivals</td>\n",
       "      <td>FAMILY</td>\n",
       "      <td>4.2</td>\n",
       "      <td>0</td>\n",
       "      <td>Varies with device</td>\n",
       "      <td>0</td>\n",
       "      <td>Free</td>\n",
       "      <td>0.0</td>\n",
       "      <td>10+</td>\n",
       "      <td>Strategy</td>\n",
       "      <td>2018-06-28</td>\n",
       "      <td>Varies with device</td>\n",
       "      <td>Varies with device</td>\n",
       "    </tr>\n",
       "  </tbody>\n",
       "</table>\n",
       "</div>"
      ],
      "text/plain": [
       "                            App Category  Rating  Reviews                Size  \\\n",
       "9148  Command & Conquer: Rivals   FAMILY     4.2        0  Varies with device   \n",
       "\n",
       "     Installs  Type  Price Content Rating    Genres Last Updated  \\\n",
       "9148        0  Free    0.0            10+  Strategy   2018-06-28   \n",
       "\n",
       "             Current Ver         Android Ver  \n",
       "9148  Varies with device  Varies with device  "
      ]
     },
     "execution_count": 67,
     "metadata": {},
     "output_type": "execute_result"
    }
   ],
   "source": [
    "infamous_apps = data[data.Installs==data.Installs.min()]\n",
    "infamous_apps"
   ]
  },
  {
   "cell_type": "markdown",
   "metadata": {},
   "source": [
    "Though it is free to download, it still has no downloads.\n"
   ]
  },
  {
   "cell_type": "markdown",
   "metadata": {},
   "source": [
    "__About how many years does this data span about? When is the latest date?__"
   ]
  },
  {
   "cell_type": "code",
   "execution_count": 68,
   "metadata": {},
   "outputs": [
    {
     "data": {
      "text/plain": [
       "(Timestamp('2010-05-21 00:00:00'), Timestamp('2018-08-08 00:00:00'))"
      ]
     },
     "execution_count": 68,
     "metadata": {},
     "output_type": "execute_result"
    }
   ],
   "source": [
    "data['Last Updated'].min(), data['Last Updated'].max()"
   ]
  },
  {
   "cell_type": "markdown",
   "metadata": {},
   "source": [
    "__Last Updated spans for about eight years, from the 21st of May 2010, to the 8th of August, 2018.__\n"
   ]
  },
  {
   "cell_type": "markdown",
   "metadata": {},
   "source": [
    "__No app was updated beyond this range.__  <br>\n",
    "The highest number of updates took place in what year?"
   ]
  },
  {
   "cell_type": "code",
   "execution_count": 69,
   "metadata": {},
   "outputs": [
    {
     "data": {
      "text/plain": [
       "Text(0.0, 1.0, 'Distribution of Apps Over Last Updated Years.\\n\\n\\n')"
      ]
     },
     "execution_count": 69,
     "metadata": {},
     "output_type": "execute_result"
    },
    {
     "data": {
      "image/png": "[encoded data removed]",
      "text/plain": [
       "<Figure size 1500x1000 with 1 Axes>"
      ]
     },
     "metadata": {},
     "output_type": "display_data"
    }
   ],
   "source": [
    "fig, ax = plt.subplots(figsize = (15,10))\n",
    "data['Last Updated'].dt.year.plot(kind='kde', color = 'brown')\n",
    "for i in ['left', 'right', 'top']:\n",
    " ax.spines[i].set_visible(False)\n",
    "ax.tick_params(bottom = False, left = False, labelleft = '')\n",
    "#plt.xlim([2010,2018])\n",
    "plt.ylabel('')\n",
    "plt.xlabel('\\n\\nYears')\n",
    "plt.grid(axis = 'x')\n",
    "plt.title('Distribution of Apps Over Last Updated Years.\\n\\n\\n', loc = 'left', color = 'grey', fontsize = 17)"
   ]
  },
  {
   "cell_type": "code",
   "execution_count": null,
   "metadata": {},
   "outputs": [],
   "source": []
  },
  {
   "cell_type": "code",
   "execution_count": null,
   "metadata": {},
   "outputs": [],
   "source": []
  }
 ],
 "metadata": {
  "kernelspec": {
   "display_name": "Python 3.9.13 ('base')",
   "language": "python",
   "name": "python3"
  },
  "language_info": {
   "codemirror_mode": {
    "name": "ipython",
    "version": 3
   },
   "file_extension": ".py",
   "mimetype": "text/x-python",
   "name": "python",
   "nbconvert_exporter": "python",
   "pygments_lexer": "ipython3",
   "version": "3.9.13"
  },
  "vscode": {
   "interpreter": {
    "hash": "263930470851f494f0ed2879c35b57985588df20f9e529b86e97dd5eb9ddc466"
   }
  }
 },
 "nbformat": 4,
 "nbformat_minor": 4
}
