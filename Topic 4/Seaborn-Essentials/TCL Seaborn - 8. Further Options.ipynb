{
 "cells": [
  {
   "cell_type": "markdown",
   "metadata": {},
   "source": [
    "# Seaborn 8: Further options"
   ]
  },
  {
   "cell_type": "code",
   "execution_count": null,
   "metadata": {},
   "outputs": [],
   "source": [
    "# Load numpy and pandas for list and data set manipulation\n",
    "import numpy as np\n",
    "import pandas as pd\n",
    "\n",
    "# Load matplotlib and seaborn for data visualisation\n",
    "import matplotlib.pyplot as plt\n",
    "import seaborn as sns"
   ]
  },
  {
   "cell_type": "code",
   "execution_count": null,
   "metadata": {},
   "outputs": [],
   "source": [
    "world_data = pd.read_csv('world_data.csv')"
   ]
  },
  {
   "cell_type": "markdown",
   "metadata": {},
   "source": [
    "## Exporting\n",
    "\n",
    "You may want to export your plot, for example to add it to a presentation or edit it manually.  This is possible with the Matplotlib [savefig](https://matplotlib.org/3.1.1/api/_as_gen/matplotlib.pyplot.savefig.html) function\n",
    "\n",
    "### Export to png\n",
    "png will give you a lossless bitmap format:"
   ]
  },
  {
   "cell_type": "code",
   "execution_count": null,
   "metadata": {},
   "outputs": [],
   "source": [
    "sns.relplot(x=\"childmortality\", y=\"sanitation\", hue=\"region\", data=world_data)\n",
    "plt.savefig(\"plot.png\")"
   ]
  },
  {
   "cell_type": "markdown",
   "metadata": {},
   "source": [
    "Jpg format is possible, but not recommended as it will lose information in order to compress the image."
   ]
  },
  {
   "cell_type": "markdown",
   "metadata": {},
   "source": [
    "### Export to svg\n",
    "Svg will give you a vector format, which can be scaled smoothly or edited in Adobe Illustrator or Inkscape:"
   ]
  },
  {
   "cell_type": "code",
   "execution_count": null,
   "metadata": {},
   "outputs": [],
   "source": [
    "sns.relplot(x=\"childmortality\", y=\"sanitation\", hue=\"region\", data=world_data)\n",
    "plt.savefig(\"plot.svg\")"
   ]
  },
  {
   "cell_type": "markdown",
   "metadata": {},
   "source": [
    "## Reference\n",
    "\n",
    "Take a look at the API reference for further charting options:\n",
    "\n",
    "https://seaborn.pydata.org/api.html"
   ]
  },
  {
   "cell_type": "markdown",
   "metadata": {},
   "source": [
    "## Beyond Seaborn\n",
    "\n",
    "Seaborn is built around [Matplotlib](https://matplotlib.org/).  There are further options in that library.\n",
    "\n",
    "Pandas also has some additional and useful [plotting](https://pandas.pydata.org/pandas-docs/version/0.23.4/api.html#id43) options.  I particularly like the parallel coordinates plot:"
   ]
  },
  {
   "cell_type": "code",
   "execution_count": null,
   "metadata": {},
   "outputs": [],
   "source": [
    "# Import function from pandas\n",
    "from pandas.plotting import parallel_coordinates\n",
    "\n",
    "# Set a nice, diverging colour palette\n",
    "p = sns.color_palette(\"Accent\", n_colors=8, desat=1)\n",
    "sns.set_palette(p)\n",
    "\n",
    "# Aggregate our data on region\n",
    "d = world_data.groupby(by=\"region\").sum().reset_index()\n",
    "\n",
    "# Make the plot\n",
    "fig= plt.figure(figsize=(10,4))\n",
    "parallel_coordinates(d, \"region\", ['happiness', 'lifeexp', 'sanitation', 'water', 'inequality'], color=p, ax=plt.gca())"
   ]
  },
  {
   "cell_type": "markdown",
   "metadata": {},
   "source": [
    "Take a look at the [Python Graph Gallery](https://python-graph-gallery.com/) which provides lots of example code for different types of chart."
   ]
  },
  {
   "cell_type": "code",
   "execution_count": null,
   "metadata": {},
   "outputs": [],
   "source": []
  }
 ],
 "metadata": {
  "kernelspec": {
   "display_name": "Python 3 (ipykernel)",
   "language": "python",
   "name": "python3"
  },
  "language_info": {
   "codemirror_mode": {
    "name": "ipython",
    "version": 3
   },
   "file_extension": ".py",
   "mimetype": "text/x-python",
   "name": "python",
   "nbconvert_exporter": "python",
   "pygments_lexer": "ipython3",
   "version": "3.9.7"
  }
 },
 "nbformat": 4,
 "nbformat_minor": 4
}
