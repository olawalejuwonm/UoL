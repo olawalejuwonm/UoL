{
 "cells": [
  {
   "attachments": {},
   "cell_type": "markdown",
   "metadata": {},
   "source": [
    "For example, can you find any JSON format financial data? \n",
    "\n",
    "What is interesting about this data? \n",
    "\n",
    "What sort of processing might you want to do on it?\n",
    "\n",
    "What sort of interesting insights can you draw from an analysis of the data?\n",
    "\n",
    "Who does the data belong to and is it freely accessible?\n",
    "\n",
    "\n",
    "Do some manipulation of the data before you start to analyse it.\n",
    "\n",
    "You can save all your notebooks and output as pdf.\n",
    "\n",
    "Acquire data, clean it, visualise it, analyse it, draw conclusions, communicate your results.\n",
    "\n",
    "\n",
    "Tools: Numpy, Scipy, Nltk, re, csv, pyquery, bs4, mysql, sql, pandas, matpltlotlib, seaborn\n",
    "\n",
    "Perform your own exploratory data analysis on a dataset of your choice.\n",
    "Your own choice of dataset.\n",
    "Identify your own research area and research question.\n",
    "Identify Key features and potential flaws in the dataset.\n",
    "Show how data can be prepared, refined and explored for further analysis.\n",
    "Report on how you work through the dataset.\n",
    "Critically analyse, evaluate and summarise findings.\n",
    "\n",
    "Explain your data\n",
    "Provide data dictionary (What are the column names, what do they mean, what are the units of measure, etc.)\n",
    "Explain how data and your analysis supports your objective\n",
    "\n",
    "Explain your thinhking\n",
    "What are the actual research questions you are trying to answer?\n",
    "What are the key features of the data that you are using to answer your research questions?\n",
    "\n",
    "\n",
    "i Did .... and found ....\n",
    "\n",
    "You can use 2 or 3 different data sources to answer your research questions.\n",
    "Hybrid of code and rhetoric. Why, what, how, what next.\n",
    "\n",
    "\n",
    "Reference\n",
    "data file\n",
    "pdf\n",
    "requirements.txt"
   ]
  }
 ],
 "metadata": {
  "kernelspec": {
   "display_name": "base",
   "language": "python",
   "name": "python3"
  },
  "language_info": {
   "name": "python",
   "version": "3.9.13 (main, Aug 25 2022, 23:51:50) [MSC v.1916 64 bit (AMD64)]"
  },
  "orig_nbformat": 4,
  "vscode": {
   "interpreter": {
    "hash": "263930470851f494f0ed2879c35b57985588df20f9e529b86e97dd5eb9ddc466"
   }
  }
 },
 "nbformat": 4,
 "nbformat_minor": 2
}
