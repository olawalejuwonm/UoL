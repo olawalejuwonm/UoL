{
 "cells": [
  {
   "cell_type": "markdown",
   "id": "historic-substitute",
   "metadata": {},
   "source": [
    "## Exploratory data analysis - introduction to DataFrames\n",
    "\n",
    "Have a go at this with a data file of your own with some real data. Most of the techniques here are generic enough that you can slightly tweak them to suit your dataset, but there may be exceptions. If you get a bit stuck then open the CSV file in some spreadsheet software to build up some fundamental understanding of the data before you proceed."
   ]
  },
  {
   "cell_type": "markdown",
   "id": "ruled-tourism",
   "metadata": {},
   "source": [
    "# Activity 1"
   ]
  },
  {
   "cell_type": "code",
   "execution_count": 3,
   "id": "searching-strand",
   "metadata": {},
   "outputs": [],
   "source": [
    "import pandas as pd\n",
    "# import csv\n",
    "\n",
    "df = pd.read_csv(\"sample.csv\")\n",
    "\n",
    "# You could do this directly from a URL if you don't want to upload a file through Jupyter's upload tab e.g.\n",
    "\n",
    "# data = pd.read_csv('https://someData.url')\n",
    "\n",
    "# If you require authentication this will fail and you will have to use URLLib.\n"
   ]
  },
  {
   "cell_type": "code",
   "execution_count": 4,
   "id": "designing-lightning",
   "metadata": {},
   "outputs": [
    {
     "data": {
      "text/html": [
       "<div>\n",
       "<style scoped>\n",
       "    .dataframe tbody tr th:only-of-type {\n",
       "        vertical-align: middle;\n",
       "    }\n",
       "\n",
       "    .dataframe tbody tr th {\n",
       "        vertical-align: top;\n",
       "    }\n",
       "\n",
       "    .dataframe thead th {\n",
       "        text-align: right;\n",
       "    }\n",
       "</style>\n",
       "<table border=\"1\" class=\"dataframe\">\n",
       "  <thead>\n",
       "    <tr style=\"text-align: right;\">\n",
       "      <th></th>\n",
       "      <th>Name</th>\n",
       "      <th>Code</th>\n",
       "      <th>Level</th>\n",
       "      <th>Exam</th>\n",
       "      <th>Students</th>\n",
       "      <th>Average Grade</th>\n",
       "    </tr>\n",
       "  </thead>\n",
       "  <tbody>\n",
       "    <tr>\n",
       "      <th>0</th>\n",
       "      <td>Interaction Design</td>\n",
       "      <td>CM3055</td>\n",
       "      <td>6</td>\n",
       "      <td>1.0</td>\n",
       "      <td>20</td>\n",
       "      <td>78</td>\n",
       "    </tr>\n",
       "    <tr>\n",
       "      <th>1</th>\n",
       "      <td>Agile Software Projects</td>\n",
       "      <td>CM2020</td>\n",
       "      <td>5</td>\n",
       "      <td>0.0</td>\n",
       "      <td>45</td>\n",
       "      <td>73</td>\n",
       "    </tr>\n",
       "    <tr>\n",
       "      <th>2</th>\n",
       "      <td>Computer Security</td>\n",
       "      <td>CM2025</td>\n",
       "      <td>5</td>\n",
       "      <td>1.0</td>\n",
       "      <td>55</td>\n",
       "      <td>79</td>\n",
       "    </tr>\n",
       "  </tbody>\n",
       "</table>\n",
       "</div>"
      ],
      "text/plain": [
       "                      Name    Code  Level  Exam  Students  Average Grade\n",
       "0       Interaction Design  CM3055      6   1.0        20             78\n",
       "1  Agile Software Projects  CM2020      5   0.0        45             73\n",
       "2        Computer Security  CM2025      5   1.0        55             79"
      ]
     },
     "execution_count": 4,
     "metadata": {},
     "output_type": "execute_result"
    }
   ],
   "source": [
    "df.head(3)\n",
    "#df[0:3]"
   ]
  },
  {
   "cell_type": "code",
   "execution_count": 38,
   "id": "cardiovascular-council",
   "metadata": {},
   "outputs": [
    {
     "data": {
      "text/html": [
       "<div>\n",
       "<style scoped>\n",
       "    .dataframe tbody tr th:only-of-type {\n",
       "        vertical-align: middle;\n",
       "    }\n",
       "\n",
       "    .dataframe tbody tr th {\n",
       "        vertical-align: top;\n",
       "    }\n",
       "\n",
       "    .dataframe thead th {\n",
       "        text-align: right;\n",
       "    }\n",
       "</style>\n",
       "<table border=\"1\" class=\"dataframe\">\n",
       "  <thead>\n",
       "    <tr style=\"text-align: right;\">\n",
       "      <th></th>\n",
       "      <th>Name</th>\n",
       "      <th>Code</th>\n",
       "      <th>Level</th>\n",
       "      <th>Exam</th>\n",
       "      <th>Students</th>\n",
       "      <th>Average Grade</th>\n",
       "    </tr>\n",
       "  </thead>\n",
       "  <tbody>\n",
       "    <tr>\n",
       "      <th>6</th>\n",
       "      <td>Discrete Maths</td>\n",
       "      <td>CM1020</td>\n",
       "      <td>4</td>\n",
       "      <td>1.0</td>\n",
       "      <td>95</td>\n",
       "      <td>61</td>\n",
       "    </tr>\n",
       "    <tr>\n",
       "      <th>7</th>\n",
       "      <td>How Computers Work</td>\n",
       "      <td>CM1030</td>\n",
       "      <td>4</td>\n",
       "      <td>NaN</td>\n",
       "      <td>150</td>\n",
       "      <td>92</td>\n",
       "    </tr>\n",
       "    <tr>\n",
       "      <th>8</th>\n",
       "      <td>Final Project</td>\n",
       "      <td>CM3070</td>\n",
       "      <td>6</td>\n",
       "      <td>0.0</td>\n",
       "      <td>5</td>\n",
       "      <td>53</td>\n",
       "    </tr>\n",
       "  </tbody>\n",
       "</table>\n",
       "</div>"
      ],
      "text/plain": [
       "                 Name    Code  Level  Exam  Students  Average Grade\n",
       "6      Discrete Maths  CM1020      4   1.0        95             61\n",
       "7  How Computers Work  CM1030      4   NaN       150             92\n",
       "8       Final Project  CM3070      6   0.0         5             53"
      ]
     },
     "execution_count": 38,
     "metadata": {},
     "output_type": "execute_result"
    }
   ],
   "source": [
    "df.tail(3)\n",
    "# You might want to pick some arbitrary slices to explore at more depth.\n",
    "df[6:9]"
   ]
  },
  {
   "cell_type": "code",
   "execution_count": 39,
   "id": "cardiac-layout",
   "metadata": {},
   "outputs": [
    {
     "data": {
      "text/plain": [
       "70.55555555555556"
      ]
     },
     "execution_count": 39,
     "metadata": {},
     "output_type": "execute_result"
    }
   ],
   "source": [
    "df[\"Students\"].mean()"
   ]
  },
  {
   "cell_type": "code",
   "execution_count": 40,
   "id": "reverse-birmingham",
   "metadata": {},
   "outputs": [
    {
     "data": {
      "text/plain": [
       "67.0"
      ]
     },
     "execution_count": 40,
     "metadata": {},
     "output_type": "execute_result"
    }
   ],
   "source": [
    "df[\"Average Grade\"].mean()"
   ]
  },
  {
   "cell_type": "code",
   "execution_count": 41,
   "id": "dried-brand",
   "metadata": {},
   "outputs": [
    {
     "data": {
      "text/plain": [
       "15.47578754054216"
      ]
     },
     "execution_count": 41,
     "metadata": {},
     "output_type": "execute_result"
    }
   ],
   "source": [
    "df[\"Average Grade\"].std()"
   ]
  },
  {
   "cell_type": "code",
   "execution_count": 42,
   "id": "established-throw",
   "metadata": {},
   "outputs": [
    {
     "data": {
      "text/plain": [
       "150"
      ]
     },
     "execution_count": 42,
     "metadata": {},
     "output_type": "execute_result"
    }
   ],
   "source": [
    "df[\"Students\"].max()"
   ]
  },
  {
   "cell_type": "code",
   "execution_count": 43,
   "id": "prescribed-shark",
   "metadata": {},
   "outputs": [
    {
     "data": {
      "text/plain": [
       "5"
      ]
     },
     "execution_count": 43,
     "metadata": {},
     "output_type": "execute_result"
    }
   ],
   "source": [
    "df[\"Students\"].min()"
   ]
  },
  {
   "cell_type": "code",
   "execution_count": 44,
   "id": "respective-library",
   "metadata": {},
   "outputs": [
    {
     "data": {
      "text/plain": [
       "count      9.000000\n",
       "mean      70.555556\n",
       "std       56.813535\n",
       "min        5.000000\n",
       "25%       20.000000\n",
       "50%       55.000000\n",
       "75%      105.000000\n",
       "max      150.000000\n",
       "Name: Students, dtype: float64"
      ]
     },
     "execution_count": 44,
     "metadata": {},
     "output_type": "execute_result"
    }
   ],
   "source": [
    "df[\"Students\"].describe()"
   ]
  },
  {
   "cell_type": "code",
   "execution_count": 45,
   "id": "patent-employee",
   "metadata": {},
   "outputs": [
    {
     "data": {
      "text/plain": [
       "(9, 6)"
      ]
     },
     "execution_count": 45,
     "metadata": {},
     "output_type": "execute_result"
    }
   ],
   "source": [
    "df.shape"
   ]
  },
  {
   "cell_type": "code",
   "execution_count": 46,
   "id": "central-marsh",
   "metadata": {},
   "outputs": [
    {
     "data": {
      "text/html": [
       "<div>\n",
       "<style scoped>\n",
       "    .dataframe tbody tr th:only-of-type {\n",
       "        vertical-align: middle;\n",
       "    }\n",
       "\n",
       "    .dataframe tbody tr th {\n",
       "        vertical-align: top;\n",
       "    }\n",
       "\n",
       "    .dataframe thead th {\n",
       "        text-align: right;\n",
       "    }\n",
       "</style>\n",
       "<table border=\"1\" class=\"dataframe\">\n",
       "  <thead>\n",
       "    <tr style=\"text-align: right;\">\n",
       "      <th></th>\n",
       "      <th>Name</th>\n",
       "      <th>Code</th>\n",
       "      <th>Level</th>\n",
       "      <th>Exam</th>\n",
       "      <th>Students</th>\n",
       "      <th>Average Grade</th>\n",
       "    </tr>\n",
       "  </thead>\n",
       "  <tbody>\n",
       "    <tr>\n",
       "      <th>0</th>\n",
       "      <td>Interaction Design</td>\n",
       "      <td>CM3055</td>\n",
       "      <td>6</td>\n",
       "      <td>1.0</td>\n",
       "      <td>20</td>\n",
       "      <td>78</td>\n",
       "    </tr>\n",
       "    <tr>\n",
       "      <th>1</th>\n",
       "      <td>Agile Software Projects</td>\n",
       "      <td>CM2020</td>\n",
       "      <td>5</td>\n",
       "      <td>0.0</td>\n",
       "      <td>45</td>\n",
       "      <td>73</td>\n",
       "    </tr>\n",
       "    <tr>\n",
       "      <th>2</th>\n",
       "      <td>Computer Security</td>\n",
       "      <td>CM2025</td>\n",
       "      <td>5</td>\n",
       "      <td>1.0</td>\n",
       "      <td>55</td>\n",
       "      <td>79</td>\n",
       "    </tr>\n",
       "    <tr>\n",
       "      <th>3</th>\n",
       "      <td>Fundamentals of CS</td>\n",
       "      <td>CM1025</td>\n",
       "      <td>4</td>\n",
       "      <td>1.0</td>\n",
       "      <td>150</td>\n",
       "      <td>68</td>\n",
       "    </tr>\n",
       "    <tr>\n",
       "      <th>4</th>\n",
       "      <td>Machine Learning</td>\n",
       "      <td>CM1035</td>\n",
       "      <td>6</td>\n",
       "      <td>1.0</td>\n",
       "      <td>10</td>\n",
       "      <td>41</td>\n",
       "    </tr>\n",
       "    <tr>\n",
       "      <th>5</th>\n",
       "      <td>Computational Maths</td>\n",
       "      <td>CM1015</td>\n",
       "      <td>4</td>\n",
       "      <td>1.0</td>\n",
       "      <td>105</td>\n",
       "      <td>58</td>\n",
       "    </tr>\n",
       "    <tr>\n",
       "      <th>6</th>\n",
       "      <td>Discrete Maths</td>\n",
       "      <td>CM1020</td>\n",
       "      <td>4</td>\n",
       "      <td>1.0</td>\n",
       "      <td>95</td>\n",
       "      <td>61</td>\n",
       "    </tr>\n",
       "    <tr>\n",
       "      <th>7</th>\n",
       "      <td>How Computers Work</td>\n",
       "      <td>CM1030</td>\n",
       "      <td>4</td>\n",
       "      <td>NaN</td>\n",
       "      <td>150</td>\n",
       "      <td>92</td>\n",
       "    </tr>\n",
       "    <tr>\n",
       "      <th>8</th>\n",
       "      <td>Final Project</td>\n",
       "      <td>CM3070</td>\n",
       "      <td>6</td>\n",
       "      <td>0.0</td>\n",
       "      <td>5</td>\n",
       "      <td>53</td>\n",
       "    </tr>\n",
       "  </tbody>\n",
       "</table>\n",
       "</div>"
      ],
      "text/plain": [
       "                      Name    Code  Level  Exam  Students  Average Grade\n",
       "0       Interaction Design  CM3055      6   1.0        20             78\n",
       "1  Agile Software Projects  CM2020      5   0.0        45             73\n",
       "2        Computer Security  CM2025      5   1.0        55             79\n",
       "3       Fundamentals of CS  CM1025      4   1.0       150             68\n",
       "4         Machine Learning  CM1035      6   1.0        10             41\n",
       "5      Computational Maths  CM1015      4   1.0       105             58\n",
       "6           Discrete Maths  CM1020      4   1.0        95             61\n",
       "7       How Computers Work  CM1030      4   NaN       150             92\n",
       "8            Final Project  CM3070      6   0.0         5             53"
      ]
     },
     "execution_count": 46,
     "metadata": {},
     "output_type": "execute_result"
    }
   ],
   "source": [
    "df"
   ]
  },
  {
   "cell_type": "code",
   "execution_count": 47,
   "id": "suited-turkey",
   "metadata": {},
   "outputs": [
    {
     "data": {
      "text/plain": [
       "0         Interaction Design\n",
       "1    Agile Software Projects\n",
       "2          Computer Security\n",
       "3         Fundamentals of CS\n",
       "4           Machine Learning\n",
       "5        Computational Maths\n",
       "6             Discrete Maths\n",
       "7         How Computers Work\n",
       "8              Final Project\n",
       "Name: Name, dtype: object"
      ]
     },
     "execution_count": 47,
     "metadata": {},
     "output_type": "execute_result"
    }
   ],
   "source": [
    "df[\"Name\"]"
   ]
  },
  {
   "cell_type": "code",
   "execution_count": 49,
   "id": "direct-shoulder",
   "metadata": {},
   "outputs": [
    {
     "ename": "KeyError",
     "evalue": "\"None of ['Code'] are in the columns\"",
     "output_type": "error",
     "traceback": [
      "\u001b[0;31m---------------------------------------------------------------------------\u001b[0m",
      "\u001b[0;31mKeyError\u001b[0m                                  Traceback (most recent call last)",
      "\u001b[0;32m<ipython-input-49-b00f9b02ac4b>\u001b[0m in \u001b[0;36m<module>\u001b[0;34m\u001b[0m\n\u001b[0;32m----> 1\u001b[0;31m \u001b[0mdf\u001b[0m\u001b[0;34m.\u001b[0m\u001b[0mset_index\u001b[0m\u001b[0;34m(\u001b[0m\u001b[0;34m\"Code\"\u001b[0m\u001b[0;34m,\u001b[0m \u001b[0minplace\u001b[0m\u001b[0;34m=\u001b[0m\u001b[0;32mTrue\u001b[0m\u001b[0;34m)\u001b[0m\u001b[0;34m\u001b[0m\u001b[0;34m\u001b[0m\u001b[0m\n\u001b[0m",
      "\u001b[0;32m~/.local/lib/python3.9/site-packages/pandas/core/frame.py\u001b[0m in \u001b[0;36mset_index\u001b[0;34m(self, keys, drop, append, inplace, verify_integrity)\u001b[0m\n\u001b[1;32m   4725\u001b[0m \u001b[0;34m\u001b[0m\u001b[0m\n\u001b[1;32m   4726\u001b[0m         \u001b[0;32mif\u001b[0m \u001b[0mmissing\u001b[0m\u001b[0;34m:\u001b[0m\u001b[0;34m\u001b[0m\u001b[0;34m\u001b[0m\u001b[0m\n\u001b[0;32m-> 4727\u001b[0;31m             \u001b[0;32mraise\u001b[0m \u001b[0mKeyError\u001b[0m\u001b[0;34m(\u001b[0m\u001b[0;34mf\"None of {missing} are in the columns\"\u001b[0m\u001b[0;34m)\u001b[0m\u001b[0;34m\u001b[0m\u001b[0;34m\u001b[0m\u001b[0m\n\u001b[0m\u001b[1;32m   4728\u001b[0m \u001b[0;34m\u001b[0m\u001b[0m\n\u001b[1;32m   4729\u001b[0m         \u001b[0;32mif\u001b[0m \u001b[0minplace\u001b[0m\u001b[0;34m:\u001b[0m\u001b[0;34m\u001b[0m\u001b[0;34m\u001b[0m\u001b[0m\n",
      "\u001b[0;31mKeyError\u001b[0m: \"None of ['Code'] are in the columns\""
     ]
    }
   ],
   "source": [
    "# An index isn't always necessary, so you might want to skip this step.\n",
    "\n",
    "df.set_index(\"Code\", inplace=True)"
   ]
  },
  {
   "cell_type": "code",
   "execution_count": 50,
   "id": "handed-holder",
   "metadata": {},
   "outputs": [
    {
     "data": {
      "text/html": [
       "<div>\n",
       "<style scoped>\n",
       "    .dataframe tbody tr th:only-of-type {\n",
       "        vertical-align: middle;\n",
       "    }\n",
       "\n",
       "    .dataframe tbody tr th {\n",
       "        vertical-align: top;\n",
       "    }\n",
       "\n",
       "    .dataframe thead th {\n",
       "        text-align: right;\n",
       "    }\n",
       "</style>\n",
       "<table border=\"1\" class=\"dataframe\">\n",
       "  <thead>\n",
       "    <tr style=\"text-align: right;\">\n",
       "      <th></th>\n",
       "      <th>Name</th>\n",
       "      <th>Level</th>\n",
       "      <th>Exam</th>\n",
       "      <th>Students</th>\n",
       "      <th>Average Grade</th>\n",
       "    </tr>\n",
       "    <tr>\n",
       "      <th>Code</th>\n",
       "      <th></th>\n",
       "      <th></th>\n",
       "      <th></th>\n",
       "      <th></th>\n",
       "      <th></th>\n",
       "    </tr>\n",
       "  </thead>\n",
       "  <tbody>\n",
       "    <tr>\n",
       "      <th>CM3055</th>\n",
       "      <td>Interaction Design</td>\n",
       "      <td>6</td>\n",
       "      <td>1.0</td>\n",
       "      <td>20</td>\n",
       "      <td>78</td>\n",
       "    </tr>\n",
       "    <tr>\n",
       "      <th>CM2020</th>\n",
       "      <td>Agile Software Projects</td>\n",
       "      <td>5</td>\n",
       "      <td>0.0</td>\n",
       "      <td>45</td>\n",
       "      <td>73</td>\n",
       "    </tr>\n",
       "    <tr>\n",
       "      <th>CM2025</th>\n",
       "      <td>Computer Security</td>\n",
       "      <td>5</td>\n",
       "      <td>1.0</td>\n",
       "      <td>55</td>\n",
       "      <td>79</td>\n",
       "    </tr>\n",
       "    <tr>\n",
       "      <th>CM1025</th>\n",
       "      <td>Fundamentals of CS</td>\n",
       "      <td>4</td>\n",
       "      <td>1.0</td>\n",
       "      <td>150</td>\n",
       "      <td>68</td>\n",
       "    </tr>\n",
       "    <tr>\n",
       "      <th>CM1035</th>\n",
       "      <td>Machine Learning</td>\n",
       "      <td>6</td>\n",
       "      <td>1.0</td>\n",
       "      <td>10</td>\n",
       "      <td>41</td>\n",
       "    </tr>\n",
       "    <tr>\n",
       "      <th>CM1015</th>\n",
       "      <td>Computational Maths</td>\n",
       "      <td>4</td>\n",
       "      <td>1.0</td>\n",
       "      <td>105</td>\n",
       "      <td>58</td>\n",
       "    </tr>\n",
       "    <tr>\n",
       "      <th>CM1020</th>\n",
       "      <td>Discrete Maths</td>\n",
       "      <td>4</td>\n",
       "      <td>1.0</td>\n",
       "      <td>95</td>\n",
       "      <td>61</td>\n",
       "    </tr>\n",
       "    <tr>\n",
       "      <th>CM1030</th>\n",
       "      <td>How Computers Work</td>\n",
       "      <td>4</td>\n",
       "      <td>NaN</td>\n",
       "      <td>150</td>\n",
       "      <td>92</td>\n",
       "    </tr>\n",
       "    <tr>\n",
       "      <th>CM3070</th>\n",
       "      <td>Final Project</td>\n",
       "      <td>6</td>\n",
       "      <td>0.0</td>\n",
       "      <td>5</td>\n",
       "      <td>53</td>\n",
       "    </tr>\n",
       "  </tbody>\n",
       "</table>\n",
       "</div>"
      ],
      "text/plain": [
       "                           Name  Level  Exam  Students  Average Grade\n",
       "Code                                                                 \n",
       "CM3055       Interaction Design      6   1.0        20             78\n",
       "CM2020  Agile Software Projects      5   0.0        45             73\n",
       "CM2025        Computer Security      5   1.0        55             79\n",
       "CM1025       Fundamentals of CS      4   1.0       150             68\n",
       "CM1035         Machine Learning      6   1.0        10             41\n",
       "CM1015      Computational Maths      4   1.0       105             58\n",
       "CM1020           Discrete Maths      4   1.0        95             61\n",
       "CM1030       How Computers Work      4   NaN       150             92\n",
       "CM3070            Final Project      6   0.0         5             53"
      ]
     },
     "execution_count": 50,
     "metadata": {},
     "output_type": "execute_result"
    }
   ],
   "source": [
    "df"
   ]
  },
  {
   "cell_type": "code",
   "execution_count": 53,
   "id": "removed-croatia",
   "metadata": {},
   "outputs": [
    {
     "data": {
      "text/html": [
       "<div>\n",
       "<style scoped>\n",
       "    .dataframe tbody tr th:only-of-type {\n",
       "        vertical-align: middle;\n",
       "    }\n",
       "\n",
       "    .dataframe tbody tr th {\n",
       "        vertical-align: top;\n",
       "    }\n",
       "\n",
       "    .dataframe thead th {\n",
       "        text-align: right;\n",
       "    }\n",
       "</style>\n",
       "<table border=\"1\" class=\"dataframe\">\n",
       "  <thead>\n",
       "    <tr style=\"text-align: right;\">\n",
       "      <th></th>\n",
       "      <th>Name</th>\n",
       "      <th>Level</th>\n",
       "      <th>Exam</th>\n",
       "      <th>Students</th>\n",
       "      <th>Average Grade</th>\n",
       "    </tr>\n",
       "    <tr>\n",
       "      <th>Code</th>\n",
       "      <th></th>\n",
       "      <th></th>\n",
       "      <th></th>\n",
       "      <th></th>\n",
       "      <th></th>\n",
       "    </tr>\n",
       "  </thead>\n",
       "  <tbody>\n",
       "    <tr>\n",
       "      <th>CM1025</th>\n",
       "      <td>Fundamentals of CS</td>\n",
       "      <td>4</td>\n",
       "      <td>1.0</td>\n",
       "      <td>150</td>\n",
       "      <td>68</td>\n",
       "    </tr>\n",
       "    <tr>\n",
       "      <th>CM1015</th>\n",
       "      <td>Computational Maths</td>\n",
       "      <td>4</td>\n",
       "      <td>1.0</td>\n",
       "      <td>105</td>\n",
       "      <td>58</td>\n",
       "    </tr>\n",
       "    <tr>\n",
       "      <th>CM1020</th>\n",
       "      <td>Discrete Maths</td>\n",
       "      <td>4</td>\n",
       "      <td>1.0</td>\n",
       "      <td>95</td>\n",
       "      <td>61</td>\n",
       "    </tr>\n",
       "    <tr>\n",
       "      <th>CM1030</th>\n",
       "      <td>How Computers Work</td>\n",
       "      <td>4</td>\n",
       "      <td>NaN</td>\n",
       "      <td>150</td>\n",
       "      <td>92</td>\n",
       "    </tr>\n",
       "    <tr>\n",
       "      <th>CM2020</th>\n",
       "      <td>Agile Software Projects</td>\n",
       "      <td>5</td>\n",
       "      <td>0.0</td>\n",
       "      <td>45</td>\n",
       "      <td>73</td>\n",
       "    </tr>\n",
       "    <tr>\n",
       "      <th>CM2025</th>\n",
       "      <td>Computer Security</td>\n",
       "      <td>5</td>\n",
       "      <td>1.0</td>\n",
       "      <td>55</td>\n",
       "      <td>79</td>\n",
       "    </tr>\n",
       "    <tr>\n",
       "      <th>CM3055</th>\n",
       "      <td>Interaction Design</td>\n",
       "      <td>6</td>\n",
       "      <td>1.0</td>\n",
       "      <td>20</td>\n",
       "      <td>78</td>\n",
       "    </tr>\n",
       "    <tr>\n",
       "      <th>CM1035</th>\n",
       "      <td>Machine Learning</td>\n",
       "      <td>6</td>\n",
       "      <td>1.0</td>\n",
       "      <td>10</td>\n",
       "      <td>41</td>\n",
       "    </tr>\n",
       "    <tr>\n",
       "      <th>CM3070</th>\n",
       "      <td>Final Project</td>\n",
       "      <td>6</td>\n",
       "      <td>0.0</td>\n",
       "      <td>5</td>\n",
       "      <td>53</td>\n",
       "    </tr>\n",
       "  </tbody>\n",
       "</table>\n",
       "</div>"
      ],
      "text/plain": [
       "                           Name  Level  Exam  Students  Average Grade\n",
       "Code                                                                 \n",
       "CM1025       Fundamentals of CS      4   1.0       150             68\n",
       "CM1015      Computational Maths      4   1.0       105             58\n",
       "CM1020           Discrete Maths      4   1.0        95             61\n",
       "CM1030       How Computers Work      4   NaN       150             92\n",
       "CM2020  Agile Software Projects      5   0.0        45             73\n",
       "CM2025        Computer Security      5   1.0        55             79\n",
       "CM3055       Interaction Design      6   1.0        20             78\n",
       "CM1035         Machine Learning      6   1.0        10             41\n",
       "CM3070            Final Project      6   0.0         5             53"
      ]
     },
     "execution_count": 53,
     "metadata": {},
     "output_type": "execute_result"
    }
   ],
   "source": [
    "# Try a few different sorts for your own dataset and see if you can identify some trends at a cursory level.\n",
    "df.sort_values(by=['Level'], ascending=True)"
   ]
  },
  {
   "cell_type": "code",
   "execution_count": 57,
   "id": "unexpected-turkish",
   "metadata": {},
   "outputs": [
    {
     "data": {
      "text/html": [
       "<div>\n",
       "<style scoped>\n",
       "    .dataframe tbody tr th:only-of-type {\n",
       "        vertical-align: middle;\n",
       "    }\n",
       "\n",
       "    .dataframe tbody tr th {\n",
       "        vertical-align: top;\n",
       "    }\n",
       "\n",
       "    .dataframe thead th {\n",
       "        text-align: right;\n",
       "    }\n",
       "</style>\n",
       "<table border=\"1\" class=\"dataframe\">\n",
       "  <thead>\n",
       "    <tr style=\"text-align: right;\">\n",
       "      <th></th>\n",
       "      <th>Name</th>\n",
       "      <th>Level</th>\n",
       "      <th>Exam</th>\n",
       "      <th>Students</th>\n",
       "      <th>Average Grade</th>\n",
       "    </tr>\n",
       "    <tr>\n",
       "      <th>Code</th>\n",
       "      <th></th>\n",
       "      <th></th>\n",
       "      <th></th>\n",
       "      <th></th>\n",
       "      <th></th>\n",
       "    </tr>\n",
       "  </thead>\n",
       "  <tbody>\n",
       "    <tr>\n",
       "      <th>CM3055</th>\n",
       "      <td>Interaction Design</td>\n",
       "      <td>6</td>\n",
       "      <td>1.0</td>\n",
       "      <td>20</td>\n",
       "      <td>78</td>\n",
       "    </tr>\n",
       "    <tr>\n",
       "      <th>CM2020</th>\n",
       "      <td>Agile Software Projects</td>\n",
       "      <td>5</td>\n",
       "      <td>0.0</td>\n",
       "      <td>45</td>\n",
       "      <td>73</td>\n",
       "    </tr>\n",
       "    <tr>\n",
       "      <th>CM2025</th>\n",
       "      <td>Computer Security</td>\n",
       "      <td>5</td>\n",
       "      <td>1.0</td>\n",
       "      <td>55</td>\n",
       "      <td>79</td>\n",
       "    </tr>\n",
       "    <tr>\n",
       "      <th>CM1035</th>\n",
       "      <td>Machine Learning</td>\n",
       "      <td>6</td>\n",
       "      <td>1.0</td>\n",
       "      <td>10</td>\n",
       "      <td>41</td>\n",
       "    </tr>\n",
       "    <tr>\n",
       "      <th>CM3070</th>\n",
       "      <td>Final Project</td>\n",
       "      <td>6</td>\n",
       "      <td>0.0</td>\n",
       "      <td>5</td>\n",
       "      <td>53</td>\n",
       "    </tr>\n",
       "  </tbody>\n",
       "</table>\n",
       "</div>"
      ],
      "text/plain": [
       "                           Name  Level  Exam  Students  Average Grade\n",
       "Code                                                                 \n",
       "CM3055       Interaction Design      6   1.0        20             78\n",
       "CM2020  Agile Software Projects      5   0.0        45             73\n",
       "CM2025        Computer Security      5   1.0        55             79\n",
       "CM1035         Machine Learning      6   1.0        10             41\n",
       "CM3070            Final Project      6   0.0         5             53"
      ]
     },
     "execution_count": 57,
     "metadata": {},
     "output_type": "execute_result"
    }
   ],
   "source": [
    "# The threshold values you set should be meaningful. The mean is a good starting point, but you might want \n",
    "# to explore other threshold values.\n",
    "df[df[\"Students\"] < 71]"
   ]
  },
  {
   "cell_type": "code",
   "execution_count": 58,
   "id": "recovered-breeding",
   "metadata": {},
   "outputs": [
    {
     "data": {
      "text/html": [
       "<div>\n",
       "<style scoped>\n",
       "    .dataframe tbody tr th:only-of-type {\n",
       "        vertical-align: middle;\n",
       "    }\n",
       "\n",
       "    .dataframe tbody tr th {\n",
       "        vertical-align: top;\n",
       "    }\n",
       "\n",
       "    .dataframe thead th {\n",
       "        text-align: right;\n",
       "    }\n",
       "</style>\n",
       "<table border=\"1\" class=\"dataframe\">\n",
       "  <thead>\n",
       "    <tr style=\"text-align: right;\">\n",
       "      <th></th>\n",
       "      <th>Name</th>\n",
       "      <th>Level</th>\n",
       "      <th>Exam</th>\n",
       "      <th>Students</th>\n",
       "      <th>Average Grade</th>\n",
       "    </tr>\n",
       "    <tr>\n",
       "      <th>Code</th>\n",
       "      <th></th>\n",
       "      <th></th>\n",
       "      <th></th>\n",
       "      <th></th>\n",
       "      <th></th>\n",
       "    </tr>\n",
       "  </thead>\n",
       "  <tbody>\n",
       "    <tr>\n",
       "      <th>CM2020</th>\n",
       "      <td>Agile Software Projects</td>\n",
       "      <td>5</td>\n",
       "      <td>0.0</td>\n",
       "      <td>45</td>\n",
       "      <td>73</td>\n",
       "    </tr>\n",
       "    <tr>\n",
       "      <th>CM3070</th>\n",
       "      <td>Final Project</td>\n",
       "      <td>6</td>\n",
       "      <td>0.0</td>\n",
       "      <td>5</td>\n",
       "      <td>53</td>\n",
       "    </tr>\n",
       "  </tbody>\n",
       "</table>\n",
       "</div>"
      ],
      "text/plain": [
       "                           Name  Level  Exam  Students  Average Grade\n",
       "Code                                                                 \n",
       "CM2020  Agile Software Projects      5   0.0        45             73\n",
       "CM3070            Final Project      6   0.0         5             53"
      ]
     },
     "execution_count": 58,
     "metadata": {},
     "output_type": "execute_result"
    }
   ],
   "source": [
    "# Amalgamations of things can often yield the most interest insights. \n",
    "# Perhaps you have already identified a subset of the data and can work therein.\n",
    "df.loc[(df['Students'] < 71) & (df['Exam'] ==  0)]"
   ]
  },
  {
   "cell_type": "markdown",
   "id": "detailed-crown",
   "metadata": {},
   "source": [
    "are student numbers and module levels related?"
   ]
  },
  {
   "cell_type": "code",
   "execution_count": 6,
   "id": "dirty-duncan",
   "metadata": {},
   "outputs": [
    {
     "data": {
      "text/plain": [
       "<AxesSubplot:xlabel='Level', ylabel='Students'>"
      ]
     },
     "execution_count": 6,
     "metadata": {},
     "output_type": "execute_result"
    },
    {
     "data": {
      "image/png": "[encoded data removed]",
      "text/plain": [
       "<Figure size 432x288 with 1 Axes>"
      ]
     },
     "metadata": {
      "needs_background": "light"
     },
     "output_type": "display_data"
    }
   ],
   "source": [
    "# You might want to play around with different parameters and/or colour schemes here\n",
    "# https://pandas.pydata.org/pandas-docs/version/0.25.0/reference/api/pandas.DataFrame.plot.scatter.html\n",
    "df.plot.scatter(x = 'Level', y = 'Students')"
   ]
  },
  {
   "cell_type": "code",
   "execution_count": 68,
   "id": "imposed-trick",
   "metadata": {},
   "outputs": [
    {
     "data": {
      "text/plain": [
       "<AxesSubplot:xlabel='Level'>"
      ]
     },
     "execution_count": 68,
     "metadata": {},
     "output_type": "execute_result"
    },
    {
     "data": {
      "image/png": "[encoded data removed]",
      "text/plain": [
       "<Figure size 432x288 with 1 Axes>"
      ]
     },
     "metadata": {
      "needs_background": "light"
     },
     "output_type": "display_data"
    }
   ],
   "source": [
    "# 'As level of diff increases, student numbers decrease'\n",
    "# I am sure you can come up with a more interesting hypothesis than Dr McGrath!\n",
    "df.sort_values(by='Students', ascending=False).plot(kind=\"bar\", rot=0, x = 'Level', y = 'Students')"
   ]
  },
  {
   "cell_type": "code",
   "execution_count": 70,
   "id": "union-department",
   "metadata": {},
   "outputs": [
    {
     "data": {
      "text/html": [
       "<div>\n",
       "<style scoped>\n",
       "    .dataframe tbody tr th:only-of-type {\n",
       "        vertical-align: middle;\n",
       "    }\n",
       "\n",
       "    .dataframe tbody tr th {\n",
       "        vertical-align: top;\n",
       "    }\n",
       "\n",
       "    .dataframe thead th {\n",
       "        text-align: right;\n",
       "    }\n",
       "</style>\n",
       "<table border=\"1\" class=\"dataframe\">\n",
       "  <thead>\n",
       "    <tr style=\"text-align: right;\">\n",
       "      <th></th>\n",
       "      <th>Name</th>\n",
       "      <th>Level</th>\n",
       "      <th>Exam</th>\n",
       "      <th>Students</th>\n",
       "      <th>Average Grade</th>\n",
       "    </tr>\n",
       "    <tr>\n",
       "      <th>Code</th>\n",
       "      <th></th>\n",
       "      <th></th>\n",
       "      <th></th>\n",
       "      <th></th>\n",
       "      <th></th>\n",
       "    </tr>\n",
       "  </thead>\n",
       "  <tbody>\n",
       "    <tr>\n",
       "      <th>CM2020</th>\n",
       "      <td>Agile Software Projects</td>\n",
       "      <td>5</td>\n",
       "      <td>0.0</td>\n",
       "      <td>45</td>\n",
       "      <td>73</td>\n",
       "    </tr>\n",
       "    <tr>\n",
       "      <th>CM2025</th>\n",
       "      <td>Computer Security</td>\n",
       "      <td>5</td>\n",
       "      <td>1.0</td>\n",
       "      <td>55</td>\n",
       "      <td>79</td>\n",
       "    </tr>\n",
       "  </tbody>\n",
       "</table>\n",
       "</div>"
      ],
      "text/plain": [
       "                           Name  Level  Exam  Students  Average Grade\n",
       "Code                                                                 \n",
       "CM2020  Agile Software Projects      5   0.0        45             73\n",
       "CM2025        Computer Security      5   1.0        55             79"
      ]
     },
     "execution_count": 70,
     "metadata": {},
     "output_type": "execute_result"
    }
   ],
   "source": [
    "# level 5\n",
    "df2 = df.loc[(df['Level'] == 5)]\n",
    "df2"
   ]
  },
  {
   "cell_type": "code",
   "execution_count": 72,
   "id": "turned-integral",
   "metadata": {},
   "outputs": [
    {
     "data": {
      "text/plain": [
       "76.0"
      ]
     },
     "execution_count": 72,
     "metadata": {},
     "output_type": "execute_result"
    }
   ],
   "source": [
    "df2[\"Average Grade\"].mean()"
   ]
  },
  {
   "cell_type": "code",
   "execution_count": 74,
   "id": "double-certificate",
   "metadata": {},
   "outputs": [
    {
     "data": {
      "text/plain": [
       "<AxesSubplot:xlabel='Students'>"
      ]
     },
     "execution_count": 74,
     "metadata": {},
     "output_type": "execute_result"
    },
    {
     "data": {
      "image/png": "[encoded data removed]",
      "text/plain": [
       "<Figure size 432x288 with 1 Axes>"
      ]
     },
     "metadata": {
      "needs_background": "light"
     },
     "output_type": "display_data"
    }
   ],
   "source": [
    "# pandas.DataFrame.plot\n",
    "df2.plot.bar(width=0.9,x='Students',y=\"Average Grade\")"
   ]
  },
  {
   "cell_type": "code",
   "execution_count": 76,
   "id": "growing-necessity",
   "metadata": {},
   "outputs": [
    {
     "data": {
      "text/plain": [
       "<AxesSubplot:ylabel='Exam'>"
      ]
     },
     "execution_count": 76,
     "metadata": {},
     "output_type": "execute_result"
    },
    {
     "data": {
      "image/png": "[encoded data removed]",
      "text/plain": [
       "<Figure size 432x288 with 1 Axes>"
      ]
     },
     "metadata": {
      "needs_background": "light"
     },
     "output_type": "display_data"
    }
   ],
   "source": [
    "# Level 5, with an exam are harder than l5 with a coursework assignment\n",
    "df2.sort_values(by='Students').plot(kind=\"barh\", x=\"Exam\", y=\"Average Grade\")"
   ]
  },
  {
   "cell_type": "markdown",
   "id": "formed-tribune",
   "metadata": {},
   "source": [
    "this is true because [Dr McGrath] said so"
   ]
  },
  {
   "cell_type": "markdown",
   "id": "informational-chester",
   "metadata": {},
   "source": [
    "# Activity 2\n",
    "\n",
    "Write a program that works out which of the local authorities has the most polluted educational institution and \n",
    "which has the least polluted educational institution. \n",
    "\n",
    "Hint: https://pandas.pydata.org/pandas-docs/stable/reference/api/pandas.DataFrame.max.html\n",
    "\n",
    "You can use the London Datastore's dataset\n",
    "https://data.london.gov.uk/dataset/schools-and-educational-institutions-air-quality-exposure-data\n",
    "or a different dataset if you wish. \n",
    "\n",
    "If you want to try to apply more advanced statistical functions to the dataset then please do give it a go! You might for example want to explore the different data types\n",
    "\n",
    "https://pandas.pydata.org/pandas-docs/stable/reference/api/pandas.DataFrame.dtypes.html\n",
    "\n",
    "Are they correct or is there an issue with the mapping?\n",
    "\n",
    "Perhaps you want to split your data into quantiles to further refine meaning.\n",
    "\n",
    "https://pandas.pydata.org/pandas-docs/stable/reference/api/pandas.DataFrame.quantile.html"
   ]
  },
  {
   "cell_type": "code",
   "execution_count": null,
   "id": "detected-titanium",
   "metadata": {},
   "outputs": [],
   "source": [
    "# Analysis code goes here..."
   ]
  },
  {
   "cell_type": "markdown",
   "id": "driven-gather",
   "metadata": {},
   "source": [
    "# Activity 3\n",
    "\n",
    "Access an open data repository and find some historical data for the part of the world that you are in. \n",
    "\n",
    "Import the data to a DataFrame. Then calculate:\n",
    "\n",
    "<ul>\n",
    "    <li>min/max values from each column.</li>\n",
    "    <li>a count of the NA/NaN values. There are a few ways to do this e.g. </li>\n",
    "    <a href=\"https://pandas.pydata.org/pandas-docs/stable/reference/api/pandas.DataFrame.isna.html\">Is NA?</a>\n",
    "<a href=\"https://numpy.org/doc/stable/reference/generated/numpy.isnan.html\">Is NAN?</a>\n",
    "    <li> Finally, find something <b>interesting</b> from the data.</li>\n",
    "    \n",
    "This requires you to understand the data and find an approach that explores this construct. Where is the missing \n",
    "data? How might this obscure your analysis? Can you think of a simple solution to overcome this problem of missing data?\n",
    "    \n",
    "Hint: https://pandas.pydata.org/pandas-docs/stable/reference/api/pandas.DataFrame.dropna.html\n",
    "    \n",
    "Sometimes dropping data can obscure the results. Imagine if we took all the 'zero' grades on a course and discarded them against the average. It would skew things in one direction or another depending on the choices we make!\n",
    "    \n",
    "(We will cover this at a greater level of depth in a later topic!)\n",
    "    \n",
    "As an example if you are working with weather data for instance, you might want to compute the Pearson correlation coefficient between the temperature and wind speed. Is it significant? What story can you tell with the data? Can \n",
    "you offer an interesting and insightful narrative?"
   ]
  },
  {
   "cell_type": "code",
   "execution_count": null,
   "id": "prerequisite-yesterday",
   "metadata": {},
   "outputs": [],
   "source": []
  }
 ],
 "metadata": {
  "kernelspec": {
   "display_name": "Python 3",
   "language": "python",
   "name": "python3"
  },
  "language_info": {
   "codemirror_mode": {
    "name": "ipython",
    "version": 3
   },
   "file_extension": ".py",
   "mimetype": "text/x-python",
   "name": "python",
   "nbconvert_exporter": "python",
   "pygments_lexer": "ipython3",
   "version": "3.9.5"
  }
 },
 "nbformat": 4,
 "nbformat_minor": 5
}
