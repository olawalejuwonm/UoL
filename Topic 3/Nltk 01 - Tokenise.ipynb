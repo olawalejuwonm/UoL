{
 "cells": [
  {
   "cell_type": "markdown",
   "metadata": {},
   "source": [
    "# Nltk tokenisation\n",
    "https://www.nltk.org/"
   ]
  },
  {
   "cell_type": "code",
   "execution_count": 4,
   "metadata": {},
   "outputs": [],
   "source": [
    "import nltk\n"
   ]
  },
  {
   "cell_type": "code",
   "execution_count": 2,
   "metadata": {},
   "outputs": [
    {
     "name": "stderr",
     "output_type": "stream",
     "text": [
      "[nltk_data] Downloading package punkt to\n",
      "[nltk_data]     C:\\Users\\llewe\\AppData\\Roaming\\nltk_data...\n",
      "[nltk_data]   Package punkt is already up-to-date!\n"
     ]
    },
    {
     "data": {
      "text/plain": [
       "True"
      ]
     },
     "execution_count": 2,
     "metadata": {},
     "output_type": "execute_result"
    }
   ],
   "source": [
    "# We need the punkt package to use the nltk tokenizers\n",
    "nltk.download('punkt')"
   ]
  },
  {
   "cell_type": "markdown",
   "metadata": {},
   "source": [
    "Grab some text:"
   ]
  },
  {
   "cell_type": "code",
   "execution_count": 1,
   "metadata": {},
   "outputs": [],
   "source": [
    "text = \"\"\"It's gray. The platform is packed with business commuters:\n",
    " suits, overcoats. There is such a lack of color it almost\n",
    " seems as if it's a black and white shot, except one commuter\n",
    " holds a bright red heart-shaped box of candy under his arm. \"\"\""
   ]
  },
  {
   "cell_type": "markdown",
   "metadata": {},
   "source": [
    "Split into words:"
   ]
  },
  {
   "cell_type": "code",
   "execution_count": 5,
   "metadata": {},
   "outputs": [
    {
     "data": {
      "text/plain": [
       "['It',\n",
       " \"'s\",\n",
       " 'gray',\n",
       " '.',\n",
       " 'The',\n",
       " 'platform',\n",
       " 'is',\n",
       " 'packed',\n",
       " 'with',\n",
       " 'business',\n",
       " 'commuters',\n",
       " ':',\n",
       " 'suits',\n",
       " ',',\n",
       " 'overcoats',\n",
       " '.',\n",
       " 'There',\n",
       " 'is',\n",
       " 'such',\n",
       " 'a',\n",
       " 'lack',\n",
       " 'of',\n",
       " 'color',\n",
       " 'it',\n",
       " 'almost',\n",
       " 'seems',\n",
       " 'as',\n",
       " 'if',\n",
       " 'it',\n",
       " \"'s\",\n",
       " 'a',\n",
       " 'black',\n",
       " 'and',\n",
       " 'white',\n",
       " 'shot',\n",
       " ',',\n",
       " 'except',\n",
       " 'one',\n",
       " 'commuter',\n",
       " 'holds',\n",
       " 'a',\n",
       " 'bright',\n",
       " 'red',\n",
       " 'heart-shaped',\n",
       " 'box',\n",
       " 'of',\n",
       " 'candy',\n",
       " 'under',\n",
       " 'his',\n",
       " 'arm',\n",
       " '.']"
      ]
     },
     "execution_count": 5,
     "metadata": {},
     "output_type": "execute_result"
    }
   ],
   "source": [
    "nltk.word_tokenize(text)"
   ]
  },
  {
   "cell_type": "markdown",
   "metadata": {},
   "source": [
    "Split into sentences:"
   ]
  },
  {
   "cell_type": "code",
   "execution_count": 5,
   "metadata": {},
   "outputs": [
    {
     "data": {
      "text/plain": [
       "[\"It's gray.\",\n",
       " 'The platform is packed with business commuters:\\n suits, overcoats.',\n",
       " \"There is such a lack of color it almost\\n seems as if it's a black and white shot, except one commuter\\n holds a bright red heart-shaped box of candy under his arm.\"]"
      ]
     },
     "execution_count": 5,
     "metadata": {},
     "output_type": "execute_result"
    }
   ],
   "source": [
    "nltk.sent_tokenize(text)"
   ]
  },
  {
   "cell_type": "code",
   "execution_count": null,
   "metadata": {},
   "outputs": [],
   "source": []
  }
 ],
 "metadata": {
  "kernelspec": {
   "display_name": "Python 3.9.13 ('pwd')",
   "language": "python",
   "name": "python3"
  },
  "language_info": {
   "codemirror_mode": {
    "name": "ipython",
    "version": 3
   },
   "file_extension": ".py",
   "mimetype": "text/x-python",
   "name": "python",
   "nbconvert_exporter": "python",
   "pygments_lexer": "ipython3",
   "version": "3.9.13"
  },
  "vscode": {
   "interpreter": {
    "hash": "2708597cde298b8cf2347d0927b0f1edf1b3719872f30967dc38f4c4a28f502b"
   }
  }
 },
 "nbformat": 4,
 "nbformat_minor": 4
}
